{
 "cells": [
  {
   "cell_type": "markdown",
   "metadata": {},
   "source": [
    "# Data Analysis Part Jara"
   ]
  },
  {
   "cell_type": "markdown",
   "metadata": {},
   "source": [
    "Linking number of edit events since last passing tests to probability of unit tests passing"
   ]
  },
  {
   "cell_type": "code",
   "execution_count": 83,
   "metadata": {},
   "outputs": [],
   "source": [
    "import pandas as pd\n",
    "import numpy as np\n",
    "import math\n",
    "from datetime import datetime\n",
    "import matplotlib.pyplot as plt\n",
    "from matplotlib.ticker import (MultipleLocator, FormatStrFormatter,\n",
    "                               AutoMinorLocator)\n",
    "from itertools import islice\n",
    "from sklearn.model_selection import train_test_split\n",
    "from sklearn import datasets, linear_model\n",
    "from sklearn.metrics import mean_squared_error, r2_score"
   ]
  },
  {
   "cell_type": "markdown",
   "metadata": {},
   "source": [
    "# Import Data\n"
   ]
  },
  {
   "cell_type": "code",
   "execution_count": 5,
   "metadata": {},
   "outputs": [],
   "source": [
    "editEvents = pd.read_csv(\"../data/df_edit.csv\")\n",
    "testEvents = pd.read_csv(\"../data/df_test.csv\")"
   ]
  },
  {
   "cell_type": "markdown",
   "metadata": {},
   "source": [
    "### Edit Events"
   ]
  },
  {
   "cell_type": "code",
   "execution_count": 6,
   "metadata": {},
   "outputs": [
    {
     "name": "stdout",
     "output_type": "stream",
     "text": [
      "No of edit events: 497459\n",
      "no of sessions: 2876 \n",
      "\n"
     ]
    }
   ],
   "source": [
    "print(f'No of edit events: {len(editEvents)}')\n",
    "editEvents.tail()\n",
    "allSessionID=editEvents.sessionID.unique()\n",
    "print(f'no of sessions: {allSessionID.size} \\n')"
   ]
  },
  {
   "cell_type": "code",
   "execution_count": 7,
   "metadata": {},
   "outputs": [
    {
     "data": {
      "text/plain": [
       "count                                   497459\n",
       "unique                                    2876\n",
       "top       8d0ea603-57cd-4b1f-b3cf-ce39ec9203c7\n",
       "freq                                     17006\n",
       "Name: sessionID, dtype: object"
      ]
     },
     "execution_count": 7,
     "metadata": {},
     "output_type": "execute_result"
    }
   ],
   "source": [
    "editEvents[\"sessionID\"].describe()"
   ]
  },
  {
   "cell_type": "markdown",
   "metadata": {},
   "source": [
    "### Test Events"
   ]
  },
  {
   "cell_type": "code",
   "execution_count": 8,
   "metadata": {},
   "outputs": [
    {
     "name": "stdout",
     "output_type": "stream",
     "text": [
      "No of test events: 3826\n"
     ]
    },
    {
     "data": {
      "text/html": [
       "<div>\n",
       "<style scoped>\n",
       "    .dataframe tbody tr th:only-of-type {\n",
       "        vertical-align: middle;\n",
       "    }\n",
       "\n",
       "    .dataframe tbody tr th {\n",
       "        vertical-align: top;\n",
       "    }\n",
       "\n",
       "    .dataframe thead th {\n",
       "        text-align: right;\n",
       "    }\n",
       "</style>\n",
       "<table border=\"1\" class=\"dataframe\">\n",
       "  <thead>\n",
       "    <tr style=\"text-align: right;\">\n",
       "      <th></th>\n",
       "      <th>Unnamed: 0</th>\n",
       "      <th>sessionID</th>\n",
       "      <th>timestamp</th>\n",
       "      <th>totalTests</th>\n",
       "      <th>testsPassed</th>\n",
       "    </tr>\n",
       "  </thead>\n",
       "  <tbody>\n",
       "    <tr>\n",
       "      <th>0</th>\n",
       "      <td>3197</td>\n",
       "      <td>006eb9aa-33f1-4e9e-8e74-7c978b58ee4a</td>\n",
       "      <td>2016-05-03 09:32:16</td>\n",
       "      <td>33</td>\n",
       "      <td>33</td>\n",
       "    </tr>\n",
       "    <tr>\n",
       "      <th>1</th>\n",
       "      <td>3320</td>\n",
       "      <td>03c83bf2-8938-4a8f-9f58-d52bf3b2eccd</td>\n",
       "      <td>2016-05-10 17:21:18</td>\n",
       "      <td>1</td>\n",
       "      <td>0</td>\n",
       "    </tr>\n",
       "    <tr>\n",
       "      <th>2</th>\n",
       "      <td>3321</td>\n",
       "      <td>03c83bf2-8938-4a8f-9f58-d52bf3b2eccd</td>\n",
       "      <td>2016-05-10 17:21:54</td>\n",
       "      <td>26</td>\n",
       "      <td>26</td>\n",
       "    </tr>\n",
       "    <tr>\n",
       "      <th>3</th>\n",
       "      <td>3322</td>\n",
       "      <td>03c83bf2-8938-4a8f-9f58-d52bf3b2eccd</td>\n",
       "      <td>2016-05-10 17:28:26</td>\n",
       "      <td>1</td>\n",
       "      <td>1</td>\n",
       "    </tr>\n",
       "    <tr>\n",
       "      <th>4</th>\n",
       "      <td>34</td>\n",
       "      <td>0504fbd1-cce2-4431-b4e2-edc63eea1c6d</td>\n",
       "      <td>2016-07-13 20:24:46</td>\n",
       "      <td>21</td>\n",
       "      <td>21</td>\n",
       "    </tr>\n",
       "  </tbody>\n",
       "</table>\n",
       "</div>"
      ],
      "text/plain": [
       "   Unnamed: 0                             sessionID            timestamp  \\\n",
       "0        3197  006eb9aa-33f1-4e9e-8e74-7c978b58ee4a  2016-05-03 09:32:16   \n",
       "1        3320  03c83bf2-8938-4a8f-9f58-d52bf3b2eccd  2016-05-10 17:21:18   \n",
       "2        3321  03c83bf2-8938-4a8f-9f58-d52bf3b2eccd  2016-05-10 17:21:54   \n",
       "3        3322  03c83bf2-8938-4a8f-9f58-d52bf3b2eccd  2016-05-10 17:28:26   \n",
       "4          34  0504fbd1-cce2-4431-b4e2-edc63eea1c6d  2016-07-13 20:24:46   \n",
       "\n",
       "   totalTests  testsPassed  \n",
       "0          33           33  \n",
       "1           1            0  \n",
       "2          26           26  \n",
       "3           1            1  \n",
       "4          21           21  "
      ]
     },
     "execution_count": 8,
     "metadata": {},
     "output_type": "execute_result"
    }
   ],
   "source": [
    "print(f'No of test events: {len(testEvents)}')\n",
    "testEvents.head(5)"
   ]
  },
  {
   "cell_type": "code",
   "execution_count": 9,
   "metadata": {},
   "outputs": [
    {
     "data": {
      "text/plain": [
       "count                                     3826\n",
       "unique                                     275\n",
       "top       3696281d-3432-4a49-aee6-207ded3ad6a8\n",
       "freq                                       334\n",
       "Name: sessionID, dtype: object"
      ]
     },
     "execution_count": 9,
     "metadata": {},
     "output_type": "execute_result"
    }
   ],
   "source": [
    "testEvents[\"sessionID\"].describe()"
   ]
  },
  {
   "cell_type": "code",
   "execution_count": 10,
   "metadata": {},
   "outputs": [
    {
     "data": {
      "text/plain": [
       "count    3826.000000\n",
       "mean       88.780972\n",
       "std       430.785770\n",
       "min        -1.000000\n",
       "25%         1.000000\n",
       "50%         3.000000\n",
       "75%        21.000000\n",
       "max      6618.000000\n",
       "Name: totalTests, dtype: float64"
      ]
     },
     "execution_count": 10,
     "metadata": {},
     "output_type": "execute_result"
    }
   ],
   "source": [
    "testEvents[\"totalTests\"].describe()"
   ]
  },
  {
   "cell_type": "code",
   "execution_count": 11,
   "metadata": {},
   "outputs": [
    {
     "data": {
      "text/plain": [
       "count    3826.000000\n",
       "mean       76.577627\n",
       "std       392.217908\n",
       "min        -1.000000\n",
       "25%         0.000000\n",
       "50%         1.000000\n",
       "75%        15.000000\n",
       "max      6090.000000\n",
       "Name: testsPassed, dtype: float64"
      ]
     },
     "execution_count": 11,
     "metadata": {},
     "output_type": "execute_result"
    }
   ],
   "source": [
    "testEvents[\"testsPassed\"].describe()"
   ]
  },
  {
   "cell_type": "markdown",
   "metadata": {},
   "source": [
    "# Process Data"
   ]
  },
  {
   "cell_type": "code",
   "execution_count": 12,
   "metadata": {},
   "outputs": [],
   "source": [
    "def get_passed_tests(sessionID):\n",
    "    allTests = testEvents[(testEvents[\"sessionID\"] == sessionID) \n",
    "                        & (testEvents[\"testsPassed\"] > 0)]\n",
    "    return np.asarray(allTests)\n",
    "\n",
    "# counts the numbers of edits between a test and the next test\n",
    "# for our purpose, be aware to only call it with passed tests\n",
    "def get_nr_edits_between_tests(sessionID, timeFirstTest , timeNextTest):\n",
    "    result = editEvents[(editEvents[\"timestamp\"] < timeNextTest)\n",
    "                                 & (editEvents[\"timestamp\"] > timeFirstTest) \n",
    "                                 & (editEvents[\"sessionID\"] == sessionID)]\n",
    "    result = np.asarray(result)\n",
    "    return len(result)\n",
    "\n"
   ]
  },
  {
   "cell_type": "code",
   "execution_count": 14,
   "metadata": {},
   "outputs": [
    {
     "name": "stdout",
     "output_type": "stream",
     "text": [
      "      Unnamed: 0                             sessionID            timestamp\n",
      "7572      320761  03c83bf2-8938-4a8f-9f58-d52bf3b2eccd  2016-05-10 17:17:02\n",
      "7573      320762  03c83bf2-8938-4a8f-9f58-d52bf3b2eccd  2016-05-10 17:17:05\n",
      "7574      320763  03c83bf2-8938-4a8f-9f58-d52bf3b2eccd  2016-05-10 17:17:08\n",
      "7575      320764  03c83bf2-8938-4a8f-9f58-d52bf3b2eccd  2016-05-10 17:17:11\n",
      "7576      320765  03c83bf2-8938-4a8f-9f58-d52bf3b2eccd  2016-05-10 17:17:13\n",
      "...          ...                                   ...                  ...\n",
      "7684      320873  03c83bf2-8938-4a8f-9f58-d52bf3b2eccd  2016-05-10 17:35:06\n",
      "7685      320874  03c83bf2-8938-4a8f-9f58-d52bf3b2eccd  2016-05-10 17:35:13\n",
      "7686      320875  03c83bf2-8938-4a8f-9f58-d52bf3b2eccd  2016-05-10 17:35:15\n",
      "7687      320876  03c83bf2-8938-4a8f-9f58-d52bf3b2eccd  2016-05-10 17:35:19\n",
      "7688      320877  03c83bf2-8938-4a8f-9f58-d52bf3b2eccd  2016-05-10 17:35:21\n",
      "\n",
      "[117 rows x 3 columns]\n"
     ]
    }
   ],
   "source": [
    "# number of rows for certain sessionID\n",
    "print(editEvents.loc[editEvents['sessionID'] == '03c83bf2-8938-4a8f-9f58-d52bf3b2eccd'])"
   ]
  },
  {
   "cell_type": "code",
   "execution_count": 15,
   "metadata": {},
   "outputs": [
    {
     "data": {
      "text/plain": [
       "39"
      ]
     },
     "execution_count": 15,
     "metadata": {},
     "output_type": "execute_result"
    }
   ],
   "source": [
    "get_nr_edits_between_tests('03c83bf2-8938-4a8f-9f58-d52bf3b2eccd', '2016-05-10 17:21:54', '2016-05-10 17:28:26')"
   ]
  },
  {
   "cell_type": "code",
   "execution_count": 17,
   "metadata": {},
   "outputs": [
    {
     "name": "stdout",
     "output_type": "stream",
     "text": [
      "failed tests: Unnamed: 0     1260\n",
      "sessionID      1260\n",
      "timestamp      1260\n",
      "totalTests     1260\n",
      "testsPassed    1260\n",
      "dtype: int64\n"
     ]
    }
   ],
   "source": [
    "# total nr sessionID that have a test that failed\n",
    "print(f\"failed tests: {testEvents.loc[testEvents['testsPassed'] == 0].count()}\")"
   ]
  },
  {
   "cell_type": "code",
   "execution_count": 18,
   "metadata": {},
   "outputs": [],
   "source": [
    "def edits_from_pass_to_next_test(sessionID):\n",
    "    result = []\n",
    "    resultRow = []\n",
    "    # get all passed tests of the session \n",
    "    allPassedTests = get_passed_tests(sessionID)\n",
    "\n",
    "    numOfRows = np.size(allPassedTests, 0)\n",
    "    # iterate over each passed test\n",
    "    for p in range(numOfRows):\n",
    "        timePass = allPassedTests[p][2]\n",
    "\n",
    "        # no following test\n",
    "        if p == numOfRows-1:\n",
    "            hasNextTest = False\n",
    "        else:\n",
    "            hasNextTest = True\n",
    "            timeTestNext = allPassedTests[p+1][2]\n",
    "            resultNext = allPassedTests[p+1][4]\n",
    "\n",
    "        # for each passed test, get nr of edits until next test\n",
    "        if hasNextTest:\n",
    "            nrOfEdits = get_nr_edits_between_tests(sessionID,timePass, timeTestNext)\n",
    "            print(f'time of pass to append: {timePass}')\n",
    "            print(f'nr of edits: {nrOfEdits}')\n",
    "            print(f'result next: {resultNext} \\n')\n",
    "            result.append([sessionID, timePass, timeTestNext, nrOfEdits, resultNext])\n",
    "            \n",
    "    return result\n"
   ]
  },
  {
   "cell_type": "code",
   "execution_count": 19,
   "metadata": {},
   "outputs": [
    {
     "name": "stdout",
     "output_type": "stream",
     "text": [
      "time of pass to append: 2016-05-10 17:21:54\n",
      "nr of edits: 39\n",
      "result next: 1 \n",
      "\n"
     ]
    }
   ],
   "source": [
    "result = edits_from_pass_to_next_test('03c83bf2-8938-4a8f-9f58-d52bf3b2eccd')"
   ]
  },
  {
   "cell_type": "code",
   "execution_count": 147,
   "metadata": {},
   "outputs": [],
   "source": [
    "def create_df(resultArray):\n",
    "    print(f'Length result: {len(resultArray)} \\n\\n')\n",
    "\n",
    "    # Create DataFrame\n",
    "    column_labels = ['sessionID','timePass','timeNext', 'editsUntilNextTest', 'ratio P/T','totalTestsNext', 'testPassedNext' ,'booleanNextTest']\n",
    "    df = pd.DataFrame(resultArray, columns=column_labels)\n",
    "\n",
    "    # Print the output.\n",
    "    print(df.head(5))\n",
    "    return df;\n"
   ]
  },
  {
   "cell_type": "markdown",
   "metadata": {},
   "source": [
    "## Iterate over all sessions and create df"
   ]
  },
  {
   "cell_type": "code",
   "execution_count": 150,
   "metadata": {},
   "outputs": [],
   "source": [
    "def get_edits_tests_array():\n",
    "    sessionWithPassedTests=0\n",
    "    sessionWithoutPassedTests=0\n",
    "    sessionWithPassedTestsButNoNextTest=0\n",
    "    result=[]\n",
    "    print(f'time before loop: {datetime.now(tz=None)} \\n')\n",
    "    for index, row in testEvents.iterrows():\n",
    "        if(row[\"testsPassed\"] > 0):\n",
    "            sessionWithPassedTests+=1\n",
    "            #has next test\n",
    "            if((index+1 < len(testEvents)) and (testEvents.iloc[index+1].sessionID == row[\"sessionID\"])):\n",
    "                item=[]\n",
    "                timestampNext=testEvents.iloc[index+1].timestamp\n",
    "                totalTestsNext=testEvents.iloc[index+1].totalTests\n",
    "                passedTestNext=testEvents.iloc[index+1].testsPassed\n",
    "                nrOfEdits=get_nr_edits_between_tests(row[\"sessionID\"], row[\"timestamp\"], timestampNext)\n",
    "                if(passedTestNext == 0):\n",
    "                    resultTestNextBoolean = 0\n",
    "                else:\n",
    "                    resultTestNextBoolean = 1\n",
    "                if(totalTestsNext != 0):\n",
    "                    ratioPT = (passedTestNext/totalTestsNext)\n",
    "                else:\n",
    "                    ratioPT = 0\n",
    "                item.append(row[\"sessionID\"])\n",
    "                item.append(row[\"timestamp\"])\n",
    "                item.append(timestampNext)\n",
    "                item.append(nrOfEdits)\n",
    "                item.append(float(ratioPT))\n",
    "                item.append(int(totalTestsNext))\n",
    "                item.append(int(passedTestNext))\n",
    "                item.append(int(resultTestNextBoolean))\n",
    "                result.append(item)\n",
    "            else:\n",
    "                sessionWithPassedTestsButNoNextTest+=1\n",
    "        else:\n",
    "            sessionWithoutPassedTests+=1\n",
    "    print(f'with passed: {sessionWithPassedTests}')\n",
    "    print(f'with passed test but no next test: {sessionWithPassedTestsButNoNextTest}')\n",
    "    print(f'without passed test: {sessionWithoutPassedTests}')\n",
    "    print(f'total: {sessionWithoutPassedTests+sessionWithPassedTests}')\n",
    "    # Create DataFrame\n",
    "    create_df(result)\n",
    "    print(f'time after loop and df: {datetime.now(tz=None)} \\n')\n",
    "    \n",
    "    return result\n"
   ]
  },
  {
   "cell_type": "code",
   "execution_count": 151,
   "metadata": {},
   "outputs": [
    {
     "name": "stdout",
     "output_type": "stream",
     "text": [
      "time before loop: 2020-05-12 09:52:27.035859 \n",
      "\n",
      "with passed: 2565\n",
      "with passed test but no next test: 208\n",
      "without passed test: 1261\n",
      "total: 3826\n",
      "Length result: 2357 \n",
      "\n",
      "\n",
      "                              sessionID             timePass  \\\n",
      "0  03c83bf2-8938-4a8f-9f58-d52bf3b2eccd  2016-05-10 17:21:54   \n",
      "1  068370ce-c891-45d8-8255-8c9ea63f3b43  2016-07-13 18:49:28   \n",
      "2  068370ce-c891-45d8-8255-8c9ea63f3b43  2016-07-13 18:51:53   \n",
      "3  068370ce-c891-45d8-8255-8c9ea63f3b43  2016-07-13 18:53:04   \n",
      "4  068370ce-c891-45d8-8255-8c9ea63f3b43  2016-07-13 18:53:20   \n",
      "\n",
      "              timeNext  editsUntilNextTest  ratio P/T  totalTestsNext  \\\n",
      "0  2016-05-10 17:28:26                  39        1.0               1   \n",
      "1  2016-07-13 18:51:53                  15        1.0              21   \n",
      "2  2016-07-13 18:53:04                   3        1.0              21   \n",
      "3  2016-07-13 18:53:20                   1        1.0              21   \n",
      "4  2016-07-13 18:53:27                   0        1.0              21   \n",
      "\n",
      "   testPassedNext  booleanNextTest  \n",
      "0               1                1  \n",
      "1              21                1  \n",
      "2              21                1  \n",
      "3              21                1  \n",
      "4              21                1  \n",
      "time after loop and df: 2020-05-12 09:55:44.113900 \n",
      "\n"
     ]
    }
   ],
   "source": [
    "edits_tests= get_edits_tests_array()"
   ]
  },
  {
   "cell_type": "markdown",
   "metadata": {},
   "source": [
    "# Model"
   ]
  },
  {
   "cell_type": "code",
   "execution_count": 317,
   "metadata": {},
   "outputs": [
    {
     "name": "stdout",
     "output_type": "stream",
     "text": [
      "2357\n",
      "chunk size: 12\n",
      "first chunk len: 197\n",
      "last chunk len: 196\n",
      "[197, 197, 47, 0, 0, 0, 0, 0, 0, 0, 0, 0]\n",
      "[0, 0, 150, 197, 197, 196, 196, 196, 196, 196, 196, 196]\n"
     ]
    }
   ],
   "source": [
    "#calculate avg \n",
    "print(len(result))\n",
    "edits_tests = np.asarray(result, dtype='O')\n",
    "nrEventsTest = result_array[:, 4:6]\n",
    "nrOfEvents = result_array[:,3]\n",
    "testPass = result_array[:,4]\n",
    "\n",
    "#sort ascending to nr of events\n",
    "nrEventsTestSorted = sorted(nrEventsTest, key=lambda entry: entry[0]) \n",
    "\n",
    "#chunk size 200 = 12 chunks\n",
    "chunkSize = math.ceil(int(len(nrOfEvents))/200)\n",
    "print(f'chunk size: {chunkSize}')\n",
    "\n",
    "chunk1, chunk2, chunk3, chunk4, chunk5, chunk6, chunk7, chunk8, chunk9, chunk10,chunk11, chunk12 = np.array_split(nrEventsTestSorted, chunkSize)\n",
    "print(f'first chunk len: {len(chunk1)}')\n",
    "print(f'last chunk len: {len(chunk12)}')\n",
    "\n",
    "fails=[]\n",
    "fails.append(np.count_nonzero(chunk1[:,1] == 0))\n",
    "fails.append(np.count_nonzero(chunk2[:,1] == 0))\n",
    "fails.append(np.count_nonzero(chunk3[:,1] == 0))\n",
    "fails.append(np.count_nonzero(chunk4[:,1] == 0))\n",
    "fails.append(np.count_nonzero(chunk5[:,1] == 0))\n",
    "fails.append(np.count_nonzero(chunk6[:,1] == 0))\n",
    "fails.append(np.count_nonzero(chunk7[:,1] == 0))\n",
    "fails.append(np.count_nonzero(chunk8[:,1] == 0))\n",
    "fails.append(np.count_nonzero(chunk9[:,1] == 0))\n",
    "fails.append(np.count_nonzero(chunk10[:,1] == 0))\n",
    "fails.append(np.count_nonzero(chunk11[:,1] == 0))\n",
    "fails.append(np.count_nonzero(chunk12[:,1] == 0))\n",
    "print(fails)\n",
    "\n",
    "passList=[]\n",
    "passList.append(np.count_nonzero(chunk1[:,1] == 1))\n",
    "passList.append(np.count_nonzero(chunk2[:,1] == 1))\n",
    "passList.append(np.count_nonzero(chunk3[:,1] == 1))\n",
    "passList.append(np.count_nonzero(chunk4[:,1] == 1))\n",
    "passList.append(np.count_nonzero(chunk5[:,1] == 1))\n",
    "passList.append(np.count_nonzero(chunk6[:,1] == 1))\n",
    "passList.append(np.count_nonzero(chunk7[:,1] == 1))\n",
    "passList.append(np.count_nonzero(chunk8[:,1] == 1))\n",
    "passList.append(np.count_nonzero(chunk9[:,1] == 1))\n",
    "passList.append(np.count_nonzero(chunk10[:,1] == 1))\n",
    "passList.append(np.count_nonzero(chunk11[:,1] == 1))\n",
    "passList.append(np.count_nonzero(chunk12[:,1] == 1))\n",
    "\n",
    "print(passList)\n",
    "\n",
    "\n"
   ]
  },
  {
   "cell_type": "code",
   "execution_count": 322,
   "metadata": {},
   "outputs": [
    {
     "data": {
      "image/png": "[encoded data removed]",
      "text/plain": [
       "<Figure size 432x288 with 1 Axes>"
      ]
     },
     "metadata": {
      "needs_background": "light"
     },
     "output_type": "display_data"
    },
    {
     "data": {
      "image/png": "[encoded data removed]",
      "text/plain": [
       "<Figure size 432x288 with 1 Axes>"
      ]
     },
     "metadata": {
      "needs_background": "light"
     },
     "output_type": "display_data"
    },
    {
     "name": "stdout",
     "output_type": "stream",
     "text": [
      "Length result: 2357 \n",
      "\n",
      "\n",
      "                               sessionID             timePass  \\\n",
      "0   03c83bf2-8938-4a8f-9f58-d52bf3b2eccd  2016-05-10 17:21:54   \n",
      "1   068370ce-c891-45d8-8255-8c9ea63f3b43  2016-07-13 18:49:28   \n",
      "2   068370ce-c891-45d8-8255-8c9ea63f3b43  2016-07-13 18:51:53   \n",
      "3   068370ce-c891-45d8-8255-8c9ea63f3b43  2016-07-13 18:53:04   \n",
      "4   068370ce-c891-45d8-8255-8c9ea63f3b43  2016-07-13 18:53:20   \n",
      "5   068370ce-c891-45d8-8255-8c9ea63f3b43  2016-07-13 18:53:27   \n",
      "6   068370ce-c891-45d8-8255-8c9ea63f3b43  2016-07-13 18:53:55   \n",
      "7   068370ce-c891-45d8-8255-8c9ea63f3b43  2016-07-13 18:54:54   \n",
      "8   068370ce-c891-45d8-8255-8c9ea63f3b43  2016-07-13 18:55:50   \n",
      "9   068370ce-c891-45d8-8255-8c9ea63f3b43  2016-07-13 18:57:15   \n",
      "10  068370ce-c891-45d8-8255-8c9ea63f3b43  2016-07-13 19:02:13   \n",
      "11  06ed56fc-0467-4b01-8c7b-f2ffe300ff0e  2016-08-19 11:08:25   \n",
      "12  06ed56fc-0467-4b01-8c7b-f2ffe300ff0e  2016-08-19 11:08:49   \n",
      "13  06ed56fc-0467-4b01-8c7b-f2ffe300ff0e  2016-08-19 11:08:57   \n",
      "14  06f9c3b5-9ba5-44b5-a95a-6b9d280343ff  2016-12-21 14:34:35   \n",
      "15  06f9c3b5-9ba5-44b5-a95a-6b9d280343ff  2016-12-21 14:35:04   \n",
      "16  06f9c3b5-9ba5-44b5-a95a-6b9d280343ff  2016-12-21 14:37:20   \n",
      "17  06f9c3b5-9ba5-44b5-a95a-6b9d280343ff  2016-12-21 14:38:17   \n",
      "18  06f9c3b5-9ba5-44b5-a95a-6b9d280343ff  2016-12-21 14:46:33   \n",
      "19  083c67aa-3e7d-4d78-8286-e28a85d6e1cc  2016-05-09 11:54:08   \n",
      "\n",
      "               timeNext  editsUntilNextTest  testResultNext  booleanNextTest  \n",
      "0   2016-05-10 17:28:26                  39               1                1  \n",
      "1   2016-07-13 18:51:53                  15              21                1  \n",
      "2   2016-07-13 18:53:04                   3              21                1  \n",
      "3   2016-07-13 18:53:20                   1              21                1  \n",
      "4   2016-07-13 18:53:27                   0              21                1  \n",
      "5   2016-07-13 18:53:55                   1              21                1  \n",
      "6   2016-07-13 18:54:54                   6              21                1  \n",
      "7   2016-07-13 18:55:50                   3              21                1  \n",
      "8   2016-07-13 18:57:15                   1              21                1  \n",
      "9   2016-07-13 19:02:13                   1              21                1  \n",
      "10  2016-07-13 19:03:28                   5              21                1  \n",
      "11  2016-08-19 11:08:49                   1              46                1  \n",
      "12  2016-08-19 11:08:57                   2             175                1  \n",
      "13  2016-08-19 11:10:09                   2               0                0  \n",
      "14  2016-12-21 14:35:04                   4               1                1  \n",
      "15  2016-12-21 14:35:30                   1               0                0  \n",
      "16  2016-12-21 14:38:17                  14               1                1  \n",
      "17  2016-12-21 14:41:49                  15               0                0  \n",
      "18  2016-12-21 14:47:10                   5               1                1  \n",
      "19  2016-05-09 11:56:14                   4              23                1  \n"
     ]
    },
    {
     "data": {
      "text/plain": [
       "<matplotlib.axes._subplots.AxesSubplot at 0x227745d5ec8>"
      ]
     },
     "execution_count": 322,
     "metadata": {},
     "output_type": "execute_result"
    },
    {
     "data": {
      "image/png": "[encoded data removed]",
      "text/plain": [
       "<Figure size 432x288 with 1 Axes>"
      ]
     },
     "metadata": {
      "needs_background": "light"
     },
     "output_type": "display_data"
    }
   ],
   "source": [
    "edits_tests = np.asarray(result)\n",
    "\n",
    "nrOfEvents = result_array[:,3]\n",
    "testPass = result_array[:,4]\n",
    "start = max(nrOfEvents)\n",
    "end = min(nrOfEvents)\n",
    "\n",
    "\n",
    "#plot 1\n",
    "fig, ax = plt.subplots()\n",
    "ax.scatter(nrOfEvents, testPass)\n",
    "plt.xlabel('nr of events from passed test until next test')\n",
    "plt.ylabel('nr of passed tests')\n",
    "# Make a plot with major ticks that are multiples of 20 and minor ticks that\n",
    "# are multiples of 5.  Label major ticks with '%d' formatting but don't label\n",
    "# minor ticks.\n",
    "ax.xaxis.set_major_locator(MultipleLocator(20))\n",
    "ax.xaxis.set_major_formatter(FormatStrFormatter('%d'))\n",
    "# For the minor ticks, use no labels; default NullFormatter.\n",
    "ax.xaxis.set_minor_locator(MultipleLocator(5))\n",
    "#yaxis\n",
    "ax.yaxis.set_major_locator(MultipleLocator(20))\n",
    "ax.yaxis.set_major_formatter(FormatStrFormatter('%d'))\n",
    "ax.yaxis.set_minor_locator(MultipleLocator(10))\n",
    "plt.show()\n",
    "\n",
    "#plot 2 \n",
    "N = 12\n",
    "menMeans = (197, 197, 47, 0, 0, 0, 0, 0, 0, 0, 0, 0)\n",
    "womenMeans = (0, 0, 150, 197, 197, 196, 196, 196, 196, 196, 196, 196)\n",
    "\n",
    "ind = np.arange(N)    # the x locations for the groups\n",
    "width = 0.5      # the width of the bars: can also be len(x) sequence\n",
    "\n",
    "p1 = plt.bar(ind, menMeans, width,)\n",
    "p2 = plt.bar(ind, womenMeans, width,\n",
    "             bottom=menMeans, )\n",
    "\n",
    "plt.ylabel('Pass Fail')\n",
    "plt.title('nr of edits')\n",
    "plt.xticks(ind, ('Chunk1', 'Chunk2', 'Chunk3', 'Chunk4', 'Chunk5', 'Chunk6', 'Chunk7', 'Chunk8', 'Chunk9',\n",
    "                 'Chunk10', 'Chunk11', 'Chunk12'))\n",
    "plt.yticks(np.arange(0, 197, 30))\n",
    "plt.legend((p1[0], p2[0]), ('Fail', 'Pass'))\n",
    "\n",
    "plt.show()\n",
    "\n",
    "#plot 3\n",
    "df = create_df(result)\n",
    "df.groupby(['editsUntilNextTest','booleanNextTest']).size().unstack().plot(kind='bar',stacked=True)\n",
    "\n"
   ]
  },
  {
   "cell_type": "markdown",
   "metadata": {},
   "source": [
    "## Model building Regression\n",
    "Predict the test passing by the number of edits since the last passed test"
   ]
  },
  {
   "cell_type": "code",
   "execution_count": 53,
   "metadata": {},
   "outputs": [
    {
     "name": "stdout",
     "output_type": "stream",
     "text": [
      "Length result: 2357 \n",
      "\n",
      "\n",
      "                              sessionID             timePass  \\\n",
      "0  03c83bf2-8938-4a8f-9f58-d52bf3b2eccd  2016-05-10 17:21:54   \n",
      "1  068370ce-c891-45d8-8255-8c9ea63f3b43  2016-07-13 18:49:28   \n",
      "2  068370ce-c891-45d8-8255-8c9ea63f3b43  2016-07-13 18:51:53   \n",
      "3  068370ce-c891-45d8-8255-8c9ea63f3b43  2016-07-13 18:53:04   \n",
      "4  068370ce-c891-45d8-8255-8c9ea63f3b43  2016-07-13 18:53:20   \n",
      "\n",
      "              timeNext  editsUntilNextTest  totalTestsNext  testPassedNext  \\\n",
      "0  2016-05-10 17:28:26                  39               1               1   \n",
      "1  2016-07-13 18:51:53                  15              21              21   \n",
      "2  2016-07-13 18:53:04                   3              21              21   \n",
      "3  2016-07-13 18:53:20                   1              21              21   \n",
      "4  2016-07-13 18:53:27                   0              21              21   \n",
      "\n",
      "   ratio P/T  booleanNextTest  \n",
      "0        1.0                1  \n",
      "1        1.0                1  \n",
      "2        1.0                1  \n",
      "3        1.0                1  \n",
      "4        1.0                1  \n"
     ]
    }
   ],
   "source": [
    "df_edit_tests = create_df(edits_tests)\n",
    "grouped = df_edit_tests.groupby(['sessionID'])\n",
    "sessionStarts = grouped.agg({'timePass':np.min}).to_dict()\n"
   ]
  },
  {
   "cell_type": "code",
   "execution_count": 165,
   "metadata": {},
   "outputs": [
    {
     "data": {
      "text/plain": [
       "list"
      ]
     },
     "execution_count": 165,
     "metadata": {},
     "output_type": "execute_result"
    }
   ],
   "source": [
    "type(edits_tests)"
   ]
  },
  {
   "cell_type": "code",
   "execution_count": 175,
   "metadata": {},
   "outputs": [
    {
     "name": "stdout",
     "output_type": "stream",
     "text": [
      "<class 'str'>\n",
      "<class 'str'>\n",
      "[['39' '1.0']\n",
      " ['15' '1.0']\n",
      " ['3' '1.0']\n",
      " ...\n",
      " ['0' '0.0']\n",
      " ['0' '0.9937238493723849']\n",
      " ['1' '1.0']]\n",
      "1885 1885\n",
      "472 472\n",
      "<class 'numpy.ndarray'>\n"
     ]
    }
   ],
   "source": [
    "edits_tests = np.asarray(edits_tests)\n",
    "array=edits_tests[:, 3:5] \n",
    "x = array[:,0]\n",
    "y= array[:,1]\n",
    "print(type(x[2]))\n",
    "print(type(y[2]))\n",
    "#x=x.reshape(-1, 1)\n",
    "#y=y.reshape(-1, 1)\n",
    "print(array)\n",
    "\n",
    "#frame = pd.DataFrame(edits_tests[:, 3:5], columns=['edits','success'])\n",
    "\n",
    "x_train, x_test, y_train, y_test = train_test_split(x, y, test_size=0.2)\n",
    "print(len(x_train), len(y_train))\n",
    "print(len(x_test), len(y_test))\n",
    "print(type(x_test))\n",
    "\n",
    "\n"
   ]
  },
  {
   "cell_type": "code",
   "execution_count": 142,
   "metadata": {},
   "outputs": [
    {
     "name": "stderr",
     "output_type": "stream",
     "text": [
      "C:\\Users\\jaraf\\Anaconda3\\lib\\site-packages\\sklearn\\utils\\validation.py:755: FutureWarning: Beginning in version 0.22, arrays of bytes/strings will be converted to decimal numbers if dtype='numeric'. It is recommended that you convert the array to a float dtype before using it in scikit-learn, for example by using your_array = your_array.astype(np.float64).\n",
      "  estimator=estimator)\n",
      "C:\\Users\\jaraf\\Anaconda3\\lib\\site-packages\\sklearn\\linear_model\\_base.py:207: FutureWarning: Beginning in version 0.22, arrays of bytes/strings will be converted to decimal numbers if dtype='numeric'. It is recommended that you convert the array to a float dtype before using it in scikit-learn, for example by using your_array = your_array.astype(np.float64).\n",
      "  X = check_array(X, accept_sparse=['csr', 'csc', 'coo'])\n"
     ]
    },
    {
     "ename": "UFuncTypeError",
     "evalue": "ufunc 'matmul' did not contain a loop with signature matching types (dtype('<U36'), dtype('<U36')) -> dtype('<U36')",
     "output_type": "error",
     "traceback": [
      "\u001b[1;31m---------------------------------------------------------------------------\u001b[0m",
      "\u001b[1;31mUFuncTypeError\u001b[0m                            Traceback (most recent call last)",
      "\u001b[1;32m<ipython-input-142-64d5e29b45dc>\u001b[0m in \u001b[0;36m<module>\u001b[1;34m\u001b[0m\n\u001b[0;32m     21\u001b[0m \u001b[1;33m\u001b[0m\u001b[0m\n\u001b[0;32m     22\u001b[0m \u001b[1;31m# Make predictions using the testing set\u001b[0m\u001b[1;33m\u001b[0m\u001b[1;33m\u001b[0m\u001b[1;33m\u001b[0m\u001b[0m\n\u001b[1;32m---> 23\u001b[1;33m \u001b[0mdiabetes_y_pred\u001b[0m \u001b[1;33m=\u001b[0m \u001b[0mregr\u001b[0m\u001b[1;33m.\u001b[0m\u001b[0mpredict\u001b[0m\u001b[1;33m(\u001b[0m\u001b[0mdiabetes_X_test\u001b[0m\u001b[1;33m)\u001b[0m\u001b[1;33m\u001b[0m\u001b[1;33m\u001b[0m\u001b[0m\n\u001b[0m\u001b[0;32m     24\u001b[0m \u001b[1;33m\u001b[0m\u001b[0m\n\u001b[0;32m     25\u001b[0m \u001b[1;31m# The coefficients\u001b[0m\u001b[1;33m\u001b[0m\u001b[1;33m\u001b[0m\u001b[1;33m\u001b[0m\u001b[0m\n",
      "\u001b[1;32m~\\Anaconda3\\lib\\site-packages\\sklearn\\linear_model\\_base.py\u001b[0m in \u001b[0;36mpredict\u001b[1;34m(self, X)\u001b[0m\n\u001b[0;32m    223\u001b[0m             \u001b[0mReturns\u001b[0m \u001b[0mpredicted\u001b[0m \u001b[0mvalues\u001b[0m\u001b[1;33m.\u001b[0m\u001b[1;33m\u001b[0m\u001b[1;33m\u001b[0m\u001b[0m\n\u001b[0;32m    224\u001b[0m         \"\"\"\n\u001b[1;32m--> 225\u001b[1;33m         \u001b[1;32mreturn\u001b[0m \u001b[0mself\u001b[0m\u001b[1;33m.\u001b[0m\u001b[0m_decision_function\u001b[0m\u001b[1;33m(\u001b[0m\u001b[0mX\u001b[0m\u001b[1;33m)\u001b[0m\u001b[1;33m\u001b[0m\u001b[1;33m\u001b[0m\u001b[0m\n\u001b[0m\u001b[0;32m    226\u001b[0m \u001b[1;33m\u001b[0m\u001b[0m\n\u001b[0;32m    227\u001b[0m     \u001b[0m_preprocess_data\u001b[0m \u001b[1;33m=\u001b[0m \u001b[0mstaticmethod\u001b[0m\u001b[1;33m(\u001b[0m\u001b[0m_preprocess_data\u001b[0m\u001b[1;33m)\u001b[0m\u001b[1;33m\u001b[0m\u001b[1;33m\u001b[0m\u001b[0m\n",
      "\u001b[1;32m~\\Anaconda3\\lib\\site-packages\\sklearn\\linear_model\\_base.py\u001b[0m in \u001b[0;36m_decision_function\u001b[1;34m(self, X)\u001b[0m\n\u001b[0;32m    207\u001b[0m         \u001b[0mX\u001b[0m \u001b[1;33m=\u001b[0m \u001b[0mcheck_array\u001b[0m\u001b[1;33m(\u001b[0m\u001b[0mX\u001b[0m\u001b[1;33m,\u001b[0m \u001b[0maccept_sparse\u001b[0m\u001b[1;33m=\u001b[0m\u001b[1;33m[\u001b[0m\u001b[1;34m'csr'\u001b[0m\u001b[1;33m,\u001b[0m \u001b[1;34m'csc'\u001b[0m\u001b[1;33m,\u001b[0m \u001b[1;34m'coo'\u001b[0m\u001b[1;33m]\u001b[0m\u001b[1;33m)\u001b[0m\u001b[1;33m\u001b[0m\u001b[1;33m\u001b[0m\u001b[0m\n\u001b[0;32m    208\u001b[0m         return safe_sparse_dot(X, self.coef_.T,\n\u001b[1;32m--> 209\u001b[1;33m                                dense_output=True) + self.intercept_\n\u001b[0m\u001b[0;32m    210\u001b[0m \u001b[1;33m\u001b[0m\u001b[0m\n\u001b[0;32m    211\u001b[0m     \u001b[1;32mdef\u001b[0m \u001b[0mpredict\u001b[0m\u001b[1;33m(\u001b[0m\u001b[0mself\u001b[0m\u001b[1;33m,\u001b[0m \u001b[0mX\u001b[0m\u001b[1;33m)\u001b[0m\u001b[1;33m:\u001b[0m\u001b[1;33m\u001b[0m\u001b[1;33m\u001b[0m\u001b[0m\n",
      "\u001b[1;32m~\\Anaconda3\\lib\\site-packages\\sklearn\\utils\\extmath.py\u001b[0m in \u001b[0;36msafe_sparse_dot\u001b[1;34m(a, b, dense_output)\u001b[0m\n\u001b[0;32m    149\u001b[0m             \u001b[0mret\u001b[0m \u001b[1;33m=\u001b[0m \u001b[0mnp\u001b[0m\u001b[1;33m.\u001b[0m\u001b[0mdot\u001b[0m\u001b[1;33m(\u001b[0m\u001b[0ma\u001b[0m\u001b[1;33m,\u001b[0m \u001b[0mb\u001b[0m\u001b[1;33m)\u001b[0m\u001b[1;33m\u001b[0m\u001b[1;33m\u001b[0m\u001b[0m\n\u001b[0;32m    150\u001b[0m     \u001b[1;32melse\u001b[0m\u001b[1;33m:\u001b[0m\u001b[1;33m\u001b[0m\u001b[1;33m\u001b[0m\u001b[0m\n\u001b[1;32m--> 151\u001b[1;33m         \u001b[0mret\u001b[0m \u001b[1;33m=\u001b[0m \u001b[0ma\u001b[0m \u001b[1;33m@\u001b[0m \u001b[0mb\u001b[0m\u001b[1;33m\u001b[0m\u001b[1;33m\u001b[0m\u001b[0m\n\u001b[0m\u001b[0;32m    152\u001b[0m \u001b[1;33m\u001b[0m\u001b[0m\n\u001b[0;32m    153\u001b[0m     if (sparse.issparse(a) and sparse.issparse(b)\n",
      "\u001b[1;31mUFuncTypeError\u001b[0m: ufunc 'matmul' did not contain a loop with signature matching types (dtype('<U36'), dtype('<U36')) -> dtype('<U36')"
     ]
    }
   ],
   "source": [
    "# Load the diabetes dataset\n",
    "diabetes_X, diabetes_y = datasets.load_diabetes(return_X_y=True)\n",
    "\n",
    "# Use only one feature\n",
    "diabetes_X = x.reshape(-1, 1)\n",
    "diabetes_y = y\n",
    "\n",
    "# Split the data into training/testing sets\n",
    "diabetes_X_train = diabetes_X[:-20]\n",
    "diabetes_X_test = diabetes_X[-20:]\n",
    "\n",
    "# Split the targets into training/testing sets\n",
    "diabetes_y_train = diabetes_y[:-20]\n",
    "diabetes_y_test = diabetes_y[-20:]\n",
    "\n",
    "# Create linear regression object\n",
    "regr = linear_model.LinearRegression()\n",
    "\n",
    "# Train the model using the training sets\n",
    "regr.fit(diabetes_X_train, diabetes_y_train)\n",
    "\n",
    "# Make predictions using the testing set\n",
    "diabetes_y_pred = regr.predict(diabetes_X_test)\n",
    "\n",
    "# The coefficients\n",
    "print('Coefficients: \\n', regr.coef_)\n",
    "# The mean squared error\n",
    "print('Mean squared error: %.2f'\n",
    "      % mean_squared_error(diabetes_y_test, diabetes_y_pred))\n",
    "# The coefficient of determination: 1 is perfect prediction\n",
    "print('Coefficient of determination: %.2f'\n",
    "      % r2_score(diabetes_y_test, diabetes_y_pred))\n",
    "\n",
    "# Plot outputs\n",
    "plt.scatter(diabetes_X_test, diabetes_y_test,  color='black')\n",
    "plt.plot(diabetes_X_test, diabetes_y_pred, color='blue', linewidth=3)\n",
    "\n",
    "plt.xticks(())\n",
    "plt.yticks(())\n",
    "\n",
    "plt.show()"
   ]
  },
  {
   "cell_type": "code",
   "execution_count": 127,
   "metadata": {},
   "outputs": [
    {
     "name": "stdout",
     "output_type": "stream",
     "text": [
      "Coefficients: \n",
      " [938.23786125]\n",
      "Mean squared error: 2548.07\n",
      "Coefficient of determination: 0.47\n"
     ]
    },
    {
     "data": {
      "image/png": "[encoded data removed]",
      "text/plain": [
       "<Figure size 432x288 with 1 Axes>"
      ]
     },
     "metadata": {},
     "output_type": "display_data"
    }
   ],
   "source": [
    "# Load the diabetes dataset\n",
    "diabetes_X, diabetes_y = datasets.load_diabetes(return_X_y=True)\n",
    "\n",
    "# Use only one feature\n",
    "diabetes_X = diabetes_X[:, np.newaxis, 2]\n",
    "\n",
    "# Split the data into training/testing sets\n",
    "diabetes_X_train = diabetes_X[:-20]\n",
    "diabetes_X_test = diabetes_X[-20:]\n",
    "\n",
    "# Split the targets into training/testing sets\n",
    "diabetes_y_train = diabetes_y[:-20]\n",
    "diabetes_y_test = diabetes_y[-20:]\n",
    "\n",
    "# Create linear regression object\n",
    "regr = linear_model.LinearRegression()\n",
    "\n",
    "# Train the model using the training sets\n",
    "regr.fit(diabetes_X_train, diabetes_y_train)\n",
    "\n",
    "# Make predictions using the testing set\n",
    "diabetes_y_pred = regr.predict(diabetes_X_test)\n",
    "\n",
    "# The coefficients\n",
    "print('Coefficients: \\n', regr.coef_)\n",
    "# The mean squared error\n",
    "print('Mean squared error: %.2f'\n",
    "      % mean_squared_error(diabetes_y_test, diabetes_y_pred))\n",
    "# The coefficient of determination: 1 is perfect prediction\n",
    "print('Coefficient of determination: %.2f'\n",
    "      % r2_score(diabetes_y_test, diabetes_y_pred))\n",
    "\n",
    "# Plot outputs\n",
    "plt.scatter(diabetes_X_test, diabetes_y_test,  color='black')\n",
    "plt.plot(diabetes_X_test, diabetes_y_pred, color='blue', linewidth=3)\n",
    "\n",
    "plt.xticks(())\n",
    "plt.yticks(())\n",
    "\n",
    "plt.show()"
   ]
  },
  {
   "cell_type": "code",
   "execution_count": null,
   "metadata": {},
   "outputs": [],
   "source": []
  }
 ],
 "metadata": {
  "kernelspec": {
   "display_name": "Python 3",
   "language": "python",
   "name": "python3"
  },
  "language_info": {
   "codemirror_mode": {
    "name": "ipython",
    "version": 3
   },
   "file_extension": ".py",
   "mimetype": "text/x-python",
   "name": "python",
   "nbconvert_exporter": "python",
   "pygments_lexer": "ipython3",
   "version": "3.7.4"
  }
 },
 "nbformat": 4,
 "nbformat_minor": 2
}
