{
 "cells": [
  {
   "cell_type": "markdown",
   "metadata": {},
   "source": [
    "# Data Analysis Part Jara"
   ]
  },
  {
   "cell_type": "markdown",
   "metadata": {},
   "source": [
    "Linking number of edit events since last passing tests to probability of unit tests passing"
   ]
  },
  {
   "cell_type": "code",
   "execution_count": 35,
   "metadata": {},
   "outputs": [],
   "source": [
    "import pandas as pd\n",
    "import numpy as np\n",
    "import math\n",
    "from datetime import datetime\n",
    "import matplotlib.pyplot as plt\n",
    "from matplotlib.ticker import (MultipleLocator, FormatStrFormatter,\n",
    "                               AutoMinorLocator)\n",
    "import seaborn as sns; sns.set()\n",
    "from itertools import islice\n",
    "from sklearn.model_selection import train_test_split\n",
    "from sklearn import datasets, linear_model\n",
    "from sklearn.metrics import *\n",
    "from sklearn.linear_model import LinearRegression"
   ]
  },
  {
   "cell_type": "markdown",
   "metadata": {},
   "source": [
    "# Import Data\n"
   ]
  },
  {
   "cell_type": "code",
   "execution_count": 3,
   "metadata": {},
   "outputs": [],
   "source": [
    "editEvents = pd.read_csv(\"../data/df_edit.csv\")\n",
    "testEvents = pd.read_csv(\"../data/df_test.csv\")"
   ]
  },
  {
   "cell_type": "markdown",
   "metadata": {},
   "source": [
    "### Edit Events"
   ]
  },
  {
   "cell_type": "code",
   "execution_count": 4,
   "metadata": {},
   "outputs": [
    {
     "name": "stdout",
     "output_type": "stream",
     "text": [
      "No of edit events: 497459\n",
      "no of sessions: 2876 \n",
      "\n"
     ]
    }
   ],
   "source": [
    "print(f'No of edit events: {len(editEvents)}')\n",
    "editEvents.tail()\n",
    "allSessionID=editEvents.sessionID.unique()\n",
    "print(f'no of sessions: {allSessionID.size} \\n')"
   ]
  },
  {
   "cell_type": "code",
   "execution_count": 5,
   "metadata": {},
   "outputs": [
    {
     "data": {
      "text/plain": [
       "count                                   497459\n",
       "unique                                    2876\n",
       "top       8d0ea603-57cd-4b1f-b3cf-ce39ec9203c7\n",
       "freq                                     17006\n",
       "Name: sessionID, dtype: object"
      ]
     },
     "execution_count": 5,
     "metadata": {},
     "output_type": "execute_result"
    }
   ],
   "source": [
    "editEvents[\"sessionID\"].describe()"
   ]
  },
  {
   "cell_type": "markdown",
   "metadata": {},
   "source": [
    "### Test Events"
   ]
  },
  {
   "cell_type": "code",
   "execution_count": 6,
   "metadata": {},
   "outputs": [
    {
     "name": "stdout",
     "output_type": "stream",
     "text": [
      "No of test events: 3826\n"
     ]
    },
    {
     "data": {
      "text/html": [
       "<div>\n",
       "<style scoped>\n",
       "    .dataframe tbody tr th:only-of-type {\n",
       "        vertical-align: middle;\n",
       "    }\n",
       "\n",
       "    .dataframe tbody tr th {\n",
       "        vertical-align: top;\n",
       "    }\n",
       "\n",
       "    .dataframe thead th {\n",
       "        text-align: right;\n",
       "    }\n",
       "</style>\n",
       "<table border=\"1\" class=\"dataframe\">\n",
       "  <thead>\n",
       "    <tr style=\"text-align: right;\">\n",
       "      <th></th>\n",
       "      <th>Unnamed: 0</th>\n",
       "      <th>sessionID</th>\n",
       "      <th>timestamp</th>\n",
       "      <th>totalTests</th>\n",
       "      <th>testsPassed</th>\n",
       "    </tr>\n",
       "  </thead>\n",
       "  <tbody>\n",
       "    <tr>\n",
       "      <th>0</th>\n",
       "      <td>3197</td>\n",
       "      <td>006eb9aa-33f1-4e9e-8e74-7c978b58ee4a</td>\n",
       "      <td>2016-05-03 09:32:16</td>\n",
       "      <td>33</td>\n",
       "      <td>33</td>\n",
       "    </tr>\n",
       "    <tr>\n",
       "      <th>1</th>\n",
       "      <td>3320</td>\n",
       "      <td>03c83bf2-8938-4a8f-9f58-d52bf3b2eccd</td>\n",
       "      <td>2016-05-10 17:21:18</td>\n",
       "      <td>1</td>\n",
       "      <td>0</td>\n",
       "    </tr>\n",
       "    <tr>\n",
       "      <th>2</th>\n",
       "      <td>3321</td>\n",
       "      <td>03c83bf2-8938-4a8f-9f58-d52bf3b2eccd</td>\n",
       "      <td>2016-05-10 17:21:54</td>\n",
       "      <td>26</td>\n",
       "      <td>26</td>\n",
       "    </tr>\n",
       "    <tr>\n",
       "      <th>3</th>\n",
       "      <td>3322</td>\n",
       "      <td>03c83bf2-8938-4a8f-9f58-d52bf3b2eccd</td>\n",
       "      <td>2016-05-10 17:28:26</td>\n",
       "      <td>1</td>\n",
       "      <td>1</td>\n",
       "    </tr>\n",
       "    <tr>\n",
       "      <th>4</th>\n",
       "      <td>34</td>\n",
       "      <td>0504fbd1-cce2-4431-b4e2-edc63eea1c6d</td>\n",
       "      <td>2016-07-13 20:24:46</td>\n",
       "      <td>21</td>\n",
       "      <td>21</td>\n",
       "    </tr>\n",
       "  </tbody>\n",
       "</table>\n",
       "</div>"
      ],
      "text/plain": [
       "   Unnamed: 0                             sessionID            timestamp  \\\n",
       "0        3197  006eb9aa-33f1-4e9e-8e74-7c978b58ee4a  2016-05-03 09:32:16   \n",
       "1        3320  03c83bf2-8938-4a8f-9f58-d52bf3b2eccd  2016-05-10 17:21:18   \n",
       "2        3321  03c83bf2-8938-4a8f-9f58-d52bf3b2eccd  2016-05-10 17:21:54   \n",
       "3        3322  03c83bf2-8938-4a8f-9f58-d52bf3b2eccd  2016-05-10 17:28:26   \n",
       "4          34  0504fbd1-cce2-4431-b4e2-edc63eea1c6d  2016-07-13 20:24:46   \n",
       "\n",
       "   totalTests  testsPassed  \n",
       "0          33           33  \n",
       "1           1            0  \n",
       "2          26           26  \n",
       "3           1            1  \n",
       "4          21           21  "
      ]
     },
     "execution_count": 6,
     "metadata": {},
     "output_type": "execute_result"
    }
   ],
   "source": [
    "print(f'No of test events: {len(testEvents)}')\n",
    "testEvents.head(5)"
   ]
  },
  {
   "cell_type": "code",
   "execution_count": 7,
   "metadata": {},
   "outputs": [
    {
     "data": {
      "text/plain": [
       "count                                     3826\n",
       "unique                                     275\n",
       "top       3696281d-3432-4a49-aee6-207ded3ad6a8\n",
       "freq                                       334\n",
       "Name: sessionID, dtype: object"
      ]
     },
     "execution_count": 7,
     "metadata": {},
     "output_type": "execute_result"
    }
   ],
   "source": [
    "testEvents[\"sessionID\"].describe()"
   ]
  },
  {
   "cell_type": "code",
   "execution_count": 8,
   "metadata": {},
   "outputs": [
    {
     "data": {
      "text/plain": [
       "count    3826.000000\n",
       "mean       88.780972\n",
       "std       430.785770\n",
       "min        -1.000000\n",
       "25%         1.000000\n",
       "50%         3.000000\n",
       "75%        21.000000\n",
       "max      6618.000000\n",
       "Name: totalTests, dtype: float64"
      ]
     },
     "execution_count": 8,
     "metadata": {},
     "output_type": "execute_result"
    }
   ],
   "source": [
    "testEvents[\"totalTests\"].describe()"
   ]
  },
  {
   "cell_type": "code",
   "execution_count": 9,
   "metadata": {},
   "outputs": [
    {
     "data": {
      "text/plain": [
       "count    3826.000000\n",
       "mean       76.577627\n",
       "std       392.217908\n",
       "min        -1.000000\n",
       "25%         0.000000\n",
       "50%         1.000000\n",
       "75%        15.000000\n",
       "max      6090.000000\n",
       "Name: testsPassed, dtype: float64"
      ]
     },
     "execution_count": 9,
     "metadata": {},
     "output_type": "execute_result"
    }
   ],
   "source": [
    "testEvents[\"testsPassed\"].describe()"
   ]
  },
  {
   "cell_type": "markdown",
   "metadata": {},
   "source": [
    "# Process Data"
   ]
  },
  {
   "cell_type": "code",
   "execution_count": 10,
   "metadata": {},
   "outputs": [],
   "source": [
    "# gets all passed tests for sessionID\n",
    "def get_passed_tests(sessionID):\n",
    "    allPassedTests = testEvents[(testEvents[\"sessionID\"] == sessionID) \n",
    "                        & (testEvents[\"testsPassed\"] > 0)]\n",
    "    return np.asarray(allPassedTests)\n",
    "\n",
    "# counts the numbers of edits between a test and the next test\n",
    "# for our purpose, be aware to only call it with passed tests\n",
    "def get_nr_edits_between_tests(sessionID, timeFirstTest , timeNextTest):\n",
    "    result = editEvents[(editEvents[\"timestamp\"] < timeNextTest)\n",
    "                                 & (editEvents[\"timestamp\"] > timeFirstTest) \n",
    "                                 & (editEvents[\"sessionID\"] == sessionID)]\n",
    "    result = np.asarray(result)\n",
    "    return len(result)\n",
    "\n"
   ]
  },
  {
   "cell_type": "code",
   "execution_count": 11,
   "metadata": {},
   "outputs": [],
   "source": [
    "# number of rows for certain sessionID\n",
    "# print(editEvents.loc[editEvents['sessionID'] == '03c83bf2-8938-4a8f-9f58-d52bf3b2eccd'])"
   ]
  },
  {
   "cell_type": "code",
   "execution_count": 12,
   "metadata": {},
   "outputs": [],
   "source": [
    "# total nr sessionID that have a test that failed\n",
    "# print(f\"failed tests: {testEvents.loc[testEvents['testsPassed'] == 0].count()}\")"
   ]
  },
  {
   "cell_type": "code",
   "execution_count": 13,
   "metadata": {},
   "outputs": [],
   "source": [
    "# counts nr of edits from passed test until next test event\n",
    "# returns a list\n",
    "def edits_from_pass_to_next_test(sessionID):\n",
    "    result = []\n",
    "    resultRow = []\n",
    "    # get all passed tests of the session \n",
    "    allPassedTests = get_passed_tests(sessionID)\n",
    "\n",
    "    numOfRows = np.size(allPassedTests, 0)\n",
    "    # iterate over each passed test\n",
    "    for p in range(numOfRows):\n",
    "        timePass = allPassedTests[p][2]\n",
    "\n",
    "        # no following test\n",
    "        if p == numOfRows-1:\n",
    "            hasNextTest = False\n",
    "        else:\n",
    "            hasNextTest = True\n",
    "            timeTestNext = allPassedTests[p+1][2]\n",
    "            resultNext = allPassedTests[p+1][4]\n",
    "\n",
    "        # for each passed test, get nr of edits until next test\n",
    "        if hasNextTest:\n",
    "            nrOfEdits = get_nr_edits_between_tests(sessionID,timePass, timeTestNext)\n",
    "            print(f'time of pass to append: {timePass}')\n",
    "            print(f'nr of edits: {nrOfEdits}')\n",
    "            print(f'result next: {resultNext} \\n')\n",
    "            result.append([sessionID, timePass, timeTestNext, nrOfEdits, resultNext])\n",
    "            \n",
    "    return result\n"
   ]
  },
  {
   "cell_type": "code",
   "execution_count": 14,
   "metadata": {},
   "outputs": [],
   "source": [
    "#result = edits_from_pass_to_next_test('03c83bf2-8938-4a8f-9f58-d52bf3b2eccd')"
   ]
  },
  {
   "cell_type": "code",
   "execution_count": 15,
   "metadata": {},
   "outputs": [],
   "source": [
    "# creates a DF with 8 columns\n",
    "def create_df(resultArray):\n",
    "    print(f'Length result: {len(resultArray)} \\n\\n')\n",
    "\n",
    "    # Create DataFrame\n",
    "    column_labels = ['sessionID','timePass','timeNext', 'editsUntilNextTest', 'ratio P/T','totalTestsNext', 'testPassedNext' ,'booleanNextTest']\n",
    "    df = pd.DataFrame(resultArray, columns=column_labels)\n",
    "    return df;\n"
   ]
  },
  {
   "cell_type": "markdown",
   "metadata": {},
   "source": [
    "## Iterate over all sessions and create df"
   ]
  },
  {
   "cell_type": "code",
   "execution_count": 16,
   "metadata": {},
   "outputs": [],
   "source": [
    "# Creates a DF and returns a list that contains among other things\n",
    "# the nr of edits from a passing test until the next test event and whether this next test has been successful\n",
    "def get_edits_tests_list():\n",
    "    sessionWithPassedTests=0\n",
    "    sessionWithoutPassedTests=0\n",
    "    sessionWithPassedTestsButNoNextTest=0\n",
    "    result=[]\n",
    "    print(f'time before loop: {datetime.now(tz=None)} \\n')\n",
    "    for index, row in testEvents.iterrows():\n",
    "        if(row[\"testsPassed\"] > 0):\n",
    "            sessionWithPassedTests+=1\n",
    "            #has next test\n",
    "            if((index+1 < len(testEvents)) and (testEvents.iloc[index+1].sessionID == row[\"sessionID\"])):\n",
    "                item=[]\n",
    "                timestampNext=testEvents.iloc[index+1].timestamp\n",
    "                totalTestsNext=testEvents.iloc[index+1].totalTests\n",
    "                passedTestNext=testEvents.iloc[index+1].testsPassed\n",
    "                nrOfEdits=get_nr_edits_between_tests(row[\"sessionID\"], row[\"timestamp\"], timestampNext)\n",
    "                if(passedTestNext == 0):\n",
    "                    resultTestNextBoolean = 0\n",
    "                else:\n",
    "                    resultTestNextBoolean = 1\n",
    "                if(totalTestsNext != 0):\n",
    "                    ratioPT = (passedTestNext/totalTestsNext)\n",
    "                else:\n",
    "                    ratioPT = 0\n",
    "                item.append(row[\"sessionID\"])\n",
    "                item.append(row[\"timestamp\"])\n",
    "                item.append(timestampNext)\n",
    "                item.append(nrOfEdits)\n",
    "                item.append(float(ratioPT))\n",
    "                item.append(int(totalTestsNext))\n",
    "                item.append(int(passedTestNext))\n",
    "                item.append(int(resultTestNextBoolean))\n",
    "                result.append(item)\n",
    "            else:\n",
    "                sessionWithPassedTestsButNoNextTest+=1\n",
    "        else:\n",
    "            sessionWithoutPassedTests+=1\n",
    "    print(f'with passed: {sessionWithPassedTests}')\n",
    "    print(f'with passed test but no next test: {sessionWithPassedTestsButNoNextTest}')\n",
    "    print(f'without passed test: {sessionWithoutPassedTests}')\n",
    "    print(f'total: {sessionWithoutPassedTests+sessionWithPassedTests}')\n",
    "    print(f'time after loop and df: {datetime.now(tz=None)} \\n')\n",
    "    \n",
    "    print(result[0])\n",
    "    print(result[1])\n",
    "    print(result[2])\n",
    "\n",
    "    \n",
    "    return result\n"
   ]
  },
  {
   "cell_type": "code",
   "execution_count": 17,
   "metadata": {},
   "outputs": [
    {
     "name": "stdout",
     "output_type": "stream",
     "text": [
      "time before loop: 2020-05-22 09:51:32.518389 \n",
      "\n",
      "with passed: 2565\n",
      "with passed test but no next test: 208\n",
      "without passed test: 1261\n",
      "total: 3826\n",
      "time after loop and df: 2020-05-22 09:55:36.165365 \n",
      "\n",
      "['03c83bf2-8938-4a8f-9f58-d52bf3b2eccd', '2016-05-10 17:21:54', '2016-05-10 17:28:26', 39, 1.0, 1, 1, 1]\n",
      "['068370ce-c891-45d8-8255-8c9ea63f3b43', '2016-07-13 18:49:28', '2016-07-13 18:51:53', 15, 1.0, 21, 21, 1]\n",
      "['068370ce-c891-45d8-8255-8c9ea63f3b43', '2016-07-13 18:51:53', '2016-07-13 18:53:04', 3, 1.0, 21, 21, 1]\n"
     ]
    }
   ],
   "source": [
    "edits_tests= get_edits_tests_list()"
   ]
  },
  {
   "cell_type": "code",
   "execution_count": 79,
   "metadata": {},
   "outputs": [
    {
     "name": "stdout",
     "output_type": "stream",
     "text": [
      "Length result: 2357 \n",
      "\n",
      "\n"
     ]
    },
    {
     "data": {
      "text/html": [
       "<div>\n",
       "<style scoped>\n",
       "    .dataframe tbody tr th:only-of-type {\n",
       "        vertical-align: middle;\n",
       "    }\n",
       "\n",
       "    .dataframe tbody tr th {\n",
       "        vertical-align: top;\n",
       "    }\n",
       "\n",
       "    .dataframe thead th {\n",
       "        text-align: right;\n",
       "    }\n",
       "</style>\n",
       "<table border=\"1\" class=\"dataframe\">\n",
       "  <thead>\n",
       "    <tr style=\"text-align: right;\">\n",
       "      <th></th>\n",
       "      <th>sessionID</th>\n",
       "      <th>timePass</th>\n",
       "      <th>timeNext</th>\n",
       "      <th>editsUntilNextTest</th>\n",
       "      <th>ratio P/T</th>\n",
       "      <th>totalTestsNext</th>\n",
       "      <th>testPassedNext</th>\n",
       "      <th>booleanNextTest</th>\n",
       "    </tr>\n",
       "  </thead>\n",
       "  <tbody>\n",
       "    <tr>\n",
       "      <th>0</th>\n",
       "      <td>03c83bf2-8938-4a8f-9f58-d52bf3b2eccd</td>\n",
       "      <td>2016-05-10 17:21:54</td>\n",
       "      <td>2016-05-10 17:28:26</td>\n",
       "      <td>39</td>\n",
       "      <td>1.000000</td>\n",
       "      <td>1</td>\n",
       "      <td>1</td>\n",
       "      <td>1</td>\n",
       "    </tr>\n",
       "    <tr>\n",
       "      <th>1</th>\n",
       "      <td>068370ce-c891-45d8-8255-8c9ea63f3b43</td>\n",
       "      <td>2016-07-13 18:49:28</td>\n",
       "      <td>2016-07-13 18:51:53</td>\n",
       "      <td>15</td>\n",
       "      <td>1.000000</td>\n",
       "      <td>21</td>\n",
       "      <td>21</td>\n",
       "      <td>1</td>\n",
       "    </tr>\n",
       "    <tr>\n",
       "      <th>2</th>\n",
       "      <td>068370ce-c891-45d8-8255-8c9ea63f3b43</td>\n",
       "      <td>2016-07-13 18:51:53</td>\n",
       "      <td>2016-07-13 18:53:04</td>\n",
       "      <td>3</td>\n",
       "      <td>1.000000</td>\n",
       "      <td>21</td>\n",
       "      <td>21</td>\n",
       "      <td>1</td>\n",
       "    </tr>\n",
       "    <tr>\n",
       "      <th>3</th>\n",
       "      <td>068370ce-c891-45d8-8255-8c9ea63f3b43</td>\n",
       "      <td>2016-07-13 18:53:04</td>\n",
       "      <td>2016-07-13 18:53:20</td>\n",
       "      <td>1</td>\n",
       "      <td>1.000000</td>\n",
       "      <td>21</td>\n",
       "      <td>21</td>\n",
       "      <td>1</td>\n",
       "    </tr>\n",
       "    <tr>\n",
       "      <th>4</th>\n",
       "      <td>068370ce-c891-45d8-8255-8c9ea63f3b43</td>\n",
       "      <td>2016-07-13 18:53:20</td>\n",
       "      <td>2016-07-13 18:53:27</td>\n",
       "      <td>0</td>\n",
       "      <td>1.000000</td>\n",
       "      <td>21</td>\n",
       "      <td>21</td>\n",
       "      <td>1</td>\n",
       "    </tr>\n",
       "    <tr>\n",
       "      <th>...</th>\n",
       "      <td>...</td>\n",
       "      <td>...</td>\n",
       "      <td>...</td>\n",
       "      <td>...</td>\n",
       "      <td>...</td>\n",
       "      <td>...</td>\n",
       "      <td>...</td>\n",
       "      <td>...</td>\n",
       "    </tr>\n",
       "    <tr>\n",
       "      <th>2352</th>\n",
       "      <td>f6f18876-c00c-4513-a8c8-f927e3b42d23</td>\n",
       "      <td>2017-02-08 07:32:43</td>\n",
       "      <td>2017-02-08 07:33:45</td>\n",
       "      <td>9</td>\n",
       "      <td>1.000000</td>\n",
       "      <td>21</td>\n",
       "      <td>21</td>\n",
       "      <td>1</td>\n",
       "    </tr>\n",
       "    <tr>\n",
       "      <th>2353</th>\n",
       "      <td>f6f18876-c00c-4513-a8c8-f927e3b42d23</td>\n",
       "      <td>2017-02-08 07:33:45</td>\n",
       "      <td>2017-02-08 07:41:03</td>\n",
       "      <td>6</td>\n",
       "      <td>1.000000</td>\n",
       "      <td>21</td>\n",
       "      <td>21</td>\n",
       "      <td>1</td>\n",
       "    </tr>\n",
       "    <tr>\n",
       "      <th>2354</th>\n",
       "      <td>fa4a1e32-d8a9-4fce-a57e-0aec4d6a25bc</td>\n",
       "      <td>2016-09-22 13:43:57</td>\n",
       "      <td>2016-09-22 13:45:37</td>\n",
       "      <td>0</td>\n",
       "      <td>0.000000</td>\n",
       "      <td>478</td>\n",
       "      <td>0</td>\n",
       "      <td>0</td>\n",
       "    </tr>\n",
       "    <tr>\n",
       "      <th>2355</th>\n",
       "      <td>fa4a1e32-d8a9-4fce-a57e-0aec4d6a25bc</td>\n",
       "      <td>2016-09-22 13:46:16</td>\n",
       "      <td>2016-09-22 14:02:31</td>\n",
       "      <td>0</td>\n",
       "      <td>0.993724</td>\n",
       "      <td>478</td>\n",
       "      <td>475</td>\n",
       "      <td>1</td>\n",
       "    </tr>\n",
       "    <tr>\n",
       "      <th>2356</th>\n",
       "      <td>ffc444d0-8382-4e52-9f04-3c42601ec739</td>\n",
       "      <td>2016-06-14 15:23:52</td>\n",
       "      <td>2016-06-14 15:24:12</td>\n",
       "      <td>1</td>\n",
       "      <td>1.000000</td>\n",
       "      <td>2</td>\n",
       "      <td>2</td>\n",
       "      <td>1</td>\n",
       "    </tr>\n",
       "  </tbody>\n",
       "</table>\n",
       "<p>2357 rows × 8 columns</p>\n",
       "</div>"
      ],
      "text/plain": [
       "                                 sessionID             timePass  \\\n",
       "0     03c83bf2-8938-4a8f-9f58-d52bf3b2eccd  2016-05-10 17:21:54   \n",
       "1     068370ce-c891-45d8-8255-8c9ea63f3b43  2016-07-13 18:49:28   \n",
       "2     068370ce-c891-45d8-8255-8c9ea63f3b43  2016-07-13 18:51:53   \n",
       "3     068370ce-c891-45d8-8255-8c9ea63f3b43  2016-07-13 18:53:04   \n",
       "4     068370ce-c891-45d8-8255-8c9ea63f3b43  2016-07-13 18:53:20   \n",
       "...                                    ...                  ...   \n",
       "2352  f6f18876-c00c-4513-a8c8-f927e3b42d23  2017-02-08 07:32:43   \n",
       "2353  f6f18876-c00c-4513-a8c8-f927e3b42d23  2017-02-08 07:33:45   \n",
       "2354  fa4a1e32-d8a9-4fce-a57e-0aec4d6a25bc  2016-09-22 13:43:57   \n",
       "2355  fa4a1e32-d8a9-4fce-a57e-0aec4d6a25bc  2016-09-22 13:46:16   \n",
       "2356  ffc444d0-8382-4e52-9f04-3c42601ec739  2016-06-14 15:23:52   \n",
       "\n",
       "                 timeNext  editsUntilNextTest  ratio P/T  totalTestsNext  \\\n",
       "0     2016-05-10 17:28:26                  39   1.000000               1   \n",
       "1     2016-07-13 18:51:53                  15   1.000000              21   \n",
       "2     2016-07-13 18:53:04                   3   1.000000              21   \n",
       "3     2016-07-13 18:53:20                   1   1.000000              21   \n",
       "4     2016-07-13 18:53:27                   0   1.000000              21   \n",
       "...                   ...                 ...        ...             ...   \n",
       "2352  2017-02-08 07:33:45                   9   1.000000              21   \n",
       "2353  2017-02-08 07:41:03                   6   1.000000              21   \n",
       "2354  2016-09-22 13:45:37                   0   0.000000             478   \n",
       "2355  2016-09-22 14:02:31                   0   0.993724             478   \n",
       "2356  2016-06-14 15:24:12                   1   1.000000               2   \n",
       "\n",
       "      testPassedNext  booleanNextTest  \n",
       "0                  1                1  \n",
       "1                 21                1  \n",
       "2                 21                1  \n",
       "3                 21                1  \n",
       "4                 21                1  \n",
       "...              ...              ...  \n",
       "2352              21                1  \n",
       "2353              21                1  \n",
       "2354               0                0  \n",
       "2355             475                1  \n",
       "2356               2                1  \n",
       "\n",
       "[2357 rows x 8 columns]"
      ]
     },
     "execution_count": 79,
     "metadata": {},
     "output_type": "execute_result"
    }
   ],
   "source": [
    "create_df(edits_tests)"
   ]
  },
  {
   "cell_type": "markdown",
   "metadata": {},
   "source": [
    "# Visualize Data"
   ]
  },
  {
   "cell_type": "code",
   "execution_count": 18,
   "metadata": {},
   "outputs": [
    {
     "name": "stdout",
     "output_type": "stream",
     "text": [
      "2357\n",
      "chunk size: 12\n",
      "first chunk len: 197\n",
      "last chunk len: 196\n",
      "[11, 6, 1, 0, 0, 0, 0, 0, 0, 0, 0, 0]\n",
      "[150, 159, 37, 0, 0, 0, 0, 68, 74, 44, 101, 91]\n"
     ]
    }
   ],
   "source": [
    "#calculate avg \n",
    "print(len(edits_tests))\n",
    "edits_tests_array = np.asarray(edits_tests, dtype='O')\n",
    "nrEventsTest = edits_tests_array[:, 4:6]\n",
    "nrOfEvents = edits_tests_array[:,3]\n",
    "testPass = edits_tests_array[:,4]\n",
    "\n",
    "#sort ascending to nr of events\n",
    "nrEventsTestSorted = sorted(nrEventsTest, key=lambda entry: entry[0]) \n",
    "\n",
    "#chunk size 200 = 12 chunks\n",
    "chunkSize = math.ceil(int(len(nrOfEvents))/200)\n",
    "print(f'chunk size: {chunkSize}')\n",
    "\n",
    "chunk1, chunk2, chunk3, chunk4, chunk5, chunk6, chunk7, chunk8, chunk9, chunk10,chunk11, chunk12 = np.array_split(nrEventsTestSorted, chunkSize)\n",
    "print(f'first chunk len: {len(chunk1)}')\n",
    "print(f'last chunk len: {len(chunk12)}')\n",
    "\n",
    "fails=[]\n",
    "fails.append(np.count_nonzero(chunk1[:,1] == 0))\n",
    "fails.append(np.count_nonzero(chunk2[:,1] == 0))\n",
    "fails.append(np.count_nonzero(chunk3[:,1] == 0))\n",
    "fails.append(np.count_nonzero(chunk4[:,1] == 0))\n",
    "fails.append(np.count_nonzero(chunk5[:,1] == 0))\n",
    "fails.append(np.count_nonzero(chunk6[:,1] == 0))\n",
    "fails.append(np.count_nonzero(chunk7[:,1] == 0))\n",
    "fails.append(np.count_nonzero(chunk8[:,1] == 0))\n",
    "fails.append(np.count_nonzero(chunk9[:,1] == 0))\n",
    "fails.append(np.count_nonzero(chunk10[:,1] == 0))\n",
    "fails.append(np.count_nonzero(chunk11[:,1] == 0))\n",
    "fails.append(np.count_nonzero(chunk12[:,1] == 0))\n",
    "print(fails)\n",
    "\n",
    "passList=[]\n",
    "passList.append(np.count_nonzero(chunk1[:,1] == 1))\n",
    "passList.append(np.count_nonzero(chunk2[:,1] == 1))\n",
    "passList.append(np.count_nonzero(chunk3[:,1] == 1))\n",
    "passList.append(np.count_nonzero(chunk4[:,1] == 1))\n",
    "passList.append(np.count_nonzero(chunk5[:,1] == 1))\n",
    "passList.append(np.count_nonzero(chunk6[:,1] == 1))\n",
    "passList.append(np.count_nonzero(chunk7[:,1] == 1))\n",
    "passList.append(np.count_nonzero(chunk8[:,1] == 1))\n",
    "passList.append(np.count_nonzero(chunk9[:,1] == 1))\n",
    "passList.append(np.count_nonzero(chunk10[:,1] == 1))\n",
    "passList.append(np.count_nonzero(chunk11[:,1] == 1))\n",
    "passList.append(np.count_nonzero(chunk12[:,1] == 1))\n",
    "\n",
    "print(passList)\n",
    "\n",
    "\n"
   ]
  },
  {
   "cell_type": "code",
   "execution_count": 19,
   "metadata": {},
   "outputs": [
    {
     "data": {
      "image/png": "[encoded data removed]",
      "text/plain": [
       "<Figure size 432x288 with 1 Axes>"
      ]
     },
     "metadata": {
      "needs_background": "light"
     },
     "output_type": "display_data"
    },
    {
     "name": "stdout",
     "output_type": "stream",
     "text": [
      "Length result: 2357 \n",
      "\n",
      "\n"
     ]
    },
    {
     "data": {
      "text/plain": [
       "<matplotlib.axes._subplots.AxesSubplot at 0x23050143cc8>"
      ]
     },
     "execution_count": 19,
     "metadata": {},
     "output_type": "execute_result"
    },
    {
     "data": {
      "image/png": "[encoded data removed]",
      "text/plain": [
       "<Figure size 432x288 with 1 Axes>"
      ]
     },
     "metadata": {
      "needs_background": "light"
     },
     "output_type": "display_data"
    }
   ],
   "source": [
    "edits_tests_array = np.asarray(edits_tests)\n",
    "\n",
    "nrOfEvents = edits_tests_array[:,3]\n",
    "testPass = edits_tests_array[:,4]\n",
    "start = max(nrOfEvents)\n",
    "end = min(nrOfEvents)\n",
    "\n",
    "\n",
    "#plot 1\n",
    "fig, ax = plt.subplots()\n",
    "ax.scatter(nrOfEvents, testPass)\n",
    "plt.xlabel('nr of events from passed test until next test')\n",
    "plt.ylabel('nr of passed tests')\n",
    "# Make a plot with major ticks that are multiples of 20 and minor ticks that\n",
    "# are multiples of 5.  Label major ticks with '%d' formatting but don't label\n",
    "# minor ticks.\n",
    "ax.xaxis.set_major_locator(MultipleLocator(20))\n",
    "ax.xaxis.set_major_formatter(FormatStrFormatter('%d'))\n",
    "# For the minor ticks, use no labels; default NullFormatter.\n",
    "ax.xaxis.set_minor_locator(MultipleLocator(5))\n",
    "#yaxis\n",
    "ax.yaxis.set_major_locator(MultipleLocator(20))\n",
    "ax.yaxis.set_major_formatter(FormatStrFormatter('%d'))\n",
    "ax.yaxis.set_minor_locator(MultipleLocator(10))\n",
    "plt.show()\n",
    "\n",
    "\n",
    "#plot 3\n",
    "df = create_df(edits_tests)\n",
    "df.groupby(['editsUntilNextTest','booleanNextTest']).size().unstack().plot(kind='bar',stacked=True)\n",
    "\n"
   ]
  },
  {
   "cell_type": "markdown",
   "metadata": {},
   "source": [
    "## Model building Regression\n",
    "Predict the test passing by the number of edits since the last passed test"
   ]
  },
  {
   "cell_type": "code",
   "execution_count": 20,
   "metadata": {},
   "outputs": [
    {
     "name": "stdout",
     "output_type": "stream",
     "text": [
      "Length result: 2357 \n",
      "\n",
      "\n"
     ]
    }
   ],
   "source": [
    "df_edit_tests = create_df(edits_tests)\n",
    "grouped = df_edit_tests.groupby(['sessionID'])\n",
    "sessionStarts = grouped.agg({'timePass':np.min}).to_dict()"
   ]
  },
  {
   "cell_type": "code",
   "execution_count": 29,
   "metadata": {},
   "outputs": [
    {
     "name": "stdout",
     "output_type": "stream",
     "text": [
      "<class 'int'>\n",
      "<class 'float'>\n",
      "    edits   success\n",
      "0      39  1.000000\n",
      "1      15  1.000000\n",
      "2       3  1.000000\n",
      "3       1  1.000000\n",
      "4       0  1.000000\n",
      "5       1  1.000000\n",
      "6       6  1.000000\n",
      "7       3  1.000000\n",
      "8       1  1.000000\n",
      "9       1  1.000000\n",
      "10      5  1.000000\n",
      "11      1  1.000000\n",
      "12      2  0.875000\n",
      "13      2  0.000000\n",
      "14      4  1.000000\n",
      "15      1  0.000000\n",
      "16     14  1.000000\n",
      "17     15  0.000000\n",
      "18      5  1.000000\n",
      "19      4  0.741935\n"
     ]
    }
   ],
   "source": [
    "edits_tests_array = np.array(edits_tests, dtype=\"O\")\n",
    "edits_ratio_array = edits_tests_array[:,3:5]\n",
    "edits_ratio_list = edits_ratio_array.tolist()\n",
    "x = edits_tests_array[:,3]\n",
    "y = edits_tests_array[:,4]\n",
    "print(type(x[2]))\n",
    "print(type(y[2]))\n",
    "\n",
    "frame = pd.DataFrame(edits_ratio_list, columns=['edits','success'])\n",
    "print(frame.head(20))\n",
    "\n",
    "x_train, x_test, y_train, y_test = train_test_split(x, y, test_size=0.2)\n"
   ]
  },
  {
   "cell_type": "code",
   "execution_count": 22,
   "metadata": {},
   "outputs": [],
   "source": [
    "def analyze_classifiers(x,y):\n",
    "    classifiers = [('linear',SGDClassifier()),\n",
    "                   ('logistic',LogisticRegression()),\n",
    "                   ('knn',KNeighborsClassifier(3))]\n",
    "    for name,model in classifiers:\n",
    "        accuracies = []\n",
    "        kf = KFold(n_splits=5,shuffle=True)\n",
    "        for train_index, test_index in kf.split(x):\n",
    "            x_train, x_test = x.iloc[train_index], x.iloc[test_index]\n",
    "            y_train, y_test = y[train_index], y[test_index]\n",
    "            fit = model.fit(x_train, y_train)\n",
    "            accuracies.append(accuracy_score(y_test, model.predict(x_test), normalize=True))\n",
    "        print('accuracy of',name, 'is',np.mean(accuracies))"
   ]
  },
  {
   "cell_type": "code",
   "execution_count": 36,
   "metadata": {},
   "outputs": [
    {
     "data": {
      "image/png": "[encoded data removed]",
      "text/plain": [
       "<Figure size 432x288 with 1 Axes>"
      ]
     },
     "metadata": {},
     "output_type": "display_data"
    }
   ],
   "source": [
    "model = LinearRegression(fit_intercept=True)\n",
    "\n",
    "model.fit(x[:, np.newaxis], y)\n",
    "\n",
    "xfit = np.linspace(0, 10, 1000)\n",
    "yfit = model.predict(xfit[:, np.newaxis])\n",
    "\n",
    "plt.scatter(x, y)\n",
    "plt.plot(xfit, yfit);"
   ]
  },
  {
   "cell_type": "code",
   "execution_count": null,
   "metadata": {},
   "outputs": [],
   "source": []
  }
 ],
 "metadata": {
  "kernelspec": {
   "display_name": "Python 3",
   "language": "python",
   "name": "python3"
  },
  "language_info": {
   "codemirror_mode": {
    "name": "ipython",
    "version": 3
   },
   "file_extension": ".py",
   "mimetype": "text/x-python",
   "name": "python",
   "nbconvert_exporter": "python",
   "pygments_lexer": "ipython3",
   "version": "3.7.4"
  }
 },
 "nbformat": 4,
 "nbformat_minor": 2
}
