{
 "cells": [
  {
   "cell_type": "markdown",
   "metadata": {},
   "source": [
    "# Big Data Analysis Project - Group Project FS2020\n",
    "## University of Zurich\n",
    "## 5th of June 2020"
   ]
  },
  {
   "cell_type": "markdown",
   "metadata": {},
   "source": [
    "Jara Fuhrer, 15-702-889\n",
    "\n",
    "Claudio Brasser,\n",
    "\n",
    "Severin Siffert, 14-720-536\n",
    "\n",
    "Andrea Giambonini, 10-726-842\n",
    "\n",
    "Elizabeth Oladipo, 17-722-414\n"
   ]
  },
  {
   "cell_type": "markdown",
   "metadata": {},
   "source": [
    "## \"The goal of the project is to apply the data science pipeline\""
   ]
  },
  {
   "cell_type": "markdown",
   "metadata": {},
   "source": [
    "![title](doingDS.png)"
   ]
  },
  {
   "cell_type": "markdown",
   "metadata": {},
   "source": [
    "# Data Collection / Acquisition"
   ]
  },
  {
   "cell_type": "markdown",
   "metadata": {},
   "source": [
    "Our dataset comes from http://www.kave.cc/, where 15'000 hours of interaction data from Visual Studio was collected in almost 11 million events from voluntaries.\n",
    "To see what kind of data is collected, you can look at the data schema here: http://www.kave.cc/feedbag/event-generation.\n",
    "\n",
    "Within this project, we focus on three events:\n",
    "- build event: actions like build, build all, or clean\n",
    "- edit event: changes made by the developer, like renaming\n",
    "- test run event: which tests where run when and with what result\n"
   ]
  },
  {
   "cell_type": "markdown",
   "metadata": {},
   "source": [
    "#### Who constructed data set, when, why?\n",
    "The KaVE Project originally was a German research program. Over the past 10 years, it evolved into a platform for research around recommendation systems for software engineering. Generally, they're interested in questions like how humans influence software engineering or how certain tools can support humans to better / more efficiently perform their tasks. \n",
    "Examples are intelligent code completion, interaction trackers or evaluation tools.\n",
    "\n",
    "The KaVE are collecting and providing these data sets such that we can better understand what software engineers do / what they interact with / where their problems lie. With this data, we can try to see relations betweek the workign behaviour of developers (edit events, time, run test and results of them) and his efficienty / performance / productivity / habits /...\n",
    "\n",
    "Below, the three data sets we extracted from the gigantic pile of possibilities are explained.\n",
    "\n",
    "#### What do we want to learn from this data?\n",
    "From personal experience, we know how important it is to frequently build your code and run some tests. Only then you're able to link what you've done (i.e. what you've written, the edit events) to the outcome (i.e. (hopefully) working code, build and test run events). \n",
    "\n",
    "* often repeated advice: compile early, compile often\n",
    "* intuition: longer time and more edits between tests/builds = more chance to screw up\n",
    "* Is there a way to show that empirically?\n",
    "\n",
    "Our goal of this data analysis therefore is to analyze the link between the probability of Unit tests or project builds succeeding in connection with how much time has passed and how many edits were made since the last build/test run.\n",
    "\n",
    "\n",
    "#### Hypotheses\n",
    "TODO --> how did we get to this hypos?\n",
    "\n",
    "* we want to test the advice 'compile early, compile often' and the closely related 'test a lot' empirically\n",
    "* found relevant events in the data: edit (code modified), build and test events\n",
    "\n",
    "Our hypotheses are:\n",
    "\n",
    "1. Build\n",
    "    * the longer a developer waits to build his code, the higher the probability that the build will fail\n",
    "    * the more edit events a developer executes, the lower the probability that the build will succeed\n",
    "2. Test   \n",
    "    * the longer a developer waits to run some tests, the higher the probability for test failures\n",
    "    * the more edit events a developer executes, the lower the probability for test success\n"
   ]
  },
  {
   "cell_type": "raw",
   "metadata": {},
   "source": [
    "#### Final Data Analysis Questions:\n",
    "1) linking time since last (successful?) build to probability of build succeeding -- SEVERIN\n",
    "\n",
    "2) linking time since last tests run to probability of tests passing -- ELIZABETH\n",
    "\n",
    "3) linking number of edit events since last successful build to probability of build succeeding -- ANDREA\n",
    "\n",
    "4) linking number of edit events since last passing tests to probability of unit tests passing -- JARA"
   ]
  },
  {
   "cell_type": "markdown",
   "metadata": {},
   "source": [
    "# Data Preprocessing / Cleaning --> TODO Claudio"
   ]
  },
  {
   "cell_type": "markdown",
   "metadata": {},
   "source": [
    "The data was originally available in individual json events, with great support for parsing with Java or C#. Since we have to work with python, we used Java to convert the relevant information into csv without cleaning the data first.\n",
    "\n",
    "* remove wrong data\n",
    "* parse timestamps\n",
    "* split into sessions\n",
    "\n",
    "<i> --> TODO Claudio </i>"
   ]
  },
  {
   "cell_type": "code",
   "execution_count": 27,
   "metadata": {},
   "outputs": [],
   "source": [
    "import pandas as pd\n",
    "import numpy as np\n",
    "import math\n",
    "from datetime import datetime\n",
    "import matplotlib.pyplot as plt\n",
    "from matplotlib.ticker import (MultipleLocator, FormatStrFormatter,\n",
    "                               AutoMinorLocator)\n",
    "import seaborn as sns\n",
    "from itertools import islice\n",
    "from sklearn import datasets, linear_model\n",
    "from sklearn.linear_model.stochastic_gradient import SGDClassifier\n",
    "from sklearn.neighbors import KNeighborsClassifier\n",
    "from sklearn.linear_model import LogisticRegression\n",
    "from sklearn.model_selection import KFold\n",
    "from sklearn.metrics import accuracy_score\n"
   ]
  },
  {
   "cell_type": "code",
   "execution_count": 34,
   "metadata": {},
   "outputs": [],
   "source": [
    "df_edit = pd.read_csv(r'..\\data\\df_edit.csv', low_memory=False)\n",
    "df_test = pd.read_csv(r'..\\data\\df_test.csv', low_memory=False)\n",
    "df_build = pd.read_csv(r'..\\data\\df_build.csv', low_memory=False)"
   ]
  },
  {
   "cell_type": "markdown",
   "metadata": {},
   "source": [
    "# Data Exploration"
   ]
  },
  {
   "cell_type": "markdown",
   "metadata": {},
   "source": [
    "Each row in our dataset is a sessionID-timestamp pair for the respective event category (build, test or edit). For Build events we know in addition if the event succeded or not (boolean) and for test we know how many test were run at a specific time and how many of those succeded.\n",
    "\n",
    "Let's take a look at the data:"
   ]
  },
  {
   "cell_type": "markdown",
   "metadata": {},
   "source": [
    "### Edit Events"
   ]
  },
  {
   "cell_type": "code",
   "execution_count": 35,
   "metadata": {},
   "outputs": [
    {
     "name": "stdout",
     "output_type": "stream",
     "text": [
      " This dataset contain 497459 edits events\n"
     ]
    },
    {
     "data": {
      "text/html": [
       "<div>\n",
       "<style scoped>\n",
       "    .dataframe tbody tr th:only-of-type {\n",
       "        vertical-align: middle;\n",
       "    }\n",
       "\n",
       "    .dataframe tbody tr th {\n",
       "        vertical-align: top;\n",
       "    }\n",
       "\n",
       "    .dataframe thead th {\n",
       "        text-align: right;\n",
       "    }\n",
       "</style>\n",
       "<table border=\"1\" class=\"dataframe\">\n",
       "  <thead>\n",
       "    <tr style=\"text-align: right;\">\n",
       "      <th></th>\n",
       "      <th>sessionID</th>\n",
       "      <th>timestamp</th>\n",
       "      <th>type</th>\n",
       "    </tr>\n",
       "  </thead>\n",
       "  <tbody>\n",
       "    <tr>\n",
       "      <th>497454</th>\n",
       "      <td>ffc444d0-8382-4e52-9f04-3c42601ec739</td>\n",
       "      <td>2016-06-14 14:31:53</td>\n",
       "      <td>edit</td>\n",
       "    </tr>\n",
       "    <tr>\n",
       "      <th>497455</th>\n",
       "      <td>ffcbdaa4-e264-45a3-bddb-6f2f0afeac2f</td>\n",
       "      <td>2016-04-20 14:47:53</td>\n",
       "      <td>edit</td>\n",
       "    </tr>\n",
       "    <tr>\n",
       "      <th>497456</th>\n",
       "      <td>ffcbdaa4-e264-45a3-bddb-6f2f0afeac2f</td>\n",
       "      <td>2016-04-20 14:48:02</td>\n",
       "      <td>edit</td>\n",
       "    </tr>\n",
       "    <tr>\n",
       "      <th>497457</th>\n",
       "      <td>ffcbdaa4-e264-45a3-bddb-6f2f0afeac2f</td>\n",
       "      <td>2016-04-20 14:48:12</td>\n",
       "      <td>edit</td>\n",
       "    </tr>\n",
       "    <tr>\n",
       "      <th>497458</th>\n",
       "      <td>ffcbdaa4-e264-45a3-bddb-6f2f0afeac2f</td>\n",
       "      <td>2016-04-20 14:48:20</td>\n",
       "      <td>edit</td>\n",
       "    </tr>\n",
       "  </tbody>\n",
       "</table>\n",
       "</div>"
      ],
      "text/plain": [
       "                                   sessionID            timestamp  type\n",
       "497454  ffc444d0-8382-4e52-9f04-3c42601ec739  2016-06-14 14:31:53  edit\n",
       "497455  ffcbdaa4-e264-45a3-bddb-6f2f0afeac2f  2016-04-20 14:47:53  edit\n",
       "497456  ffcbdaa4-e264-45a3-bddb-6f2f0afeac2f  2016-04-20 14:48:02  edit\n",
       "497457  ffcbdaa4-e264-45a3-bddb-6f2f0afeac2f  2016-04-20 14:48:12  edit\n",
       "497458  ffcbdaa4-e264-45a3-bddb-6f2f0afeac2f  2016-04-20 14:48:20  edit"
      ]
     },
     "execution_count": 35,
     "metadata": {},
     "output_type": "execute_result"
    }
   ],
   "source": [
    "print(f' This dataset contain {len(df_edit)} edits events')\n",
    "df_edit.iloc[:,1:].tail()"
   ]
  },
  {
   "cell_type": "markdown",
   "metadata": {},
   "source": [
    "### Test Events"
   ]
  },
  {
   "cell_type": "code",
   "execution_count": 37,
   "metadata": {},
   "outputs": [
    {
     "data": {
      "text/html": [
       "<div>\n",
       "<style scoped>\n",
       "    .dataframe tbody tr th:only-of-type {\n",
       "        vertical-align: middle;\n",
       "    }\n",
       "\n",
       "    .dataframe tbody tr th {\n",
       "        vertical-align: top;\n",
       "    }\n",
       "\n",
       "    .dataframe thead th {\n",
       "        text-align: right;\n",
       "    }\n",
       "</style>\n",
       "<table border=\"1\" class=\"dataframe\">\n",
       "  <thead>\n",
       "    <tr style=\"text-align: right;\">\n",
       "      <th></th>\n",
       "      <th>Unnamed: 0</th>\n",
       "      <th>sessionID</th>\n",
       "      <th>timestamp</th>\n",
       "      <th>type</th>\n",
       "      <th>totalTests</th>\n",
       "      <th>testsPassed</th>\n",
       "    </tr>\n",
       "  </thead>\n",
       "  <tbody>\n",
       "    <tr>\n",
       "      <th>0</th>\n",
       "      <td>4</td>\n",
       "      <td>115</td>\n",
       "      <td>2016-07-13 20:24:46</td>\n",
       "      <td>test</td>\n",
       "      <td>21.0</td>\n",
       "      <td>21.0</td>\n",
       "    </tr>\n",
       "    <tr>\n",
       "      <th>1</th>\n",
       "      <td>5</td>\n",
       "      <td>143</td>\n",
       "      <td>2016-12-16 15:32:02</td>\n",
       "      <td>test</td>\n",
       "      <td>4.0</td>\n",
       "      <td>0.0</td>\n",
       "    </tr>\n",
       "    <tr>\n",
       "      <th>2</th>\n",
       "      <td>6</td>\n",
       "      <td>157</td>\n",
       "      <td>2016-07-13 17:44:58</td>\n",
       "      <td>test</td>\n",
       "      <td>1.0</td>\n",
       "      <td>0.0</td>\n",
       "    </tr>\n",
       "    <tr>\n",
       "      <th>3</th>\n",
       "      <td>7</td>\n",
       "      <td>158</td>\n",
       "      <td>2016-07-13 18:43:38</td>\n",
       "      <td>test</td>\n",
       "      <td>0.0</td>\n",
       "      <td>0.0</td>\n",
       "    </tr>\n",
       "    <tr>\n",
       "      <th>4</th>\n",
       "      <td>8</td>\n",
       "      <td>158</td>\n",
       "      <td>2016-07-13 18:45:11</td>\n",
       "      <td>test</td>\n",
       "      <td>0.0</td>\n",
       "      <td>0.0</td>\n",
       "    </tr>\n",
       "    <tr>\n",
       "      <th>...</th>\n",
       "      <td>...</td>\n",
       "      <td>...</td>\n",
       "      <td>...</td>\n",
       "      <td>...</td>\n",
       "      <td>...</td>\n",
       "      <td>...</td>\n",
       "    </tr>\n",
       "    <tr>\n",
       "      <th>3821</th>\n",
       "      <td>3812</td>\n",
       "      <td>fa4a1e32-d8a9-4fce-a57e-0aec4d6a25bc</td>\n",
       "      <td>2016-09-22 13:45:37</td>\n",
       "      <td>test</td>\n",
       "      <td>478.0</td>\n",
       "      <td>0.0</td>\n",
       "    </tr>\n",
       "    <tr>\n",
       "      <th>3822</th>\n",
       "      <td>3813</td>\n",
       "      <td>fa4a1e32-d8a9-4fce-a57e-0aec4d6a25bc</td>\n",
       "      <td>2016-09-22 13:46:16</td>\n",
       "      <td>test</td>\n",
       "      <td>478.0</td>\n",
       "      <td>475.0</td>\n",
       "    </tr>\n",
       "    <tr>\n",
       "      <th>3823</th>\n",
       "      <td>3815</td>\n",
       "      <td>fadb490b-cc30-4690-8ecd-ae5c818fb1e1</td>\n",
       "      <td>2016-08-31 11:57:20</td>\n",
       "      <td>test</td>\n",
       "      <td>92.0</td>\n",
       "      <td>92.0</td>\n",
       "    </tr>\n",
       "    <tr>\n",
       "      <th>3824</th>\n",
       "      <td>3816</td>\n",
       "      <td>fbcdffc5-b444-4262-bbb6-52c091caea79</td>\n",
       "      <td>2016-07-17 12:18:13</td>\n",
       "      <td>test</td>\n",
       "      <td>0.0</td>\n",
       "      <td>0.0</td>\n",
       "    </tr>\n",
       "    <tr>\n",
       "      <th>3825</th>\n",
       "      <td>3817</td>\n",
       "      <td>ff816b40-f797-4065-a6ef-94abb564e92c</td>\n",
       "      <td>2016-12-20 10:48:00</td>\n",
       "      <td>test</td>\n",
       "      <td>0.0</td>\n",
       "      <td>0.0</td>\n",
       "    </tr>\n",
       "  </tbody>\n",
       "</table>\n",
       "<p>3826 rows × 6 columns</p>\n",
       "</div>"
      ],
      "text/plain": [
       "      Unnamed: 0                             sessionID            timestamp  \\\n",
       "0              4                                   115  2016-07-13 20:24:46   \n",
       "1              5                                   143  2016-12-16 15:32:02   \n",
       "2              6                                   157  2016-07-13 17:44:58   \n",
       "3              7                                   158  2016-07-13 18:43:38   \n",
       "4              8                                   158  2016-07-13 18:45:11   \n",
       "...          ...                                   ...                  ...   \n",
       "3821        3812  fa4a1e32-d8a9-4fce-a57e-0aec4d6a25bc  2016-09-22 13:45:37   \n",
       "3822        3813  fa4a1e32-d8a9-4fce-a57e-0aec4d6a25bc  2016-09-22 13:46:16   \n",
       "3823        3815  fadb490b-cc30-4690-8ecd-ae5c818fb1e1  2016-08-31 11:57:20   \n",
       "3824        3816  fbcdffc5-b444-4262-bbb6-52c091caea79  2016-07-17 12:18:13   \n",
       "3825        3817  ff816b40-f797-4065-a6ef-94abb564e92c  2016-12-20 10:48:00   \n",
       "\n",
       "      type  totalTests  testsPassed  \n",
       "0     test        21.0         21.0  \n",
       "1     test         4.0          0.0  \n",
       "2     test         1.0          0.0  \n",
       "3     test         0.0          0.0  \n",
       "4     test         0.0          0.0  \n",
       "...    ...         ...          ...  \n",
       "3821  test       478.0          0.0  \n",
       "3822  test       478.0        475.0  \n",
       "3823  test        92.0         92.0  \n",
       "3824  test         0.0          0.0  \n",
       "3825  test         0.0          0.0  \n",
       "\n",
       "[3826 rows x 6 columns]"
      ]
     },
     "execution_count": 37,
     "metadata": {},
     "output_type": "execute_result"
    }
   ],
   "source": [
    "df_test"
   ]
  },
  {
   "cell_type": "code",
   "execution_count": 57,
   "metadata": {},
   "outputs": [
    {
     "name": "stdout",
     "output_type": "stream",
     "text": [
      " This dataset contains 3826 test events. \n",
      " SessionID-timestamp run, in average, 88.8 tests and in average over all sessionID-timestamp pair, 86.3% are \"passed\" test.\n"
     ]
    },
    {
     "data": {
      "text/html": [
       "<div>\n",
       "<style scoped>\n",
       "    .dataframe tbody tr th:only-of-type {\n",
       "        vertical-align: middle;\n",
       "    }\n",
       "\n",
       "    .dataframe tbody tr th {\n",
       "        vertical-align: top;\n",
       "    }\n",
       "\n",
       "    .dataframe thead th {\n",
       "        text-align: right;\n",
       "    }\n",
       "</style>\n",
       "<table border=\"1\" class=\"dataframe\">\n",
       "  <thead>\n",
       "    <tr style=\"text-align: right;\">\n",
       "      <th></th>\n",
       "      <th>sessionID</th>\n",
       "      <th>timestamp</th>\n",
       "      <th>type</th>\n",
       "      <th>totalTests</th>\n",
       "      <th>testsPassed</th>\n",
       "    </tr>\n",
       "  </thead>\n",
       "  <tbody>\n",
       "    <tr>\n",
       "      <th>3821</th>\n",
       "      <td>fa4a1e32-d8a9-4fce-a57e-0aec4d6a25bc</td>\n",
       "      <td>2016-09-22 13:45:37</td>\n",
       "      <td>test</td>\n",
       "      <td>478.0</td>\n",
       "      <td>0.0</td>\n",
       "    </tr>\n",
       "    <tr>\n",
       "      <th>3822</th>\n",
       "      <td>fa4a1e32-d8a9-4fce-a57e-0aec4d6a25bc</td>\n",
       "      <td>2016-09-22 13:46:16</td>\n",
       "      <td>test</td>\n",
       "      <td>478.0</td>\n",
       "      <td>475.0</td>\n",
       "    </tr>\n",
       "    <tr>\n",
       "      <th>3823</th>\n",
       "      <td>fadb490b-cc30-4690-8ecd-ae5c818fb1e1</td>\n",
       "      <td>2016-08-31 11:57:20</td>\n",
       "      <td>test</td>\n",
       "      <td>92.0</td>\n",
       "      <td>92.0</td>\n",
       "    </tr>\n",
       "    <tr>\n",
       "      <th>3824</th>\n",
       "      <td>fbcdffc5-b444-4262-bbb6-52c091caea79</td>\n",
       "      <td>2016-07-17 12:18:13</td>\n",
       "      <td>test</td>\n",
       "      <td>0.0</td>\n",
       "      <td>0.0</td>\n",
       "    </tr>\n",
       "    <tr>\n",
       "      <th>3825</th>\n",
       "      <td>ff816b40-f797-4065-a6ef-94abb564e92c</td>\n",
       "      <td>2016-12-20 10:48:00</td>\n",
       "      <td>test</td>\n",
       "      <td>0.0</td>\n",
       "      <td>0.0</td>\n",
       "    </tr>\n",
       "  </tbody>\n",
       "</table>\n",
       "</div>"
      ],
      "text/plain": [
       "                                 sessionID            timestamp  type  \\\n",
       "3821  fa4a1e32-d8a9-4fce-a57e-0aec4d6a25bc  2016-09-22 13:45:37  test   \n",
       "3822  fa4a1e32-d8a9-4fce-a57e-0aec4d6a25bc  2016-09-22 13:46:16  test   \n",
       "3823  fadb490b-cc30-4690-8ecd-ae5c818fb1e1  2016-08-31 11:57:20  test   \n",
       "3824  fbcdffc5-b444-4262-bbb6-52c091caea79  2016-07-17 12:18:13  test   \n",
       "3825  ff816b40-f797-4065-a6ef-94abb564e92c  2016-12-20 10:48:00  test   \n",
       "\n",
       "      totalTests  testsPassed  \n",
       "3821       478.0          0.0  \n",
       "3822       478.0        475.0  \n",
       "3823        92.0         92.0  \n",
       "3824         0.0          0.0  \n",
       "3825         0.0          0.0  "
      ]
     },
     "execution_count": 57,
     "metadata": {},
     "output_type": "execute_result"
    }
   ],
   "source": [
    "print(f' This dataset contains {len(df_test)} test events.','\\n',f'SessionID-timestamp run, in average, {round(df_test.iloc[:,4].mean(),1)} tests and in average over all sessionID-timestamp pair, {round((df_test.iloc[:,5].mean()/df_test.iloc[:,4].mean())*100,1)}% are \"passed\" test.')\n",
    "df_test.iloc[:,1:].tail()"
   ]
  },
  {
   "cell_type": "markdown",
   "metadata": {},
   "source": [
    "### Build Events"
   ]
  },
  {
   "cell_type": "code",
   "execution_count": 48,
   "metadata": {},
   "outputs": [
    {
     "name": "stdout",
     "output_type": "stream",
     "text": [
      " This dataset contain 14957 build events. \n",
      " In average, 86.2% are succeddful build.\n"
     ]
    },
    {
     "data": {
      "text/html": [
       "<div>\n",
       "<style scoped>\n",
       "    .dataframe tbody tr th:only-of-type {\n",
       "        vertical-align: middle;\n",
       "    }\n",
       "\n",
       "    .dataframe tbody tr th {\n",
       "        vertical-align: top;\n",
       "    }\n",
       "\n",
       "    .dataframe thead th {\n",
       "        text-align: right;\n",
       "    }\n",
       "</style>\n",
       "<table border=\"1\" class=\"dataframe\">\n",
       "  <thead>\n",
       "    <tr style=\"text-align: right;\">\n",
       "      <th></th>\n",
       "      <th>sessionID</th>\n",
       "      <th>timestamp</th>\n",
       "      <th>type</th>\n",
       "      <th>buildSuccessful</th>\n",
       "    </tr>\n",
       "  </thead>\n",
       "  <tbody>\n",
       "    <tr>\n",
       "      <th>14952</th>\n",
       "      <td>fef6f3d6-3a5f-4f7c-8ddf-b52346a831c5</td>\n",
       "      <td>2016-04-02 22:01:13</td>\n",
       "      <td>build</td>\n",
       "      <td>False</td>\n",
       "    </tr>\n",
       "    <tr>\n",
       "      <th>14953</th>\n",
       "      <td>fef6f3d6-3a5f-4f7c-8ddf-b52346a831c5</td>\n",
       "      <td>2016-04-02 22:01:32</td>\n",
       "      <td>build</td>\n",
       "      <td>True</td>\n",
       "    </tr>\n",
       "    <tr>\n",
       "      <th>14954</th>\n",
       "      <td>ff7bee9b-075d-4139-b782-65d1587da5c9</td>\n",
       "      <td>2016-10-18 09:43:34</td>\n",
       "      <td>build</td>\n",
       "      <td>True</td>\n",
       "    </tr>\n",
       "    <tr>\n",
       "      <th>14955</th>\n",
       "      <td>ff9890a9-60d7-41f5-a655-95527ee6f4b7</td>\n",
       "      <td>2016-11-21 14:07:51</td>\n",
       "      <td>build</td>\n",
       "      <td>False</td>\n",
       "    </tr>\n",
       "    <tr>\n",
       "      <th>14956</th>\n",
       "      <td>ffb030c9-c0ff-42bd-9e04-6c4b44f5ab79</td>\n",
       "      <td>2016-05-10 16:14:55</td>\n",
       "      <td>build</td>\n",
       "      <td>True</td>\n",
       "    </tr>\n",
       "  </tbody>\n",
       "</table>\n",
       "</div>"
      ],
      "text/plain": [
       "                                  sessionID            timestamp   type  \\\n",
       "14952  fef6f3d6-3a5f-4f7c-8ddf-b52346a831c5  2016-04-02 22:01:13  build   \n",
       "14953  fef6f3d6-3a5f-4f7c-8ddf-b52346a831c5  2016-04-02 22:01:32  build   \n",
       "14954  ff7bee9b-075d-4139-b782-65d1587da5c9  2016-10-18 09:43:34  build   \n",
       "14955  ff9890a9-60d7-41f5-a655-95527ee6f4b7  2016-11-21 14:07:51  build   \n",
       "14956  ffb030c9-c0ff-42bd-9e04-6c4b44f5ab79  2016-05-10 16:14:55  build   \n",
       "\n",
       "      buildSuccessful  \n",
       "14952           False  \n",
       "14953            True  \n",
       "14954            True  \n",
       "14955           False  \n",
       "14956            True  "
      ]
     },
     "execution_count": 48,
     "metadata": {},
     "output_type": "execute_result"
    }
   ],
   "source": [
    "print(f' This dataset contain {len(df_build)} build events.','\\n',f'In average, {round(len(df_build.loc[df_build[\"buildSuccessful\"]==True])/len(df_build)*100,1)}% are succeddful build.')\n",
    "df_build.iloc[:,1:].tail()"
   ]
  },
  {
   "cell_type": "markdown",
   "metadata": {},
   "source": [
    "Unfortunately, we are not yet ready to build our model. In order to test our hypotheses we need to reprocess the data to find:\n",
    "1. the time passed between two build/test events\n",
    "2. the number of edits between build/test events"
   ]
  },
  {
   "cell_type": "markdown",
   "metadata": {},
   "source": [
    "## Process the data in order to predict Build success"
   ]
  },
  {
   "cell_type": "markdown",
   "metadata": {},
   "source": [
    "The first reflection to do is about which session should be consider in our analysis. We are interested in what happens between two consecutives events, but should we consider any subsequent build events?\n",
    "We decided to only consider what happens from a successful build to the next build. The reason for this choice is that we want to start from a 'stable' state and analyze how the probability of obtaining another stable state (i.e. Successful Build) is affected by how much changes we made. If we didn't start from a 'stable' state, our result might be biased by other changes in the past which made the state 'unstable' (not passed Build).\n",
    "\n",
    "Now we can start processing our Data as follow:\n",
    "\n",
    "* For each sessionID:\n",
    "    1. get timestamp of the last successfull build\n",
    "    2. get timestamp of next build after 1)\n",
    "        * if there is a 2) > 1) then:\n",
    "    3. get the time passed between 1) and 2)\n",
    "    4. count number of edit between the timestamp 1) and 2)\n",
    "        * else we dont take 1) into account\n",
    "* Create a new DataFrame with following variables:\n",
    "    - sessionID\n",
    "    - timestamp of the successful Build event\n",
    "    - timestamp of the next Build event (next build after the successful Build event)\n",
    "    - time passed between the successful Build and the next Build event (in seconds)\n",
    "    - edits between the successful Build and the next Build event\n",
    "    - result of the next (after a successful Build) build event (boolean)\n"
   ]
  },
  {
   "cell_type": "code",
   "execution_count": 49,
   "metadata": {},
   "outputs": [],
   "source": [
    "def get_all_build(sessionID):\n",
    "    all_build = df_build[df_build[\"sessionID\"] == sessionID]\n",
    "    return all_build.sort_values([\"timestamp\"]).values"
   ]
  },
  {
   "cell_type": "code",
   "execution_count": 50,
   "metadata": {},
   "outputs": [],
   "source": [
    "def get_successful_build(sessionID):\n",
    "    all_successful_build = df_build[(df_build[\"sessionID\"] == sessionID) & (df_build[\"buildSuccessful\"] == True)] \n",
    "    return all_successful_build.sort_values([\"timestamp\"]).values"
   ]
  },
  {
   "cell_type": "code",
   "execution_count": 51,
   "metadata": {},
   "outputs": [],
   "source": [
    "def get_nr_edits_between_build(sessionID,timeLastSuccessfullBuild, timeNextBuild):\n",
    "    totalEdit = df_edit[df_edit[\"sessionID\"] == sessionID]\n",
    "    totalEdit = totalEdit.sort_values([\"timestamp\"])\n",
    "    editBetweenSuccessBuildAndBuild = totalEdit[(totalEdit[\"timestamp\"] <= timeNextBuild) & (totalEdit[\"timestamp\"] >= timeLastSuccessfullBuild)]\n",
    "    return editBetweenSuccessBuildAndBuild[\"timestamp\"].values.size"
   ]
  },
  {
   "cell_type": "code",
   "execution_count": 52,
   "metadata": {},
   "outputs": [],
   "source": [
    "def edits_from_pass_to_next_build(sessionID):\n",
    "    result = []\n",
    "\n",
    "    # get all successful build of session \n",
    "    allSuccessfulBuild = get_successful_build(sessionID)\n",
    "    allBuild = get_all_build(sessionID)\n",
    "    numOfSuccessfulBuild = np.size(allSuccessfulBuild,0)\n",
    "    numOfBuild = np.size(allBuild,0)\n",
    "    # iterate over each passed build\n",
    "    for s in range(numOfSuccessfulBuild):\n",
    "        # if build follows, count edits\n",
    "        if allBuild[-1][2]>allSuccessfulBuild[s][2]:\n",
    "            for b in range(numOfBuild):\n",
    "                if allBuild[b][2]>allSuccessfulBuild[s][2]:\n",
    "                    break\n",
    "                    \n",
    "            timeLastSuccessfulBuild=allSuccessfulBuild[s][2]\n",
    "            timeNextBuild=allBuild[b][2]\n",
    "            resultNextBuild=allBuild[b][4]\n",
    "            nrOfEdit=get_nr_edits_between_build(sessionID,timeLastSuccessfulBuild, timeNextBuild)\n",
    "            sessionID = allBuild[b][1]\n",
    "            time_passed = pd.Timedelta(datetime.strptime(timeNextBuild, '%Y-%m-%d %H:%M:%S')-datetime.strptime(timeLastSuccessfulBuild, '%Y-%m-%d %H:%M:%S')).seconds\n",
    "            if nrOfEdit==0:\n",
    "                pass\n",
    "            else:\n",
    "                result.append([sessionID, timeLastSuccessfulBuild, timeNextBuild, time_passed, nrOfEdit, resultNextBuild])\n",
    "            \n",
    "    return result"
   ]
  },
  {
   "cell_type": "code",
   "execution_count": 53,
   "metadata": {},
   "outputs": [
    {
     "name": "stdout",
     "output_type": "stream",
     "text": [
      "time before loop: 2020-05-30 08:28:23.922390 \n",
      "\n",
      "time after loop: 2020-05-30 08:33:52.968675 \n",
      "\n"
     ]
    }
   ],
   "source": [
    "#Iterate over all sessions and create DataFrame\n",
    "final_result=[]\n",
    "allSessionID=df_build.sessionID.unique()\n",
    "print(f'time before loop: {datetime.now(tz=None)} \\n')\n",
    "# get edits_from_pass_to_next_build for all sessionID\n",
    "for sessionID in allSessionID:\n",
    "    Observations = edits_from_pass_to_next_build(sessionID)\n",
    "    NrOfObservations = len(Observations)\n",
    "    # take only sessionID with at least 1 successful build and at least 1 build after that  \n",
    "    if NrOfObservations > 0:\n",
    "        for Obs in Observations:\n",
    "            final_result.append(Obs)\n",
    "print(f'time after loop: {datetime.now(tz=None)} \\n')"
   ]
  },
  {
   "cell_type": "code",
   "execution_count": 58,
   "metadata": {},
   "outputs": [
    {
     "data": {
      "text/html": [
       "<div>\n",
       "<style scoped>\n",
       "    .dataframe tbody tr th:only-of-type {\n",
       "        vertical-align: middle;\n",
       "    }\n",
       "\n",
       "    .dataframe tbody tr th {\n",
       "        vertical-align: top;\n",
       "    }\n",
       "\n",
       "    .dataframe thead th {\n",
       "        text-align: right;\n",
       "    }\n",
       "</style>\n",
       "<table border=\"1\" class=\"dataframe\">\n",
       "  <thead>\n",
       "    <tr style=\"text-align: right;\">\n",
       "      <th></th>\n",
       "      <th>sessionID</th>\n",
       "      <th>timestampSuccessBuild</th>\n",
       "      <th>timestampNextBuild</th>\n",
       "      <th>time_passed</th>\n",
       "      <th>#editsUntilNextBuild</th>\n",
       "      <th>nextBuildResult</th>\n",
       "    </tr>\n",
       "  </thead>\n",
       "  <tbody>\n",
       "    <tr>\n",
       "      <th>9557</th>\n",
       "      <td>fe8caa7d-fbb6-494c-aedb-ecbf22ff8a91</td>\n",
       "      <td>2016-07-25 18:17:02</td>\n",
       "      <td>2016-07-25 18:20:21</td>\n",
       "      <td>199</td>\n",
       "      <td>18</td>\n",
       "      <td>True</td>\n",
       "    </tr>\n",
       "    <tr>\n",
       "      <th>9558</th>\n",
       "      <td>fe8caa7d-fbb6-494c-aedb-ecbf22ff8a91</td>\n",
       "      <td>2016-07-25 18:20:21</td>\n",
       "      <td>2016-07-25 18:22:36</td>\n",
       "      <td>135</td>\n",
       "      <td>12</td>\n",
       "      <td>True</td>\n",
       "    </tr>\n",
       "    <tr>\n",
       "      <th>9559</th>\n",
       "      <td>fef6f3d6-3a5f-4f7c-8ddf-b52346a831c5</td>\n",
       "      <td>2016-04-02 22:00:06</td>\n",
       "      <td>2016-04-02 22:00:28</td>\n",
       "      <td>22</td>\n",
       "      <td>5</td>\n",
       "      <td>True</td>\n",
       "    </tr>\n",
       "    <tr>\n",
       "      <th>9560</th>\n",
       "      <td>fef6f3d6-3a5f-4f7c-8ddf-b52346a831c5</td>\n",
       "      <td>2016-04-02 22:00:28</td>\n",
       "      <td>2016-04-02 22:00:47</td>\n",
       "      <td>19</td>\n",
       "      <td>2</td>\n",
       "      <td>True</td>\n",
       "    </tr>\n",
       "    <tr>\n",
       "      <th>9561</th>\n",
       "      <td>fef6f3d6-3a5f-4f7c-8ddf-b52346a831c5</td>\n",
       "      <td>2016-04-02 22:00:47</td>\n",
       "      <td>2016-04-02 22:01:13</td>\n",
       "      <td>26</td>\n",
       "      <td>5</td>\n",
       "      <td>False</td>\n",
       "    </tr>\n",
       "  </tbody>\n",
       "</table>\n",
       "</div>"
      ],
      "text/plain": [
       "                                 sessionID timestampSuccessBuild  \\\n",
       "9557  fe8caa7d-fbb6-494c-aedb-ecbf22ff8a91   2016-07-25 18:17:02   \n",
       "9558  fe8caa7d-fbb6-494c-aedb-ecbf22ff8a91   2016-07-25 18:20:21   \n",
       "9559  fef6f3d6-3a5f-4f7c-8ddf-b52346a831c5   2016-04-02 22:00:06   \n",
       "9560  fef6f3d6-3a5f-4f7c-8ddf-b52346a831c5   2016-04-02 22:00:28   \n",
       "9561  fef6f3d6-3a5f-4f7c-8ddf-b52346a831c5   2016-04-02 22:00:47   \n",
       "\n",
       "       timestampNextBuild  time_passed  #editsUntilNextBuild  nextBuildResult  \n",
       "9557  2016-07-25 18:20:21          199                    18             True  \n",
       "9558  2016-07-25 18:22:36          135                    12             True  \n",
       "9559  2016-04-02 22:00:28           22                     5             True  \n",
       "9560  2016-04-02 22:00:47           19                     2             True  \n",
       "9561  2016-04-02 22:01:13           26                     5            False  "
      ]
     },
     "execution_count": 58,
     "metadata": {},
     "output_type": "execute_result"
    }
   ],
   "source": [
    "#create DataFrame\n",
    "column_labels = ['sessionID','timestampSuccessBuild','timestampNextBuild','time_passed', '#editsUntilNextBuild', 'nextBuildResult']\n",
    "new_df_build = pd.DataFrame(final_result, columns=column_labels)\n",
    "#show the new DataFrame\n",
    "new_df_build.tail()"
   ]
  },
  {
   "cell_type": "markdown",
   "metadata": {},
   "source": [
    "##### Further data exploration\n",
    "Now that we have our final dataset we can explore our data better."
   ]
  },
  {
   "cell_type": "code",
   "execution_count": 59,
   "metadata": {},
   "outputs": [
    {
     "data": {
      "image/png": "[encoded data removed]",
      "text/plain": [
       "<Figure size 432x288 with 1 Axes>"
      ]
     },
     "metadata": {
      "needs_background": "light"
     },
     "output_type": "display_data"
    },
    {
     "name": "stdout",
     "output_type": "stream",
     "text": [
      "Only 5.3% of the build-events fail\n"
     ]
    }
   ],
   "source": [
    "import seaborn as sns\n",
    "sns.countplot(x=\"nextBuildResult\",data=new_df_build)\n",
    "plt.show()\n",
    "count_failedBuild = len(new_df_build[new_df_build[\"nextBuildResult\"]==False])\n",
    "count_passedBuild = len(new_df_build[new_df_build[\"nextBuildResult\"]==True])\n",
    "pct_failedBuild = round(count_failedBuild/(count_failedBuild+count_passedBuild)*100,1)\n",
    "print(f'Only {pct_failedBuild}% of the build-events fail')"
   ]
  },
  {
   "cell_type": "code",
   "execution_count": 60,
   "metadata": {},
   "outputs": [
    {
     "data": {
      "text/html": [
       "<div>\n",
       "<style scoped>\n",
       "    .dataframe tbody tr th:only-of-type {\n",
       "        vertical-align: middle;\n",
       "    }\n",
       "\n",
       "    .dataframe tbody tr th {\n",
       "        vertical-align: top;\n",
       "    }\n",
       "\n",
       "    .dataframe thead tr th {\n",
       "        text-align: left;\n",
       "    }\n",
       "\n",
       "    .dataframe thead tr:last-of-type th {\n",
       "        text-align: right;\n",
       "    }\n",
       "</style>\n",
       "<table border=\"1\" class=\"dataframe\">\n",
       "  <thead>\n",
       "    <tr>\n",
       "      <th></th>\n",
       "      <th colspan=\"5\" halign=\"left\">#editsUntilNextBuild</th>\n",
       "      <th colspan=\"5\" halign=\"left\">time_passed</th>\n",
       "    </tr>\n",
       "    <tr>\n",
       "      <th></th>\n",
       "      <th>count</th>\n",
       "      <th>mean</th>\n",
       "      <th>median</th>\n",
       "      <th>max</th>\n",
       "      <th>min</th>\n",
       "      <th>count</th>\n",
       "      <th>mean</th>\n",
       "      <th>median</th>\n",
       "      <th>max</th>\n",
       "      <th>min</th>\n",
       "    </tr>\n",
       "    <tr>\n",
       "      <th>nextBuildResult</th>\n",
       "      <th></th>\n",
       "      <th></th>\n",
       "      <th></th>\n",
       "      <th></th>\n",
       "      <th></th>\n",
       "      <th></th>\n",
       "      <th></th>\n",
       "      <th></th>\n",
       "      <th></th>\n",
       "      <th></th>\n",
       "    </tr>\n",
       "  </thead>\n",
       "  <tbody>\n",
       "    <tr>\n",
       "      <th>False</th>\n",
       "      <td>507</td>\n",
       "      <td>19.879684</td>\n",
       "      <td>8</td>\n",
       "      <td>249</td>\n",
       "      <td>1</td>\n",
       "      <td>507</td>\n",
       "      <td>248.238659</td>\n",
       "      <td>117</td>\n",
       "      <td>2082</td>\n",
       "      <td>1</td>\n",
       "    </tr>\n",
       "    <tr>\n",
       "      <th>True</th>\n",
       "      <td>9055</td>\n",
       "      <td>12.329652</td>\n",
       "      <td>6</td>\n",
       "      <td>286</td>\n",
       "      <td>1</td>\n",
       "      <td>9055</td>\n",
       "      <td>160.658421</td>\n",
       "      <td>81</td>\n",
       "      <td>2879</td>\n",
       "      <td>1</td>\n",
       "    </tr>\n",
       "  </tbody>\n",
       "</table>\n",
       "</div>"
      ],
      "text/plain": [
       "                #editsUntilNextBuild                            time_passed  \\\n",
       "                               count       mean median  max min       count   \n",
       "nextBuildResult                                                               \n",
       "False                            507  19.879684      8  249   1         507   \n",
       "True                            9055  12.329652      6  286   1        9055   \n",
       "\n",
       "                                              \n",
       "                       mean median   max min  \n",
       "nextBuildResult                               \n",
       "False            248.238659    117  2082   1  \n",
       "True             160.658421     81  2879   1  "
      ]
     },
     "execution_count": 60,
     "metadata": {},
     "output_type": "execute_result"
    }
   ],
   "source": [
    "new_df_build.groupby(\"nextBuildResult\").agg({\"#editsUntilNextBuild\":[\"count\",\"mean\",\"median\",\"max\",\"min\"],\"time_passed\":[\"count\",\"mean\",\"median\",\"max\",\"min\"]})"
   ]
  },
  {
   "cell_type": "markdown",
   "metadata": {},
   "source": [
    "First remarks:\n",
    "* Our classes (successful vs. unsuccessful Build events) are strongly imbalanced.\n",
    "* The average number of edits and the average time passed for unsuccessful Build are more then twice as much as for successful Build. This seems to support our hypothesis.\n",
    "* However our variable \"number of edits\" and \"time passed\" between builds events are strongly positive skewed.\n",
    "\n",
    "Let's try to visualize it"
   ]
  },
  {
   "cell_type": "code",
   "execution_count": 61,
   "metadata": {},
   "outputs": [
    {
     "data": {
      "text/plain": [
       "<matplotlib.axes._subplots.AxesSubplot at 0x1b45a33e688>"
      ]
     },
     "execution_count": 61,
     "metadata": {},
     "output_type": "execute_result"
    },
    {
     "data": {
      "image/png": "[encoded data removed]",
      "text/plain": [
       "<Figure size 432x288 with 1 Axes>"
      ]
     },
     "metadata": {
      "needs_background": "light"
     },
     "output_type": "display_data"
    }
   ],
   "source": [
    "sns.boxplot(x=new_df_build[\"nextBuildResult\"], y=new_df_build[\"#editsUntilNextBuild\"])"
   ]
  },
  {
   "cell_type": "code",
   "execution_count": 62,
   "metadata": {},
   "outputs": [
    {
     "data": {
      "text/plain": [
       "<matplotlib.axes._subplots.AxesSubplot at 0x1b4601b4dc8>"
      ]
     },
     "execution_count": 62,
     "metadata": {},
     "output_type": "execute_result"
    },
    {
     "data": {
      "image/png": "[encoded data removed]",
      "text/plain": [
       "<Figure size 432x288 with 1 Axes>"
      ]
     },
     "metadata": {
      "needs_background": "light"
     },
     "output_type": "display_data"
    }
   ],
   "source": [
    "sns.boxplot(x=new_df_build[\"nextBuildResult\"], y=new_df_build[\"time_passed\"])"
   ]
  },
  {
   "cell_type": "markdown",
   "metadata": {},
   "source": [
    "This Bloxplot representation show us that many datapoint are recognize as possible outliers. Let's try to consider only observation with at most 100 edits and less than 1200 seconds between Build event."
   ]
  },
  {
   "cell_type": "code",
   "execution_count": 63,
   "metadata": {},
   "outputs": [
    {
     "name": "stdout",
     "output_type": "stream",
     "text": [
      "97.2% of the unsuccessful build events have less than 101 edits and less then 40 min between the two Build events\n",
      "99.2% of the successful build events have less than 101 edits and less then 40 min between the two Build events\n"
     ]
    },
    {
     "data": {
      "image/png": "[encoded data removed]",
      "text/plain": [
       "<Figure size 432x288 with 1 Axes>"
      ]
     },
     "metadata": {
      "needs_background": "light"
     },
     "output_type": "display_data"
    },
    {
     "name": "stdout",
     "output_type": "stream",
     "text": [
      "Only 5.2% of the build-events fail if we consider this restricted dataset.\n"
     ]
    }
   ],
   "source": [
    "new_df_build1=new_df_build.loc[(new_df_build[\"#editsUntilNextBuild\"]<100) & (new_df_build[\"time_passed\"]<2400)]\n",
    "print(f'{round(len(new_df_build1[new_df_build1[\"nextBuildResult\"]==False])/len(new_df_build[new_df_build[\"nextBuildResult\"]==False])*100,1)}% of the unsuccessful build events have less than 101 edits and less then 40 min between the two Build events')\n",
    "print(f'{round(len(new_df_build1[new_df_build1[\"nextBuildResult\"]==True])/len(new_df_build[new_df_build[\"nextBuildResult\"]==True])*100,1)}% of the successful build events have less than 101 edits and less then 40 min between the two Build events')\n",
    "\n",
    "sns.countplot(x=\"nextBuildResult\",data=new_df_build1)\n",
    "plt.show()\n",
    "count_failedBuild = len(new_df_build1[new_df_build1[\"nextBuildResult\"]==False])\n",
    "count_passedBuild = len(new_df_build1[new_df_build1[\"nextBuildResult\"]==True])\n",
    "pct_failedBuild = round(count_failedBuild/(count_failedBuild+count_passedBuild)*100,1)\n",
    "print(f'Only {pct_failedBuild}% of the build-events fail if we consider this restricted dataset.')"
   ]
  },
  {
   "cell_type": "markdown",
   "metadata": {},
   "source": [
    "With this restrictions we lose too many observation and the dataset become even more unbalanced. Therefore we decided to continue our analysis with the whole dataset."
   ]
  },
  {
   "cell_type": "markdown",
   "metadata": {},
   "source": [
    "## Process the data in order to predict the probability of a successful Test --> TO DO Jara/Elizabeth"
   ]
  },
  {
   "cell_type": "markdown",
   "metadata": {},
   "source": [
    "### Time since last tests run"
   ]
  },
  {
   "cell_type": "code",
   "execution_count": 71,
   "metadata": {},
   "outputs": [],
   "source": [
    "# gets all passed tests for sessionID\n",
    "def get_passed_tests(sessionID):\n",
    "    allPassedTests = testEvents[(testEvents[\"sessionID\"] == sessionID) \n",
    "                        & (testEvents[\"testsPassed\"] > 0)]\n",
    "    return np.asarray(allPassedTests)\n",
    "\n",
    "# counts the numbers of edits between a test and the next test\n",
    "# for our purpose, be aware to only call it with passed tests\n",
    "def get_nr_edits_between_tests(sessionID, timeFirstTest , timeNextTest):\n",
    "    result = editEvents[(editEvents[\"timestamp\"] < timeNextTest)\n",
    "                                 & (editEvents[\"timestamp\"] > timeFirstTest) \n",
    "                                 & (editEvents[\"sessionID\"] == sessionID)]\n",
    "    result = np.asarray(result)\n",
    "    return len(result)"
   ]
  },
  {
   "cell_type": "code",
   "execution_count": 72,
   "metadata": {},
   "outputs": [],
   "source": [
    "# counts nr of edits from passed test until next test event\n",
    "# returns a list\n",
    "def edits_from_pass_to_next_test(sessionID):\n",
    "    result = []\n",
    "    resultRow = []\n",
    "    # get all passed tests of the session \n",
    "    allPassedTests = get_passed_tests(sessionID)\n",
    "\n",
    "    numOfRows = np.size(allPassedTests, 0)\n",
    "    # iterate over each passed test\n",
    "    for p in range(numOfRows):\n",
    "        timePass = allPassedTests[p][2]\n",
    "\n",
    "        # no following test\n",
    "        if p == numOfRows-1:\n",
    "            hasNextTest = False\n",
    "        else:\n",
    "            hasNextTest = True\n",
    "            timeTestNext = allPassedTests[p+1][2]\n",
    "            resultNext = allPassedTests[p+1][4]\n",
    "\n",
    "        # for each passed test, get nr of edits until next test\n",
    "        if hasNextTest:\n",
    "            nrOfEdits = get_nr_edits_between_tests(sessionID,timePass, timeTestNext)\n",
    "            print(f'time of pass to append: {timePass}')\n",
    "            print(f'nr of edits: {nrOfEdits}')\n",
    "            print(f'result next: {resultNext} \\n')\n",
    "            result.append([sessionID, timePass, timeTestNext, nrOfEdits, resultNext])\n",
    "            \n",
    "    return result"
   ]
  },
  {
   "cell_type": "code",
   "execution_count": 73,
   "metadata": {},
   "outputs": [],
   "source": [
    "# creates a DF with 8 columns\n",
    "def create_df(resultArray):\n",
    "    print(f'Length result: {len(resultArray)} \\n\\n')\n",
    "\n",
    "    # Create DataFrame\n",
    "    column_labels = ['sessionID','timePass','timeNext', 'editsUntilNextTest', 'ratio P/T','totalTestsNext', 'testPassedNext' ,'booleanNextTest']\n",
    "    df = pd.DataFrame(resultArray, columns=column_labels)\n",
    "    return df;"
   ]
  },
  {
   "cell_type": "markdown",
   "metadata": {},
   "source": [
    "#### Iterate over sessions and create DF"
   ]
  },
  {
   "cell_type": "code",
   "execution_count": 74,
   "metadata": {},
   "outputs": [],
   "source": [
    "# Creates a DF and returns a list that contains among other things\n",
    "# the nr of edits from a passing test until the next test event and whether this next test has been successful\n",
    "def get_edits_tests_list():\n",
    "    sessionWithPassedTests=0\n",
    "    sessionWithoutPassedTests=0\n",
    "    sessionWithPassedTestsButNoNextTest=0\n",
    "    result=[]\n",
    "    print(f'time before loop: {datetime.now(tz=None)} \\n')\n",
    "    for index, row in testEvents.iterrows():\n",
    "        if(row[\"testsPassed\"] > 0):\n",
    "            sessionWithPassedTests+=1\n",
    "            #has next test\n",
    "            if((index+1 < len(testEvents)) and (testEvents.iloc[index+1].sessionID == row[\"sessionID\"])):\n",
    "                item=[]\n",
    "                timestampNext=testEvents.iloc[index+1].timestamp\n",
    "                totalTestsNext=testEvents.iloc[index+1].totalTests\n",
    "                passedTestNext=testEvents.iloc[index+1].testsPassed\n",
    "                nrOfEdits=get_nr_edits_between_tests(row[\"sessionID\"], row[\"timestamp\"], timestampNext)\n",
    "                if(passedTestNext == 0):\n",
    "                    resultTestNextBoolean = 0\n",
    "                else:\n",
    "                    resultTestNextBoolean = 1\n",
    "                if(totalTestsNext != 0):\n",
    "                    ratioPT = (passedTestNext/totalTestsNext)\n",
    "                else:\n",
    "                    ratioPT = 0\n",
    "                item.append(row[\"sessionID\"])\n",
    "                item.append(row[\"timestamp\"])\n",
    "                item.append(timestampNext)\n",
    "                item.append(nrOfEdits)\n",
    "                item.append(float(ratioPT))\n",
    "                item.append(int(totalTestsNext))\n",
    "                item.append(int(passedTestNext))\n",
    "                item.append(int(resultTestNextBoolean))\n",
    "                result.append(item)\n",
    "            else:\n",
    "                sessionWithPassedTestsButNoNextTest+=1\n",
    "        else:\n",
    "            sessionWithoutPassedTests+=1\n",
    "    print(f'with passed: {sessionWithPassedTests}')\n",
    "    print(f'with passed test but no next test: {sessionWithPassedTestsButNoNextTest}')\n",
    "    print(f'without passed test: {sessionWithoutPassedTests}')\n",
    "    print(f'total: {sessionWithoutPassedTests+sessionWithPassedTests}')\n",
    "    print(f'time after loop and df: {datetime.now(tz=None)} \\n')\n",
    "    \n",
    "    print(result[0])\n",
    "    print(result[1])\n",
    "    print(result[2])\n",
    "\n",
    "    \n",
    "    return result"
   ]
  },
  {
   "cell_type": "code",
   "execution_count": 75,
   "metadata": {},
   "outputs": [
    {
     "name": "stdout",
     "output_type": "stream",
     "text": [
      "time before loop: 2020-05-30 08:38:49.340167 \n",
      "\n",
      "with passed: 2565\n",
      "with passed test but no next test: 549\n",
      "without passed test: 1261\n",
      "total: 3826\n",
      "time after loop and df: 2020-05-30 08:41:38.322758 \n",
      "\n",
      "['158', '2016-07-13 18:49:28', '2016-07-13 18:51:53', 0, 1.0, 21, 21, 1]\n",
      "['158', '2016-07-13 18:51:53', '2016-07-13 18:53:04', 0, 1.0, 21, 21, 1]\n",
      "['158', '2016-07-13 18:53:04', '2016-07-13 18:53:20', 0, 1.0, 21, 21, 1]\n"
     ]
    }
   ],
   "source": [
    "edits_tests= get_edits_tests_list()"
   ]
  },
  {
   "cell_type": "code",
   "execution_count": 76,
   "metadata": {},
   "outputs": [
    {
     "name": "stdout",
     "output_type": "stream",
     "text": [
      "Length result: 2016 \n",
      "\n",
      "\n"
     ]
    },
    {
     "data": {
      "text/html": [
       "<div>\n",
       "<style scoped>\n",
       "    .dataframe tbody tr th:only-of-type {\n",
       "        vertical-align: middle;\n",
       "    }\n",
       "\n",
       "    .dataframe tbody tr th {\n",
       "        vertical-align: top;\n",
       "    }\n",
       "\n",
       "    .dataframe thead th {\n",
       "        text-align: right;\n",
       "    }\n",
       "</style>\n",
       "<table border=\"1\" class=\"dataframe\">\n",
       "  <thead>\n",
       "    <tr style=\"text-align: right;\">\n",
       "      <th></th>\n",
       "      <th>sessionID</th>\n",
       "      <th>timePass</th>\n",
       "      <th>timeNext</th>\n",
       "      <th>editsUntilNextTest</th>\n",
       "      <th>ratio P/T</th>\n",
       "      <th>totalTestsNext</th>\n",
       "      <th>testPassedNext</th>\n",
       "      <th>booleanNextTest</th>\n",
       "    </tr>\n",
       "  </thead>\n",
       "  <tbody>\n",
       "    <tr>\n",
       "      <th>0</th>\n",
       "      <td>158</td>\n",
       "      <td>2016-07-13 18:49:28</td>\n",
       "      <td>2016-07-13 18:51:53</td>\n",
       "      <td>0</td>\n",
       "      <td>1.0000</td>\n",
       "      <td>21</td>\n",
       "      <td>21</td>\n",
       "      <td>1</td>\n",
       "    </tr>\n",
       "    <tr>\n",
       "      <th>1</th>\n",
       "      <td>158</td>\n",
       "      <td>2016-07-13 18:51:53</td>\n",
       "      <td>2016-07-13 18:53:04</td>\n",
       "      <td>0</td>\n",
       "      <td>1.0000</td>\n",
       "      <td>21</td>\n",
       "      <td>21</td>\n",
       "      <td>1</td>\n",
       "    </tr>\n",
       "    <tr>\n",
       "      <th>2</th>\n",
       "      <td>158</td>\n",
       "      <td>2016-07-13 18:53:04</td>\n",
       "      <td>2016-07-13 18:53:20</td>\n",
       "      <td>0</td>\n",
       "      <td>1.0000</td>\n",
       "      <td>21</td>\n",
       "      <td>21</td>\n",
       "      <td>1</td>\n",
       "    </tr>\n",
       "    <tr>\n",
       "      <th>3</th>\n",
       "      <td>158</td>\n",
       "      <td>2016-07-13 18:53:20</td>\n",
       "      <td>2016-07-13 18:53:27</td>\n",
       "      <td>0</td>\n",
       "      <td>1.0000</td>\n",
       "      <td>21</td>\n",
       "      <td>21</td>\n",
       "      <td>1</td>\n",
       "    </tr>\n",
       "    <tr>\n",
       "      <th>4</th>\n",
       "      <td>158</td>\n",
       "      <td>2016-07-13 18:53:27</td>\n",
       "      <td>2016-07-13 18:53:55</td>\n",
       "      <td>0</td>\n",
       "      <td>1.0000</td>\n",
       "      <td>21</td>\n",
       "      <td>21</td>\n",
       "      <td>1</td>\n",
       "    </tr>\n",
       "    <tr>\n",
       "      <th>...</th>\n",
       "      <td>...</td>\n",
       "      <td>...</td>\n",
       "      <td>...</td>\n",
       "      <td>...</td>\n",
       "      <td>...</td>\n",
       "      <td>...</td>\n",
       "      <td>...</td>\n",
       "      <td>...</td>\n",
       "    </tr>\n",
       "    <tr>\n",
       "      <th>2011</th>\n",
       "      <td>f1494a09-8265-4fc4-9ad8-ff9fefb98aa0</td>\n",
       "      <td>2016-08-19 18:29:22</td>\n",
       "      <td>2016-08-19 18:29:52</td>\n",
       "      <td>0</td>\n",
       "      <td>1.0000</td>\n",
       "      <td>1</td>\n",
       "      <td>1</td>\n",
       "      <td>1</td>\n",
       "    </tr>\n",
       "    <tr>\n",
       "      <th>2012</th>\n",
       "      <td>f1494a09-8265-4fc4-9ad8-ff9fefb98aa0</td>\n",
       "      <td>2016-08-19 18:29:52</td>\n",
       "      <td>2016-08-19 18:31:06</td>\n",
       "      <td>3</td>\n",
       "      <td>1.0000</td>\n",
       "      <td>1</td>\n",
       "      <td>1</td>\n",
       "      <td>1</td>\n",
       "    </tr>\n",
       "    <tr>\n",
       "      <th>2013</th>\n",
       "      <td>f4b3ecce-e062-4b9e-a3bf-c234ae860cd7</td>\n",
       "      <td>2016-06-28 13:51:00</td>\n",
       "      <td>2016-06-28 13:52:35</td>\n",
       "      <td>3</td>\n",
       "      <td>1.0000</td>\n",
       "      <td>16</td>\n",
       "      <td>16</td>\n",
       "      <td>1</td>\n",
       "    </tr>\n",
       "    <tr>\n",
       "      <th>2014</th>\n",
       "      <td>f4b3ecce-e062-4b9e-a3bf-c234ae860cd7</td>\n",
       "      <td>2016-06-28 13:52:35</td>\n",
       "      <td>2016-06-28 13:53:16</td>\n",
       "      <td>4</td>\n",
       "      <td>0.9375</td>\n",
       "      <td>16</td>\n",
       "      <td>15</td>\n",
       "      <td>1</td>\n",
       "    </tr>\n",
       "    <tr>\n",
       "      <th>2015</th>\n",
       "      <td>fa4a1e32-d8a9-4fce-a57e-0aec4d6a25bc</td>\n",
       "      <td>2016-09-22 13:43:57</td>\n",
       "      <td>2016-09-22 13:45:37</td>\n",
       "      <td>0</td>\n",
       "      <td>0.0000</td>\n",
       "      <td>478</td>\n",
       "      <td>0</td>\n",
       "      <td>0</td>\n",
       "    </tr>\n",
       "  </tbody>\n",
       "</table>\n",
       "<p>2016 rows × 8 columns</p>\n",
       "</div>"
      ],
      "text/plain": [
       "                                 sessionID             timePass  \\\n",
       "0                                      158  2016-07-13 18:49:28   \n",
       "1                                      158  2016-07-13 18:51:53   \n",
       "2                                      158  2016-07-13 18:53:04   \n",
       "3                                      158  2016-07-13 18:53:20   \n",
       "4                                      158  2016-07-13 18:53:27   \n",
       "...                                    ...                  ...   \n",
       "2011  f1494a09-8265-4fc4-9ad8-ff9fefb98aa0  2016-08-19 18:29:22   \n",
       "2012  f1494a09-8265-4fc4-9ad8-ff9fefb98aa0  2016-08-19 18:29:52   \n",
       "2013  f4b3ecce-e062-4b9e-a3bf-c234ae860cd7  2016-06-28 13:51:00   \n",
       "2014  f4b3ecce-e062-4b9e-a3bf-c234ae860cd7  2016-06-28 13:52:35   \n",
       "2015  fa4a1e32-d8a9-4fce-a57e-0aec4d6a25bc  2016-09-22 13:43:57   \n",
       "\n",
       "                 timeNext  editsUntilNextTest  ratio P/T  totalTestsNext  \\\n",
       "0     2016-07-13 18:51:53                   0     1.0000              21   \n",
       "1     2016-07-13 18:53:04                   0     1.0000              21   \n",
       "2     2016-07-13 18:53:20                   0     1.0000              21   \n",
       "3     2016-07-13 18:53:27                   0     1.0000              21   \n",
       "4     2016-07-13 18:53:55                   0     1.0000              21   \n",
       "...                   ...                 ...        ...             ...   \n",
       "2011  2016-08-19 18:29:52                   0     1.0000               1   \n",
       "2012  2016-08-19 18:31:06                   3     1.0000               1   \n",
       "2013  2016-06-28 13:52:35                   3     1.0000              16   \n",
       "2014  2016-06-28 13:53:16                   4     0.9375              16   \n",
       "2015  2016-09-22 13:45:37                   0     0.0000             478   \n",
       "\n",
       "      testPassedNext  booleanNextTest  \n",
       "0                 21                1  \n",
       "1                 21                1  \n",
       "2                 21                1  \n",
       "3                 21                1  \n",
       "4                 21                1  \n",
       "...              ...              ...  \n",
       "2011               1                1  \n",
       "2012               1                1  \n",
       "2013              16                1  \n",
       "2014              15                1  \n",
       "2015               0                0  \n",
       "\n",
       "[2016 rows x 8 columns]"
      ]
     },
     "execution_count": 76,
     "metadata": {},
     "output_type": "execute_result"
    }
   ],
   "source": [
    "create_df(edits_tests)"
   ]
  },
  {
   "cell_type": "code",
   "execution_count": 77,
   "metadata": {},
   "outputs": [
    {
     "name": "stdout",
     "output_type": "stream",
     "text": [
      "2016\n",
      "chunk size: 11\n"
     ]
    },
    {
     "ename": "ValueError",
     "evalue": "not enough values to unpack (expected 12, got 11)",
     "output_type": "error",
     "traceback": [
      "\u001b[1;31m---------------------------------------------------------------------------\u001b[0m",
      "\u001b[1;31mValueError\u001b[0m                                Traceback (most recent call last)",
      "\u001b[1;32m<ipython-input-77-0b4a56f94661>\u001b[0m in \u001b[0;36m<module>\u001b[1;34m\u001b[0m\n\u001b[0;32m     13\u001b[0m \u001b[0mprint\u001b[0m\u001b[1;33m(\u001b[0m\u001b[1;34mf'chunk size: {chunkSize}'\u001b[0m\u001b[1;33m)\u001b[0m\u001b[1;33m\u001b[0m\u001b[1;33m\u001b[0m\u001b[0m\n\u001b[0;32m     14\u001b[0m \u001b[1;33m\u001b[0m\u001b[0m\n\u001b[1;32m---> 15\u001b[1;33m \u001b[0mchunk1\u001b[0m\u001b[1;33m,\u001b[0m \u001b[0mchunk2\u001b[0m\u001b[1;33m,\u001b[0m \u001b[0mchunk3\u001b[0m\u001b[1;33m,\u001b[0m \u001b[0mchunk4\u001b[0m\u001b[1;33m,\u001b[0m \u001b[0mchunk5\u001b[0m\u001b[1;33m,\u001b[0m \u001b[0mchunk6\u001b[0m\u001b[1;33m,\u001b[0m \u001b[0mchunk7\u001b[0m\u001b[1;33m,\u001b[0m \u001b[0mchunk8\u001b[0m\u001b[1;33m,\u001b[0m \u001b[0mchunk9\u001b[0m\u001b[1;33m,\u001b[0m \u001b[0mchunk10\u001b[0m\u001b[1;33m,\u001b[0m\u001b[0mchunk11\u001b[0m\u001b[1;33m,\u001b[0m \u001b[0mchunk12\u001b[0m \u001b[1;33m=\u001b[0m \u001b[0mnp\u001b[0m\u001b[1;33m.\u001b[0m\u001b[0marray_split\u001b[0m\u001b[1;33m(\u001b[0m\u001b[0mnrEventsTestSorted\u001b[0m\u001b[1;33m,\u001b[0m \u001b[0mchunkSize\u001b[0m\u001b[1;33m)\u001b[0m\u001b[1;33m\u001b[0m\u001b[1;33m\u001b[0m\u001b[0m\n\u001b[0m\u001b[0;32m     16\u001b[0m \u001b[0mprint\u001b[0m\u001b[1;33m(\u001b[0m\u001b[1;34mf'first chunk len: {len(chunk1)}'\u001b[0m\u001b[1;33m)\u001b[0m\u001b[1;33m\u001b[0m\u001b[1;33m\u001b[0m\u001b[0m\n\u001b[0;32m     17\u001b[0m \u001b[0mprint\u001b[0m\u001b[1;33m(\u001b[0m\u001b[1;34mf'last chunk len: {len(chunk12)}'\u001b[0m\u001b[1;33m)\u001b[0m\u001b[1;33m\u001b[0m\u001b[1;33m\u001b[0m\u001b[0m\n",
      "\u001b[1;31mValueError\u001b[0m: not enough values to unpack (expected 12, got 11)"
     ]
    }
   ],
   "source": [
    "#calculate avg \n",
    "print(len(edits_tests))\n",
    "edits_tests_array = np.asarray(edits_tests, dtype='O')\n",
    "nrEventsTest = edits_tests_array[:, 4:6]\n",
    "nrOfEvents = edits_tests_array[:,3]\n",
    "testPass = edits_tests_array[:,4]\n",
    "\n",
    "#sort ascending to nr of events\n",
    "nrEventsTestSorted = sorted(nrEventsTest, key=lambda entry: entry[0]) \n",
    "\n",
    "#chunk size 200 = 12 chunks\n",
    "chunkSize = math.ceil(int(len(nrOfEvents))/200)\n",
    "print(f'chunk size: {chunkSize}')\n",
    "\n",
    "chunk1, chunk2, chunk3, chunk4, chunk5, chunk6, chunk7, chunk8, chunk9, chunk10,chunk11, chunk12 = np.array_split(nrEventsTestSorted, chunkSize)\n",
    "print(f'first chunk len: {len(chunk1)}')\n",
    "print(f'last chunk len: {len(chunk12)}')\n",
    "\n",
    "fails=[]\n",
    "fails.append(np.count_nonzero(chunk1[:,1] == 0))\n",
    "fails.append(np.count_nonzero(chunk2[:,1] == 0))\n",
    "fails.append(np.count_nonzero(chunk3[:,1] == 0))\n",
    "fails.append(np.count_nonzero(chunk4[:,1] == 0))\n",
    "fails.append(np.count_nonzero(chunk5[:,1] == 0))\n",
    "fails.append(np.count_nonzero(chunk6[:,1] == 0))\n",
    "fails.append(np.count_nonzero(chunk7[:,1] == 0))\n",
    "fails.append(np.count_nonzero(chunk8[:,1] == 0))\n",
    "fails.append(np.count_nonzero(chunk9[:,1] == 0))\n",
    "fails.append(np.count_nonzero(chunk10[:,1] == 0))\n",
    "fails.append(np.count_nonzero(chunk11[:,1] == 0))\n",
    "fails.append(np.count_nonzero(chunk12[:,1] == 0))\n",
    "print(fails)\n",
    "\n",
    "passList=[]\n",
    "passList.append(np.count_nonzero(chunk1[:,1] == 1))\n",
    "passList.append(np.count_nonzero(chunk2[:,1] == 1))\n",
    "passList.append(np.count_nonzero(chunk3[:,1] == 1))\n",
    "passList.append(np.count_nonzero(chunk4[:,1] == 1))\n",
    "passList.append(np.count_nonzero(chunk5[:,1] == 1))\n",
    "passList.append(np.count_nonzero(chunk6[:,1] == 1))\n",
    "passList.append(np.count_nonzero(chunk7[:,1] == 1))\n",
    "passList.append(np.count_nonzero(chunk8[:,1] == 1))\n",
    "passList.append(np.count_nonzero(chunk9[:,1] == 1))\n",
    "passList.append(np.count_nonzero(chunk10[:,1] == 1))\n",
    "passList.append(np.count_nonzero(chunk11[:,1] == 1))\n",
    "passList.append(np.count_nonzero(chunk12[:,1] == 1))\n",
    "\n",
    "print(passList)"
   ]
  },
  {
   "cell_type": "code",
   "execution_count": null,
   "metadata": {},
   "outputs": [],
   "source": [
    "edits_tests_array = np.asarray(edits_tests)\n",
    "\n",
    "nrOfEvents = edits_tests_array[:,3]\n",
    "testPass = edits_tests_array[:,4]\n",
    "start = max(nrOfEvents)\n",
    "end = min(nrOfEvents)\n",
    "\n",
    "\n",
    "#plot 1\n",
    "fig, ax = plt.subplots()\n",
    "ax.scatter(nrOfEvents, testPass)\n",
    "plt.xlabel('nr of events from passed test until next test')\n",
    "plt.ylabel('nr of passed tests')\n",
    "# Make a plot with major ticks that are multiples of 20 and minor ticks that\n",
    "# are multiples of 5.  Label major ticks with '%d' formatting but don't label\n",
    "# minor ticks.\n",
    "ax.xaxis.set_major_locator(MultipleLocator(20))\n",
    "ax.xaxis.set_major_formatter(FormatStrFormatter('%d'))\n",
    "# For the minor ticks, use no labels; default NullFormatter.\n",
    "ax.xaxis.set_minor_locator(MultipleLocator(5))\n",
    "#yaxis\n",
    "ax.yaxis.set_major_locator(MultipleLocator(20))\n",
    "ax.yaxis.set_major_formatter(FormatStrFormatter('%d'))\n",
    "ax.yaxis.set_minor_locator(MultipleLocator(10))\n",
    "plt.show()\n",
    "\n",
    "\n",
    "#plot 3\n",
    "df = create_df(edits_tests)\n",
    "df.groupby(['editsUntilNextTest','booleanNextTest']).size().unstack().plot(kind='bar',stacked=True)"
   ]
  },
  {
   "cell_type": "markdown",
   "metadata": {},
   "source": [
    "# Model / Algorithm Building"
   ]
  },
  {
   "cell_type": "markdown",
   "metadata": {},
   "source": [
    "Our goal of this data analysis is to analyze our hypothesis that longer time or more edits between build/test events result in a lower probability of build/test succeeding. After having processed and explored the data are we now able to test our two Hypothesis:\n",
    "1. Build\n",
    "    * the longer a developer waits to build his code, the higher the probability that the build will fail\n",
    "    * the more edit events a developer executes, the lower the probability that the build will succeed\n",
    "2. Test   \n",
    "    * the longer a developer waits to run some tests, the higher the probability for test failures\n",
    "    * the more edit events a developer executes, the lower the probability for test success"
   ]
  },
  {
   "cell_type": "markdown",
   "metadata": {},
   "source": [
    "### Build Events"
   ]
  },
  {
   "cell_type": "code",
   "execution_count": 64,
   "metadata": {},
   "outputs": [],
   "source": [
    "from sklearn import linear_model\n",
    "from sklearn import model_selection\n",
    "from sklearn import metrics\n",
    "import statsmodels.tools.tools as sm\n",
    "import statsmodels.api as sm1\n",
    "import seaborn as sns\n",
    "import imblearn\n",
    "from imblearn.over_sampling import SMOTE"
   ]
  },
  {
   "cell_type": "markdown",
   "metadata": {},
   "source": [
    "To model the probability of a certain event such as pass/fail the logistic regression is one of the most used model and a good benchmark for further analysis. "
   ]
  },
  {
   "cell_type": "code",
   "execution_count": 66,
   "metadata": {},
   "outputs": [
    {
     "name": "stdout",
     "output_type": "stream",
     "text": [
      "Optimization terminated successfully.\n",
      "         Current function value: 0.204575\n",
      "         Iterations 7\n",
      "                           Results: Logit\n",
      "====================================================================\n",
      "Model:               Logit             Pseudo R-squared:  0.013     \n",
      "Dependent Variable:  nextBuildResult   AIC:               3918.2899 \n",
      "Date:                2020-05-30 08:37  BIC:               3939.7865 \n",
      "No. Observations:    9562              Log-Likelihood:    -1956.1   \n",
      "Df Model:            2                 LL-Null:           -1982.4   \n",
      "Df Residuals:        9559              LLR p-value:       3.9802e-12\n",
      "Converged:           1.0000            Scale:             1.0000    \n",
      "No. Iterations:      7.0000                                         \n",
      "--------------------------------------------------------------------\n",
      "                      Coef.  Std.Err.    z    P>|z|   [0.025  0.975]\n",
      "--------------------------------------------------------------------\n",
      "const                 3.0837   0.0548 56.2993 0.0000  2.9763  3.1910\n",
      "#editsUntilNextBuild -0.0077   0.0028 -2.7880 0.0053 -0.0132 -0.0023\n",
      "time_passed          -0.0004   0.0002 -1.7879 0.0738 -0.0009  0.0000\n",
      "====================================================================\n",
      "\n",
      " The correlation between the two independent variables is 0.81\n"
     ]
    }
   ],
   "source": [
    "Y = new_df_build[\"nextBuildResult\"]\n",
    "X = new_df_build[[\"#editsUntilNextBuild\",'time_passed']]\n",
    "X1 = sm.add_constant(X)\n",
    "logit_model = sm1.Logit(Y, X1)\n",
    "result_logit_model = logit_model.fit()\n",
    "print(result_logit_model.summary2())\n",
    "print(f' The correlation between the two independent variables is {round(new_df_build[\"#editsUntilNextBuild\"].corr(new_df_build[\"time_passed\"]),2)}')"
   ]
  },
  {
   "cell_type": "markdown",
   "metadata": {},
   "source": [
    "All the coefficients are statistical significant (at 95% confidence level) and both the number of edits and the time passed have a negative effect on the probability of a successful built. However the coefficients are very small and our model is not able to explaining much of the variability in the probability of a successful build (very low pseudo R-Squared)."
   ]
  },
  {
   "cell_type": "code",
   "execution_count": 67,
   "metadata": {},
   "outputs": [
    {
     "name": "stdout",
     "output_type": "stream",
     "text": [
      "Accurancy of logistic regression classifier on test set is :0.95\n"
     ]
    }
   ],
   "source": [
    "X_train, X_test, Y_train, Y_test = model_selection.train_test_split(X1, Y, test_size=0.1,random_state=0)\n",
    "logit_model=linear_model.LogisticRegression()\n",
    "logit_model.fit(X_train, Y_train)\n",
    "\n",
    "print('Accurancy of logistic regression classifier on test set is :{:.2f}'.format(logit_model.score(X_test,Y_test)))"
   ]
  },
  {
   "cell_type": "markdown",
   "metadata": {},
   "source": [
    "Despite the not encouraging results of our model, we get an accurancy of 92%. However as we saw in the data exploration part, our dataset is strong imbalanced and this may be the main reason for this high accurancy. One approach to adressing this problem of class imbalance is to randomly resample the dataset. Following this approach, we decided to oversample the class of unsuccessful build. "
   ]
  },
  {
   "cell_type": "code",
   "execution_count": 68,
   "metadata": {},
   "outputs": [
    {
     "name": "stdout",
     "output_type": "stream",
     "text": [
      "Length of oversampled data is 16294\n",
      "Number of failed Build in oversampled data is 8147\n",
      "Number of successful Build is 8147\n",
      "Proportion of failed Build in oversampled data is 0.5\n",
      "Proportion of successful Build in oversampled data is 0.5\n"
     ]
    },
    {
     "ename": "MissingDataError",
     "evalue": "exog contains inf or nans",
     "output_type": "error",
     "traceback": [
      "\u001b[1;31m---------------------------------------------------------------------------\u001b[0m",
      "\u001b[1;31mMissingDataError\u001b[0m                          Traceback (most recent call last)",
      "\u001b[1;32m<ipython-input-68-1b1b3ad26919>\u001b[0m in \u001b[0;36m<module>\u001b[1;34m\u001b[0m\n\u001b[0;32m     11\u001b[0m \u001b[0mprint\u001b[0m\u001b[1;33m(\u001b[0m\u001b[1;34m\"Proportion of successful Build in oversampled data is\"\u001b[0m\u001b[1;33m,\u001b[0m\u001b[0mlen\u001b[0m\u001b[1;33m(\u001b[0m\u001b[0mos_data_Y\u001b[0m\u001b[1;33m[\u001b[0m\u001b[0mos_data_Y\u001b[0m\u001b[1;33m[\u001b[0m\u001b[1;34m'nextBuildResult'\u001b[0m\u001b[1;33m]\u001b[0m\u001b[1;33m==\u001b[0m\u001b[1;32mTrue\u001b[0m\u001b[1;33m]\u001b[0m\u001b[1;33m)\u001b[0m\u001b[1;33m/\u001b[0m\u001b[0mlen\u001b[0m\u001b[1;33m(\u001b[0m\u001b[0mos_data_X\u001b[0m\u001b[1;33m)\u001b[0m\u001b[1;33m)\u001b[0m\u001b[1;33m\u001b[0m\u001b[1;33m\u001b[0m\u001b[0m\n\u001b[0;32m     12\u001b[0m \u001b[1;33m\u001b[0m\u001b[0m\n\u001b[1;32m---> 13\u001b[1;33m \u001b[0mlogit_model\u001b[0m\u001b[1;33m=\u001b[0m\u001b[0msm1\u001b[0m\u001b[1;33m.\u001b[0m\u001b[0mLogit\u001b[0m\u001b[1;33m(\u001b[0m\u001b[0mos_data_Y\u001b[0m\u001b[1;33m,\u001b[0m\u001b[0mos_data_X\u001b[0m\u001b[1;33m)\u001b[0m\u001b[1;33m\u001b[0m\u001b[1;33m\u001b[0m\u001b[0m\n\u001b[0m\u001b[0;32m     14\u001b[0m \u001b[0mresult_logit\u001b[0m\u001b[1;33m=\u001b[0m\u001b[0mlogit_model\u001b[0m\u001b[1;33m.\u001b[0m\u001b[0mfit\u001b[0m\u001b[1;33m(\u001b[0m\u001b[1;33m)\u001b[0m\u001b[1;33m\u001b[0m\u001b[1;33m\u001b[0m\u001b[0m\n\u001b[0;32m     15\u001b[0m \u001b[0mprint\u001b[0m\u001b[1;33m(\u001b[0m\u001b[0mresult_logit\u001b[0m\u001b[1;33m.\u001b[0m\u001b[0msummary2\u001b[0m\u001b[1;33m(\u001b[0m\u001b[1;33m)\u001b[0m\u001b[1;33m)\u001b[0m\u001b[1;33m\u001b[0m\u001b[1;33m\u001b[0m\u001b[0m\n",
      "\u001b[1;32m~\\anaconda3\\lib\\site-packages\\statsmodels\\discrete\\discrete_model.py\u001b[0m in \u001b[0;36m__init__\u001b[1;34m(self, endog, exog, **kwargs)\u001b[0m\n\u001b[0;32m    432\u001b[0m \u001b[1;33m\u001b[0m\u001b[0m\n\u001b[0;32m    433\u001b[0m     \u001b[1;32mdef\u001b[0m \u001b[0m__init__\u001b[0m\u001b[1;33m(\u001b[0m\u001b[0mself\u001b[0m\u001b[1;33m,\u001b[0m \u001b[0mendog\u001b[0m\u001b[1;33m,\u001b[0m \u001b[0mexog\u001b[0m\u001b[1;33m,\u001b[0m \u001b[1;33m**\u001b[0m\u001b[0mkwargs\u001b[0m\u001b[1;33m)\u001b[0m\u001b[1;33m:\u001b[0m\u001b[1;33m\u001b[0m\u001b[1;33m\u001b[0m\u001b[0m\n\u001b[1;32m--> 434\u001b[1;33m         \u001b[0msuper\u001b[0m\u001b[1;33m(\u001b[0m\u001b[0mBinaryModel\u001b[0m\u001b[1;33m,\u001b[0m \u001b[0mself\u001b[0m\u001b[1;33m)\u001b[0m\u001b[1;33m.\u001b[0m\u001b[0m__init__\u001b[0m\u001b[1;33m(\u001b[0m\u001b[0mendog\u001b[0m\u001b[1;33m,\u001b[0m \u001b[0mexog\u001b[0m\u001b[1;33m,\u001b[0m \u001b[1;33m**\u001b[0m\u001b[0mkwargs\u001b[0m\u001b[1;33m)\u001b[0m\u001b[1;33m\u001b[0m\u001b[1;33m\u001b[0m\u001b[0m\n\u001b[0m\u001b[0;32m    435\u001b[0m         if (not issubclass(self.__class__, MultinomialModel) and\n\u001b[0;32m    436\u001b[0m                 not np.all((self.endog >= 0) & (self.endog <= 1))):\n",
      "\u001b[1;32m~\\anaconda3\\lib\\site-packages\\statsmodels\\discrete\\discrete_model.py\u001b[0m in \u001b[0;36m__init__\u001b[1;34m(self, endog, exog, **kwargs)\u001b[0m\n\u001b[0;32m    163\u001b[0m     \"\"\"\n\u001b[0;32m    164\u001b[0m     \u001b[1;32mdef\u001b[0m \u001b[0m__init__\u001b[0m\u001b[1;33m(\u001b[0m\u001b[0mself\u001b[0m\u001b[1;33m,\u001b[0m \u001b[0mendog\u001b[0m\u001b[1;33m,\u001b[0m \u001b[0mexog\u001b[0m\u001b[1;33m,\u001b[0m \u001b[1;33m**\u001b[0m\u001b[0mkwargs\u001b[0m\u001b[1;33m)\u001b[0m\u001b[1;33m:\u001b[0m\u001b[1;33m\u001b[0m\u001b[1;33m\u001b[0m\u001b[0m\n\u001b[1;32m--> 165\u001b[1;33m         \u001b[0msuper\u001b[0m\u001b[1;33m(\u001b[0m\u001b[0mDiscreteModel\u001b[0m\u001b[1;33m,\u001b[0m \u001b[0mself\u001b[0m\u001b[1;33m)\u001b[0m\u001b[1;33m.\u001b[0m\u001b[0m__init__\u001b[0m\u001b[1;33m(\u001b[0m\u001b[0mendog\u001b[0m\u001b[1;33m,\u001b[0m \u001b[0mexog\u001b[0m\u001b[1;33m,\u001b[0m \u001b[1;33m**\u001b[0m\u001b[0mkwargs\u001b[0m\u001b[1;33m)\u001b[0m\u001b[1;33m\u001b[0m\u001b[1;33m\u001b[0m\u001b[0m\n\u001b[0m\u001b[0;32m    166\u001b[0m         \u001b[0mself\u001b[0m\u001b[1;33m.\u001b[0m\u001b[0mraise_on_perfect_prediction\u001b[0m \u001b[1;33m=\u001b[0m \u001b[1;32mTrue\u001b[0m\u001b[1;33m\u001b[0m\u001b[1;33m\u001b[0m\u001b[0m\n\u001b[0;32m    167\u001b[0m \u001b[1;33m\u001b[0m\u001b[0m\n",
      "\u001b[1;32m~\\anaconda3\\lib\\site-packages\\statsmodels\\base\\model.py\u001b[0m in \u001b[0;36m__init__\u001b[1;34m(self, endog, exog, **kwargs)\u001b[0m\n\u001b[0;32m    234\u001b[0m \u001b[1;33m\u001b[0m\u001b[0m\n\u001b[0;32m    235\u001b[0m     \u001b[1;32mdef\u001b[0m \u001b[0m__init__\u001b[0m\u001b[1;33m(\u001b[0m\u001b[0mself\u001b[0m\u001b[1;33m,\u001b[0m \u001b[0mendog\u001b[0m\u001b[1;33m,\u001b[0m \u001b[0mexog\u001b[0m\u001b[1;33m=\u001b[0m\u001b[1;32mNone\u001b[0m\u001b[1;33m,\u001b[0m \u001b[1;33m**\u001b[0m\u001b[0mkwargs\u001b[0m\u001b[1;33m)\u001b[0m\u001b[1;33m:\u001b[0m\u001b[1;33m\u001b[0m\u001b[1;33m\u001b[0m\u001b[0m\n\u001b[1;32m--> 236\u001b[1;33m         \u001b[0msuper\u001b[0m\u001b[1;33m(\u001b[0m\u001b[0mLikelihoodModel\u001b[0m\u001b[1;33m,\u001b[0m \u001b[0mself\u001b[0m\u001b[1;33m)\u001b[0m\u001b[1;33m.\u001b[0m\u001b[0m__init__\u001b[0m\u001b[1;33m(\u001b[0m\u001b[0mendog\u001b[0m\u001b[1;33m,\u001b[0m \u001b[0mexog\u001b[0m\u001b[1;33m,\u001b[0m \u001b[1;33m**\u001b[0m\u001b[0mkwargs\u001b[0m\u001b[1;33m)\u001b[0m\u001b[1;33m\u001b[0m\u001b[1;33m\u001b[0m\u001b[0m\n\u001b[0m\u001b[0;32m    237\u001b[0m         \u001b[0mself\u001b[0m\u001b[1;33m.\u001b[0m\u001b[0minitialize\u001b[0m\u001b[1;33m(\u001b[0m\u001b[1;33m)\u001b[0m\u001b[1;33m\u001b[0m\u001b[1;33m\u001b[0m\u001b[0m\n\u001b[0;32m    238\u001b[0m \u001b[1;33m\u001b[0m\u001b[0m\n",
      "\u001b[1;32m~\\anaconda3\\lib\\site-packages\\statsmodels\\base\\model.py\u001b[0m in \u001b[0;36m__init__\u001b[1;34m(self, endog, exog, **kwargs)\u001b[0m\n\u001b[0;32m     75\u001b[0m         \u001b[0mhasconst\u001b[0m \u001b[1;33m=\u001b[0m \u001b[0mkwargs\u001b[0m\u001b[1;33m.\u001b[0m\u001b[0mpop\u001b[0m\u001b[1;33m(\u001b[0m\u001b[1;34m'hasconst'\u001b[0m\u001b[1;33m,\u001b[0m \u001b[1;32mNone\u001b[0m\u001b[1;33m)\u001b[0m\u001b[1;33m\u001b[0m\u001b[1;33m\u001b[0m\u001b[0m\n\u001b[0;32m     76\u001b[0m         self.data = self._handle_data(endog, exog, missing, hasconst,\n\u001b[1;32m---> 77\u001b[1;33m                                       **kwargs)\n\u001b[0m\u001b[0;32m     78\u001b[0m         \u001b[0mself\u001b[0m\u001b[1;33m.\u001b[0m\u001b[0mk_constant\u001b[0m \u001b[1;33m=\u001b[0m \u001b[0mself\u001b[0m\u001b[1;33m.\u001b[0m\u001b[0mdata\u001b[0m\u001b[1;33m.\u001b[0m\u001b[0mk_constant\u001b[0m\u001b[1;33m\u001b[0m\u001b[1;33m\u001b[0m\u001b[0m\n\u001b[0;32m     79\u001b[0m         \u001b[0mself\u001b[0m\u001b[1;33m.\u001b[0m\u001b[0mexog\u001b[0m \u001b[1;33m=\u001b[0m \u001b[0mself\u001b[0m\u001b[1;33m.\u001b[0m\u001b[0mdata\u001b[0m\u001b[1;33m.\u001b[0m\u001b[0mexog\u001b[0m\u001b[1;33m\u001b[0m\u001b[1;33m\u001b[0m\u001b[0m\n",
      "\u001b[1;32m~\\anaconda3\\lib\\site-packages\\statsmodels\\base\\model.py\u001b[0m in \u001b[0;36m_handle_data\u001b[1;34m(self, endog, exog, missing, hasconst, **kwargs)\u001b[0m\n\u001b[0;32m     98\u001b[0m \u001b[1;33m\u001b[0m\u001b[0m\n\u001b[0;32m     99\u001b[0m     \u001b[1;32mdef\u001b[0m \u001b[0m_handle_data\u001b[0m\u001b[1;33m(\u001b[0m\u001b[0mself\u001b[0m\u001b[1;33m,\u001b[0m \u001b[0mendog\u001b[0m\u001b[1;33m,\u001b[0m \u001b[0mexog\u001b[0m\u001b[1;33m,\u001b[0m \u001b[0mmissing\u001b[0m\u001b[1;33m,\u001b[0m \u001b[0mhasconst\u001b[0m\u001b[1;33m,\u001b[0m \u001b[1;33m**\u001b[0m\u001b[0mkwargs\u001b[0m\u001b[1;33m)\u001b[0m\u001b[1;33m:\u001b[0m\u001b[1;33m\u001b[0m\u001b[1;33m\u001b[0m\u001b[0m\n\u001b[1;32m--> 100\u001b[1;33m         \u001b[0mdata\u001b[0m \u001b[1;33m=\u001b[0m \u001b[0mhandle_data\u001b[0m\u001b[1;33m(\u001b[0m\u001b[0mendog\u001b[0m\u001b[1;33m,\u001b[0m \u001b[0mexog\u001b[0m\u001b[1;33m,\u001b[0m \u001b[0mmissing\u001b[0m\u001b[1;33m,\u001b[0m \u001b[0mhasconst\u001b[0m\u001b[1;33m,\u001b[0m \u001b[1;33m**\u001b[0m\u001b[0mkwargs\u001b[0m\u001b[1;33m)\u001b[0m\u001b[1;33m\u001b[0m\u001b[1;33m\u001b[0m\u001b[0m\n\u001b[0m\u001b[0;32m    101\u001b[0m         \u001b[1;31m# kwargs arrays could have changed, easier to just attach here\u001b[0m\u001b[1;33m\u001b[0m\u001b[1;33m\u001b[0m\u001b[1;33m\u001b[0m\u001b[0m\n\u001b[0;32m    102\u001b[0m         \u001b[1;32mfor\u001b[0m \u001b[0mkey\u001b[0m \u001b[1;32min\u001b[0m \u001b[0mkwargs\u001b[0m\u001b[1;33m:\u001b[0m\u001b[1;33m\u001b[0m\u001b[1;33m\u001b[0m\u001b[0m\n",
      "\u001b[1;32m~\\anaconda3\\lib\\site-packages\\statsmodels\\base\\data.py\u001b[0m in \u001b[0;36mhandle_data\u001b[1;34m(endog, exog, missing, hasconst, **kwargs)\u001b[0m\n\u001b[0;32m    670\u001b[0m     \u001b[0mklass\u001b[0m \u001b[1;33m=\u001b[0m \u001b[0mhandle_data_class_factory\u001b[0m\u001b[1;33m(\u001b[0m\u001b[0mendog\u001b[0m\u001b[1;33m,\u001b[0m \u001b[0mexog\u001b[0m\u001b[1;33m)\u001b[0m\u001b[1;33m\u001b[0m\u001b[1;33m\u001b[0m\u001b[0m\n\u001b[0;32m    671\u001b[0m     return klass(endog, exog=exog, missing=missing, hasconst=hasconst,\n\u001b[1;32m--> 672\u001b[1;33m                  **kwargs)\n\u001b[0m",
      "\u001b[1;32m~\\anaconda3\\lib\\site-packages\\statsmodels\\base\\data.py\u001b[0m in \u001b[0;36m__init__\u001b[1;34m(self, endog, exog, missing, hasconst, **kwargs)\u001b[0m\n\u001b[0;32m     85\u001b[0m         \u001b[0mself\u001b[0m\u001b[1;33m.\u001b[0m\u001b[0mconst_idx\u001b[0m \u001b[1;33m=\u001b[0m \u001b[1;32mNone\u001b[0m\u001b[1;33m\u001b[0m\u001b[1;33m\u001b[0m\u001b[0m\n\u001b[0;32m     86\u001b[0m         \u001b[0mself\u001b[0m\u001b[1;33m.\u001b[0m\u001b[0mk_constant\u001b[0m \u001b[1;33m=\u001b[0m \u001b[1;36m0\u001b[0m\u001b[1;33m\u001b[0m\u001b[1;33m\u001b[0m\u001b[0m\n\u001b[1;32m---> 87\u001b[1;33m         \u001b[0mself\u001b[0m\u001b[1;33m.\u001b[0m\u001b[0m_handle_constant\u001b[0m\u001b[1;33m(\u001b[0m\u001b[0mhasconst\u001b[0m\u001b[1;33m)\u001b[0m\u001b[1;33m\u001b[0m\u001b[1;33m\u001b[0m\u001b[0m\n\u001b[0m\u001b[0;32m     88\u001b[0m         \u001b[0mself\u001b[0m\u001b[1;33m.\u001b[0m\u001b[0m_check_integrity\u001b[0m\u001b[1;33m(\u001b[0m\u001b[1;33m)\u001b[0m\u001b[1;33m\u001b[0m\u001b[1;33m\u001b[0m\u001b[0m\n\u001b[0;32m     89\u001b[0m         \u001b[0mself\u001b[0m\u001b[1;33m.\u001b[0m\u001b[0m_cache\u001b[0m \u001b[1;33m=\u001b[0m \u001b[1;33m{\u001b[0m\u001b[1;33m}\u001b[0m\u001b[1;33m\u001b[0m\u001b[1;33m\u001b[0m\u001b[0m\n",
      "\u001b[1;32m~\\anaconda3\\lib\\site-packages\\statsmodels\\base\\data.py\u001b[0m in \u001b[0;36m_handle_constant\u001b[1;34m(self, hasconst)\u001b[0m\n\u001b[0;32m    131\u001b[0m             \u001b[0mexog_max\u001b[0m \u001b[1;33m=\u001b[0m \u001b[0mnp\u001b[0m\u001b[1;33m.\u001b[0m\u001b[0mmax\u001b[0m\u001b[1;33m(\u001b[0m\u001b[0mself\u001b[0m\u001b[1;33m.\u001b[0m\u001b[0mexog\u001b[0m\u001b[1;33m,\u001b[0m \u001b[0maxis\u001b[0m\u001b[1;33m=\u001b[0m\u001b[1;36m0\u001b[0m\u001b[1;33m)\u001b[0m\u001b[1;33m\u001b[0m\u001b[1;33m\u001b[0m\u001b[0m\n\u001b[0;32m    132\u001b[0m             \u001b[1;32mif\u001b[0m \u001b[1;32mnot\u001b[0m \u001b[0mnp\u001b[0m\u001b[1;33m.\u001b[0m\u001b[0misfinite\u001b[0m\u001b[1;33m(\u001b[0m\u001b[0mexog_max\u001b[0m\u001b[1;33m)\u001b[0m\u001b[1;33m.\u001b[0m\u001b[0mall\u001b[0m\u001b[1;33m(\u001b[0m\u001b[1;33m)\u001b[0m\u001b[1;33m:\u001b[0m\u001b[1;33m\u001b[0m\u001b[1;33m\u001b[0m\u001b[0m\n\u001b[1;32m--> 133\u001b[1;33m                 \u001b[1;32mraise\u001b[0m \u001b[0mMissingDataError\u001b[0m\u001b[1;33m(\u001b[0m\u001b[1;34m'exog contains inf or nans'\u001b[0m\u001b[1;33m)\u001b[0m\u001b[1;33m\u001b[0m\u001b[1;33m\u001b[0m\u001b[0m\n\u001b[0m\u001b[0;32m    134\u001b[0m             \u001b[0mexog_min\u001b[0m \u001b[1;33m=\u001b[0m \u001b[0mnp\u001b[0m\u001b[1;33m.\u001b[0m\u001b[0mmin\u001b[0m\u001b[1;33m(\u001b[0m\u001b[0mself\u001b[0m\u001b[1;33m.\u001b[0m\u001b[0mexog\u001b[0m\u001b[1;33m,\u001b[0m \u001b[0maxis\u001b[0m\u001b[1;33m=\u001b[0m\u001b[1;36m0\u001b[0m\u001b[1;33m)\u001b[0m\u001b[1;33m\u001b[0m\u001b[1;33m\u001b[0m\u001b[0m\n\u001b[0;32m    135\u001b[0m             \u001b[0mconst_idx\u001b[0m \u001b[1;33m=\u001b[0m \u001b[0mnp\u001b[0m\u001b[1;33m.\u001b[0m\u001b[0mwhere\u001b[0m\u001b[1;33m(\u001b[0m\u001b[0mexog_max\u001b[0m \u001b[1;33m==\u001b[0m \u001b[0mexog_min\u001b[0m\u001b[1;33m)\u001b[0m\u001b[1;33m[\u001b[0m\u001b[1;36m0\u001b[0m\u001b[1;33m]\u001b[0m\u001b[1;33m.\u001b[0m\u001b[0msqueeze\u001b[0m\u001b[1;33m(\u001b[0m\u001b[1;33m)\u001b[0m\u001b[1;33m\u001b[0m\u001b[1;33m\u001b[0m\u001b[0m\n",
      "\u001b[1;31mMissingDataError\u001b[0m: exog contains inf or nans"
     ]
    }
   ],
   "source": [
    "os = SMOTE(random_state=0)\n",
    "\n",
    "os_data_X, os_data_Y = os.fit_sample(X_train,Y_train)\n",
    "os_data_X = pd.DataFrame(data=os_data_X, columns=['constant','#editsUntilNextBuild','time_passed'])\n",
    "os_data_Y = pd.DataFrame(data=os_data_Y, columns=['nextBuildResult'])\n",
    "\n",
    "print(\"Length of oversampled data is\", len(os_data_X))\n",
    "print(\"Number of failed Build in oversampled data is\", len(os_data_Y[os_data_Y['nextBuildResult']==False]))\n",
    "print(\"Number of successful Build is\", len(os_data_Y[os_data_Y['nextBuildResult']==True]))\n",
    "print(\"Proportion of failed Build in oversampled data is\",len(os_data_Y[os_data_Y['nextBuildResult']==False])/len(os_data_X))\n",
    "print(\"Proportion of successful Build in oversampled data is\",len(os_data_Y[os_data_Y['nextBuildResult']==True])/len(os_data_X))\n",
    "\n",
    "logit_model=sm1.Logit(os_data_Y,os_data_X)\n",
    "result_logit=logit_model.fit()\n",
    "print(result_logit.summary2())"
   ]
  },
  {
   "cell_type": "code",
   "execution_count": 69,
   "metadata": {},
   "outputs": [
    {
     "ename": "ValueError",
     "evalue": "Input contains NaN, infinity or a value too large for dtype('float64').",
     "output_type": "error",
     "traceback": [
      "\u001b[1;31m---------------------------------------------------------------------------\u001b[0m",
      "\u001b[1;31mValueError\u001b[0m                                Traceback (most recent call last)",
      "\u001b[1;32m<ipython-input-69-a05d88017f97>\u001b[0m in \u001b[0;36m<module>\u001b[1;34m\u001b[0m\n\u001b[0;32m      1\u001b[0m \u001b[0mlogit_model\u001b[0m\u001b[1;33m=\u001b[0m\u001b[0mlinear_model\u001b[0m\u001b[1;33m.\u001b[0m\u001b[0mLogisticRegression\u001b[0m\u001b[1;33m(\u001b[0m\u001b[1;33m)\u001b[0m\u001b[1;33m\u001b[0m\u001b[1;33m\u001b[0m\u001b[0m\n\u001b[1;32m----> 2\u001b[1;33m \u001b[0mlogit_model\u001b[0m\u001b[1;33m.\u001b[0m\u001b[0mfit\u001b[0m\u001b[1;33m(\u001b[0m\u001b[0mos_data_X\u001b[0m\u001b[1;33m,\u001b[0m \u001b[0mos_data_Y\u001b[0m\u001b[1;33m.\u001b[0m\u001b[0mvalues\u001b[0m\u001b[1;33m)\u001b[0m\u001b[1;33m\u001b[0m\u001b[1;33m\u001b[0m\u001b[0m\n\u001b[0m\u001b[0;32m      3\u001b[0m \u001b[1;33m\u001b[0m\u001b[0m\n\u001b[0;32m      4\u001b[0m \u001b[0mprint\u001b[0m\u001b[1;33m(\u001b[0m\u001b[1;34m'Accurancy of logistic regression classifier on test set:{:.2f}'\u001b[0m\u001b[1;33m.\u001b[0m\u001b[0mformat\u001b[0m\u001b[1;33m(\u001b[0m\u001b[0mlogit_model\u001b[0m\u001b[1;33m.\u001b[0m\u001b[0mscore\u001b[0m\u001b[1;33m(\u001b[0m\u001b[0mX_test\u001b[0m\u001b[1;33m,\u001b[0m\u001b[0mY_test\u001b[0m\u001b[1;33m)\u001b[0m\u001b[1;33m)\u001b[0m\u001b[1;33m)\u001b[0m\u001b[1;33m\u001b[0m\u001b[1;33m\u001b[0m\u001b[0m\n",
      "\u001b[1;32m~\\anaconda3\\lib\\site-packages\\sklearn\\linear_model\\_logistic.py\u001b[0m in \u001b[0;36mfit\u001b[1;34m(self, X, y, sample_weight)\u001b[0m\n\u001b[0;32m   1525\u001b[0m \u001b[1;33m\u001b[0m\u001b[0m\n\u001b[0;32m   1526\u001b[0m         X, y = check_X_y(X, y, accept_sparse='csr', dtype=_dtype, order=\"C\",\n\u001b[1;32m-> 1527\u001b[1;33m                          accept_large_sparse=solver != 'liblinear')\n\u001b[0m\u001b[0;32m   1528\u001b[0m         \u001b[0mcheck_classification_targets\u001b[0m\u001b[1;33m(\u001b[0m\u001b[0my\u001b[0m\u001b[1;33m)\u001b[0m\u001b[1;33m\u001b[0m\u001b[1;33m\u001b[0m\u001b[0m\n\u001b[0;32m   1529\u001b[0m         \u001b[0mself\u001b[0m\u001b[1;33m.\u001b[0m\u001b[0mclasses_\u001b[0m \u001b[1;33m=\u001b[0m \u001b[0mnp\u001b[0m\u001b[1;33m.\u001b[0m\u001b[0munique\u001b[0m\u001b[1;33m(\u001b[0m\u001b[0my\u001b[0m\u001b[1;33m)\u001b[0m\u001b[1;33m\u001b[0m\u001b[1;33m\u001b[0m\u001b[0m\n",
      "\u001b[1;32m~\\anaconda3\\lib\\site-packages\\sklearn\\utils\\validation.py\u001b[0m in \u001b[0;36mcheck_X_y\u001b[1;34m(X, y, accept_sparse, accept_large_sparse, dtype, order, copy, force_all_finite, ensure_2d, allow_nd, multi_output, ensure_min_samples, ensure_min_features, y_numeric, warn_on_dtype, estimator)\u001b[0m\n\u001b[0;32m    753\u001b[0m                     \u001b[0mensure_min_features\u001b[0m\u001b[1;33m=\u001b[0m\u001b[0mensure_min_features\u001b[0m\u001b[1;33m,\u001b[0m\u001b[1;33m\u001b[0m\u001b[1;33m\u001b[0m\u001b[0m\n\u001b[0;32m    754\u001b[0m                     \u001b[0mwarn_on_dtype\u001b[0m\u001b[1;33m=\u001b[0m\u001b[0mwarn_on_dtype\u001b[0m\u001b[1;33m,\u001b[0m\u001b[1;33m\u001b[0m\u001b[1;33m\u001b[0m\u001b[0m\n\u001b[1;32m--> 755\u001b[1;33m                     estimator=estimator)\n\u001b[0m\u001b[0;32m    756\u001b[0m     \u001b[1;32mif\u001b[0m \u001b[0mmulti_output\u001b[0m\u001b[1;33m:\u001b[0m\u001b[1;33m\u001b[0m\u001b[1;33m\u001b[0m\u001b[0m\n\u001b[0;32m    757\u001b[0m         y = check_array(y, 'csr', force_all_finite=True, ensure_2d=False,\n",
      "\u001b[1;32m~\\anaconda3\\lib\\site-packages\\sklearn\\utils\\validation.py\u001b[0m in \u001b[0;36mcheck_array\u001b[1;34m(array, accept_sparse, accept_large_sparse, dtype, order, copy, force_all_finite, ensure_2d, allow_nd, ensure_min_samples, ensure_min_features, warn_on_dtype, estimator)\u001b[0m\n\u001b[0;32m    576\u001b[0m         \u001b[1;32mif\u001b[0m \u001b[0mforce_all_finite\u001b[0m\u001b[1;33m:\u001b[0m\u001b[1;33m\u001b[0m\u001b[1;33m\u001b[0m\u001b[0m\n\u001b[0;32m    577\u001b[0m             _assert_all_finite(array,\n\u001b[1;32m--> 578\u001b[1;33m                                allow_nan=force_all_finite == 'allow-nan')\n\u001b[0m\u001b[0;32m    579\u001b[0m \u001b[1;33m\u001b[0m\u001b[0m\n\u001b[0;32m    580\u001b[0m     \u001b[1;32mif\u001b[0m \u001b[0mensure_min_samples\u001b[0m \u001b[1;33m>\u001b[0m \u001b[1;36m0\u001b[0m\u001b[1;33m:\u001b[0m\u001b[1;33m\u001b[0m\u001b[1;33m\u001b[0m\u001b[0m\n",
      "\u001b[1;32m~\\anaconda3\\lib\\site-packages\\sklearn\\utils\\validation.py\u001b[0m in \u001b[0;36m_assert_all_finite\u001b[1;34m(X, allow_nan, msg_dtype)\u001b[0m\n\u001b[0;32m     58\u001b[0m                     \u001b[0mmsg_err\u001b[0m\u001b[1;33m.\u001b[0m\u001b[0mformat\u001b[0m\u001b[1;33m\u001b[0m\u001b[1;33m\u001b[0m\u001b[0m\n\u001b[0;32m     59\u001b[0m                     (type_err,\n\u001b[1;32m---> 60\u001b[1;33m                      msg_dtype if msg_dtype is not None else X.dtype)\n\u001b[0m\u001b[0;32m     61\u001b[0m             )\n\u001b[0;32m     62\u001b[0m     \u001b[1;31m# for object dtype data, we only check for NaNs (GH-13254)\u001b[0m\u001b[1;33m\u001b[0m\u001b[1;33m\u001b[0m\u001b[1;33m\u001b[0m\u001b[0m\n",
      "\u001b[1;31mValueError\u001b[0m: Input contains NaN, infinity or a value too large for dtype('float64')."
     ]
    }
   ],
   "source": [
    "logit_model=linear_model.LogisticRegression()\n",
    "logit_model.fit(os_data_X, os_data_Y.values)\n",
    "\n",
    "print('Accurancy of logistic regression classifier on test set:{:.2f}'.format(logit_model.score(X_test,Y_test)))"
   ]
  },
  {
   "cell_type": "code",
   "execution_count": 70,
   "metadata": {},
   "outputs": [
    {
     "ename": "NotFittedError",
     "evalue": "This LogisticRegression instance is not fitted yet. Call 'fit' with appropriate arguments before using this estimator.",
     "output_type": "error",
     "traceback": [
      "\u001b[1;31m---------------------------------------------------------------------------\u001b[0m",
      "\u001b[1;31mNotFittedError\u001b[0m                            Traceback (most recent call last)",
      "\u001b[1;32m<ipython-input-70-c80427c19d91>\u001b[0m in \u001b[0;36m<module>\u001b[1;34m\u001b[0m\n\u001b[1;32m----> 1\u001b[1;33m \u001b[0mY_pred\u001b[0m \u001b[1;33m=\u001b[0m \u001b[0mlogit_model\u001b[0m\u001b[1;33m.\u001b[0m\u001b[0mpredict\u001b[0m\u001b[1;33m(\u001b[0m\u001b[0mX_test\u001b[0m\u001b[1;33m)\u001b[0m\u001b[1;33m\u001b[0m\u001b[1;33m\u001b[0m\u001b[0m\n\u001b[0m\u001b[0;32m      2\u001b[0m \u001b[0mconfusion_matrix\u001b[0m \u001b[1;33m=\u001b[0m \u001b[0mmetrics\u001b[0m\u001b[1;33m.\u001b[0m\u001b[0mconfusion_matrix\u001b[0m\u001b[1;33m(\u001b[0m\u001b[0mY_test\u001b[0m\u001b[1;33m,\u001b[0m\u001b[0mY_pred\u001b[0m\u001b[1;33m)\u001b[0m\u001b[1;33m\u001b[0m\u001b[1;33m\u001b[0m\u001b[0m\n\u001b[0;32m      3\u001b[0m \u001b[0mprint\u001b[0m\u001b[1;33m(\u001b[0m\u001b[0mconfusion_matrix\u001b[0m\u001b[1;33m)\u001b[0m\u001b[1;33m\u001b[0m\u001b[1;33m\u001b[0m\u001b[0m\n\u001b[0;32m      4\u001b[0m \u001b[0mprint\u001b[0m\u001b[1;33m(\u001b[0m\u001b[0mmetrics\u001b[0m\u001b[1;33m.\u001b[0m\u001b[0mclassification_report\u001b[0m\u001b[1;33m(\u001b[0m\u001b[0mY_test\u001b[0m\u001b[1;33m,\u001b[0m\u001b[0mY_pred\u001b[0m\u001b[1;33m)\u001b[0m\u001b[1;33m)\u001b[0m\u001b[1;33m\u001b[0m\u001b[1;33m\u001b[0m\u001b[0m\n",
      "\u001b[1;32m~\\anaconda3\\lib\\site-packages\\sklearn\\linear_model\\_base.py\u001b[0m in \u001b[0;36mpredict\u001b[1;34m(self, X)\u001b[0m\n\u001b[0;32m    291\u001b[0m             \u001b[0mPredicted\u001b[0m \u001b[1;32mclass\u001b[0m \u001b[0mlabel\u001b[0m \u001b[0mper\u001b[0m \u001b[0msample\u001b[0m\u001b[1;33m.\u001b[0m\u001b[1;33m\u001b[0m\u001b[1;33m\u001b[0m\u001b[0m\n\u001b[0;32m    292\u001b[0m         \"\"\"\n\u001b[1;32m--> 293\u001b[1;33m         \u001b[0mscores\u001b[0m \u001b[1;33m=\u001b[0m \u001b[0mself\u001b[0m\u001b[1;33m.\u001b[0m\u001b[0mdecision_function\u001b[0m\u001b[1;33m(\u001b[0m\u001b[0mX\u001b[0m\u001b[1;33m)\u001b[0m\u001b[1;33m\u001b[0m\u001b[1;33m\u001b[0m\u001b[0m\n\u001b[0m\u001b[0;32m    294\u001b[0m         \u001b[1;32mif\u001b[0m \u001b[0mlen\u001b[0m\u001b[1;33m(\u001b[0m\u001b[0mscores\u001b[0m\u001b[1;33m.\u001b[0m\u001b[0mshape\u001b[0m\u001b[1;33m)\u001b[0m \u001b[1;33m==\u001b[0m \u001b[1;36m1\u001b[0m\u001b[1;33m:\u001b[0m\u001b[1;33m\u001b[0m\u001b[1;33m\u001b[0m\u001b[0m\n\u001b[0;32m    295\u001b[0m             \u001b[0mindices\u001b[0m \u001b[1;33m=\u001b[0m \u001b[1;33m(\u001b[0m\u001b[0mscores\u001b[0m \u001b[1;33m>\u001b[0m \u001b[1;36m0\u001b[0m\u001b[1;33m)\u001b[0m\u001b[1;33m.\u001b[0m\u001b[0mastype\u001b[0m\u001b[1;33m(\u001b[0m\u001b[0mnp\u001b[0m\u001b[1;33m.\u001b[0m\u001b[0mint\u001b[0m\u001b[1;33m)\u001b[0m\u001b[1;33m\u001b[0m\u001b[1;33m\u001b[0m\u001b[0m\n",
      "\u001b[1;32m~\\anaconda3\\lib\\site-packages\\sklearn\\linear_model\\_base.py\u001b[0m in \u001b[0;36mdecision_function\u001b[1;34m(self, X)\u001b[0m\n\u001b[0;32m    264\u001b[0m             \u001b[1;32mclass\u001b[0m \u001b[0mwould\u001b[0m \u001b[0mbe\u001b[0m \u001b[0mpredicted\u001b[0m\u001b[1;33m.\u001b[0m\u001b[1;33m\u001b[0m\u001b[1;33m\u001b[0m\u001b[0m\n\u001b[0;32m    265\u001b[0m         \"\"\"\n\u001b[1;32m--> 266\u001b[1;33m         \u001b[0mcheck_is_fitted\u001b[0m\u001b[1;33m(\u001b[0m\u001b[0mself\u001b[0m\u001b[1;33m)\u001b[0m\u001b[1;33m\u001b[0m\u001b[1;33m\u001b[0m\u001b[0m\n\u001b[0m\u001b[0;32m    267\u001b[0m \u001b[1;33m\u001b[0m\u001b[0m\n\u001b[0;32m    268\u001b[0m         \u001b[0mX\u001b[0m \u001b[1;33m=\u001b[0m \u001b[0mcheck_array\u001b[0m\u001b[1;33m(\u001b[0m\u001b[0mX\u001b[0m\u001b[1;33m,\u001b[0m \u001b[0maccept_sparse\u001b[0m\u001b[1;33m=\u001b[0m\u001b[1;34m'csr'\u001b[0m\u001b[1;33m)\u001b[0m\u001b[1;33m\u001b[0m\u001b[1;33m\u001b[0m\u001b[0m\n",
      "\u001b[1;32m~\\anaconda3\\lib\\site-packages\\sklearn\\utils\\validation.py\u001b[0m in \u001b[0;36mcheck_is_fitted\u001b[1;34m(estimator, attributes, msg, all_or_any)\u001b[0m\n\u001b[0;32m    965\u001b[0m \u001b[1;33m\u001b[0m\u001b[0m\n\u001b[0;32m    966\u001b[0m     \u001b[1;32mif\u001b[0m \u001b[1;32mnot\u001b[0m \u001b[0mattrs\u001b[0m\u001b[1;33m:\u001b[0m\u001b[1;33m\u001b[0m\u001b[1;33m\u001b[0m\u001b[0m\n\u001b[1;32m--> 967\u001b[1;33m         \u001b[1;32mraise\u001b[0m \u001b[0mNotFittedError\u001b[0m\u001b[1;33m(\u001b[0m\u001b[0mmsg\u001b[0m \u001b[1;33m%\u001b[0m \u001b[1;33m{\u001b[0m\u001b[1;34m'name'\u001b[0m\u001b[1;33m:\u001b[0m \u001b[0mtype\u001b[0m\u001b[1;33m(\u001b[0m\u001b[0mestimator\u001b[0m\u001b[1;33m)\u001b[0m\u001b[1;33m.\u001b[0m\u001b[0m__name__\u001b[0m\u001b[1;33m}\u001b[0m\u001b[1;33m)\u001b[0m\u001b[1;33m\u001b[0m\u001b[1;33m\u001b[0m\u001b[0m\n\u001b[0m\u001b[0;32m    968\u001b[0m \u001b[1;33m\u001b[0m\u001b[0m\n\u001b[0;32m    969\u001b[0m \u001b[1;33m\u001b[0m\u001b[0m\n",
      "\u001b[1;31mNotFittedError\u001b[0m: This LogisticRegression instance is not fitted yet. Call 'fit' with appropriate arguments before using this estimator."
     ]
    }
   ],
   "source": [
    "Y_pred = logit_model.predict(X_test)\n",
    "confusion_matrix = metrics.confusion_matrix(Y_test,Y_pred)\n",
    "print(confusion_matrix)\n",
    "print(metrics.classification_report(Y_test,Y_pred))"
   ]
  },
  {
   "cell_type": "code",
   "execution_count": null,
   "metadata": {},
   "outputs": [],
   "source": []
  },
  {
   "cell_type": "markdown",
   "metadata": {},
   "source": [
    "### Test Events --> TO DO Jara/Elizabeth"
   ]
  },
  {
   "cell_type": "code",
   "execution_count": null,
   "metadata": {},
   "outputs": [],
   "source": []
  }
 ],
 "metadata": {
  "kernelspec": {
   "display_name": "Python 3",
   "language": "python",
   "name": "python3"
  },
  "language_info": {
   "codemirror_mode": {
    "name": "ipython",
    "version": 3
   },
   "file_extension": ".py",
   "mimetype": "text/x-python",
   "name": "python",
   "nbconvert_exporter": "python",
   "pygments_lexer": "ipython3",
   "version": "3.7.6"
  }
 },
 "nbformat": 4,
 "nbformat_minor": 4
}
