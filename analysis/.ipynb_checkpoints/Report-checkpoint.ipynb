{
 "cells": [
  {
   "cell_type": "markdown",
   "metadata": {
    "colab_type": "text",
    "id": "fKl4orisjaGI"
   },
   "source": [
    "# Big Data Analysis Project - Group Project FS2020\n",
    "## University of Zurich\n",
    "## 5th of June 2020"
   ]
  },
  {
   "cell_type": "markdown",
   "metadata": {
    "colab_type": "text",
    "id": "kHz-LZrBjaGI"
   },
   "source": [
    "Jara Fuhrer, 15-702-889\n",
    "\n",
    "Claudio Brasser,\n",
    "\n",
    "Severin Siffert, 14-720-536\n",
    "\n",
    "Andrea Giambonini, 10-726-842\n",
    "\n",
    "Elizabeth Oladipo, 17-722-414\n"
   ]
  },
  {
   "cell_type": "markdown",
   "metadata": {
    "colab_type": "text",
    "id": "btEeP3NNjaGK"
   },
   "source": [
    "## \"The goal of the project is to apply the data science pipeline\""
   ]
  },
  {
   "cell_type": "markdown",
   "metadata": {
    "colab_type": "text",
    "id": "ESyqrapNjaGL"
   },
   "source": [
    "![title](doingDS.png)"
   ]
  },
  {
   "cell_type": "markdown",
   "metadata": {
    "colab_type": "text",
    "id": "w-2nwCQKjaGM"
   },
   "source": [
    "# Data Collection / Acquisition"
   ]
  },
  {
   "cell_type": "markdown",
   "metadata": {
    "colab_type": "text",
    "id": "DLAR2w2zjaGN"
   },
   "source": [
    "Our dataset comes from http://www.kave.cc/, where 15'000 hours of interaction data from Visual Studio was collected in almost 11 million events from voluntaries.\n",
    "To see what kind of data is collected, you can look at the data schema here: http://www.kave.cc/feedbag/event-generation.\n",
    "\n",
    "Within this project, we focus on three events:\n",
    "- build event: actions like build, build all, or clean\n",
    "- edit event: changes made by the developer, like renaming\n",
    "- test run event: which tests where run when and with what result\n"
   ]
  },
  {
   "cell_type": "markdown",
   "metadata": {
    "colab_type": "text",
    "id": "b8Sg0WLQjaGO"
   },
   "source": [
    "#### Who constructed data set, when, why?\n",
    "The KaVE Project originally was a German research program. Over the past 10 years, it evolved into a platform for research around recommendation systems for software engineering. Generally, they're interested in questions like how humans influence software engineering or how certain tools can support humans to better / more efficiently perform their tasks. \n",
    "Examples are intelligent code completion, interaction trackers or evaluation tools.\n",
    "\n",
    "The KaVE are collecting and providing these data sets such that we can better understand what software engineers do / what they interact with / where their problems lie. With this data, we can try to see relations betweek the workign behaviour of developers (edit events, time, run test and results of them) and his efficienty / performance / productivity / habits /...\n",
    "\n",
    "Below, the three data sets we extracted from the gigantic pile of possibilities are explained.\n",
    "\n",
    "#### What do we want to learn from this data?\n",
    "From personal experience, we know how important it is to frequently build your code and run some tests. Only then you're able to link what you've done (i.e. what you've written, the edit events) to the outcome (i.e. (hopefully) working code, build and test run events). \n",
    "\n",
    "* often repeated advice: compile early, compile often\n",
    "* intuition: longer time and more edits between tests/builds = more chance to screw up\n",
    "* Is there a way to show that empirically?\n",
    "\n",
    "Our goal of this data analysis therefore is to analyze the link between the probability of Unit tests or project builds succeeding in connection with how much time has passed and how many edits were made since the last build/test run.\n",
    "\n",
    "\n",
    "#### Hypotheses\n",
    "TODO --> how did we get to this hypos?\n",
    "\n",
    "* we want to test the advice 'compile early, compile often' and the closely related 'test a lot' empirically\n",
    "* found relevant events in the data: edit (code modified), build and test events\n",
    "\n",
    "Our hypotheses are:\n",
    "\n",
    "1. Build\n",
    "    * the longer a developer waits to build his code, the higher the probability that the build will fail\n",
    "    * the more edit events a developer executes, the lower the probability that the build will succeed\n",
    "2. Test   \n",
    "    * the longer a developer waits to run some tests, the higher the probability for test failures\n",
    "    * the more edit events a developer executes, the lower the probability for test success\n"
   ]
  },
  {
   "cell_type": "markdown",
   "metadata": {
    "colab_type": "raw",
    "id": "Jb-xJhfyjaGQ"
   },
   "source": [
    "#### Final Data Analysis Questions:\n",
    "1) linking time since last (successful?) build to probability of build succeeding -- SEVERIN\n",
    "\n",
    "2) linking time since last tests run to probability of tests passing -- ELIZABETH\n",
    "\n",
    "3) linking number of edit events since last successful build to probability of build succeeding -- ANDREA\n",
    "\n",
    "4) linking number of edit events since last passing tests to probability of unit tests passing -- JARA"
   ]
  },
  {
   "cell_type": "markdown",
   "metadata": {
    "colab_type": "text",
    "id": "NB3OLqDmjaGR"
   },
   "source": [
    "# Data Preprocessing / Cleaning --> TODO Claudio"
   ]
  },
  {
   "cell_type": "markdown",
   "metadata": {
    "colab_type": "text",
    "id": "DLJKSB2djaGS"
   },
   "source": [
    "The data was originally available in individual json events, with great support for parsing with Java or C#. \n",
    "We converted the JSON-formatted data into a tree .csv files using Java in order to have an easy import into Pandas Dataframes Python available.\n",
    "This resulted in a dataset consisting out of 3 different files, one for each type of event.\n",
    "\n",
    "The more simple part of the preprocessing stage included discarding wrong/incomplete data, parsing timestamps into a Python-compatible format, and storing the data into new, cleaned csv files. \n",
    "\n",
    "# Session Splitting\n",
    "\n",
    "The main challenge in the preprocessing stage turned out to be session splitting. In our dataset, each record describes an <i>event</i> in an development environment, triggered by a progammer. Now each event also contains a *sessionID* attribute. This attribute will be the same for each event triggered without the progammer closing his IDE or even shutting down his computer. So naturally, a session could range from a few minutes duration (e.g. if the programmer restarts his computer right away) to really long timespans. \n",
    "We wanted to bring some context to the sessionID and decided to introduce a variable `SESSION_TIMEOUT_SECONDS`, which denotes how long a session can be kept alive without any events triggered by the programmer. This will also help in not diluting the pool of sessions.\n",
    "For this splitting of sessions to work, all 3 data files have to be considered and uppon finding a session that needs to be split, all records from the same session with a timestamp greater than the splitting point will have to be split as well.\n",
    "\n",
    "Example:\n",
    "\n",
    "\n",
    "---\n",
    "\n",
    "\n",
    "SESSION_TIMEOUT_SECONDS = 60\n",
    "\n",
    "record A: sessionID = 1, timestamp = 05.05.2020 - 16:00:00 - edit\n",
    "\n",
    "record B:  sessionID = 1, timestamp = 05.05.2020 - 16:00:30 - edit\n",
    "\n",
    "record C:  sessionID = 1, timestamp = 05.05.2020 - 18:00:00 - build\n",
    "\n",
    "record D:  sessionID = 1, timestamp = 05.05.2020 - 18:00:45 - test\n",
    "\n",
    "\n",
    "---\n",
    "\n",
    "\n",
    "In this example, the first two edit events clearly belong to the same session, as the follow 30 seconds after one another. Record C has a timestamp much later in the day though. When our algorithm arrives at record C, it will assign a newly generated (unique) sessionID to the record as `recordC.timestamp - recordB.timestamp > SESSION_TIMEOUT_SECONDS`. Additionally, record D will still have the timestamp of the original sessionID assigned to it, which is now wrong since we split the session up beforehands. This means that we will have to find all events *after* the splitting point and assign the new ID to them as well.\n"
   ]
  },
  {
   "cell_type": "code",
   "execution_count": 145,
   "metadata": {
    "colab": {},
    "colab_type": "code",
    "id": "SIlbRWBEjaGU"
   },
   "outputs": [],
   "source": [
    "import pandas as pd\n",
    "import numpy as np\n",
    "import math\n",
    "from datetime import datetime\n",
    "import matplotlib.pyplot as plt\n",
    "from matplotlib.ticker import (MultipleLocator, FormatStrFormatter,\n",
    "                               AutoMinorLocator)\n",
    "import seaborn as sns\n",
    "from itertools import islice\n",
    "from sklearn import datasets, linear_model\n",
    "from sklearn.linear_model.stochastic_gradient import SGDClassifier\n",
    "from sklearn.neighbors import KNeighborsClassifier\n",
    "from sklearn.linear_model import LogisticRegression\n",
    "from sklearn.model_selection import KFold\n",
    "from sklearn.metrics import accuracy_score\n"
   ]
  },
  {
   "cell_type": "code",
   "execution_count": 146,
   "metadata": {
    "colab": {},
    "colab_type": "code",
    "id": "qIK7HLv7jaGX"
   },
   "outputs": [],
   "source": [
    "df_edit = pd.read_csv(r'..\\data\\df_edit.csv', low_memory=False)\n",
    "df_test = pd.read_csv(r'..\\data\\df_test.csv', low_memory=False)\n",
    "df_build = pd.read_csv(r'..\\data\\df_build.csv', low_memory=False)"
   ]
  },
  {
   "cell_type": "markdown",
   "metadata": {
    "colab_type": "text",
    "id": "sf30-OnijaGb"
   },
   "source": [
    "# Data Exploration"
   ]
  },
  {
   "cell_type": "markdown",
   "metadata": {
    "colab_type": "text",
    "id": "xRPyw-aZjaGc"
   },
   "source": [
    "Each row in our dataset is a sessionID-timestamp pair for the respective event category (build, test or edit). For Build events we know in addition if the event succeded or not (boolean) and for test we know how many test were run at a specific time and how many of those succeded.\n",
    "\n",
    "Let's take a look at the data:"
   ]
  },
  {
   "cell_type": "markdown",
   "metadata": {
    "colab_type": "text",
    "id": "A0VEA6yAjaGd"
   },
   "source": [
    "### Edit Events"
   ]
  },
  {
   "cell_type": "code",
   "execution_count": 147,
   "metadata": {
    "colab": {},
    "colab_type": "code",
    "id": "hAhaPqVkjaGd",
    "outputId": "4708f8ae-6b49-4538-ec13-176ac3577cdb"
   },
   "outputs": [
    {
     "name": "stdout",
     "output_type": "stream",
     "text": [
      " This dataset contains 497459 edits events\n"
     ]
    },
    {
     "data": {
      "text/html": [
       "<div>\n",
       "<style scoped>\n",
       "    .dataframe tbody tr th:only-of-type {\n",
       "        vertical-align: middle;\n",
       "    }\n",
       "\n",
       "    .dataframe tbody tr th {\n",
       "        vertical-align: top;\n",
       "    }\n",
       "\n",
       "    .dataframe thead th {\n",
       "        text-align: right;\n",
       "    }\n",
       "</style>\n",
       "<table border=\"1\" class=\"dataframe\">\n",
       "  <thead>\n",
       "    <tr style=\"text-align: right;\">\n",
       "      <th></th>\n",
       "      <th>sessionID</th>\n",
       "      <th>timestamp</th>\n",
       "      <th>type</th>\n",
       "    </tr>\n",
       "  </thead>\n",
       "  <tbody>\n",
       "    <tr>\n",
       "      <th>497454</th>\n",
       "      <td>ffc444d0-8382-4e52-9f04-3c42601ec739</td>\n",
       "      <td>2016-06-14 14:31:53</td>\n",
       "      <td>edit</td>\n",
       "    </tr>\n",
       "    <tr>\n",
       "      <th>497455</th>\n",
       "      <td>ffcbdaa4-e264-45a3-bddb-6f2f0afeac2f</td>\n",
       "      <td>2016-04-20 14:47:53</td>\n",
       "      <td>edit</td>\n",
       "    </tr>\n",
       "    <tr>\n",
       "      <th>497456</th>\n",
       "      <td>ffcbdaa4-e264-45a3-bddb-6f2f0afeac2f</td>\n",
       "      <td>2016-04-20 14:48:02</td>\n",
       "      <td>edit</td>\n",
       "    </tr>\n",
       "    <tr>\n",
       "      <th>497457</th>\n",
       "      <td>ffcbdaa4-e264-45a3-bddb-6f2f0afeac2f</td>\n",
       "      <td>2016-04-20 14:48:12</td>\n",
       "      <td>edit</td>\n",
       "    </tr>\n",
       "    <tr>\n",
       "      <th>497458</th>\n",
       "      <td>ffcbdaa4-e264-45a3-bddb-6f2f0afeac2f</td>\n",
       "      <td>2016-04-20 14:48:20</td>\n",
       "      <td>edit</td>\n",
       "    </tr>\n",
       "  </tbody>\n",
       "</table>\n",
       "</div>"
      ],
      "text/plain": [
       "                                   sessionID            timestamp  type\n",
       "497454  ffc444d0-8382-4e52-9f04-3c42601ec739  2016-06-14 14:31:53  edit\n",
       "497455  ffcbdaa4-e264-45a3-bddb-6f2f0afeac2f  2016-04-20 14:47:53  edit\n",
       "497456  ffcbdaa4-e264-45a3-bddb-6f2f0afeac2f  2016-04-20 14:48:02  edit\n",
       "497457  ffcbdaa4-e264-45a3-bddb-6f2f0afeac2f  2016-04-20 14:48:12  edit\n",
       "497458  ffcbdaa4-e264-45a3-bddb-6f2f0afeac2f  2016-04-20 14:48:20  edit"
      ]
     },
     "execution_count": 147,
     "metadata": {},
     "output_type": "execute_result"
    }
   ],
   "source": [
    "print(f' This dataset contains {len(df_edit)} edits events')\n",
    "df_edit.iloc[:,1:].tail()"
   ]
  },
  {
   "cell_type": "markdown",
   "metadata": {
    "colab_type": "text",
    "id": "0ryqJlA9jaGi"
   },
   "source": [
    "### Test Events"
   ]
  },
  {
   "cell_type": "code",
   "execution_count": 148,
   "metadata": {
    "colab": {},
    "colab_type": "code",
    "id": "UqJYb2r5jaGi",
    "outputId": "866f25a2-5802-4cb9-b07b-1857e2e3c84f"
   },
   "outputs": [
    {
     "data": {
      "text/html": [
       "<div>\n",
       "<style scoped>\n",
       "    .dataframe tbody tr th:only-of-type {\n",
       "        vertical-align: middle;\n",
       "    }\n",
       "\n",
       "    .dataframe tbody tr th {\n",
       "        vertical-align: top;\n",
       "    }\n",
       "\n",
       "    .dataframe thead th {\n",
       "        text-align: right;\n",
       "    }\n",
       "</style>\n",
       "<table border=\"1\" class=\"dataframe\">\n",
       "  <thead>\n",
       "    <tr style=\"text-align: right;\">\n",
       "      <th></th>\n",
       "      <th>Unnamed: 0</th>\n",
       "      <th>sessionID</th>\n",
       "      <th>timestamp</th>\n",
       "      <th>type</th>\n",
       "      <th>totalTests</th>\n",
       "      <th>testsPassed</th>\n",
       "    </tr>\n",
       "  </thead>\n",
       "  <tbody>\n",
       "    <tr>\n",
       "      <th>0</th>\n",
       "      <td>4</td>\n",
       "      <td>115</td>\n",
       "      <td>2016-07-13 20:24:46</td>\n",
       "      <td>test</td>\n",
       "      <td>21.0</td>\n",
       "      <td>21.0</td>\n",
       "    </tr>\n",
       "    <tr>\n",
       "      <th>1</th>\n",
       "      <td>5</td>\n",
       "      <td>143</td>\n",
       "      <td>2016-12-16 15:32:02</td>\n",
       "      <td>test</td>\n",
       "      <td>4.0</td>\n",
       "      <td>0.0</td>\n",
       "    </tr>\n",
       "    <tr>\n",
       "      <th>2</th>\n",
       "      <td>6</td>\n",
       "      <td>157</td>\n",
       "      <td>2016-07-13 17:44:58</td>\n",
       "      <td>test</td>\n",
       "      <td>1.0</td>\n",
       "      <td>0.0</td>\n",
       "    </tr>\n",
       "    <tr>\n",
       "      <th>3</th>\n",
       "      <td>7</td>\n",
       "      <td>158</td>\n",
       "      <td>2016-07-13 18:43:38</td>\n",
       "      <td>test</td>\n",
       "      <td>0.0</td>\n",
       "      <td>0.0</td>\n",
       "    </tr>\n",
       "    <tr>\n",
       "      <th>4</th>\n",
       "      <td>8</td>\n",
       "      <td>158</td>\n",
       "      <td>2016-07-13 18:45:11</td>\n",
       "      <td>test</td>\n",
       "      <td>0.0</td>\n",
       "      <td>0.0</td>\n",
       "    </tr>\n",
       "    <tr>\n",
       "      <th>...</th>\n",
       "      <td>...</td>\n",
       "      <td>...</td>\n",
       "      <td>...</td>\n",
       "      <td>...</td>\n",
       "      <td>...</td>\n",
       "      <td>...</td>\n",
       "    </tr>\n",
       "    <tr>\n",
       "      <th>3821</th>\n",
       "      <td>3812</td>\n",
       "      <td>fa4a1e32-d8a9-4fce-a57e-0aec4d6a25bc</td>\n",
       "      <td>2016-09-22 13:45:37</td>\n",
       "      <td>test</td>\n",
       "      <td>478.0</td>\n",
       "      <td>0.0</td>\n",
       "    </tr>\n",
       "    <tr>\n",
       "      <th>3822</th>\n",
       "      <td>3813</td>\n",
       "      <td>fa4a1e32-d8a9-4fce-a57e-0aec4d6a25bc</td>\n",
       "      <td>2016-09-22 13:46:16</td>\n",
       "      <td>test</td>\n",
       "      <td>478.0</td>\n",
       "      <td>475.0</td>\n",
       "    </tr>\n",
       "    <tr>\n",
       "      <th>3823</th>\n",
       "      <td>3815</td>\n",
       "      <td>fadb490b-cc30-4690-8ecd-ae5c818fb1e1</td>\n",
       "      <td>2016-08-31 11:57:20</td>\n",
       "      <td>test</td>\n",
       "      <td>92.0</td>\n",
       "      <td>92.0</td>\n",
       "    </tr>\n",
       "    <tr>\n",
       "      <th>3824</th>\n",
       "      <td>3816</td>\n",
       "      <td>fbcdffc5-b444-4262-bbb6-52c091caea79</td>\n",
       "      <td>2016-07-17 12:18:13</td>\n",
       "      <td>test</td>\n",
       "      <td>0.0</td>\n",
       "      <td>0.0</td>\n",
       "    </tr>\n",
       "    <tr>\n",
       "      <th>3825</th>\n",
       "      <td>3817</td>\n",
       "      <td>ff816b40-f797-4065-a6ef-94abb564e92c</td>\n",
       "      <td>2016-12-20 10:48:00</td>\n",
       "      <td>test</td>\n",
       "      <td>0.0</td>\n",
       "      <td>0.0</td>\n",
       "    </tr>\n",
       "  </tbody>\n",
       "</table>\n",
       "<p>3826 rows × 6 columns</p>\n",
       "</div>"
      ],
      "text/plain": [
       "      Unnamed: 0                             sessionID            timestamp  \\\n",
       "0              4                                   115  2016-07-13 20:24:46   \n",
       "1              5                                   143  2016-12-16 15:32:02   \n",
       "2              6                                   157  2016-07-13 17:44:58   \n",
       "3              7                                   158  2016-07-13 18:43:38   \n",
       "4              8                                   158  2016-07-13 18:45:11   \n",
       "...          ...                                   ...                  ...   \n",
       "3821        3812  fa4a1e32-d8a9-4fce-a57e-0aec4d6a25bc  2016-09-22 13:45:37   \n",
       "3822        3813  fa4a1e32-d8a9-4fce-a57e-0aec4d6a25bc  2016-09-22 13:46:16   \n",
       "3823        3815  fadb490b-cc30-4690-8ecd-ae5c818fb1e1  2016-08-31 11:57:20   \n",
       "3824        3816  fbcdffc5-b444-4262-bbb6-52c091caea79  2016-07-17 12:18:13   \n",
       "3825        3817  ff816b40-f797-4065-a6ef-94abb564e92c  2016-12-20 10:48:00   \n",
       "\n",
       "      type  totalTests  testsPassed  \n",
       "0     test        21.0         21.0  \n",
       "1     test         4.0          0.0  \n",
       "2     test         1.0          0.0  \n",
       "3     test         0.0          0.0  \n",
       "4     test         0.0          0.0  \n",
       "...    ...         ...          ...  \n",
       "3821  test       478.0          0.0  \n",
       "3822  test       478.0        475.0  \n",
       "3823  test        92.0         92.0  \n",
       "3824  test         0.0          0.0  \n",
       "3825  test         0.0          0.0  \n",
       "\n",
       "[3826 rows x 6 columns]"
      ]
     },
     "execution_count": 148,
     "metadata": {},
     "output_type": "execute_result"
    }
   ],
   "source": [
    "df_test"
   ]
  },
  {
   "cell_type": "code",
   "execution_count": 149,
   "metadata": {
    "colab": {},
    "colab_type": "code",
    "id": "sv-mzkmujaGn",
    "outputId": "c5f30825-36f5-4a6f-e0e7-3c206f9deaa6"
   },
   "outputs": [
    {
     "name": "stdout",
     "output_type": "stream",
     "text": [
      " This dataset contains 3826 test events. \n",
      " SessionID-timestamp run, in average, 88.8 tests and in average over all sessionID-timestamp pair, 86.3% are \"passed\" test.\n"
     ]
    },
    {
     "data": {
      "text/html": [
       "<div>\n",
       "<style scoped>\n",
       "    .dataframe tbody tr th:only-of-type {\n",
       "        vertical-align: middle;\n",
       "    }\n",
       "\n",
       "    .dataframe tbody tr th {\n",
       "        vertical-align: top;\n",
       "    }\n",
       "\n",
       "    .dataframe thead th {\n",
       "        text-align: right;\n",
       "    }\n",
       "</style>\n",
       "<table border=\"1\" class=\"dataframe\">\n",
       "  <thead>\n",
       "    <tr style=\"text-align: right;\">\n",
       "      <th></th>\n",
       "      <th>sessionID</th>\n",
       "      <th>timestamp</th>\n",
       "      <th>type</th>\n",
       "      <th>totalTests</th>\n",
       "      <th>testsPassed</th>\n",
       "    </tr>\n",
       "  </thead>\n",
       "  <tbody>\n",
       "    <tr>\n",
       "      <th>3821</th>\n",
       "      <td>fa4a1e32-d8a9-4fce-a57e-0aec4d6a25bc</td>\n",
       "      <td>2016-09-22 13:45:37</td>\n",
       "      <td>test</td>\n",
       "      <td>478.0</td>\n",
       "      <td>0.0</td>\n",
       "    </tr>\n",
       "    <tr>\n",
       "      <th>3822</th>\n",
       "      <td>fa4a1e32-d8a9-4fce-a57e-0aec4d6a25bc</td>\n",
       "      <td>2016-09-22 13:46:16</td>\n",
       "      <td>test</td>\n",
       "      <td>478.0</td>\n",
       "      <td>475.0</td>\n",
       "    </tr>\n",
       "    <tr>\n",
       "      <th>3823</th>\n",
       "      <td>fadb490b-cc30-4690-8ecd-ae5c818fb1e1</td>\n",
       "      <td>2016-08-31 11:57:20</td>\n",
       "      <td>test</td>\n",
       "      <td>92.0</td>\n",
       "      <td>92.0</td>\n",
       "    </tr>\n",
       "    <tr>\n",
       "      <th>3824</th>\n",
       "      <td>fbcdffc5-b444-4262-bbb6-52c091caea79</td>\n",
       "      <td>2016-07-17 12:18:13</td>\n",
       "      <td>test</td>\n",
       "      <td>0.0</td>\n",
       "      <td>0.0</td>\n",
       "    </tr>\n",
       "    <tr>\n",
       "      <th>3825</th>\n",
       "      <td>ff816b40-f797-4065-a6ef-94abb564e92c</td>\n",
       "      <td>2016-12-20 10:48:00</td>\n",
       "      <td>test</td>\n",
       "      <td>0.0</td>\n",
       "      <td>0.0</td>\n",
       "    </tr>\n",
       "  </tbody>\n",
       "</table>\n",
       "</div>"
      ],
      "text/plain": [
       "                                 sessionID            timestamp  type  \\\n",
       "3821  fa4a1e32-d8a9-4fce-a57e-0aec4d6a25bc  2016-09-22 13:45:37  test   \n",
       "3822  fa4a1e32-d8a9-4fce-a57e-0aec4d6a25bc  2016-09-22 13:46:16  test   \n",
       "3823  fadb490b-cc30-4690-8ecd-ae5c818fb1e1  2016-08-31 11:57:20  test   \n",
       "3824  fbcdffc5-b444-4262-bbb6-52c091caea79  2016-07-17 12:18:13  test   \n",
       "3825  ff816b40-f797-4065-a6ef-94abb564e92c  2016-12-20 10:48:00  test   \n",
       "\n",
       "      totalTests  testsPassed  \n",
       "3821       478.0          0.0  \n",
       "3822       478.0        475.0  \n",
       "3823        92.0         92.0  \n",
       "3824         0.0          0.0  \n",
       "3825         0.0          0.0  "
      ]
     },
     "execution_count": 149,
     "metadata": {},
     "output_type": "execute_result"
    }
   ],
   "source": [
    "print(f' This dataset contains {len(df_test)} test events.','\\n',f'SessionID-timestamp run, in average, {round(df_test.iloc[:,4].mean(),1)} tests and in average over all sessionID-timestamp pair, {round((df_test.iloc[:,5].mean()/df_test.iloc[:,4].mean())*100,1)}% are \"passed\" test.')\n",
    "df_test.iloc[:,1:].tail()"
   ]
  },
  {
   "cell_type": "markdown",
   "metadata": {
    "colab_type": "text",
    "id": "VZ6f-PGBjaGq"
   },
   "source": [
    "### Build Events"
   ]
  },
  {
   "cell_type": "code",
   "execution_count": 150,
   "metadata": {
    "colab": {},
    "colab_type": "code",
    "id": "CXRP0_DDjaGq",
    "outputId": "ca82d302-602a-47f2-818a-57ba11bdb5b2"
   },
   "outputs": [
    {
     "name": "stdout",
     "output_type": "stream",
     "text": [
      " This dataset contain 14957 build events. \n",
      " In average, 86.2% are succeddful build.\n"
     ]
    },
    {
     "data": {
      "text/html": [
       "<div>\n",
       "<style scoped>\n",
       "    .dataframe tbody tr th:only-of-type {\n",
       "        vertical-align: middle;\n",
       "    }\n",
       "\n",
       "    .dataframe tbody tr th {\n",
       "        vertical-align: top;\n",
       "    }\n",
       "\n",
       "    .dataframe thead th {\n",
       "        text-align: right;\n",
       "    }\n",
       "</style>\n",
       "<table border=\"1\" class=\"dataframe\">\n",
       "  <thead>\n",
       "    <tr style=\"text-align: right;\">\n",
       "      <th></th>\n",
       "      <th>sessionID</th>\n",
       "      <th>timestamp</th>\n",
       "      <th>type</th>\n",
       "      <th>buildSuccessful</th>\n",
       "    </tr>\n",
       "  </thead>\n",
       "  <tbody>\n",
       "    <tr>\n",
       "      <th>14952</th>\n",
       "      <td>fef6f3d6-3a5f-4f7c-8ddf-b52346a831c5</td>\n",
       "      <td>2016-04-02 22:01:13</td>\n",
       "      <td>build</td>\n",
       "      <td>False</td>\n",
       "    </tr>\n",
       "    <tr>\n",
       "      <th>14953</th>\n",
       "      <td>fef6f3d6-3a5f-4f7c-8ddf-b52346a831c5</td>\n",
       "      <td>2016-04-02 22:01:32</td>\n",
       "      <td>build</td>\n",
       "      <td>True</td>\n",
       "    </tr>\n",
       "    <tr>\n",
       "      <th>14954</th>\n",
       "      <td>ff7bee9b-075d-4139-b782-65d1587da5c9</td>\n",
       "      <td>2016-10-18 09:43:34</td>\n",
       "      <td>build</td>\n",
       "      <td>True</td>\n",
       "    </tr>\n",
       "    <tr>\n",
       "      <th>14955</th>\n",
       "      <td>ff9890a9-60d7-41f5-a655-95527ee6f4b7</td>\n",
       "      <td>2016-11-21 14:07:51</td>\n",
       "      <td>build</td>\n",
       "      <td>False</td>\n",
       "    </tr>\n",
       "    <tr>\n",
       "      <th>14956</th>\n",
       "      <td>ffb030c9-c0ff-42bd-9e04-6c4b44f5ab79</td>\n",
       "      <td>2016-05-10 16:14:55</td>\n",
       "      <td>build</td>\n",
       "      <td>True</td>\n",
       "    </tr>\n",
       "  </tbody>\n",
       "</table>\n",
       "</div>"
      ],
      "text/plain": [
       "                                  sessionID            timestamp   type  \\\n",
       "14952  fef6f3d6-3a5f-4f7c-8ddf-b52346a831c5  2016-04-02 22:01:13  build   \n",
       "14953  fef6f3d6-3a5f-4f7c-8ddf-b52346a831c5  2016-04-02 22:01:32  build   \n",
       "14954  ff7bee9b-075d-4139-b782-65d1587da5c9  2016-10-18 09:43:34  build   \n",
       "14955  ff9890a9-60d7-41f5-a655-95527ee6f4b7  2016-11-21 14:07:51  build   \n",
       "14956  ffb030c9-c0ff-42bd-9e04-6c4b44f5ab79  2016-05-10 16:14:55  build   \n",
       "\n",
       "      buildSuccessful  \n",
       "14952           False  \n",
       "14953            True  \n",
       "14954            True  \n",
       "14955           False  \n",
       "14956            True  "
      ]
     },
     "execution_count": 150,
     "metadata": {},
     "output_type": "execute_result"
    }
   ],
   "source": [
    "print(f' This dataset contain {len(df_build)} build events.','\\n',f'In average, {round(len(df_build.loc[df_build[\"buildSuccessful\"]==True])/len(df_build)*100,1)}% are succeddful build.')\n",
    "df_build.iloc[:,1:].tail()"
   ]
  },
  {
   "cell_type": "markdown",
   "metadata": {
    "colab_type": "text",
    "id": "n-i6dLvMjaGu"
   },
   "source": [
    "Unfortunately, we are not yet ready to build our model. In order to test our hypotheses we need to reprocess the data to find:\n",
    "1. the time passed between two build/test events\n",
    "2. the number of edits between build/test events"
   ]
  },
  {
   "cell_type": "markdown",
   "metadata": {
    "colab_type": "text",
    "id": "VjW1iltvjaGv"
   },
   "source": [
    "## Process the data in order to predict Build success"
   ]
  },
  {
   "cell_type": "markdown",
   "metadata": {
    "colab_type": "text",
    "id": "HzV37hHSjaGv"
   },
   "source": [
    "The first reflection to do is about which session should be consider in our analysis. We are interested in what happens between two consecutives events, but should we consider any subsequent build events?\n",
    "We decided to only consider what happens from a successful build to the next build. The reason for this choice is that we want to start from a 'stable' state and analyze how the probability of obtaining another stable state (i.e. Successful Build) is affected by how much changes we made. If we didn't start from a 'stable' state, our result might be biased by other changes in the past which made the state 'unstable' (not passed Build).\n",
    "\n",
    "Now we can start processing our Data as follow:\n",
    "\n",
    "* For each sessionID:\n",
    "    1. get timestamp of the last successfull build\n",
    "    2. get timestamp of next build after 1)\n",
    "        * if there is a 2) > 1) then:\n",
    "    3. get the time passed between 1) and 2)\n",
    "    4. count number of edit between the timestamp 1) and 2)\n",
    "        * else we dont take 1) into account\n",
    "* Create a new DataFrame with following variables:\n",
    "    - sessionID\n",
    "    - timestamp of the successful Build event\n",
    "    - timestamp of the next Build event (next build after the successful Build event)\n",
    "    - time passed between the successful Build and the next Build event (in seconds)\n",
    "    - edits between the successful Build and the next Build event\n",
    "    - result of the next (after a successful Build) build event (boolean)\n"
   ]
  },
  {
   "cell_type": "code",
   "execution_count": 151,
   "metadata": {
    "colab": {},
    "colab_type": "code",
    "id": "bq82qQpSjaGw"
   },
   "outputs": [],
   "source": [
    "def get_all_build(sessionID):\n",
    "    all_build = df_build[df_build[\"sessionID\"] == sessionID]\n",
    "    return all_build.sort_values([\"timestamp\"]).values"
   ]
  },
  {
   "cell_type": "code",
   "execution_count": 152,
   "metadata": {
    "colab": {},
    "colab_type": "code",
    "id": "Gp9d7o4BjaGy"
   },
   "outputs": [],
   "source": [
    "def get_successful_build(sessionID):\n",
    "    all_successful_build = df_build[(df_build[\"sessionID\"] == sessionID) & (df_build[\"buildSuccessful\"] == True)] \n",
    "    return all_successful_build.sort_values([\"timestamp\"]).values"
   ]
  },
  {
   "cell_type": "code",
   "execution_count": 153,
   "metadata": {
    "colab": {},
    "colab_type": "code",
    "id": "GSCuuhHijaG2"
   },
   "outputs": [],
   "source": [
    "def get_nr_edits_between_build(sessionID,timeLastSuccessfullBuild, timeNextBuild):\n",
    "    totalEdit = df_edit[df_edit[\"sessionID\"] == sessionID]\n",
    "    totalEdit = totalEdit.sort_values([\"timestamp\"])\n",
    "    editBetweenSuccessBuildAndBuild = totalEdit[(totalEdit[\"timestamp\"] <= timeNextBuild) & (totalEdit[\"timestamp\"] >= timeLastSuccessfullBuild)]\n",
    "    return editBetweenSuccessBuildAndBuild[\"timestamp\"].values.size"
   ]
  },
  {
   "cell_type": "code",
   "execution_count": 154,
   "metadata": {
    "colab": {},
    "colab_type": "code",
    "id": "dOgkJBMljaG6"
   },
   "outputs": [],
   "source": [
    "def edits_from_pass_to_next_build(sessionID):\n",
    "    result = []\n",
    "\n",
    "    # get all successful build of session \n",
    "    allSuccessfulBuild = get_successful_build(sessionID)\n",
    "    allBuild = get_all_build(sessionID)\n",
    "    numOfSuccessfulBuild = np.size(allSuccessfulBuild,0)\n",
    "    numOfBuild = np.size(allBuild,0)\n",
    "    # iterate over each passed build\n",
    "    for s in range(numOfSuccessfulBuild):\n",
    "        # if build follows, count edits\n",
    "        if allBuild[-1][2]>allSuccessfulBuild[s][2]:\n",
    "            for b in range(numOfBuild):\n",
    "                if allBuild[b][2]>allSuccessfulBuild[s][2]:\n",
    "                    break\n",
    "                    \n",
    "            timeLastSuccessfulBuild=allSuccessfulBuild[s][2]\n",
    "            timeNextBuild=allBuild[b][2]\n",
    "            resultNextBuild=allBuild[b][4]\n",
    "            nrOfEdit=get_nr_edits_between_build(sessionID,timeLastSuccessfulBuild, timeNextBuild)\n",
    "            sessionID = allBuild[b][1]\n",
    "            time_passed = pd.Timedelta(datetime.strptime(timeNextBuild, '%Y-%m-%d %H:%M:%S')-datetime.strptime(timeLastSuccessfulBuild, '%Y-%m-%d %H:%M:%S')).seconds\n",
    "            if nrOfEdit==0:\n",
    "                pass\n",
    "            else:\n",
    "                result.append([sessionID, timeLastSuccessfulBuild, timeNextBuild, time_passed, nrOfEdit, resultNextBuild])\n",
    "            \n",
    "    return result"
   ]
  },
  {
   "cell_type": "code",
   "execution_count": 155,
   "metadata": {
    "colab": {},
    "colab_type": "code",
    "id": "3YS2VGQ5jaG8",
    "outputId": "56209141-a614-462f-b9d6-3fce83cfad57"
   },
   "outputs": [
    {
     "name": "stdout",
     "output_type": "stream",
     "text": [
      "time before loop: 2020-05-30 16:48:58.475637 \n",
      "\n",
      "time after loop: 2020-05-30 16:54:17.373466 \n",
      "\n"
     ]
    }
   ],
   "source": [
    "#Iterate over all sessions and create DataFrame\n",
    "final_result=[]\n",
    "allSessionID=df_build.sessionID.unique()\n",
    "print(f'time before loop: {datetime.now(tz=None)} \\n')\n",
    "# get edits_from_pass_to_next_build for all sessionID\n",
    "for sessionID in allSessionID:\n",
    "    Observations = edits_from_pass_to_next_build(sessionID)\n",
    "    NrOfObservations = len(Observations)\n",
    "    # take only sessionID with at least 1 successful build and at least 1 build after that  \n",
    "    if NrOfObservations > 0:\n",
    "        for Obs in Observations:\n",
    "            final_result.append(Obs)\n",
    "print(f'time after loop: {datetime.now(tz=None)} \\n')"
   ]
  },
  {
   "cell_type": "code",
   "execution_count": 156,
   "metadata": {
    "colab": {},
    "colab_type": "code",
    "id": "HWSHzVVwjaG_",
    "outputId": "e0945431-e89e-4e42-cbfd-438ab862d81e"
   },
   "outputs": [
    {
     "data": {
      "text/html": [
       "<div>\n",
       "<style scoped>\n",
       "    .dataframe tbody tr th:only-of-type {\n",
       "        vertical-align: middle;\n",
       "    }\n",
       "\n",
       "    .dataframe tbody tr th {\n",
       "        vertical-align: top;\n",
       "    }\n",
       "\n",
       "    .dataframe thead th {\n",
       "        text-align: right;\n",
       "    }\n",
       "</style>\n",
       "<table border=\"1\" class=\"dataframe\">\n",
       "  <thead>\n",
       "    <tr style=\"text-align: right;\">\n",
       "      <th></th>\n",
       "      <th>sessionID</th>\n",
       "      <th>timestampSuccessBuild</th>\n",
       "      <th>timestampNextBuild</th>\n",
       "      <th>time_passed</th>\n",
       "      <th>#editsUntilNextBuild</th>\n",
       "      <th>nextBuildResult</th>\n",
       "    </tr>\n",
       "  </thead>\n",
       "  <tbody>\n",
       "    <tr>\n",
       "      <th>9557</th>\n",
       "      <td>fe8caa7d-fbb6-494c-aedb-ecbf22ff8a91</td>\n",
       "      <td>2016-07-25 18:17:02</td>\n",
       "      <td>2016-07-25 18:20:21</td>\n",
       "      <td>199</td>\n",
       "      <td>18</td>\n",
       "      <td>True</td>\n",
       "    </tr>\n",
       "    <tr>\n",
       "      <th>9558</th>\n",
       "      <td>fe8caa7d-fbb6-494c-aedb-ecbf22ff8a91</td>\n",
       "      <td>2016-07-25 18:20:21</td>\n",
       "      <td>2016-07-25 18:22:36</td>\n",
       "      <td>135</td>\n",
       "      <td>12</td>\n",
       "      <td>True</td>\n",
       "    </tr>\n",
       "    <tr>\n",
       "      <th>9559</th>\n",
       "      <td>fef6f3d6-3a5f-4f7c-8ddf-b52346a831c5</td>\n",
       "      <td>2016-04-02 22:00:06</td>\n",
       "      <td>2016-04-02 22:00:28</td>\n",
       "      <td>22</td>\n",
       "      <td>5</td>\n",
       "      <td>True</td>\n",
       "    </tr>\n",
       "    <tr>\n",
       "      <th>9560</th>\n",
       "      <td>fef6f3d6-3a5f-4f7c-8ddf-b52346a831c5</td>\n",
       "      <td>2016-04-02 22:00:28</td>\n",
       "      <td>2016-04-02 22:00:47</td>\n",
       "      <td>19</td>\n",
       "      <td>2</td>\n",
       "      <td>True</td>\n",
       "    </tr>\n",
       "    <tr>\n",
       "      <th>9561</th>\n",
       "      <td>fef6f3d6-3a5f-4f7c-8ddf-b52346a831c5</td>\n",
       "      <td>2016-04-02 22:00:47</td>\n",
       "      <td>2016-04-02 22:01:13</td>\n",
       "      <td>26</td>\n",
       "      <td>5</td>\n",
       "      <td>False</td>\n",
       "    </tr>\n",
       "  </tbody>\n",
       "</table>\n",
       "</div>"
      ],
      "text/plain": [
       "                                 sessionID timestampSuccessBuild  \\\n",
       "9557  fe8caa7d-fbb6-494c-aedb-ecbf22ff8a91   2016-07-25 18:17:02   \n",
       "9558  fe8caa7d-fbb6-494c-aedb-ecbf22ff8a91   2016-07-25 18:20:21   \n",
       "9559  fef6f3d6-3a5f-4f7c-8ddf-b52346a831c5   2016-04-02 22:00:06   \n",
       "9560  fef6f3d6-3a5f-4f7c-8ddf-b52346a831c5   2016-04-02 22:00:28   \n",
       "9561  fef6f3d6-3a5f-4f7c-8ddf-b52346a831c5   2016-04-02 22:00:47   \n",
       "\n",
       "       timestampNextBuild  time_passed  #editsUntilNextBuild  nextBuildResult  \n",
       "9557  2016-07-25 18:20:21          199                    18             True  \n",
       "9558  2016-07-25 18:22:36          135                    12             True  \n",
       "9559  2016-04-02 22:00:28           22                     5             True  \n",
       "9560  2016-04-02 22:00:47           19                     2             True  \n",
       "9561  2016-04-02 22:01:13           26                     5            False  "
      ]
     },
     "execution_count": 156,
     "metadata": {},
     "output_type": "execute_result"
    }
   ],
   "source": [
    "#create DataFrame\n",
    "column_labels = ['sessionID','timestampSuccessBuild','timestampNextBuild','time_passed', '#editsUntilNextBuild', 'nextBuildResult']\n",
    "new_df_build = pd.DataFrame(final_result, columns=column_labels)\n",
    "#show the new DataFrame\n",
    "new_df_build.tail()"
   ]
  },
  {
   "cell_type": "markdown",
   "metadata": {
    "colab_type": "text",
    "id": "7c_hrK3ujaHC"
   },
   "source": [
    "##### Further data exploration\n",
    "Now that we have our final dataset we can explore our data better."
   ]
  },
  {
   "cell_type": "code",
   "execution_count": 157,
   "metadata": {
    "colab": {},
    "colab_type": "code",
    "id": "MSUmyxBojaHD",
    "outputId": "92c1a3b0-b430-411d-aeef-8e4546b175e8"
   },
   "outputs": [
    {
     "data": {
      "image/png": "[encoded data removed]",
      "text/plain": [
       "<Figure size 432x288 with 1 Axes>"
      ]
     },
     "metadata": {
      "needs_background": "light"
     },
     "output_type": "display_data"
    },
    {
     "name": "stdout",
     "output_type": "stream",
     "text": [
      "Only 5.3% of the build-events fail\n"
     ]
    }
   ],
   "source": [
    "import seaborn as sns\n",
    "sns.countplot(x=\"nextBuildResult\",data=new_df_build)\n",
    "plt.show()\n",
    "count_failedBuild = len(new_df_build[new_df_build[\"nextBuildResult\"]==False])\n",
    "count_passedBuild = len(new_df_build[new_df_build[\"nextBuildResult\"]==True])\n",
    "pct_failedBuild = round(count_failedBuild/(count_failedBuild+count_passedBuild)*100,1)\n",
    "print(f'Only {pct_failedBuild}% of the build-events fail')"
   ]
  },
  {
   "cell_type": "code",
   "execution_count": 158,
   "metadata": {
    "colab": {},
    "colab_type": "code",
    "id": "68Jgs-6IjaHF",
    "outputId": "14d33b2d-e275-4e70-cac5-e8058c02459b"
   },
   "outputs": [
    {
     "data": {
      "text/html": [
       "<div>\n",
       "<style scoped>\n",
       "    .dataframe tbody tr th:only-of-type {\n",
       "        vertical-align: middle;\n",
       "    }\n",
       "\n",
       "    .dataframe tbody tr th {\n",
       "        vertical-align: top;\n",
       "    }\n",
       "\n",
       "    .dataframe thead tr th {\n",
       "        text-align: left;\n",
       "    }\n",
       "\n",
       "    .dataframe thead tr:last-of-type th {\n",
       "        text-align: right;\n",
       "    }\n",
       "</style>\n",
       "<table border=\"1\" class=\"dataframe\">\n",
       "  <thead>\n",
       "    <tr>\n",
       "      <th></th>\n",
       "      <th colspan=\"5\" halign=\"left\">#editsUntilNextBuild</th>\n",
       "      <th colspan=\"5\" halign=\"left\">time_passed</th>\n",
       "    </tr>\n",
       "    <tr>\n",
       "      <th></th>\n",
       "      <th>count</th>\n",
       "      <th>mean</th>\n",
       "      <th>median</th>\n",
       "      <th>max</th>\n",
       "      <th>min</th>\n",
       "      <th>count</th>\n",
       "      <th>mean</th>\n",
       "      <th>median</th>\n",
       "      <th>max</th>\n",
       "      <th>min</th>\n",
       "    </tr>\n",
       "    <tr>\n",
       "      <th>nextBuildResult</th>\n",
       "      <th></th>\n",
       "      <th></th>\n",
       "      <th></th>\n",
       "      <th></th>\n",
       "      <th></th>\n",
       "      <th></th>\n",
       "      <th></th>\n",
       "      <th></th>\n",
       "      <th></th>\n",
       "      <th></th>\n",
       "    </tr>\n",
       "  </thead>\n",
       "  <tbody>\n",
       "    <tr>\n",
       "      <th>False</th>\n",
       "      <td>507</td>\n",
       "      <td>19.879684</td>\n",
       "      <td>8</td>\n",
       "      <td>249</td>\n",
       "      <td>1</td>\n",
       "      <td>507</td>\n",
       "      <td>248.238659</td>\n",
       "      <td>117</td>\n",
       "      <td>2082</td>\n",
       "      <td>1</td>\n",
       "    </tr>\n",
       "    <tr>\n",
       "      <th>True</th>\n",
       "      <td>9055</td>\n",
       "      <td>12.329652</td>\n",
       "      <td>6</td>\n",
       "      <td>286</td>\n",
       "      <td>1</td>\n",
       "      <td>9055</td>\n",
       "      <td>160.658421</td>\n",
       "      <td>81</td>\n",
       "      <td>2879</td>\n",
       "      <td>1</td>\n",
       "    </tr>\n",
       "  </tbody>\n",
       "</table>\n",
       "</div>"
      ],
      "text/plain": [
       "                #editsUntilNextBuild                            time_passed  \\\n",
       "                               count       mean median  max min       count   \n",
       "nextBuildResult                                                               \n",
       "False                            507  19.879684      8  249   1         507   \n",
       "True                            9055  12.329652      6  286   1        9055   \n",
       "\n",
       "                                              \n",
       "                       mean median   max min  \n",
       "nextBuildResult                               \n",
       "False            248.238659    117  2082   1  \n",
       "True             160.658421     81  2879   1  "
      ]
     },
     "execution_count": 158,
     "metadata": {},
     "output_type": "execute_result"
    }
   ],
   "source": [
    "new_df_build.groupby(\"nextBuildResult\").agg({\"#editsUntilNextBuild\":[\"count\",\"mean\",\"median\",\"max\",\"min\"],\"time_passed\":[\"count\",\"mean\",\"median\",\"max\",\"min\"]})"
   ]
  },
  {
   "cell_type": "markdown",
   "metadata": {
    "colab_type": "text",
    "id": "UNUSyBNljaHH"
   },
   "source": [
    "First remarks:\n",
    "* Our classes (successful vs. unsuccessful Build events) are strongly imbalanced.\n",
    "* The average number of edits and the average time passed for unsuccessful Build are more then twice as much as for successful Build. This seems to support our hypothesis.\n",
    "* However our variable \"number of edits\" and \"time passed\" between builds events are strongly positive skewed.\n",
    "\n",
    "Let's try to visualize it"
   ]
  },
  {
   "cell_type": "code",
   "execution_count": 159,
   "metadata": {
    "colab": {},
    "colab_type": "code",
    "id": "cur9RHfyjaHI",
    "outputId": "86b27c64-af12-45b4-e91f-6cac45c6439d"
   },
   "outputs": [
    {
     "data": {
      "text/plain": [
       "<matplotlib.axes._subplots.AxesSubplot at 0x20bd5ab9488>"
      ]
     },
     "execution_count": 159,
     "metadata": {},
     "output_type": "execute_result"
    },
    {
     "data": {
      "image/png": "[encoded data removed]",
      "text/plain": [
       "<Figure size 432x288 with 1 Axes>"
      ]
     },
     "metadata": {
      "needs_background": "light"
     },
     "output_type": "display_data"
    }
   ],
   "source": [
    "sns.boxplot(x=new_df_build[\"nextBuildResult\"], y=new_df_build[\"#editsUntilNextBuild\"])"
   ]
  },
  {
   "cell_type": "code",
   "execution_count": 160,
   "metadata": {
    "colab": {},
    "colab_type": "code",
    "id": "3HIuLLQTjaHK",
    "outputId": "78475fc4-6dc6-4159-9fcc-15ceb09d1a07"
   },
   "outputs": [
    {
     "data": {
      "text/plain": [
       "<matplotlib.axes._subplots.AxesSubplot at 0x20bd5c1e448>"
      ]
     },
     "execution_count": 160,
     "metadata": {},
     "output_type": "execute_result"
    },
    {
     "data": {
      "image/png": "[encoded data removed]",
      "text/plain": [
       "<Figure size 432x288 with 1 Axes>"
      ]
     },
     "metadata": {
      "needs_background": "light"
     },
     "output_type": "display_data"
    }
   ],
   "source": [
    "sns.boxplot(x=new_df_build[\"nextBuildResult\"], y=new_df_build[\"time_passed\"])"
   ]
  },
  {
   "cell_type": "markdown",
   "metadata": {
    "colab_type": "text",
    "id": "ZBDycc9PjaHN"
   },
   "source": [
    "This Bloxplot representation show us that many datapoint are recognize as possible outliers. Let's try to consider only observation with at most 100 edits and less than 1200 seconds between Build event."
   ]
  },
  {
   "cell_type": "code",
   "execution_count": 161,
   "metadata": {
    "colab": {},
    "colab_type": "code",
    "id": "aXYi6X9QjaHO",
    "outputId": "c0ab9076-d04c-42e0-e8d2-1d52dc3124be"
   },
   "outputs": [
    {
     "name": "stdout",
     "output_type": "stream",
     "text": [
      "97.2% of the unsuccessful build events have less than 101 edits and less then 40 min between the two Build events\n",
      "99.2% of the successful build events have less than 101 edits and less then 40 min between the two Build events\n"
     ]
    },
    {
     "data": {
      "image/png": "[encoded data removed]",
      "text/plain": [
       "<Figure size 432x288 with 1 Axes>"
      ]
     },
     "metadata": {
      "needs_background": "light"
     },
     "output_type": "display_data"
    },
    {
     "name": "stdout",
     "output_type": "stream",
     "text": [
      "Only 5.2% of the build-events fail if we consider this restricted dataset.\n"
     ]
    }
   ],
   "source": [
    "new_df_build1=new_df_build.loc[(new_df_build[\"#editsUntilNextBuild\"]<100) & (new_df_build[\"time_passed\"]<2400)]\n",
    "print(f'{round(len(new_df_build1[new_df_build1[\"nextBuildResult\"]==False])/len(new_df_build[new_df_build[\"nextBuildResult\"]==False])*100,1)}% of the unsuccessful build events have less than 101 edits and less then 40 min between the two Build events')\n",
    "print(f'{round(len(new_df_build1[new_df_build1[\"nextBuildResult\"]==True])/len(new_df_build[new_df_build[\"nextBuildResult\"]==True])*100,1)}% of the successful build events have less than 101 edits and less then 40 min between the two Build events')\n",
    "\n",
    "sns.countplot(x=\"nextBuildResult\",data=new_df_build1)\n",
    "plt.show()\n",
    "count_failedBuild = len(new_df_build1[new_df_build1[\"nextBuildResult\"]==False])\n",
    "count_passedBuild = len(new_df_build1[new_df_build1[\"nextBuildResult\"]==True])\n",
    "pct_failedBuild = round(count_failedBuild/(count_failedBuild+count_passedBuild)*100,1)\n",
    "print(f'Only {pct_failedBuild}% of the build-events fail if we consider this restricted dataset.')"
   ]
  },
  {
   "cell_type": "markdown",
   "metadata": {
    "colab_type": "text",
    "id": "CMSm1iJ1jaHQ"
   },
   "source": [
    "With this restrictions we lose too many observation and the dataset become even more unbalanced. Therefore we decided to continue our analysis with the whole dataset."
   ]
  },
  {
   "cell_type": "markdown",
   "metadata": {
    "colab_type": "text",
    "id": "R3TcmlZMjaHR"
   },
   "source": [
    "## Process the data in order to predict the probability of a successful Test --> TO DO Jara/Elizabeth"
   ]
  },
  {
   "cell_type": "markdown",
   "metadata": {},
   "source": [
    "For the analysis of the relationship between the number of edits done and the success of a test, we again want to have this \"stable\" state: We only consider the number of edits done after a successful test. Sessions what have zero passed tests won't be analyzed.\n",
    "\n",
    "For this task, we need the two data sets \"df_edit\" and \"df_test\". The latter has a column \"testsPassed\" which gives us the information whether to consider a particular session or not. \n",
    "\n",
    "\n",
    "To process our data, we defined several auxiliary functions which generally speaking do the following:\n",
    "\n",
    "* For each sessionID:\n",
    "    - get all entries that have passed tests, i.e. that have testsPassed > 0\n",
    "* For each sessionID with a passed test:\n",
    "    - count the number of edits done until the next test run\n",
    "    - here, we don't differentiate passed or failed tests, since that's exactly what we're interested in. \n",
    "* Create a new DataFrame with the following variables:\n",
    "    - sessionID\n",
    "    - timePass: timestamp when a test passed\n",
    "    - timeNext: timestamp of the next test run of this sessionID\n",
    "    - editsUntilNextTest: number of edits done from timePass until timeNext\n",
    "    - ratio P/T: result of the next test run. Ratio = passedTestNext/totalTestsNext\n",
    "    - totalTestsNext: total tests run in the next test (which was at timeNext)\n",
    "    - testPassedNext: number of tests passed in the next test (which was at timeNext)\n",
    "    - booleanNextTest: boolean which is true if the next test run had at minimum 1 passed test, otherwise false\n",
    "    \n",
    "TODO: describe elizabeths code!?\n"
   ]
  },
  {
   "cell_type": "markdown",
   "metadata": {
    "colab_type": "text",
    "id": "g9sG6Z1KjaHR"
   },
   "source": [
    "#### Count the number of edits since last successful tests run"
   ]
  },
  {
   "cell_type": "code",
   "execution_count": 25,
   "metadata": {
    "colab": {},
    "colab_type": "code",
    "id": "UQxfHuhnjaHS"
   },
   "outputs": [],
   "source": [
    "# gets all passed tests for a particular sessionID\n",
    "def get_passed_tests(sessionID):\n",
    "    allPassedTests = testEvents[(testEvents[\"sessionID\"] == sessionID) \n",
    "                        & (testEvents[\"testsPassed\"] > 0)]\n",
    "    return np.asarray(allPassedTests)\n",
    "\n",
    "# counts the numbers of edits between a test and the next test\n",
    "# for our purpose, be aware to only call it with passed tests\n",
    "def get_nr_edits_between_tests(sessionID, timeFirstTest , timeNextTest):\n",
    "    result = df_edit[(df_edit[\"timestamp\"] < timeNextTest)\n",
    "                                 & (df_edit[\"timestamp\"] > timeFirstTest) \n",
    "                                 & (df_edit[\"sessionID\"] == sessionID)]\n",
    "    result = np.asarray(result)\n",
    "    return len(result)\n",
    "\n",
    "# counts nr of edits between all the test runs of a particular sessionID\n",
    "def edits_from_pass_to_next_test(sessionID):\n",
    "    result = []\n",
    "    resultRow = []\n",
    "    # get all passed tests of the session \n",
    "    allPassedTests = get_passed_tests(sessionID)\n",
    "\n",
    "    numOfRows = np.size(allPassedTests, 0)\n",
    "    # iterate over each passed test\n",
    "    for p in range(numOfRows):\n",
    "        timePass = allPassedTests[p][2]\n",
    "\n",
    "        # no following test\n",
    "        if p == numOfRows-1:\n",
    "            hasNextTest = False\n",
    "        else:\n",
    "            hasNextTest = True\n",
    "            timeTestNext = allPassedTests[p+1][2]\n",
    "            resultNext = allPassedTests[p+1][4]\n",
    "\n",
    "        # for each passed test, get nr of edits until next test\n",
    "        if hasNextTest:\n",
    "            nrOfEdits = get_nr_edits_between_tests(sessionID,timePass, timeTestNext)\n",
    "            print(f'time of pass to append: {timePass}')\n",
    "            print(f'nr of edits: {nrOfEdits}')\n",
    "            print(f'result next: {resultNext} \\n')\n",
    "            result.append([sessionID, timePass, timeTestNext, nrOfEdits, resultNext])\n",
    "            \n",
    "    return result"
   ]
  },
  {
   "cell_type": "code",
   "execution_count": 99,
   "metadata": {
    "colab": {},
    "colab_type": "code",
    "id": "YVBcA7oZjaHX"
   },
   "outputs": [],
   "source": [
    "# creates a DF with 9 columns\n",
    "def create_df(resultArray):\n",
    "    print(f'Length result: {len(resultArray)} \\n\\n')\n",
    "\n",
    "    # Create DataFrame\n",
    "    column_labels = ['sessionID','timePass','timeNext','timePassed','editsUntilNextTest', 'ratio P/T','totalTestsNext', 'testPassedNext' ,'booleanNextTest']\n",
    "    df = pd.DataFrame(resultArray, columns=column_labels)\n",
    "    return df;"
   ]
  },
  {
   "cell_type": "markdown",
   "metadata": {
    "colab_type": "text",
    "id": "-G5SwDPljaHZ"
   },
   "source": [
    "#### Now iterate over all sessions and create a DataFrame"
   ]
  },
  {
   "cell_type": "code",
   "execution_count": 78,
   "metadata": {
    "colab": {},
    "colab_type": "code",
    "id": "CtaeNr6BjaHa"
   },
   "outputs": [],
   "source": [
    "# Creates a DF and returns a list that contains among other things\n",
    "# the nr of edits from a passing test until the next test event and whether this next test has been successful\n",
    "def get_edits_tests_list():\n",
    "    sessionWithPassedTests=0\n",
    "    sessionWithoutPassedTests=0\n",
    "    sessionWithPassedTestsButNoNextTest=0\n",
    "    result=[]\n",
    "    for index, row in df_test.iterrows():\n",
    "        if(row[\"testsPassed\"] > 0):\n",
    "            sessionWithPassedTests+=1\n",
    "            #has next test\n",
    "            if((index+1 < len(df_test)) and (df_test.iloc[index+1].sessionID == row[\"sessionID\"])):\n",
    "                item=[]\n",
    "                timestampNext=df_test.iloc[index+1].timestamp\n",
    "                time_passed = pd.Timedelta(datetime.strptime(timestampNext, '%Y-%m-%d %H:%M:%S')\n",
    "                                           -datetime.strptime(row[\"timestamp\"], '%Y-%m-%d %H:%M:%S')).seconds\n",
    "                totalTestsNext=df_test.iloc[index+1].totalTests\n",
    "                passedTestNext=df_test.iloc[index+1].testsPassed\n",
    "                nrOfEdits=get_nr_edits_between_tests(row[\"sessionID\"], row[\"timestamp\"], timestampNext)\n",
    "                if(passedTestNext == 0):\n",
    "                    resultTestNextBoolean = 0\n",
    "                else:\n",
    "                    resultTestNextBoolean = 1\n",
    "                if(totalTestsNext != 0):\n",
    "                    ratioPT = (passedTestNext/totalTestsNext)\n",
    "                else:\n",
    "                    ratioPT = 0\n",
    "                item.append(row[\"sessionID\"])\n",
    "                item.append(row[\"timestamp\"])\n",
    "                item.append(timestampNext)\n",
    "                item.append(time_passed)\n",
    "                item.append(nrOfEdits)\n",
    "                item.append(float(ratioPT))\n",
    "                item.append(int(totalTestsNext))\n",
    "                item.append(int(passedTestNext))\n",
    "                item.append(int(resultTestNextBoolean))\n",
    "                result.append(item)\n",
    "            else:\n",
    "                sessionWithPassedTestsButNoNextTest+=1\n",
    "        else:\n",
    "            sessionWithoutPassedTests+=1\n",
    "    print(f'SessionIDs with passed tests: {sessionWithPassedTests}')\n",
    "    print(f'SessionIDs with passed test but no next test: {sessionWithPassedTestsButNoNextTest}')\n",
    "    print(f'SessionIDs without passed test: {sessionWithoutPassedTests}')\n",
    "    \n",
    "    return result"
   ]
  },
  {
   "cell_type": "code",
   "execution_count": 79,
   "metadata": {
    "colab": {},
    "colab_type": "code",
    "id": "UzjGW3sKjaHd",
    "outputId": "689607a6-c98c-4208-c2b6-1148b72dc519"
   },
   "outputs": [
    {
     "name": "stdout",
     "output_type": "stream",
     "text": [
      "SessionIDs with passed tests: 2565\n",
      "SessionIDs with passed test but no next test: 549\n",
      "SessionIDs without passed test: 1261\n"
     ]
    }
   ],
   "source": [
    "edits_tests= get_edits_tests_list()"
   ]
  },
  {
   "cell_type": "code",
   "execution_count": 95,
   "metadata": {
    "colab": {},
    "colab_type": "code",
    "id": "OT8yU2P0jaHe",
    "outputId": "d29e865c-eb7b-4bd0-84e9-c73ce03ff154"
   },
   "outputs": [
    {
     "name": "stdout",
     "output_type": "stream",
     "text": [
      "Length result: 2016 \n",
      "\n",
      "\n"
     ]
    },
    {
     "data": {
      "text/html": [
       "<div>\n",
       "<style scoped>\n",
       "    .dataframe tbody tr th:only-of-type {\n",
       "        vertical-align: middle;\n",
       "    }\n",
       "\n",
       "    .dataframe tbody tr th {\n",
       "        vertical-align: top;\n",
       "    }\n",
       "\n",
       "    .dataframe thead th {\n",
       "        text-align: right;\n",
       "    }\n",
       "</style>\n",
       "<table border=\"1\" class=\"dataframe\">\n",
       "  <thead>\n",
       "    <tr style=\"text-align: right;\">\n",
       "      <th></th>\n",
       "      <th>sessionID</th>\n",
       "      <th>timePass</th>\n",
       "      <th>timeNext</th>\n",
       "      <th>timePassed</th>\n",
       "      <th>editsUntilNextTest</th>\n",
       "      <th>ratio P/T</th>\n",
       "      <th>totalTestsNext</th>\n",
       "      <th>testPassedNext</th>\n",
       "      <th>booleanNextTest</th>\n",
       "    </tr>\n",
       "  </thead>\n",
       "  <tbody>\n",
       "    <tr>\n",
       "      <th>0</th>\n",
       "      <td>158</td>\n",
       "      <td>2016-07-13 18:49:28</td>\n",
       "      <td>2016-07-13 18:51:53</td>\n",
       "      <td>145</td>\n",
       "      <td>15</td>\n",
       "      <td>1.0</td>\n",
       "      <td>21</td>\n",
       "      <td>21</td>\n",
       "      <td>1</td>\n",
       "    </tr>\n",
       "    <tr>\n",
       "      <th>1</th>\n",
       "      <td>158</td>\n",
       "      <td>2016-07-13 18:51:53</td>\n",
       "      <td>2016-07-13 18:53:04</td>\n",
       "      <td>71</td>\n",
       "      <td>3</td>\n",
       "      <td>1.0</td>\n",
       "      <td>21</td>\n",
       "      <td>21</td>\n",
       "      <td>1</td>\n",
       "    </tr>\n",
       "    <tr>\n",
       "      <th>2</th>\n",
       "      <td>158</td>\n",
       "      <td>2016-07-13 18:53:04</td>\n",
       "      <td>2016-07-13 18:53:20</td>\n",
       "      <td>16</td>\n",
       "      <td>1</td>\n",
       "      <td>1.0</td>\n",
       "      <td>21</td>\n",
       "      <td>21</td>\n",
       "      <td>1</td>\n",
       "    </tr>\n",
       "    <tr>\n",
       "      <th>3</th>\n",
       "      <td>158</td>\n",
       "      <td>2016-07-13 18:53:20</td>\n",
       "      <td>2016-07-13 18:53:27</td>\n",
       "      <td>7</td>\n",
       "      <td>0</td>\n",
       "      <td>1.0</td>\n",
       "      <td>21</td>\n",
       "      <td>21</td>\n",
       "      <td>1</td>\n",
       "    </tr>\n",
       "    <tr>\n",
       "      <th>4</th>\n",
       "      <td>158</td>\n",
       "      <td>2016-07-13 18:53:27</td>\n",
       "      <td>2016-07-13 18:53:55</td>\n",
       "      <td>28</td>\n",
       "      <td>1</td>\n",
       "      <td>1.0</td>\n",
       "      <td>21</td>\n",
       "      <td>21</td>\n",
       "      <td>1</td>\n",
       "    </tr>\n",
       "    <tr>\n",
       "      <th>5</th>\n",
       "      <td>158</td>\n",
       "      <td>2016-07-13 18:53:55</td>\n",
       "      <td>2016-07-13 18:54:54</td>\n",
       "      <td>59</td>\n",
       "      <td>6</td>\n",
       "      <td>1.0</td>\n",
       "      <td>21</td>\n",
       "      <td>21</td>\n",
       "      <td>1</td>\n",
       "    </tr>\n",
       "    <tr>\n",
       "      <th>6</th>\n",
       "      <td>158</td>\n",
       "      <td>2016-07-13 18:54:54</td>\n",
       "      <td>2016-07-13 18:55:50</td>\n",
       "      <td>56</td>\n",
       "      <td>3</td>\n",
       "      <td>1.0</td>\n",
       "      <td>21</td>\n",
       "      <td>21</td>\n",
       "      <td>1</td>\n",
       "    </tr>\n",
       "    <tr>\n",
       "      <th>7</th>\n",
       "      <td>158</td>\n",
       "      <td>2016-07-13 18:55:50</td>\n",
       "      <td>2016-07-13 18:57:15</td>\n",
       "      <td>85</td>\n",
       "      <td>1</td>\n",
       "      <td>1.0</td>\n",
       "      <td>21</td>\n",
       "      <td>21</td>\n",
       "      <td>1</td>\n",
       "    </tr>\n",
       "    <tr>\n",
       "      <th>8</th>\n",
       "      <td>158</td>\n",
       "      <td>2016-07-13 18:57:15</td>\n",
       "      <td>2016-07-13 19:02:13</td>\n",
       "      <td>298</td>\n",
       "      <td>1</td>\n",
       "      <td>1.0</td>\n",
       "      <td>21</td>\n",
       "      <td>21</td>\n",
       "      <td>1</td>\n",
       "    </tr>\n",
       "    <tr>\n",
       "      <th>9</th>\n",
       "      <td>158</td>\n",
       "      <td>2016-07-13 19:02:13</td>\n",
       "      <td>2016-07-13 19:03:28</td>\n",
       "      <td>75</td>\n",
       "      <td>5</td>\n",
       "      <td>1.0</td>\n",
       "      <td>21</td>\n",
       "      <td>21</td>\n",
       "      <td>1</td>\n",
       "    </tr>\n",
       "  </tbody>\n",
       "</table>\n",
       "</div>"
      ],
      "text/plain": [
       "  sessionID             timePass             timeNext  timePassed  \\\n",
       "0       158  2016-07-13 18:49:28  2016-07-13 18:51:53         145   \n",
       "1       158  2016-07-13 18:51:53  2016-07-13 18:53:04          71   \n",
       "2       158  2016-07-13 18:53:04  2016-07-13 18:53:20          16   \n",
       "3       158  2016-07-13 18:53:20  2016-07-13 18:53:27           7   \n",
       "4       158  2016-07-13 18:53:27  2016-07-13 18:53:55          28   \n",
       "5       158  2016-07-13 18:53:55  2016-07-13 18:54:54          59   \n",
       "6       158  2016-07-13 18:54:54  2016-07-13 18:55:50          56   \n",
       "7       158  2016-07-13 18:55:50  2016-07-13 18:57:15          85   \n",
       "8       158  2016-07-13 18:57:15  2016-07-13 19:02:13         298   \n",
       "9       158  2016-07-13 19:02:13  2016-07-13 19:03:28          75   \n",
       "\n",
       "   editsUntilNextTest  ratio P/T  totalTestsNext  testPassedNext  \\\n",
       "0                  15        1.0              21              21   \n",
       "1                   3        1.0              21              21   \n",
       "2                   1        1.0              21              21   \n",
       "3                   0        1.0              21              21   \n",
       "4                   1        1.0              21              21   \n",
       "5                   6        1.0              21              21   \n",
       "6                   3        1.0              21              21   \n",
       "7                   1        1.0              21              21   \n",
       "8                   1        1.0              21              21   \n",
       "9                   5        1.0              21              21   \n",
       "\n",
       "   booleanNextTest  \n",
       "0                1  \n",
       "1                1  \n",
       "2                1  \n",
       "3                1  \n",
       "4                1  \n",
       "5                1  \n",
       "6                1  \n",
       "7                1  \n",
       "8                1  \n",
       "9                1  "
      ]
     },
     "execution_count": 95,
     "metadata": {},
     "output_type": "execute_result"
    }
   ],
   "source": [
    "df_edits_tests = create_df(edits_tests)\n",
    "df_edits_tests.head(10)"
   ]
  },
  {
   "cell_type": "markdown",
   "metadata": {},
   "source": [
    "#### Now that we have our processed data set, we can analyze the data further"
   ]
  },
  {
   "cell_type": "code",
   "execution_count": 81,
   "metadata": {},
   "outputs": [
    {
     "data": {
      "image/png": "[encoded data removed]",
      "text/plain": [
       "<Figure size 432x288 with 1 Axes>"
      ]
     },
     "metadata": {
      "needs_background": "light"
     },
     "output_type": "display_data"
    },
    {
     "name": "stdout",
     "output_type": "stream",
     "text": [
      "18.3% of the tests events fail. 81.7% have at least one successful test.\n"
     ]
    }
   ],
   "source": [
    "import seaborn as sns\n",
    "sns.countplot(x=\"booleanNextTest\",data=df_edits_tests)\n",
    "plt.show()\n",
    "count_failedTests = len(df_edits_tests[df_edits_tests[\"booleanNextTest\"]==False])\n",
    "count_passedTests = len(df_edits_tests[df_edits_tests[\"booleanNextTest\"]==True])\n",
    "pct_failedTests = round(count_failedTests/(count_failedTests+count_passedTests)*100,1)\n",
    "print(f'{pct_failedTests}% of the tests events fail. {100-pct_failedTests}% have at least one successful test.')"
   ]
  },
  {
   "cell_type": "markdown",
   "metadata": {},
   "source": [
    "#### Lets look at some statistic values and figures"
   ]
  },
  {
   "cell_type": "code",
   "execution_count": 96,
   "metadata": {},
   "outputs": [
    {
     "name": "stdout",
     "output_type": "stream",
     "text": [
      "The mean ratio of passed tests over total tests is 70.8%. This means that in general, over two third of the tests passed within a single test run.\n",
      "On average, 10.7 edits were executed before a new test and after a successful test run.\n"
     ]
    }
   ],
   "source": [
    "ratio_p_t_mean = df_edits_tests[\"ratio P/T\"].mean()\n",
    "pct_ratio_p_t_mean = round(ratio_p_t_mean*100,1)\n",
    "print(f'The mean ratio of passed tests over total tests is {pct_ratio_p_t_mean}%. This means that in general, over two third of the tests passed within a single test run.')\n",
    "\n",
    "edits_mean = round(df_edits_tests[\"editsUntilNextTest\"].mean(),1)\n",
    "print(f'On average, {edits_mean} edits were executed before a new test and after a successful test run.')\n"
   ]
  },
  {
   "cell_type": "code",
   "execution_count": 97,
   "metadata": {},
   "outputs": [
    {
     "data": {
      "text/html": [
       "<div>\n",
       "<style scoped>\n",
       "    .dataframe tbody tr th:only-of-type {\n",
       "        vertical-align: middle;\n",
       "    }\n",
       "\n",
       "    .dataframe tbody tr th {\n",
       "        vertical-align: top;\n",
       "    }\n",
       "\n",
       "    .dataframe thead tr th {\n",
       "        text-align: left;\n",
       "    }\n",
       "\n",
       "    .dataframe thead tr:last-of-type th {\n",
       "        text-align: right;\n",
       "    }\n",
       "</style>\n",
       "<table border=\"1\" class=\"dataframe\">\n",
       "  <thead>\n",
       "    <tr>\n",
       "      <th></th>\n",
       "      <th colspan=\"5\" halign=\"left\">editsUntilNextTest</th>\n",
       "      <th colspan=\"5\" halign=\"left\">timePassed</th>\n",
       "    </tr>\n",
       "    <tr>\n",
       "      <th></th>\n",
       "      <th>count</th>\n",
       "      <th>mean</th>\n",
       "      <th>median</th>\n",
       "      <th>max</th>\n",
       "      <th>min</th>\n",
       "      <th>count</th>\n",
       "      <th>mean</th>\n",
       "      <th>median</th>\n",
       "      <th>max</th>\n",
       "      <th>min</th>\n",
       "    </tr>\n",
       "    <tr>\n",
       "      <th>booleanNextTest</th>\n",
       "      <th></th>\n",
       "      <th></th>\n",
       "      <th></th>\n",
       "      <th></th>\n",
       "      <th></th>\n",
       "      <th></th>\n",
       "      <th></th>\n",
       "      <th></th>\n",
       "      <th></th>\n",
       "      <th></th>\n",
       "    </tr>\n",
       "  </thead>\n",
       "  <tbody>\n",
       "    <tr>\n",
       "      <th>0</th>\n",
       "      <td>368</td>\n",
       "      <td>11.440217</td>\n",
       "      <td>1</td>\n",
       "      <td>289</td>\n",
       "      <td>0</td>\n",
       "      <td>368</td>\n",
       "      <td>153.798913</td>\n",
       "      <td>68.5</td>\n",
       "      <td>1908</td>\n",
       "      <td>2</td>\n",
       "    </tr>\n",
       "    <tr>\n",
       "      <th>1</th>\n",
       "      <td>1648</td>\n",
       "      <td>10.566748</td>\n",
       "      <td>3</td>\n",
       "      <td>293</td>\n",
       "      <td>0</td>\n",
       "      <td>1648</td>\n",
       "      <td>139.992718</td>\n",
       "      <td>69.5</td>\n",
       "      <td>2569</td>\n",
       "      <td>3</td>\n",
       "    </tr>\n",
       "  </tbody>\n",
       "</table>\n",
       "</div>"
      ],
      "text/plain": [
       "                editsUntilNextTest                            timePassed  \\\n",
       "                             count       mean median  max min      count   \n",
       "booleanNextTest                                                            \n",
       "0                              368  11.440217      1  289   0        368   \n",
       "1                             1648  10.566748      3  293   0       1648   \n",
       "\n",
       "                                              \n",
       "                       mean median   max min  \n",
       "booleanNextTest                               \n",
       "0                153.798913   68.5  1908   2  \n",
       "1                139.992718   69.5  2569   3  "
      ]
     },
     "execution_count": 97,
     "metadata": {},
     "output_type": "execute_result"
    }
   ],
   "source": [
    "df_edits_tests.groupby(\"booleanNextTest\").agg({\"editsUntilNextTest\":[\"count\",\"mean\",\"median\",\"max\",\"min\"],\"timePassed\":[\"count\",\"mean\",\"median\",\"max\",\"min\"]})"
   ]
  },
  {
   "cell_type": "markdown",
   "metadata": {},
   "source": [
    "Let's look at the distribution of the number of edits by creating a boxplot:"
   ]
  },
  {
   "cell_type": "code",
   "execution_count": 89,
   "metadata": {},
   "outputs": [
    {
     "data": {
      "text/plain": [
       "<matplotlib.axes._subplots.AxesSubplot at 0x20bd5541648>"
      ]
     },
     "execution_count": 89,
     "metadata": {},
     "output_type": "execute_result"
    },
    {
     "data": {
      "image/png": "[encoded data removed]",
      "text/plain": [
       "<Figure size 432x288 with 1 Axes>"
      ]
     },
     "metadata": {
      "needs_background": "light"
     },
     "output_type": "display_data"
    }
   ],
   "source": [
    "sns.boxplot(x=df_edits_tests[\"booleanNextTest\"], y=df_edits_tests[\"editsUntilNextTest\"])"
   ]
  },
  {
   "cell_type": "markdown",
   "metadata": {},
   "source": [
    "First remarks:\n",
    "* Our classes (successful vs. unsuccessful Test events) are quiet balanced.\n",
    "* While the average number of edits for successful tests is 10.6, the aveage for failed test is 11.4\n",
    "* Also the timePassed between a successful test and the next test is similar for both classes: on average 140 seconds for successful tests, 154 seconds for failed tests.\n",
    "* Interesting are the median values for the number of edits. Here we see that in 50% of sessions which had unsucessful tests, 0 edits were made until the next test (since median 1). If no changes are made, then it's obvious that the tests will also fail in the next test run. This could indicate that maybe a lot of those failed tests are actually the same one, where the developer didn't change anything to fix the test.\n",
    "* The median of the successful test class (3) surprises me too. It shows that in 50% of the sessions, less than 3 edits were made until the next tests were run. This seems like a highly frequent testing routine.\n",
    "* However our variable \"number of edits\" and \"time passed\" between builds events are strongly positive skewed.\n"
   ]
  },
  {
   "cell_type": "code",
   "execution_count": 98,
   "metadata": {},
   "outputs": [
    {
     "data": {
      "text/plain": [
       "<matplotlib.axes._subplots.AxesSubplot at 0x20bd5220448>"
      ]
     },
     "execution_count": 98,
     "metadata": {},
     "output_type": "execute_result"
    },
    {
     "data": {
      "image/png": "[encoded data removed]",
      "text/plain": [
       "<Figure size 432x288 with 1 Axes>"
      ]
     },
     "metadata": {
      "needs_background": "light"
     },
     "output_type": "display_data"
    }
   ],
   "source": [
    "sns.boxplot(x=df_edits_tests[\"booleanNextTest\"], y=df_edits_tests[\"timePassed\"])"
   ]
  },
  {
   "cell_type": "markdown",
   "metadata": {},
   "source": [
    "Just like in the Edits-Test Analysis, this Bloxplot indicates that many datapoint are recognize as possible outliers. We've seen above that on average, only approximately 70 seconds pass until the next test run. However, this plot's y-axis goes up until 2500 seconds! \n",
    "\n",
    "We can try to clean this data a bit by excluding sessionIDs with number of edits above 50 and the time passed below 500 seconds. Let's see what happends then:"
   ]
  },
  {
   "cell_type": "code",
   "execution_count": 126,
   "metadata": {},
   "outputs": [
    {
     "name": "stdout",
     "output_type": "stream",
     "text": [
      "92.9% of the unsuccessful test events have less than 101 edits and less then 1000 sec / 17min between the two test events\n",
      "93.9% of the successful test events have less than 101 edits and less then 1000 sec / 17min between the two test events\n"
     ]
    },
    {
     "data": {
      "image/png": "[encoded data removed]",
      "text/plain": [
       "<Figure size 432x288 with 1 Axes>"
      ]
     },
     "metadata": {
      "needs_background": "light"
     },
     "output_type": "display_data"
    },
    {
     "name": "stdout",
     "output_type": "stream",
     "text": [
      "Still 18.1% of the test-events fail if we consider this restricted dataset. For the whole data set this was 18.3%\n"
     ]
    }
   ],
   "source": [
    "smaller_df_edits_tests=df_edits_tests.loc[(df_edits_tests[\"editsUntilNextTest\"]<50) & (df_edits_tests[\"timePassed\"]<500)]\n",
    "print(f'{round(len(smaller_df_edits_tests[smaller_df_edits_tests[\"booleanNextTest\"]==False])/len(df_edits_tests[df_edits_tests[\"booleanNextTest\"]==False])*100,1)}% of the unsuccessful test events have less than 101 edits and less then 1000 sec / 17min between the two test events')\n",
    "print(f'{round(len(smaller_df_edits_tests[smaller_df_edits_tests[\"booleanNextTest\"]==True])/len(df_edits_tests[df_edits_tests[\"booleanNextTest\"]==True])*100,1)}% of the successful test events have less than 101 edits and less then 1000 sec / 17min between the two test events')\n",
    "\n",
    "sns.countplot(x=\"booleanNextTest\",data=smaller_df_edits_tests)\n",
    "plt.show()\n",
    "count_failedTest = len(smaller_df_edits_tests[smaller_df_edits_tests[\"booleanNextTest\"]==False])\n",
    "count_passedTest = len(smaller_df_edits_tests[smaller_df_edits_tests[\"booleanNextTest\"]==True])\n",
    "pct_failedTest = round(count_failedTest/(count_failedTest+count_passedTest)*100,1)\n",
    "print(f'Still {pct_failedTest}% of the test-events fail if we consider this restricted dataset. For the whole data set this was {pct_failedTests}%')\n",
    "\n"
   ]
  },
  {
   "cell_type": "markdown",
   "metadata": {},
   "source": [
    "#### Let's plot the new, restricted dataset"
   ]
  },
  {
   "cell_type": "code",
   "execution_count": 129,
   "metadata": {},
   "outputs": [
    {
     "name": "stdout",
     "output_type": "stream",
     "text": [
      "This small difference indicates that the restriction didnt have an influence on the result. Which makes sense since we only excluded some outliers.\n",
      "Hence, we take the first data set, keeping in mind that we have a lot of outliers, and start with building some models!\n"
     ]
    },
    {
     "data": {
      "image/png": "[encoded data removed]",
      "text/plain": [
       "<Figure size 432x288 with 1 Axes>"
      ]
     },
     "metadata": {
      "needs_background": "light"
     },
     "output_type": "display_data"
    }
   ],
   "source": [
    "sns.boxplot(x=smaller_df_edits_tests[\"booleanNextTest\"], y=smaller_df_edits_tests[\"timePassed\"])"
   ]
  },
  {
   "cell_type": "code",
   "execution_count": 141,
   "metadata": {},
   "outputs": [
    {
     "name": "stdout",
     "output_type": "stream",
     "text": [
      "This small difference in of the failed tests (-0.2% decrease) indicates that the restriction didnt have an influence on the result. Which makes sense since we only excluded some outliers.\n"
     ]
    }
   ],
   "source": [
    "print(f'This small difference in of the failed tests ({round(pct_failedTest -pct_failedTests,1)}% decrease) indicates that the restriction didnt have an influence on the result. Which makes sense since we only excluded some outliers.')"
   ]
  },
  {
   "cell_type": "markdown",
   "metadata": {},
   "source": [
    "Hence, we take the first data set, keeping in mind that we have a lot of outliers, and start with building some models!"
   ]
  },
  {
   "cell_type": "markdown",
   "metadata": {
    "colab_type": "text",
    "id": "7tp2mHU1jaHm"
   },
   "source": [
    "# Model / Algorithm Building"
   ]
  },
  {
   "cell_type": "markdown",
   "metadata": {
    "colab_type": "text",
    "id": "YL3BxjB5jaHm"
   },
   "source": [
    "Our goal of this data analysis is to analyze our hypothesis that longer time or more edits between build/test events result in a lower probability of build/test succeeding. After having processed and explored the data are we now able to test our two Hypothesis:\n",
    "1. Build\n",
    "    * the longer a developer waits to build his code, the higher the probability that the build will fail\n",
    "    * the more edit events a developer executes, the lower the probability that the build will succeed\n",
    "2. Test   \n",
    "    * the longer a developer waits to run some tests, the higher the probability for test failures\n",
    "    * the more edit events a developer executes, the lower the probability for test success"
   ]
  },
  {
   "cell_type": "markdown",
   "metadata": {
    "colab_type": "text",
    "id": "qVO0BmOdjaHm"
   },
   "source": [
    "### Build Events"
   ]
  },
  {
   "cell_type": "code",
   "execution_count": 162,
   "metadata": {
    "colab": {},
    "colab_type": "code",
    "id": "e58Ls_aijaHn"
   },
   "outputs": [
    {
     "ename": "ModuleNotFoundError",
     "evalue": "No module named 'imblearn'",
     "output_type": "error",
     "traceback": [
      "\u001b[1;31m---------------------------------------------------------------------------\u001b[0m",
      "\u001b[1;31mModuleNotFoundError\u001b[0m                       Traceback (most recent call last)",
      "\u001b[1;32m<ipython-input-162-3ff041a38052>\u001b[0m in \u001b[0;36m<module>\u001b[1;34m\u001b[0m\n\u001b[0;32m      5\u001b[0m \u001b[1;32mimport\u001b[0m \u001b[0mstatsmodels\u001b[0m\u001b[1;33m.\u001b[0m\u001b[0mapi\u001b[0m \u001b[1;32mas\u001b[0m \u001b[0msm1\u001b[0m\u001b[1;33m\u001b[0m\u001b[1;33m\u001b[0m\u001b[0m\n\u001b[0;32m      6\u001b[0m \u001b[1;32mimport\u001b[0m \u001b[0mseaborn\u001b[0m \u001b[1;32mas\u001b[0m \u001b[0msns\u001b[0m\u001b[1;33m\u001b[0m\u001b[1;33m\u001b[0m\u001b[0m\n\u001b[1;32m----> 7\u001b[1;33m \u001b[1;32mimport\u001b[0m \u001b[0mimblearn\u001b[0m\u001b[1;33m\u001b[0m\u001b[1;33m\u001b[0m\u001b[0m\n\u001b[0m\u001b[0;32m      8\u001b[0m \u001b[1;32mfrom\u001b[0m \u001b[0mimblearn\u001b[0m\u001b[1;33m.\u001b[0m\u001b[0mover_sampling\u001b[0m \u001b[1;32mimport\u001b[0m \u001b[0mSMOTE\u001b[0m\u001b[1;33m\u001b[0m\u001b[1;33m\u001b[0m\u001b[0m\n",
      "\u001b[1;31mModuleNotFoundError\u001b[0m: No module named 'imblearn'"
     ]
    }
   ],
   "source": [
    "from sklearn import linear_model\n",
    "from sklearn import model_selection\n",
    "from sklearn import metrics\n",
    "import statsmodels.tools.tools as sm\n",
    "import statsmodels.api as sm1\n",
    "import seaborn as sns\n",
    "import imblearn\n",
    "from imblearn.over_sampling import SMOTE"
   ]
  },
  {
   "cell_type": "markdown",
   "metadata": {
    "colab_type": "text",
    "id": "MGv22dHhjaHo"
   },
   "source": [
    "To model the probability of a certain event such as pass/fail the logistic regression is one of the most used model and a good benchmark for further analysis. "
   ]
  },
  {
   "cell_type": "code",
   "execution_count": 163,
   "metadata": {
    "colab": {},
    "colab_type": "code",
    "id": "fSukn7t5jaHp",
    "outputId": "3e19fc61-509b-4155-80aa-a88caa4b9ec8"
   },
   "outputs": [
    {
     "name": "stdout",
     "output_type": "stream",
     "text": [
      "Optimization terminated successfully.\n",
      "         Current function value: 0.204575\n",
      "         Iterations 7\n",
      "                           Results: Logit\n",
      "====================================================================\n",
      "Model:               Logit             Pseudo R-squared:  0.013     \n",
      "Dependent Variable:  nextBuildResult   AIC:               3918.2899 \n",
      "Date:                2020-05-30 16:58  BIC:               3939.7865 \n",
      "No. Observations:    9562              Log-Likelihood:    -1956.1   \n",
      "Df Model:            2                 LL-Null:           -1982.4   \n",
      "Df Residuals:        9559              LLR p-value:       3.9802e-12\n",
      "Converged:           1.0000            Scale:             1.0000    \n",
      "No. Iterations:      7.0000                                         \n",
      "--------------------------------------------------------------------\n",
      "                      Coef.  Std.Err.    z    P>|z|   [0.025  0.975]\n",
      "--------------------------------------------------------------------\n",
      "const                 3.0837   0.0548 56.2993 0.0000  2.9763  3.1910\n",
      "#editsUntilNextBuild -0.0077   0.0028 -2.7880 0.0053 -0.0132 -0.0023\n",
      "time_passed          -0.0004   0.0002 -1.7879 0.0738 -0.0009  0.0000\n",
      "====================================================================\n",
      "\n",
      " The correlation between the two independent variables is 0.81\n"
     ]
    }
   ],
   "source": [
    "Y = new_df_build[\"nextBuildResult\"]\n",
    "X = new_df_build[[\"#editsUntilNextBuild\",'time_passed']]\n",
    "X1 = sm.add_constant(X)\n",
    "logit_model = sm1.Logit(Y, X1)\n",
    "result_logit_model = logit_model.fit()\n",
    "print(result_logit_model.summary2())\n",
    "print(f' The correlation between the two independent variables is {round(new_df_build[\"#editsUntilNextBuild\"].corr(new_df_build[\"time_passed\"]),2)}')"
   ]
  },
  {
   "cell_type": "markdown",
   "metadata": {
    "colab_type": "text",
    "id": "xzoW0oHUjaHr"
   },
   "source": [
    "All the coefficients are statistical significant (at 95% confidence level) and both the number of edits and the time passed have a negative effect on the probability of a successful built. However the coefficients are very small and our model is not able to explaining much of the variability in the probability of a successful build (very low pseudo R-Squared)."
   ]
  },
  {
   "cell_type": "code",
   "execution_count": 164,
   "metadata": {
    "colab": {},
    "colab_type": "code",
    "id": "dD39pSM2jaHr",
    "outputId": "d51ee842-4abd-465b-89e4-5fe6c249396e"
   },
   "outputs": [
    {
     "name": "stdout",
     "output_type": "stream",
     "text": [
      "Accurancy of logistic regression classifier on test set is :0.95\n"
     ]
    }
   ],
   "source": [
    "X_train, X_test, Y_train, Y_test = model_selection.train_test_split(X1, Y, test_size=0.1,random_state=0)\n",
    "logit_model=linear_model.LogisticRegression()\n",
    "logit_model.fit(X_train, Y_train)\n",
    "\n",
    "print('Accurancy of logistic regression classifier on test set is :{:.2f}'.format(logit_model.score(X_test,Y_test)))"
   ]
  },
  {
   "cell_type": "markdown",
   "metadata": {
    "colab_type": "text",
    "id": "qF7BqUEJjaHt"
   },
   "source": [
    "Despite the not encouraging results of our model, we get an accurancy of 92%. However as we saw in the data exploration part, our dataset is strong imbalanced and this may be the main reason for this high accurancy. One approach to adressing this problem of class imbalance is to randomly resample the dataset. Following this approach, we decided to oversample the class of unsuccessful build. "
   ]
  },
  {
   "cell_type": "code",
   "execution_count": 165,
   "metadata": {
    "colab": {},
    "colab_type": "code",
    "id": "Jtwuk5bmjaHt",
    "outputId": "5ac2588c-68b0-4e10-a995-820d9335913d"
   },
   "outputs": [
    {
     "ename": "NameError",
     "evalue": "name 'SMOTE' is not defined",
     "output_type": "error",
     "traceback": [
      "\u001b[1;31m---------------------------------------------------------------------------\u001b[0m",
      "\u001b[1;31mNameError\u001b[0m                                 Traceback (most recent call last)",
      "\u001b[1;32m<ipython-input-165-1b1b3ad26919>\u001b[0m in \u001b[0;36m<module>\u001b[1;34m\u001b[0m\n\u001b[1;32m----> 1\u001b[1;33m \u001b[0mos\u001b[0m \u001b[1;33m=\u001b[0m \u001b[0mSMOTE\u001b[0m\u001b[1;33m(\u001b[0m\u001b[0mrandom_state\u001b[0m\u001b[1;33m=\u001b[0m\u001b[1;36m0\u001b[0m\u001b[1;33m)\u001b[0m\u001b[1;33m\u001b[0m\u001b[1;33m\u001b[0m\u001b[0m\n\u001b[0m\u001b[0;32m      2\u001b[0m \u001b[1;33m\u001b[0m\u001b[0m\n\u001b[0;32m      3\u001b[0m \u001b[0mos_data_X\u001b[0m\u001b[1;33m,\u001b[0m \u001b[0mos_data_Y\u001b[0m \u001b[1;33m=\u001b[0m \u001b[0mos\u001b[0m\u001b[1;33m.\u001b[0m\u001b[0mfit_sample\u001b[0m\u001b[1;33m(\u001b[0m\u001b[0mX_train\u001b[0m\u001b[1;33m,\u001b[0m\u001b[0mY_train\u001b[0m\u001b[1;33m)\u001b[0m\u001b[1;33m\u001b[0m\u001b[1;33m\u001b[0m\u001b[0m\n\u001b[0;32m      4\u001b[0m \u001b[0mos_data_X\u001b[0m \u001b[1;33m=\u001b[0m \u001b[0mpd\u001b[0m\u001b[1;33m.\u001b[0m\u001b[0mDataFrame\u001b[0m\u001b[1;33m(\u001b[0m\u001b[0mdata\u001b[0m\u001b[1;33m=\u001b[0m\u001b[0mos_data_X\u001b[0m\u001b[1;33m,\u001b[0m \u001b[0mcolumns\u001b[0m\u001b[1;33m=\u001b[0m\u001b[1;33m[\u001b[0m\u001b[1;34m'constant'\u001b[0m\u001b[1;33m,\u001b[0m\u001b[1;34m'#editsUntilNextBuild'\u001b[0m\u001b[1;33m,\u001b[0m\u001b[1;34m'time_passed'\u001b[0m\u001b[1;33m]\u001b[0m\u001b[1;33m)\u001b[0m\u001b[1;33m\u001b[0m\u001b[1;33m\u001b[0m\u001b[0m\n\u001b[0;32m      5\u001b[0m \u001b[0mos_data_Y\u001b[0m \u001b[1;33m=\u001b[0m \u001b[0mpd\u001b[0m\u001b[1;33m.\u001b[0m\u001b[0mDataFrame\u001b[0m\u001b[1;33m(\u001b[0m\u001b[0mdata\u001b[0m\u001b[1;33m=\u001b[0m\u001b[0mos_data_Y\u001b[0m\u001b[1;33m,\u001b[0m \u001b[0mcolumns\u001b[0m\u001b[1;33m=\u001b[0m\u001b[1;33m[\u001b[0m\u001b[1;34m'nextBuildResult'\u001b[0m\u001b[1;33m]\u001b[0m\u001b[1;33m)\u001b[0m\u001b[1;33m\u001b[0m\u001b[1;33m\u001b[0m\u001b[0m\n",
      "\u001b[1;31mNameError\u001b[0m: name 'SMOTE' is not defined"
     ]
    }
   ],
   "source": [
    "os = SMOTE(random_state=0)\n",
    "\n",
    "os_data_X, os_data_Y = os.fit_sample(X_train,Y_train)\n",
    "os_data_X = pd.DataFrame(data=os_data_X, columns=['constant','#editsUntilNextBuild','time_passed'])\n",
    "os_data_Y = pd.DataFrame(data=os_data_Y, columns=['nextBuildResult'])\n",
    "\n",
    "print(\"Length of oversampled data is\", len(os_data_X))\n",
    "print(\"Number of failed Build in oversampled data is\", len(os_data_Y[os_data_Y['nextBuildResult']==False]))\n",
    "print(\"Number of successful Build is\", len(os_data_Y[os_data_Y['nextBuildResult']==True]))\n",
    "print(\"Proportion of failed Build in oversampled data is\",len(os_data_Y[os_data_Y['nextBuildResult']==False])/len(os_data_X))\n",
    "print(\"Proportion of successful Build in oversampled data is\",len(os_data_Y[os_data_Y['nextBuildResult']==True])/len(os_data_X))\n",
    "\n",
    "logit_model=sm1.Logit(os_data_Y,os_data_X)\n",
    "result_logit=logit_model.fit()\n",
    "print(result_logit.summary2())"
   ]
  },
  {
   "cell_type": "code",
   "execution_count": 166,
   "metadata": {
    "colab": {},
    "colab_type": "code",
    "id": "8-CU7WWujaHw",
    "outputId": "c8455aaa-25de-4ee0-d379-2ab90e231e6e"
   },
   "outputs": [
    {
     "ename": "NameError",
     "evalue": "name 'os_data_X' is not defined",
     "output_type": "error",
     "traceback": [
      "\u001b[1;31m---------------------------------------------------------------------------\u001b[0m",
      "\u001b[1;31mNameError\u001b[0m                                 Traceback (most recent call last)",
      "\u001b[1;32m<ipython-input-166-a05d88017f97>\u001b[0m in \u001b[0;36m<module>\u001b[1;34m\u001b[0m\n\u001b[0;32m      1\u001b[0m \u001b[0mlogit_model\u001b[0m\u001b[1;33m=\u001b[0m\u001b[0mlinear_model\u001b[0m\u001b[1;33m.\u001b[0m\u001b[0mLogisticRegression\u001b[0m\u001b[1;33m(\u001b[0m\u001b[1;33m)\u001b[0m\u001b[1;33m\u001b[0m\u001b[1;33m\u001b[0m\u001b[0m\n\u001b[1;32m----> 2\u001b[1;33m \u001b[0mlogit_model\u001b[0m\u001b[1;33m.\u001b[0m\u001b[0mfit\u001b[0m\u001b[1;33m(\u001b[0m\u001b[0mos_data_X\u001b[0m\u001b[1;33m,\u001b[0m \u001b[0mos_data_Y\u001b[0m\u001b[1;33m.\u001b[0m\u001b[0mvalues\u001b[0m\u001b[1;33m)\u001b[0m\u001b[1;33m\u001b[0m\u001b[1;33m\u001b[0m\u001b[0m\n\u001b[0m\u001b[0;32m      3\u001b[0m \u001b[1;33m\u001b[0m\u001b[0m\n\u001b[0;32m      4\u001b[0m \u001b[0mprint\u001b[0m\u001b[1;33m(\u001b[0m\u001b[1;34m'Accurancy of logistic regression classifier on test set:{:.2f}'\u001b[0m\u001b[1;33m.\u001b[0m\u001b[0mformat\u001b[0m\u001b[1;33m(\u001b[0m\u001b[0mlogit_model\u001b[0m\u001b[1;33m.\u001b[0m\u001b[0mscore\u001b[0m\u001b[1;33m(\u001b[0m\u001b[0mX_test\u001b[0m\u001b[1;33m,\u001b[0m\u001b[0mY_test\u001b[0m\u001b[1;33m)\u001b[0m\u001b[1;33m)\u001b[0m\u001b[1;33m)\u001b[0m\u001b[1;33m\u001b[0m\u001b[1;33m\u001b[0m\u001b[0m\n",
      "\u001b[1;31mNameError\u001b[0m: name 'os_data_X' is not defined"
     ]
    }
   ],
   "source": [
    "logit_model=linear_model.LogisticRegression()\n",
    "logit_model.fit(os_data_X, os_data_Y.values)\n",
    "\n",
    "print('Accurancy of logistic regression classifier on test set:{:.2f}'.format(logit_model.score(X_test,Y_test)))"
   ]
  },
  {
   "cell_type": "code",
   "execution_count": 167,
   "metadata": {
    "colab": {},
    "colab_type": "code",
    "id": "Ue7MkznKjaHy",
    "outputId": "f2a4dea2-b65f-45c0-e6c0-0ec8c2d0443c"
   },
   "outputs": [
    {
     "ename": "NotFittedError",
     "evalue": "This LogisticRegression instance is not fitted yet. Call 'fit' with appropriate arguments before using this estimator.",
     "output_type": "error",
     "traceback": [
      "\u001b[1;31m---------------------------------------------------------------------------\u001b[0m",
      "\u001b[1;31mNotFittedError\u001b[0m                            Traceback (most recent call last)",
      "\u001b[1;32m<ipython-input-167-c80427c19d91>\u001b[0m in \u001b[0;36m<module>\u001b[1;34m\u001b[0m\n\u001b[1;32m----> 1\u001b[1;33m \u001b[0mY_pred\u001b[0m \u001b[1;33m=\u001b[0m \u001b[0mlogit_model\u001b[0m\u001b[1;33m.\u001b[0m\u001b[0mpredict\u001b[0m\u001b[1;33m(\u001b[0m\u001b[0mX_test\u001b[0m\u001b[1;33m)\u001b[0m\u001b[1;33m\u001b[0m\u001b[1;33m\u001b[0m\u001b[0m\n\u001b[0m\u001b[0;32m      2\u001b[0m \u001b[0mconfusion_matrix\u001b[0m \u001b[1;33m=\u001b[0m \u001b[0mmetrics\u001b[0m\u001b[1;33m.\u001b[0m\u001b[0mconfusion_matrix\u001b[0m\u001b[1;33m(\u001b[0m\u001b[0mY_test\u001b[0m\u001b[1;33m,\u001b[0m\u001b[0mY_pred\u001b[0m\u001b[1;33m)\u001b[0m\u001b[1;33m\u001b[0m\u001b[1;33m\u001b[0m\u001b[0m\n\u001b[0;32m      3\u001b[0m \u001b[0mprint\u001b[0m\u001b[1;33m(\u001b[0m\u001b[0mconfusion_matrix\u001b[0m\u001b[1;33m)\u001b[0m\u001b[1;33m\u001b[0m\u001b[1;33m\u001b[0m\u001b[0m\n\u001b[0;32m      4\u001b[0m \u001b[0mprint\u001b[0m\u001b[1;33m(\u001b[0m\u001b[0mmetrics\u001b[0m\u001b[1;33m.\u001b[0m\u001b[0mclassification_report\u001b[0m\u001b[1;33m(\u001b[0m\u001b[0mY_test\u001b[0m\u001b[1;33m,\u001b[0m\u001b[0mY_pred\u001b[0m\u001b[1;33m)\u001b[0m\u001b[1;33m)\u001b[0m\u001b[1;33m\u001b[0m\u001b[1;33m\u001b[0m\u001b[0m\n",
      "\u001b[1;32m~\\Anaconda3\\lib\\site-packages\\sklearn\\linear_model\\_base.py\u001b[0m in \u001b[0;36mpredict\u001b[1;34m(self, X)\u001b[0m\n\u001b[0;32m    291\u001b[0m             \u001b[0mPredicted\u001b[0m \u001b[1;32mclass\u001b[0m \u001b[0mlabel\u001b[0m \u001b[0mper\u001b[0m \u001b[0msample\u001b[0m\u001b[1;33m.\u001b[0m\u001b[1;33m\u001b[0m\u001b[1;33m\u001b[0m\u001b[0m\n\u001b[0;32m    292\u001b[0m         \"\"\"\n\u001b[1;32m--> 293\u001b[1;33m         \u001b[0mscores\u001b[0m \u001b[1;33m=\u001b[0m \u001b[0mself\u001b[0m\u001b[1;33m.\u001b[0m\u001b[0mdecision_function\u001b[0m\u001b[1;33m(\u001b[0m\u001b[0mX\u001b[0m\u001b[1;33m)\u001b[0m\u001b[1;33m\u001b[0m\u001b[1;33m\u001b[0m\u001b[0m\n\u001b[0m\u001b[0;32m    294\u001b[0m         \u001b[1;32mif\u001b[0m \u001b[0mlen\u001b[0m\u001b[1;33m(\u001b[0m\u001b[0mscores\u001b[0m\u001b[1;33m.\u001b[0m\u001b[0mshape\u001b[0m\u001b[1;33m)\u001b[0m \u001b[1;33m==\u001b[0m \u001b[1;36m1\u001b[0m\u001b[1;33m:\u001b[0m\u001b[1;33m\u001b[0m\u001b[1;33m\u001b[0m\u001b[0m\n\u001b[0;32m    295\u001b[0m             \u001b[0mindices\u001b[0m \u001b[1;33m=\u001b[0m \u001b[1;33m(\u001b[0m\u001b[0mscores\u001b[0m \u001b[1;33m>\u001b[0m \u001b[1;36m0\u001b[0m\u001b[1;33m)\u001b[0m\u001b[1;33m.\u001b[0m\u001b[0mastype\u001b[0m\u001b[1;33m(\u001b[0m\u001b[0mnp\u001b[0m\u001b[1;33m.\u001b[0m\u001b[0mint\u001b[0m\u001b[1;33m)\u001b[0m\u001b[1;33m\u001b[0m\u001b[1;33m\u001b[0m\u001b[0m\n",
      "\u001b[1;32m~\\Anaconda3\\lib\\site-packages\\sklearn\\linear_model\\_base.py\u001b[0m in \u001b[0;36mdecision_function\u001b[1;34m(self, X)\u001b[0m\n\u001b[0;32m    264\u001b[0m             \u001b[1;32mclass\u001b[0m \u001b[0mwould\u001b[0m \u001b[0mbe\u001b[0m \u001b[0mpredicted\u001b[0m\u001b[1;33m.\u001b[0m\u001b[1;33m\u001b[0m\u001b[1;33m\u001b[0m\u001b[0m\n\u001b[0;32m    265\u001b[0m         \"\"\"\n\u001b[1;32m--> 266\u001b[1;33m         \u001b[0mcheck_is_fitted\u001b[0m\u001b[1;33m(\u001b[0m\u001b[0mself\u001b[0m\u001b[1;33m)\u001b[0m\u001b[1;33m\u001b[0m\u001b[1;33m\u001b[0m\u001b[0m\n\u001b[0m\u001b[0;32m    267\u001b[0m \u001b[1;33m\u001b[0m\u001b[0m\n\u001b[0;32m    268\u001b[0m         \u001b[0mX\u001b[0m \u001b[1;33m=\u001b[0m \u001b[0mcheck_array\u001b[0m\u001b[1;33m(\u001b[0m\u001b[0mX\u001b[0m\u001b[1;33m,\u001b[0m \u001b[0maccept_sparse\u001b[0m\u001b[1;33m=\u001b[0m\u001b[1;34m'csr'\u001b[0m\u001b[1;33m)\u001b[0m\u001b[1;33m\u001b[0m\u001b[1;33m\u001b[0m\u001b[0m\n",
      "\u001b[1;32m~\\Anaconda3\\lib\\site-packages\\sklearn\\utils\\validation.py\u001b[0m in \u001b[0;36mcheck_is_fitted\u001b[1;34m(estimator, attributes, msg, all_or_any)\u001b[0m\n\u001b[0;32m    965\u001b[0m \u001b[1;33m\u001b[0m\u001b[0m\n\u001b[0;32m    966\u001b[0m     \u001b[1;32mif\u001b[0m \u001b[1;32mnot\u001b[0m \u001b[0mattrs\u001b[0m\u001b[1;33m:\u001b[0m\u001b[1;33m\u001b[0m\u001b[1;33m\u001b[0m\u001b[0m\n\u001b[1;32m--> 967\u001b[1;33m         \u001b[1;32mraise\u001b[0m \u001b[0mNotFittedError\u001b[0m\u001b[1;33m(\u001b[0m\u001b[0mmsg\u001b[0m \u001b[1;33m%\u001b[0m \u001b[1;33m{\u001b[0m\u001b[1;34m'name'\u001b[0m\u001b[1;33m:\u001b[0m \u001b[0mtype\u001b[0m\u001b[1;33m(\u001b[0m\u001b[0mestimator\u001b[0m\u001b[1;33m)\u001b[0m\u001b[1;33m.\u001b[0m\u001b[0m__name__\u001b[0m\u001b[1;33m}\u001b[0m\u001b[1;33m)\u001b[0m\u001b[1;33m\u001b[0m\u001b[1;33m\u001b[0m\u001b[0m\n\u001b[0m\u001b[0;32m    968\u001b[0m \u001b[1;33m\u001b[0m\u001b[0m\n\u001b[0;32m    969\u001b[0m \u001b[1;33m\u001b[0m\u001b[0m\n",
      "\u001b[1;31mNotFittedError\u001b[0m: This LogisticRegression instance is not fitted yet. Call 'fit' with appropriate arguments before using this estimator."
     ]
    }
   ],
   "source": [
    "Y_pred = logit_model.predict(X_test)\n",
    "confusion_matrix = metrics.confusion_matrix(Y_test,Y_pred)\n",
    "print(confusion_matrix)\n",
    "print(metrics.classification_report(Y_test,Y_pred))"
   ]
  },
  {
   "cell_type": "code",
   "execution_count": 0,
   "metadata": {
    "colab": {},
    "colab_type": "code",
    "id": "b7Jn8ryTjaHz"
   },
   "outputs": [],
   "source": []
  },
  {
   "cell_type": "markdown",
   "metadata": {
    "colab_type": "text",
    "id": "NoT4tGRHjaH0"
   },
   "source": [
    "### Test Events --> TO DO Jara/Elizabeth"
   ]
  },
  {
   "cell_type": "markdown",
   "metadata": {
    "colab": {},
    "colab_type": "code",
    "id": "VdutkCPcjaH1"
   },
   "source": [
    "To model the probability of unit test passing depending on how many edits have been done, we can try a linear regression. Nr of edits would be the independent variable X and the ratio Pass/Total the dependent variable Y.\n",
    "\n",
    "For this linear regression, we again need to process the data: This time, we want a 2d data set with the numbers of edits and the ratio."
   ]
  },
  {
   "cell_type": "code",
   "execution_count": 186,
   "metadata": {},
   "outputs": [
    {
     "name": "stdout",
     "output_type": "stream",
     "text": [
      "[[15 1.0]\n",
      " [3 1.0]\n",
      " [1 1.0]\n",
      " ...\n",
      " [3 1.0]\n",
      " [4 0.9375]\n",
      " [0 0.0]]\n",
      "   edits  success ratio\n",
      "0     15            1.0\n",
      "1      3            1.0\n",
      "2      1            1.0\n",
      "3      0            1.0\n",
      "4      1            1.0\n"
     ]
    }
   ],
   "source": [
    "from sklearn.model_selection import train_test_split\n",
    "from sklearn.linear_model import LinearRegression\n",
    "\n",
    "edits_tests_array = np.array(edits_tests, dtype=\"O\")\n",
    "edits_ratio_array = edits_tests_array[:,4:6]\n",
    "edits_ratio_list = edits_ratio_array.tolist()\n",
    "x = edits_tests_array[:,4]\n",
    "y = edits_tests_array[:,5]\n",
    "\n",
    "frame = pd.DataFrame(edits_ratio_list, columns=['edits','success ratio'])\n",
    "print(frame.head(5))\n",
    "\n",
    "x_train, x_test, y_train, y_test = train_test_split(x, y, test_size=0.2)"
   ]
  },
  {
   "cell_type": "code",
   "execution_count": 182,
   "metadata": {},
   "outputs": [
    {
     "data": {
      "image/png": "[encoded data removed]",
      "text/plain": [
       "<Figure size 432x288 with 1 Axes>"
      ]
     },
     "metadata": {
      "needs_background": "light"
     },
     "output_type": "display_data"
    }
   ],
   "source": [
    "model = LinearRegression(fit_intercept=True)\n",
    "\n",
    "model.fit(x[:, np.newaxis], y)\n",
    "\n",
    "xfit = np.linspace(0, 10, 1000)\n",
    "yfit = model.predict(xfit[:, np.newaxis])\n",
    "\n",
    "plt.scatter(x, y)\n",
    "plt.xlabel('x') \n",
    "plt.ylabel('y') \n",
    "plt.plot(xfit, yfit);"
   ]
  },
  {
   "cell_type": "code",
   "execution_count": null,
   "metadata": {},
   "outputs": [],
   "source": []
  }
 ],
 "metadata": {
  "colab": {
   "collapsed_sections": [
    "-G5SwDPljaHZ"
   ],
   "name": "Report.ipynb",
   "provenance": []
  },
  "kernelspec": {
   "display_name": "Python 3",
   "language": "python",
   "name": "python3"
  },
  "language_info": {
   "codemirror_mode": {
    "name": "ipython",
    "version": 3
   },
   "file_extension": ".py",
   "mimetype": "text/x-python",
   "name": "python",
   "nbconvert_exporter": "python",
   "pygments_lexer": "ipython3",
   "version": "3.7.4"
  }
 },
 "nbformat": 4,
 "nbformat_minor": 1
}
