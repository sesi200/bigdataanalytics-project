'''
Our dataset comes from http://www.kave.cc/, where 15'000 hours of interaction data from Visual Studio was collected in almost 11 million events.
To see what kind of data is collected, you can look at the data schema here: http://www.kave.cc/feedbag/event-generation.
Our goal is to analyze the link between the probability of Unit tests or project builds succeeding in connection with how much time has passed since the last build/test run.
The data was originally available in individual json events, with great support for parsing with Java or C#. Since we have to work with python, we used Java to convert the relevant information into csv without cleaning the data first.
'''

#========IMPORT========
#import csv, parse timestamps

#========CLEANING DATA=========
#throw away useless events (e.g. testruns with no tests)
#break sessions up when no edits were made within 15 minutes

#=========DATA ANALYSIS==========
#linking time since last (successful?) build to probability of build succeeding
#linking time since last tests run to probability of tests passing
#linking number of edit events since last successful build to probability of build succeeding
#linking number of edit events since last passing tests to probability of unit tests passing

#=========VISUALIZATION / INTERPRETATION===========
