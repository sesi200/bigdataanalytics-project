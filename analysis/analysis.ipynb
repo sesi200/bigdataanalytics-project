#import/read csv

#clean data
#throw away useless events
#break sessions up when no edits were made within 15 minutes

#data analysis
#analysis TBD, mostly about predicting build and test pass/fail depending on time/edit volume since last build/test

#visualization and interpretation
