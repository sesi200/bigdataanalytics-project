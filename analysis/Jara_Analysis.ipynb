{
 "cells": [
  {
   "cell_type": "markdown",
   "metadata": {},
   "source": [
    "# Data Analysis Part Jara"
   ]
  },
  {
   "cell_type": "markdown",
   "metadata": {},
   "source": [
    "Linking number of edit events since last passing tests to probability of unit tests passing"
   ]
  },
  {
   "cell_type": "code",
   "execution_count": 313,
   "metadata": {},
   "outputs": [],
   "source": [
    "import pandas as pd\n",
    "import numpy as np\n",
    "from datetime import datetime\n",
    "import matplotlib.pyplot as plt\n",
    "from itertools import islice"
   ]
  },
  {
   "cell_type": "markdown",
   "metadata": {},
   "source": [
    "# Import Data\n"
   ]
  },
  {
   "cell_type": "code",
   "execution_count": 264,
   "metadata": {},
   "outputs": [],
   "source": [
    "editEvents = pd.read_csv(\"../data/df_edit.csv\")\n",
    "testEvents = pd.read_csv(\"../data/df_test.csv\")"
   ]
  },
  {
   "cell_type": "markdown",
   "metadata": {},
   "source": [
    "### Edit Events"
   ]
  },
  {
   "cell_type": "code",
   "execution_count": 265,
   "metadata": {},
   "outputs": [
    {
     "name": "stdout",
     "output_type": "stream",
     "text": [
      "No of edit events: 497459\n",
      "no of sessions: 2876 \n",
      "\n"
     ]
    }
   ],
   "source": [
    "print(f'No of edit events: {len(editEvents)}')\n",
    "editEvents.tail()\n",
    "allSessionID=editEvents.sessionID.unique()\n",
    "print(f'no of sessions: {allSessionID.size} \\n')"
   ]
  },
  {
   "cell_type": "code",
   "execution_count": 266,
   "metadata": {},
   "outputs": [
    {
     "data": {
      "text/plain": [
       "count                                   497459\n",
       "unique                                    2876\n",
       "top       8d0ea603-57cd-4b1f-b3cf-ce39ec9203c7\n",
       "freq                                     17006\n",
       "Name: sessionID, dtype: object"
      ]
     },
     "execution_count": 266,
     "metadata": {},
     "output_type": "execute_result"
    }
   ],
   "source": [
    "editEvents[\"sessionID\"].describe()"
   ]
  },
  {
   "cell_type": "markdown",
   "metadata": {},
   "source": [
    "### Test Events"
   ]
  },
  {
   "cell_type": "code",
   "execution_count": 42,
   "metadata": {},
   "outputs": [
    {
     "name": "stdout",
     "output_type": "stream",
     "text": [
      "No of test events: 3826\n"
     ]
    },
    {
     "data": {
      "text/html": [
       "<div>\n",
       "<style scoped>\n",
       "    .dataframe tbody tr th:only-of-type {\n",
       "        vertical-align: middle;\n",
       "    }\n",
       "\n",
       "    .dataframe tbody tr th {\n",
       "        vertical-align: top;\n",
       "    }\n",
       "\n",
       "    .dataframe thead th {\n",
       "        text-align: right;\n",
       "    }\n",
       "</style>\n",
       "<table border=\"1\" class=\"dataframe\">\n",
       "  <thead>\n",
       "    <tr style=\"text-align: right;\">\n",
       "      <th></th>\n",
       "      <th>Unnamed: 0</th>\n",
       "      <th>sessionID</th>\n",
       "      <th>timestamp</th>\n",
       "      <th>totalTests</th>\n",
       "      <th>testsPassed</th>\n",
       "    </tr>\n",
       "  </thead>\n",
       "  <tbody>\n",
       "    <tr>\n",
       "      <td>0</td>\n",
       "      <td>3197</td>\n",
       "      <td>006eb9aa-33f1-4e9e-8e74-7c978b58ee4a</td>\n",
       "      <td>2016-05-03 09:32:16</td>\n",
       "      <td>33</td>\n",
       "      <td>33</td>\n",
       "    </tr>\n",
       "    <tr>\n",
       "      <td>1</td>\n",
       "      <td>3320</td>\n",
       "      <td>03c83bf2-8938-4a8f-9f58-d52bf3b2eccd</td>\n",
       "      <td>2016-05-10 17:21:18</td>\n",
       "      <td>1</td>\n",
       "      <td>0</td>\n",
       "    </tr>\n",
       "    <tr>\n",
       "      <td>2</td>\n",
       "      <td>3321</td>\n",
       "      <td>03c83bf2-8938-4a8f-9f58-d52bf3b2eccd</td>\n",
       "      <td>2016-05-10 17:21:54</td>\n",
       "      <td>26</td>\n",
       "      <td>26</td>\n",
       "    </tr>\n",
       "    <tr>\n",
       "      <td>3</td>\n",
       "      <td>3322</td>\n",
       "      <td>03c83bf2-8938-4a8f-9f58-d52bf3b2eccd</td>\n",
       "      <td>2016-05-10 17:28:26</td>\n",
       "      <td>1</td>\n",
       "      <td>1</td>\n",
       "    </tr>\n",
       "    <tr>\n",
       "      <td>4</td>\n",
       "      <td>34</td>\n",
       "      <td>0504fbd1-cce2-4431-b4e2-edc63eea1c6d</td>\n",
       "      <td>2016-07-13 20:24:46</td>\n",
       "      <td>21</td>\n",
       "      <td>21</td>\n",
       "    </tr>\n",
       "  </tbody>\n",
       "</table>\n",
       "</div>"
      ],
      "text/plain": [
       "   Unnamed: 0                             sessionID            timestamp  \\\n",
       "0        3197  006eb9aa-33f1-4e9e-8e74-7c978b58ee4a  2016-05-03 09:32:16   \n",
       "1        3320  03c83bf2-8938-4a8f-9f58-d52bf3b2eccd  2016-05-10 17:21:18   \n",
       "2        3321  03c83bf2-8938-4a8f-9f58-d52bf3b2eccd  2016-05-10 17:21:54   \n",
       "3        3322  03c83bf2-8938-4a8f-9f58-d52bf3b2eccd  2016-05-10 17:28:26   \n",
       "4          34  0504fbd1-cce2-4431-b4e2-edc63eea1c6d  2016-07-13 20:24:46   \n",
       "\n",
       "   totalTests  testsPassed  \n",
       "0          33           33  \n",
       "1           1            0  \n",
       "2          26           26  \n",
       "3           1            1  \n",
       "4          21           21  "
      ]
     },
     "execution_count": 42,
     "metadata": {},
     "output_type": "execute_result"
    }
   ],
   "source": [
    "print(f'No of test events: {len(testEvents)}')\n",
    "testEvents.head(5)"
   ]
  },
  {
   "cell_type": "code",
   "execution_count": 23,
   "metadata": {},
   "outputs": [
    {
     "data": {
      "text/plain": [
       "count                                     3826\n",
       "unique                                     275\n",
       "top       3696281d-3432-4a49-aee6-207ded3ad6a8\n",
       "freq                                       334\n",
       "Name: sessionID, dtype: object"
      ]
     },
     "execution_count": 23,
     "metadata": {},
     "output_type": "execute_result"
    }
   ],
   "source": [
    "testEvents[\"sessionID\"].describe()"
   ]
  },
  {
   "cell_type": "code",
   "execution_count": 24,
   "metadata": {},
   "outputs": [
    {
     "data": {
      "text/plain": [
       "count    3826.000000\n",
       "mean       88.780972\n",
       "std       430.785770\n",
       "min        -1.000000\n",
       "25%         1.000000\n",
       "50%         3.000000\n",
       "75%        21.000000\n",
       "max      6618.000000\n",
       "Name: totalTests, dtype: float64"
      ]
     },
     "execution_count": 24,
     "metadata": {},
     "output_type": "execute_result"
    }
   ],
   "source": [
    "testEvents[\"totalTests\"].describe()"
   ]
  },
  {
   "cell_type": "code",
   "execution_count": 25,
   "metadata": {},
   "outputs": [
    {
     "data": {
      "text/plain": [
       "count    3826.000000\n",
       "mean       76.577627\n",
       "std       392.217908\n",
       "min        -1.000000\n",
       "25%         0.000000\n",
       "50%         1.000000\n",
       "75%        15.000000\n",
       "max      6090.000000\n",
       "Name: testsPassed, dtype: float64"
      ]
     },
     "execution_count": 25,
     "metadata": {},
     "output_type": "execute_result"
    }
   ],
   "source": [
    "testEvents[\"testsPassed\"].describe()"
   ]
  },
  {
   "cell_type": "markdown",
   "metadata": {},
   "source": [
    "# Process Data"
   ]
  },
  {
   "cell_type": "code",
   "execution_count": 374,
   "metadata": {},
   "outputs": [],
   "source": [
    "def get_passed_tests(sessionID):\n",
    "    allTests = testEvents[(testEvents[\"sessionID\"] == sessionID) \n",
    "                        & (testEvents[\"testsPassed\"] > 0)]\n",
    "    return np.asarray(allTests)\n"
   ]
  },
  {
   "cell_type": "code",
   "execution_count": 376,
   "metadata": {},
   "outputs": [],
   "source": [
    "# counts the numbers of edits between a test and the next test\n",
    "# for our purpose, be aware to only call it with passed tests\n",
    "def get_nr_edits_between_tests(sessionID, timeFirstTest , timeNextTest):\n",
    "    result = editEvents[(editEvents[\"timestamp\"] < timeNextTest)\n",
    "                                 & (editEvents[\"timestamp\"] > timeFirstTest) \n",
    "                                 & (editEvents[\"sessionID\"] == sessionID)]\n",
    "    result = np.asarray(result)\n",
    "    return len(result)\n"
   ]
  },
  {
   "cell_type": "code",
   "execution_count": 377,
   "metadata": {},
   "outputs": [
    {
     "name": "stdout",
     "output_type": "stream",
     "text": [
      "      Unnamed: 0                             sessionID            timestamp\n",
      "7572      320761  03c83bf2-8938-4a8f-9f58-d52bf3b2eccd  2016-05-10 17:17:02\n",
      "7573      320762  03c83bf2-8938-4a8f-9f58-d52bf3b2eccd  2016-05-10 17:17:05\n",
      "7574      320763  03c83bf2-8938-4a8f-9f58-d52bf3b2eccd  2016-05-10 17:17:08\n",
      "7575      320764  03c83bf2-8938-4a8f-9f58-d52bf3b2eccd  2016-05-10 17:17:11\n",
      "7576      320765  03c83bf2-8938-4a8f-9f58-d52bf3b2eccd  2016-05-10 17:17:13\n",
      "...          ...                                   ...                  ...\n",
      "7684      320873  03c83bf2-8938-4a8f-9f58-d52bf3b2eccd  2016-05-10 17:35:06\n",
      "7685      320874  03c83bf2-8938-4a8f-9f58-d52bf3b2eccd  2016-05-10 17:35:13\n",
      "7686      320875  03c83bf2-8938-4a8f-9f58-d52bf3b2eccd  2016-05-10 17:35:15\n",
      "7687      320876  03c83bf2-8938-4a8f-9f58-d52bf3b2eccd  2016-05-10 17:35:19\n",
      "7688      320877  03c83bf2-8938-4a8f-9f58-d52bf3b2eccd  2016-05-10 17:35:21\n",
      "\n",
      "[117 rows x 3 columns]\n"
     ]
    }
   ],
   "source": [
    "# number of rows for certain sessionID\n",
    "print(editEvents.loc[editEvents['sessionID'] == '03c83bf2-8938-4a8f-9f58-d52bf3b2eccd'])"
   ]
  },
  {
   "cell_type": "code",
   "execution_count": 378,
   "metadata": {},
   "outputs": [
    {
     "data": {
      "text/plain": [
       "39"
      ]
     },
     "execution_count": 378,
     "metadata": {},
     "output_type": "execute_result"
    }
   ],
   "source": [
    "get_nr_edits_between_tests('03c83bf2-8938-4a8f-9f58-d52bf3b2eccd', '2016-05-10 17:21:54', '2016-05-10 17:28:26')"
   ]
  },
  {
   "cell_type": "code",
   "execution_count": 379,
   "metadata": {},
   "outputs": [
    {
     "name": "stdout",
     "output_type": "stream",
     "text": [
      "failed tests: Unnamed: 0     1260\n",
      "sessionID      1260\n",
      "timestamp      1260\n",
      "totalTests     1260\n",
      "testsPassed    1260\n",
      "dtype: int64\n"
     ]
    }
   ],
   "source": [
    "# total nr sessionID that have a test that failed\n",
    "print(f\"failed tests: {testEvents.loc[testEvents['testsPassed'] == 0].count()}\")"
   ]
  },
  {
   "cell_type": "code",
   "execution_count": 380,
   "metadata": {},
   "outputs": [],
   "source": [
    "def edits_from_pass_to_next_test(sessionID):\n",
    "    result = []\n",
    "    resultRow = []\n",
    "    # get all passed tests of the session \n",
    "    allPassedTests = get_passed_tests(sessionID)\n",
    "\n",
    "    numOfRows = np.size(allPassedTests, 0)\n",
    "    # iterate over each passed test\n",
    "    for p in range(numOfRows):\n",
    "        timePass = allPassedTests[p][2]\n",
    "\n",
    "        # no following test\n",
    "        if p == numOfRows-1:\n",
    "            hasNextTest = False\n",
    "        else:\n",
    "            hasNextTest = True\n",
    "            timeTestNext = allPassedTests[p+1][2]\n",
    "            resultNext = allPassedTests[p+1][4]\n",
    "\n",
    "        # for each passed test, get nr of edits until next test\n",
    "        if hasNextTest:\n",
    "            nrOfEdits = get_nr_edits_between_tests(sessionID,timePass, timeTestNext)\n",
    "            print(f'time of pass to append: {timePass}')\n",
    "            print(f'nr of edits: {nrOfEdits}')\n",
    "            print(f'result next: {resultNext} \\n')\n",
    "            result.append([sessionID, timePass, timeTestNext, nrOfEdits, resultNext])\n",
    "            \n",
    "    return result\n"
   ]
  },
  {
   "cell_type": "code",
   "execution_count": 408,
   "metadata": {},
   "outputs": [
    {
     "name": "stdout",
     "output_type": "stream",
     "text": [
      "time of pass to append: 2016-05-10 17:21:54\n",
      "nr of edits: 39\n",
      "result next: 1 \n",
      "\n"
     ]
    }
   ],
   "source": [
    "result = edits_from_pass_to_next_test('03c83bf2-8938-4a8f-9f58-d52bf3b2eccd')"
   ]
  },
  {
   "cell_type": "code",
   "execution_count": 481,
   "metadata": {},
   "outputs": [],
   "source": [
    "def create_df(resultArray):\n",
    "    print(f'Length result: {len(resultArray)} \\n\\n')\n",
    "\n",
    "    # Create DataFrame\n",
    "    column_labels = ['sessionID','timePass','timeNext', 'editsUntilNextTest', 'testResultNext', 'booleanNextTest']\n",
    "    df = pd.DataFrame(resultArray, columns=column_labels)\n",
    "\n",
    "    # Print the output.\n",
    "    print(df.head(20))\n"
   ]
  },
  {
   "cell_type": "markdown",
   "metadata": {},
   "source": [
    "## Iterate over all sessions and create df"
   ]
  },
  {
   "cell_type": "code",
   "execution_count": 505,
   "metadata": {},
   "outputs": [],
   "source": [
    "def get_result_array():\n",
    "    sessionWithPassedTests=0\n",
    "    sessionWithoutPassedTests=0\n",
    "    sessionWithPassedTestsButNoNextTest=0\n",
    "    result=[]\n",
    "    print(f'time before loop: {datetime.now(tz=None)} \\n')\n",
    "    for index, row in testEvents.iterrows():\n",
    "        if(row[\"testsPassed\"] > 0):\n",
    "            sessionWithPassedTests+=1\n",
    "            #has next test\n",
    "            if((index+1 < len(testEvents)) and (testEvents.iloc[index+1].sessionID == row[\"sessionID\"])):\n",
    "                item=[]\n",
    "                timestampNext=testEvents.iloc[index+1].timestamp\n",
    "                resultTestNext=testEvents.iloc[index+1].testsPassed\n",
    "                nrOfEdits=get_nr_edits_between_tests(row[\"sessionID\"], row[\"timestamp\"], timestampNext)\n",
    "                if(resultTestNext == 0):\n",
    "                    resultTestNextBoolean = 0\n",
    "                else:\n",
    "                    resultTestNextBoolean = 1\n",
    "                item.append(row[\"sessionID\"])\n",
    "                item.append(row[\"timestamp\"])\n",
    "                item.append(timestampNext)\n",
    "                item.append(nrOfEdits)\n",
    "                item.append(resultTestNext)\n",
    "                item.append(resultTestNextBoolean)\n",
    "                result.append(item)\n",
    "            else:\n",
    "                sessionWithPassedTestsButNoNextTest+=1\n",
    "        else:\n",
    "            sessionWithoutPassedTests+=1\n",
    "    print(f'with passed: {sessionWithPassedTests}')\n",
    "    print(f'with passed test but no next test: {sessionWithPassedTestsButNoNextTest}')\n",
    "    print(f'without passed test: {sessionWithoutPassedTests}')\n",
    "    print(f'total: {sessionWithoutPassedTests+sessionWithPassedTests}')\n",
    "    # Create DataFrame\n",
    "    create_df(result)\n",
    "    print(f'time after loop and df: {datetime.now(tz=None)} \\n')\n",
    "    \n",
    "    return result   \n"
   ]
  },
  {
   "cell_type": "code",
   "execution_count": 506,
   "metadata": {},
   "outputs": [
    {
     "name": "stdout",
     "output_type": "stream",
     "text": [
      "time before loop: 2020-04-28 16:22:58.290735 \n",
      "\n",
      "with passed: 2565\n",
      "with passed test but no next test: 208\n",
      "without passed test: 1261\n",
      "total: 3826\n",
      "Length result: 2357 \n",
      "\n",
      "\n",
      "                               sessionID             timePass  \\\n",
      "0   03c83bf2-8938-4a8f-9f58-d52bf3b2eccd  2016-05-10 17:21:54   \n",
      "1   068370ce-c891-45d8-8255-8c9ea63f3b43  2016-07-13 18:49:28   \n",
      "2   068370ce-c891-45d8-8255-8c9ea63f3b43  2016-07-13 18:51:53   \n",
      "3   068370ce-c891-45d8-8255-8c9ea63f3b43  2016-07-13 18:53:04   \n",
      "4   068370ce-c891-45d8-8255-8c9ea63f3b43  2016-07-13 18:53:20   \n",
      "5   068370ce-c891-45d8-8255-8c9ea63f3b43  2016-07-13 18:53:27   \n",
      "6   068370ce-c891-45d8-8255-8c9ea63f3b43  2016-07-13 18:53:55   \n",
      "7   068370ce-c891-45d8-8255-8c9ea63f3b43  2016-07-13 18:54:54   \n",
      "8   068370ce-c891-45d8-8255-8c9ea63f3b43  2016-07-13 18:55:50   \n",
      "9   068370ce-c891-45d8-8255-8c9ea63f3b43  2016-07-13 18:57:15   \n",
      "10  068370ce-c891-45d8-8255-8c9ea63f3b43  2016-07-13 19:02:13   \n",
      "11  06ed56fc-0467-4b01-8c7b-f2ffe300ff0e  2016-08-19 11:08:25   \n",
      "12  06ed56fc-0467-4b01-8c7b-f2ffe300ff0e  2016-08-19 11:08:49   \n",
      "13  06ed56fc-0467-4b01-8c7b-f2ffe300ff0e  2016-08-19 11:08:57   \n",
      "14  06f9c3b5-9ba5-44b5-a95a-6b9d280343ff  2016-12-21 14:34:35   \n",
      "15  06f9c3b5-9ba5-44b5-a95a-6b9d280343ff  2016-12-21 14:35:04   \n",
      "16  06f9c3b5-9ba5-44b5-a95a-6b9d280343ff  2016-12-21 14:37:20   \n",
      "17  06f9c3b5-9ba5-44b5-a95a-6b9d280343ff  2016-12-21 14:38:17   \n",
      "18  06f9c3b5-9ba5-44b5-a95a-6b9d280343ff  2016-12-21 14:46:33   \n",
      "19  083c67aa-3e7d-4d78-8286-e28a85d6e1cc  2016-05-09 11:54:08   \n",
      "\n",
      "               timeNext  editsUntilNextTest  testResultNext  booleanNextTest  \n",
      "0   2016-05-10 17:28:26                  39               1                1  \n",
      "1   2016-07-13 18:51:53                  15              21                1  \n",
      "2   2016-07-13 18:53:04                   3              21                1  \n",
      "3   2016-07-13 18:53:20                   1              21                1  \n",
      "4   2016-07-13 18:53:27                   0              21                1  \n",
      "5   2016-07-13 18:53:55                   1              21                1  \n",
      "6   2016-07-13 18:54:54                   6              21                1  \n",
      "7   2016-07-13 18:55:50                   3              21                1  \n",
      "8   2016-07-13 18:57:15                   1              21                1  \n",
      "9   2016-07-13 19:02:13                   1              21                1  \n",
      "10  2016-07-13 19:03:28                   5              21                1  \n",
      "11  2016-08-19 11:08:49                   1              46                1  \n",
      "12  2016-08-19 11:08:57                   2             175                1  \n",
      "13  2016-08-19 11:10:09                   2               0                0  \n",
      "14  2016-12-21 14:35:04                   4               1                1  \n",
      "15  2016-12-21 14:35:30                   1               0                0  \n",
      "16  2016-12-21 14:38:17                  14               1                1  \n",
      "17  2016-12-21 14:41:49                  15               0                0  \n",
      "18  2016-12-21 14:47:10                   5               1                1  \n",
      "19  2016-05-09 11:56:14                   4              23                1  \n",
      "time after loop and df: 2020-04-28 16:26:47.201340 \n",
      "\n"
     ]
    }
   ],
   "source": [
    "result_array = get_result_array()\n"
   ]
  },
  {
   "cell_type": "markdown",
   "metadata": {},
   "source": [
    "# Model"
   ]
  },
  {
   "cell_type": "code",
   "execution_count": 140,
   "metadata": {},
   "outputs": [
    {
     "name": "stdout",
     "output_type": "stream",
     "text": [
      "0\n",
      "21\n",
      "1\n",
      "no of failed tests 0\n",
      "no of passed tests 2330\n"
     ]
    },
    {
     "data": {
      "image/png": "[encoded data removed]",
      "text/plain": [
       "<Figure size 432x288 with 1 Axes>"
      ]
     },
     "metadata": {
      "needs_background": "light"
     },
     "output_type": "display_data"
    }
   ],
   "source": [
    "nrOfEvents = []\n",
    "testResults = []\n",
    "testResultsBoolean = []\n",
    "\n",
    "for i in range(len(result_array)):\n",
    "    nrOfEvents.append(result_array[i][3])\n",
    "    testResults.append(result_array[i][4])\n",
    "    if result_array[i][4] == 0:\n",
    "        print('append 0')\n",
    "        testResultsBoolean.append(0)\n",
    "    else:\n",
    "        testResultsBoolean.append(1)\n",
    "        \n",
    "    \n",
    "\n",
    "#TODO: we dont want nr of passed tests, but YES NO = if next test passed or not!!\n",
    " \n",
    "print(nrOfEvents[4])\n",
    "print(testResults[4])\n",
    "print(testResultsBoolean[4])\n",
    "\n",
    "failedTests = testResultsBoolean\n",
    "# TODO: check if no of failed tests is true\n",
    "print(f'no of failed tests {testResultsBoolean.count(0)}')\n",
    "print(f'no of passed tests {testResultsBoolean.count(1)}')\n",
    "\n",
    "\n",
    "#plt.plot(nrOfEvents,testResult)\n",
    "\n",
    "plt.scatter(nrOfEvents, nrOfEvents)\n",
    "plt.xlabel('nr of events from passed test until next test')\n",
    "plt.ylabel('nr of passed tests')\n",
    "plt.show()\n",
    "\n",
    "\n",
    "\n",
    "#model = np.polyfit(nrOfEvents, testResult, 1)\n",
    "#model\n",
    "\n",
    "from sklearn.metrics import r2_score\n",
    "#predict = np.poly1d(model)\n",
    "#r2_score(passes, predict(times))"
   ]
  },
  {
   "cell_type": "code",
   "execution_count": null,
   "metadata": {},
   "outputs": [],
   "source": []
  }
 ],
 "metadata": {
  "kernelspec": {
   "display_name": "Python 3",
   "language": "python",
   "name": "python3"
  },
  "language_info": {
   "codemirror_mode": {
    "name": "ipython",
    "version": 3
   },
   "file_extension": ".py",
   "mimetype": "text/x-python",
   "name": "python",
   "nbconvert_exporter": "python",
   "pygments_lexer": "ipython3",
   "version": "3.7.4"
  }
 },
 "nbformat": 4,
 "nbformat_minor": 2
}
