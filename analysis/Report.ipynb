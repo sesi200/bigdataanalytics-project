{
 "cells": [
  {
   "cell_type": "markdown",
   "metadata": {
    "colab_type": "text",
    "id": "fKl4orisjaGI"
   },
   "source": [
    "# Big Data Analysis Project - Group Project FS2020\n",
    "## University of Zurich\n",
    "## 5th of June 2020"
   ]
  },
  {
   "cell_type": "markdown",
   "metadata": {
    "colab_type": "text",
    "id": "kHz-LZrBjaGI"
   },
   "source": [
    "Jara Fuhrer, 15-702-889\n",
    "\n",
    "Claudio Brasser,\n",
    "\n",
    "Severin Siffert, 14-720-536\n",
    "\n",
    "Andrea Giambonini, 10-726-842\n",
    "\n",
    "Elizabeth Oladipo, 17-722-414\n"
   ]
  },
  {
   "cell_type": "markdown",
   "metadata": {
    "colab_type": "text",
    "id": "btEeP3NNjaGK"
   },
   "source": [
    "## \"The goal of the project is to apply the data science pipeline\""
   ]
  },
  {
   "cell_type": "markdown",
   "metadata": {
    "colab_type": "text",
    "id": "ESyqrapNjaGL"
   },
   "source": [
    "![title](doingDS.png)"
   ]
  },
  {
   "cell_type": "markdown",
   "metadata": {
    "colab_type": "text",
    "id": "w-2nwCQKjaGM"
   },
   "source": [
    "# Data Collection / Acquisition"
   ]
  },
  {
   "cell_type": "markdown",
   "metadata": {
    "colab_type": "text",
    "id": "DLAR2w2zjaGN"
   },
   "source": [
    "Our dataset comes from http://www.kave.cc/, where 15'000 hours of interaction data from the Visual Studio plugin ReSharper (a popular tool to program in C#) was collected in almost 11 million events from voluntaries.\n",
    "To see what kind of data is collected, you can look at the data schema here: http://www.kave.cc/feedbag/event-generation.\n",
    "\n",
    "Within this project, we focus on three events:\n",
    "- build event: actions like build, build all, or clean\n",
    "- edit event: changes made by the developer, like renaming\n",
    "- test run event: which tests where run when and with what result\n"
   ]
  },
  {
   "cell_type": "markdown",
   "metadata": {
    "colab_type": "text",
    "id": "b8Sg0WLQjaGO"
   },
   "source": [
    "#### Who constructed data set, when, why?\n",
    "The KaVE Project originally was a German research program. Over the past 10 years, it evolved into a platform for research around recommendation systems for software engineering. Generally, they're interested in questions like how humans influence software engineering or how certain tools can support humans to better / more efficiently perform their tasks. \n",
    "Examples are intelligent code completion, interaction trackers or evaluation tools.\n",
    "\n",
    "The KaVE are collecting and providing these data sets such that we can better understand what software engineers do / what they interact with / where their problems lie. With this data, we can try to see relations between the working behaviour of developers and his efficienty / performance / productivity / habits etc.\n",
    "\n",
    "Below, the three data sets we extracted from the gigantic pile of possibilities are explained.\n",
    "\n",
    "#### What do we want to learn from this data?\n",
    "From personal experience, we know how important it is to frequently build your code and run some tests. Only then you're able to link what you've done (i.e. what you've written, the edit events) to the outcome (i.e. (hopefully) working code, build and test run events). \n",
    "\n",
    "* often repeated advice: compile early, compile often\n",
    "* intuition: longer time and more edits between tests/builds = more chance to screw up\n",
    "* Is there a way to show that empirically?\n",
    "\n",
    "Our goal of this data analysis therefore is to analyze the link between the probability of Unit tests or project builds succeeding in connection with how much time has passed and how many edits were made since the last build/test run.\n",
    "\n",
    "\n",
    "#### Hypotheses\n",
    "\n",
    "We want to test the advice 'compile early, compile often' and the closely related 'test a lot' empirically. In order to do this we found three relevant events in the data: edit (code modified), build and test events.\n",
    "\n",
    "Our hypotheses are:\n",
    "\n",
    "1. Build\n",
    "    * the longer a developer waits to build his code, the higher the probability that the build will fail\n",
    "    * the more edit events a developer executes, the lower the probability that the build will succeed\n",
    "2. Test   \n",
    "    * the longer a developer waits to run some tests, the higher the probability for test failures\n",
    "    * the more edit events a developer executes, the lower the probability for test success\n"
   ]
  },
  {
   "cell_type": "markdown",
   "metadata": {
    "colab_type": "raw",
    "id": "Jb-xJhfyjaGQ"
   },
   "source": [
    "#### Final Data Analysis Questions:\n",
    "1) linking time since last (successful?) build to probability of build succeeding\n",
    "\n",
    "2) linking time since last tests run to probability of tests passing\n",
    "\n",
    "3) linking number of edit events since last successful build to probability of build succeeding\n",
    "\n",
    "4) linking number of edit events since last passing tests to probability of unit tests passing"
   ]
  },
  {
   "cell_type": "markdown",
   "metadata": {
    "colab_type": "text",
    "id": "NB3OLqDmjaGR"
   },
   "source": [
    "# Data Preprocessing / Cleaning --> TODO Claudio"
   ]
  },
  {
   "cell_type": "markdown",
   "metadata": {
    "colab_type": "text",
    "id": "DLJKSB2djaGS"
   },
   "source": [
    "The data was originally available in individual json events, with great support for parsing with Java or C#. \n",
    "Using the accompanying Java examples we converted the JSON-formatted data into .csv files in order to have an easy import into Pandas Dataframes available.\n",
    "This resulted in a dataset consisting out of 3 different files, one for each type of event.\n",
    "\n",
    "The more simple part of the preprocessing stage included discarding wrong, incomplete, and unneeded data, parsing timestamps into a Python-compatible format, and storing the data into new, cleaned csv files. \n",
    "\n",
    "## Session Splitting\n",
    "\n",
    "The main challenge in the preprocessing stage turned out to be session splitting. In our dataset, each record describes an <i>event</i> in the IDE, triggered by a programmer. Now each event also contains a *sessionID* attribute. This attribute will be the same for each event triggered without the progammer closing his IDE or even shutting down his computer. So naturally, a session could range from a few minutes duration (e.g. if the programmer restarts his computer right away) to really long timespans. We could tell that some programmers close their IDE only for forced Windows updates. \n",
    "Because we want to track actual development time, we decided to call it a new session if no code was modified for five minutes. We did this by introducing a variable called `SESSION_TIMEOUT_SECONDS = 300`, which denotes how long a session can be kept alive without any events triggered by the programmer.\n",
    "\n",
    "For this splitting of sessions to work, all 3 data files have to be considered and upon finding a session that needs to be split, all records from the same session with a timestamp greater than the splitting point will have to be split as well.\n",
    "\n",
    "Example:\n",
    "\n",
    "\n",
    "---\n",
    "\n",
    "\n",
    "SESSION_TIMEOUT_SECONDS = 60\n",
    "\n",
    "record A: sessionID = 1, timestamp = 05.05.2020 - 16:00:00 - edit\n",
    "\n",
    "record B:  sessionID = 1, timestamp = 05.05.2020 - 16:00:30 - edit\n",
    "\n",
    "record C:  sessionID = 1, timestamp = 05.05.2020 - 18:00:00 - build\n",
    "\n",
    "record D:  sessionID = 1, timestamp = 05.05.2020 - 18:00:45 - test\n",
    "\n",
    "\n",
    "---\n",
    "\n",
    "\n",
    "In this example, the first two edit events clearly belong to the same session, as the follow 30 seconds after one another. Record C has a timestamp much later in the day though. When our algorithm arrives at record C, it will assign a newly generated (unique) sessionID to the record because `recordC.timestamp - recordB.timestamp > SESSION_TIMEOUT_SECONDS`. Additionally, record D will still have the timestamp of the original sessionID assigned to it, which is now wrong since we split the session up beforehands. This means that we will have to find all events *after* the splitting point and assign the new ID to them as well.\n",
    "\n",
    "This Notebook only imports the data after this cleanup has happened."
   ]
  },
  {
   "cell_type": "code",
   "execution_count": 1,
   "metadata": {
    "colab": {},
    "colab_type": "code",
    "id": "SIlbRWBEjaGU"
   },
   "outputs": [
    {
     "name": "stderr",
     "output_type": "stream",
     "text": [
      "C:\\Users\\jaraf\\Anaconda3\\lib\\site-packages\\sklearn\\utils\\deprecation.py:144: FutureWarning: The sklearn.linear_model.stochastic_gradient module is  deprecated in version 0.22 and will be removed in version 0.24. The corresponding classes / functions should instead be imported from sklearn.linear_model. Anything that cannot be imported from sklearn.linear_model is now part of the private API.\n",
      "  warnings.warn(message, FutureWarning)\n"
     ]
    }
   ],
   "source": [
    "import pandas as pd\n",
    "import numpy as np\n",
    "import math\n",
    "from datetime import datetime\n",
    "import matplotlib.pyplot as plt\n",
    "from matplotlib.ticker import (MultipleLocator, FormatStrFormatter,\n",
    "                               AutoMinorLocator)\n",
    "import seaborn as sns\n",
    "from itertools import islice\n",
    "from sklearn import datasets, linear_model, model_selection, metrics\n",
    "from sklearn.linear_model.stochastic_gradient import SGDClassifier\n",
    "from sklearn.neighbors import KNeighborsClassifier\n",
    "from sklearn.neighbors import KNeighborsRegressor\n",
    "from sklearn.tree import DecisionTreeClassifier\n",
    "from sklearn.tree import DecisionTreeRegressor\n",
    "from sklearn.svm import SVR\n",
    "from sklearn.linear_model import (LogisticRegression, LinearRegression)\n",
    "from sklearn.model_selection import KFold\n",
    "from sklearn.metrics import accuracy_score, mean_squared_error, r2_score\n",
    "from sklearn.model_selection import train_test_split\n",
    "\n",
    "import statsmodels.tools.tools as sm\n",
    "import statsmodels.api as sm1\n",
    "import seaborn as sns\n",
    "import imblearn\n",
    "from imblearn.over_sampling import SMOTE\n"
   ]
  },
  {
   "cell_type": "code",
   "execution_count": 156,
   "metadata": {
    "colab": {},
    "colab_type": "code",
    "id": "qIK7HLv7jaGX"
   },
   "outputs": [],
   "source": [
    "df_edit = pd.read_csv(r'..\\data\\df_edit.csv', low_memory=False)\n",
    "df_test = pd.read_csv(r'..\\data\\df_test.csv', low_memory=False)\n",
    "df_build = pd.read_csv(r'..\\data\\df_build.csv', low_memory=False)"
   ]
  },
  {
   "cell_type": "markdown",
   "metadata": {
    "colab_type": "text",
    "id": "sf30-OnijaGb"
   },
   "source": [
    "# Data Exploration"
   ]
  },
  {
   "cell_type": "markdown",
   "metadata": {
    "colab_type": "text",
    "id": "xRPyw-aZjaGc"
   },
   "source": [
    "Each row in our dataset is a sessionID-timestamp pair for the respective event category (build, test or edit). For Build events we know in addition if the event succeded or not (boolean) and for test events we know how many unit test were run at a specific time and how many of those succeded.\n",
    "\n",
    "Let's take a look at the data:"
   ]
  },
  {
   "cell_type": "markdown",
   "metadata": {
    "colab_type": "text",
    "id": "A0VEA6yAjaGd"
   },
   "source": [
    "### Edit Events\n",
    "\n",
    "Edit events are triggered whenever code gets modified in some way. This covers typing on the keyboard, using refactoring tools and executing commands that change the code. For example if I copy/paste a line, that triggers an edit event, just like when I auto generate a bunch of getters and setters."
   ]
  },
  {
   "cell_type": "code",
   "execution_count": 68,
   "metadata": {
    "colab": {},
    "colab_type": "code",
    "id": "hAhaPqVkjaGd",
    "outputId": "4708f8ae-6b49-4538-ec13-176ac3577cdb"
   },
   "outputs": [
    {
     "name": "stdout",
     "output_type": "stream",
     "text": [
      " This dataset contains 497459 edits events\n"
     ]
    },
    {
     "data": {
      "text/html": [
       "<div>\n",
       "<style scoped>\n",
       "    .dataframe tbody tr th:only-of-type {\n",
       "        vertical-align: middle;\n",
       "    }\n",
       "\n",
       "    .dataframe tbody tr th {\n",
       "        vertical-align: top;\n",
       "    }\n",
       "\n",
       "    .dataframe thead th {\n",
       "        text-align: right;\n",
       "    }\n",
       "</style>\n",
       "<table border=\"1\" class=\"dataframe\">\n",
       "  <thead>\n",
       "    <tr style=\"text-align: right;\">\n",
       "      <th></th>\n",
       "      <th>sessionID</th>\n",
       "      <th>timestamp</th>\n",
       "      <th>type</th>\n",
       "    </tr>\n",
       "  </thead>\n",
       "  <tbody>\n",
       "    <tr>\n",
       "      <th>497454</th>\n",
       "      <td>ffc444d0-8382-4e52-9f04-3c42601ec739</td>\n",
       "      <td>2016-06-14 14:31:53</td>\n",
       "      <td>edit</td>\n",
       "    </tr>\n",
       "    <tr>\n",
       "      <th>497455</th>\n",
       "      <td>ffcbdaa4-e264-45a3-bddb-6f2f0afeac2f</td>\n",
       "      <td>2016-04-20 14:47:53</td>\n",
       "      <td>edit</td>\n",
       "    </tr>\n",
       "    <tr>\n",
       "      <th>497456</th>\n",
       "      <td>ffcbdaa4-e264-45a3-bddb-6f2f0afeac2f</td>\n",
       "      <td>2016-04-20 14:48:02</td>\n",
       "      <td>edit</td>\n",
       "    </tr>\n",
       "    <tr>\n",
       "      <th>497457</th>\n",
       "      <td>ffcbdaa4-e264-45a3-bddb-6f2f0afeac2f</td>\n",
       "      <td>2016-04-20 14:48:12</td>\n",
       "      <td>edit</td>\n",
       "    </tr>\n",
       "    <tr>\n",
       "      <th>497458</th>\n",
       "      <td>ffcbdaa4-e264-45a3-bddb-6f2f0afeac2f</td>\n",
       "      <td>2016-04-20 14:48:20</td>\n",
       "      <td>edit</td>\n",
       "    </tr>\n",
       "  </tbody>\n",
       "</table>\n",
       "</div>"
      ],
      "text/plain": [
       "                                   sessionID            timestamp  type\n",
       "497454  ffc444d0-8382-4e52-9f04-3c42601ec739  2016-06-14 14:31:53  edit\n",
       "497455  ffcbdaa4-e264-45a3-bddb-6f2f0afeac2f  2016-04-20 14:47:53  edit\n",
       "497456  ffcbdaa4-e264-45a3-bddb-6f2f0afeac2f  2016-04-20 14:48:02  edit\n",
       "497457  ffcbdaa4-e264-45a3-bddb-6f2f0afeac2f  2016-04-20 14:48:12  edit\n",
       "497458  ffcbdaa4-e264-45a3-bddb-6f2f0afeac2f  2016-04-20 14:48:20  edit"
      ]
     },
     "execution_count": 68,
     "metadata": {},
     "output_type": "execute_result"
    }
   ],
   "source": [
    "print(f' This dataset contains {len(df_edit)} edits events')\n",
    "df_edit.iloc[:,1:].tail()"
   ]
  },
  {
   "cell_type": "markdown",
   "metadata": {
    "colab_type": "text",
    "id": "0ryqJlA9jaGi"
   },
   "source": [
    "### Test Events\n",
    "\n",
    "Test events are written whenever the button to run unit tests is clicked. The events record the timing, how many tests were executed, and how many actually succeeded. Test events that have 0 tests run can happen when no tests are selected to run or when test execution is cancelled before the first one completes."
   ]
  },
  {
   "cell_type": "code",
   "execution_count": 127,
   "metadata": {
    "colab": {},
    "colab_type": "code",
    "id": "sv-mzkmujaGn",
    "outputId": "c5f30825-36f5-4a6f-e0e7-3c206f9deaa6"
   },
   "outputs": [
    {
     "name": "stdout",
     "output_type": "stream",
     "text": [
      " This dataset contains 3826 test events. \n",
      " SessionID-timestamp run, in average, 88.8 tests and in average over all sessionID-timestamp pair, 86.3% are \"passed\" tests.\n"
     ]
    },
    {
     "data": {
      "text/html": [
       "<div>\n",
       "<style scoped>\n",
       "    .dataframe tbody tr th:only-of-type {\n",
       "        vertical-align: middle;\n",
       "    }\n",
       "\n",
       "    .dataframe tbody tr th {\n",
       "        vertical-align: top;\n",
       "    }\n",
       "\n",
       "    .dataframe thead th {\n",
       "        text-align: right;\n",
       "    }\n",
       "</style>\n",
       "<table border=\"1\" class=\"dataframe\">\n",
       "  <thead>\n",
       "    <tr style=\"text-align: right;\">\n",
       "      <th></th>\n",
       "      <th>sessionID</th>\n",
       "      <th>timestamp</th>\n",
       "      <th>type</th>\n",
       "      <th>totalTests</th>\n",
       "      <th>testsPassed</th>\n",
       "    </tr>\n",
       "  </thead>\n",
       "  <tbody>\n",
       "    <tr>\n",
       "      <th>3821</th>\n",
       "      <td>fa4a1e32-d8a9-4fce-a57e-0aec4d6a25bc</td>\n",
       "      <td>2016-09-22 13:45:37</td>\n",
       "      <td>test</td>\n",
       "      <td>478.0</td>\n",
       "      <td>0.0</td>\n",
       "    </tr>\n",
       "    <tr>\n",
       "      <th>3822</th>\n",
       "      <td>fa4a1e32-d8a9-4fce-a57e-0aec4d6a25bc</td>\n",
       "      <td>2016-09-22 13:46:16</td>\n",
       "      <td>test</td>\n",
       "      <td>478.0</td>\n",
       "      <td>475.0</td>\n",
       "    </tr>\n",
       "    <tr>\n",
       "      <th>3823</th>\n",
       "      <td>fadb490b-cc30-4690-8ecd-ae5c818fb1e1</td>\n",
       "      <td>2016-08-31 11:57:20</td>\n",
       "      <td>test</td>\n",
       "      <td>92.0</td>\n",
       "      <td>92.0</td>\n",
       "    </tr>\n",
       "    <tr>\n",
       "      <th>3824</th>\n",
       "      <td>fbcdffc5-b444-4262-bbb6-52c091caea79</td>\n",
       "      <td>2016-07-17 12:18:13</td>\n",
       "      <td>test</td>\n",
       "      <td>0.0</td>\n",
       "      <td>0.0</td>\n",
       "    </tr>\n",
       "    <tr>\n",
       "      <th>3825</th>\n",
       "      <td>ff816b40-f797-4065-a6ef-94abb564e92c</td>\n",
       "      <td>2016-12-20 10:48:00</td>\n",
       "      <td>test</td>\n",
       "      <td>0.0</td>\n",
       "      <td>0.0</td>\n",
       "    </tr>\n",
       "  </tbody>\n",
       "</table>\n",
       "</div>"
      ],
      "text/plain": [
       "                                 sessionID            timestamp  type  \\\n",
       "3821  fa4a1e32-d8a9-4fce-a57e-0aec4d6a25bc  2016-09-22 13:45:37  test   \n",
       "3822  fa4a1e32-d8a9-4fce-a57e-0aec4d6a25bc  2016-09-22 13:46:16  test   \n",
       "3823  fadb490b-cc30-4690-8ecd-ae5c818fb1e1  2016-08-31 11:57:20  test   \n",
       "3824  fbcdffc5-b444-4262-bbb6-52c091caea79  2016-07-17 12:18:13  test   \n",
       "3825  ff816b40-f797-4065-a6ef-94abb564e92c  2016-12-20 10:48:00  test   \n",
       "\n",
       "      totalTests  testsPassed  \n",
       "3821       478.0          0.0  \n",
       "3822       478.0        475.0  \n",
       "3823        92.0         92.0  \n",
       "3824         0.0          0.0  \n",
       "3825         0.0          0.0  "
      ]
     },
     "execution_count": 127,
     "metadata": {},
     "output_type": "execute_result"
    }
   ],
   "source": [
    "print(f' This dataset contains {len(df_test)} test events.','\\n',f'SessionID-timestamp run, in average, {round(df_test.iloc[:,4].mean(),1)} tests and in average over all sessionID-timestamp pair, {round((df_test.iloc[:,5].mean()/df_test.iloc[:,4].mean())*100,1)}% are \"passed\" tests.')\n",
    "df_test.iloc[:,1:].tail()"
   ]
  },
  {
   "cell_type": "markdown",
   "metadata": {
    "colab_type": "text",
    "id": "VZ6f-PGBjaGq"
   },
   "source": [
    "### Build Events\n",
    "\n",
    "Build events are triggered whenever some part of the code is compiled. This is usually before running tests, before running the program, and before starting a debugging session."
   ]
  },
  {
   "cell_type": "code",
   "execution_count": 70,
   "metadata": {
    "colab": {},
    "colab_type": "code",
    "id": "CXRP0_DDjaGq",
    "outputId": "ca82d302-602a-47f2-818a-57ba11bdb5b2"
   },
   "outputs": [
    {
     "name": "stdout",
     "output_type": "stream",
     "text": [
      " This dataset contain 14957 build events. \n",
      " In average, 86.2% are succeddful build.\n"
     ]
    },
    {
     "data": {
      "text/html": [
       "<div>\n",
       "<style scoped>\n",
       "    .dataframe tbody tr th:only-of-type {\n",
       "        vertical-align: middle;\n",
       "    }\n",
       "\n",
       "    .dataframe tbody tr th {\n",
       "        vertical-align: top;\n",
       "    }\n",
       "\n",
       "    .dataframe thead th {\n",
       "        text-align: right;\n",
       "    }\n",
       "</style>\n",
       "<table border=\"1\" class=\"dataframe\">\n",
       "  <thead>\n",
       "    <tr style=\"text-align: right;\">\n",
       "      <th></th>\n",
       "      <th>sessionID</th>\n",
       "      <th>timestamp</th>\n",
       "      <th>type</th>\n",
       "      <th>buildSuccessful</th>\n",
       "    </tr>\n",
       "  </thead>\n",
       "  <tbody>\n",
       "    <tr>\n",
       "      <th>14952</th>\n",
       "      <td>fef6f3d6-3a5f-4f7c-8ddf-b52346a831c5</td>\n",
       "      <td>2016-04-02 22:01:13</td>\n",
       "      <td>build</td>\n",
       "      <td>False</td>\n",
       "    </tr>\n",
       "    <tr>\n",
       "      <th>14953</th>\n",
       "      <td>fef6f3d6-3a5f-4f7c-8ddf-b52346a831c5</td>\n",
       "      <td>2016-04-02 22:01:32</td>\n",
       "      <td>build</td>\n",
       "      <td>True</td>\n",
       "    </tr>\n",
       "    <tr>\n",
       "      <th>14954</th>\n",
       "      <td>ff7bee9b-075d-4139-b782-65d1587da5c9</td>\n",
       "      <td>2016-10-18 09:43:34</td>\n",
       "      <td>build</td>\n",
       "      <td>True</td>\n",
       "    </tr>\n",
       "    <tr>\n",
       "      <th>14955</th>\n",
       "      <td>ff9890a9-60d7-41f5-a655-95527ee6f4b7</td>\n",
       "      <td>2016-11-21 14:07:51</td>\n",
       "      <td>build</td>\n",
       "      <td>False</td>\n",
       "    </tr>\n",
       "    <tr>\n",
       "      <th>14956</th>\n",
       "      <td>ffb030c9-c0ff-42bd-9e04-6c4b44f5ab79</td>\n",
       "      <td>2016-05-10 16:14:55</td>\n",
       "      <td>build</td>\n",
       "      <td>True</td>\n",
       "    </tr>\n",
       "  </tbody>\n",
       "</table>\n",
       "</div>"
      ],
      "text/plain": [
       "                                  sessionID            timestamp   type  \\\n",
       "14952  fef6f3d6-3a5f-4f7c-8ddf-b52346a831c5  2016-04-02 22:01:13  build   \n",
       "14953  fef6f3d6-3a5f-4f7c-8ddf-b52346a831c5  2016-04-02 22:01:32  build   \n",
       "14954  ff7bee9b-075d-4139-b782-65d1587da5c9  2016-10-18 09:43:34  build   \n",
       "14955  ff9890a9-60d7-41f5-a655-95527ee6f4b7  2016-11-21 14:07:51  build   \n",
       "14956  ffb030c9-c0ff-42bd-9e04-6c4b44f5ab79  2016-05-10 16:14:55  build   \n",
       "\n",
       "      buildSuccessful  \n",
       "14952           False  \n",
       "14953            True  \n",
       "14954            True  \n",
       "14955           False  \n",
       "14956            True  "
      ]
     },
     "execution_count": 70,
     "metadata": {},
     "output_type": "execute_result"
    }
   ],
   "source": [
    "print(f' This dataset contain {len(df_build)} build events.','\\n',f'In average, {round(len(df_build.loc[df_build[\"buildSuccessful\"]==True])/len(df_build)*100,1)}% are succeddful build.')\n",
    "df_build.iloc[:,1:].tail()"
   ]
  },
  {
   "cell_type": "markdown",
   "metadata": {
    "colab_type": "text",
    "id": "n-i6dLvMjaGu"
   },
   "source": [
    "Unfortunately, we are not yet ready to build our model. In order to test our hypotheses we need to reprocess the data to find:\n",
    "1. the time passed between two build/test events\n",
    "2. the number of edits between build/test events"
   ]
  },
  {
   "cell_type": "markdown",
   "metadata": {},
   "source": [
    "### Before we start processing the data, let's have a closer look at the test dataframe"
   ]
  },
  {
   "cell_type": "markdown",
   "metadata": {},
   "source": [
    "Let's take a look at the relations between totalTests and testsPassed."
   ]
  },
  {
   "cell_type": "code",
   "execution_count": 126,
   "metadata": {},
   "outputs": [
    {
     "data": {
      "text/plain": [
       "<matplotlib.axes._subplots.AxesSubplot at 0x27eb6359348>"
      ]
     },
     "execution_count": 126,
     "metadata": {},
     "output_type": "execute_result"
    },
    {
     "data": {
      "image/png": "[encoded data removed]",
      "text/plain": [
       "<Figure size 432x288 with 1 Axes>"
      ]
     },
     "metadata": {
      "needs_background": "light"
     },
     "output_type": "display_data"
    }
   ],
   "source": [
    "sns.scatterplot(x=\"testsPassed\",y = \"totalTests\",data=df_test)"
   ]
  },
  {
   "cell_type": "markdown",
   "metadata": {},
   "source": [
    "The relationship between total tests and passed tests is positive linear. From only looking at the plot, one can say that it is a rather strong correlation. As calculated below, there is a correlation of 97%. This indicates that most of the data has a 100% passed-test score.\n",
    "\n",
    "In terms of outliers, there are only a few on the left side in the middle.\n",
    "\n",
    "This graph makes sense to us: Generally speaking, the number of passed tests should in the worst case stay the same, in the better case increase as the number of total tests goes up. \n",
    "\n",
    "A decreasing ratio of passedTests to totalTests (i.e. more and more tests fail) would indicate that the more tests you run, the more errors you detect in your code.\n",
    "\n",
    "Of course there is also the invariant of `Tests run >= Tests passed`."
   ]
  },
  {
   "cell_type": "code",
   "execution_count": 72,
   "metadata": {},
   "outputs": [
    {
     "name": "stdout",
     "output_type": "stream",
     "text": [
      " The correlation between the two independent variables is 0.97\n"
     ]
    }
   ],
   "source": [
    "print(f' The correlation between the two independent variables is {round(df_test[\"testsPassed\"].corr(df_test[\"totalTests\"]),2)}')"
   ]
  },
  {
   "cell_type": "code",
   "execution_count": 91,
   "metadata": {},
   "outputs": [
    {
     "name": "stdout",
     "output_type": "stream",
     "text": [
      "Total number of samples in df_test: 3826\n",
      "Number of samples that have zero passed tests: 1260\n",
      "Number of samples that have zero total tests and therefore also zero passed tests: 74 (2.0%)\n",
      "We can see that there are 1186 failed test runs due to actually failed single test and not only because there werent any tests run.\n",
      "\n",
      "The two outliers on the left of the scatterplot are:\n",
      "      Unnamed: 0 sessionID            timestamp  type  totalTests  testsPassed\n",
      "1890        2200      4382  2016-09-26 13:44:24  test      4284.0         13.0\n",
      "1892        2202      4383  2016-09-26 14:00:00  test      4284.0          0.0\n",
      "\n",
      "\n",
      "Lets quickly also look whether there are negative total tests:\n",
      "1\n",
      "Yes there is! There is one entry with a negative number of total tests run:\n",
      "\n",
      "      Unnamed: 0         sessionID timestamp  type  totalTests  testsPassed\n",
      "3819        3806  f5decb96-f8e5-4f       NaN  test        -1.0         -1.0\n",
      "\n",
      "This entry is very strange, since it doesnt have a timestamp allocated.\n"
     ]
    }
   ],
   "source": [
    "count_samples = len(df_test)\n",
    "count_zeroPassedTests= len(df_test[df_test[\"testsPassed\"]==0])\n",
    "print(f'Total number of samples in df_test: {count_samples}')\n",
    "print(f'Number of samples that have zero passed tests: {count_zeroPassedTests}')\n",
    "\n",
    "count_zeroTotalTests = len(df_test[df_test[\"totalTests\"] == 0])\n",
    "count_zeroPassedTestNotZeroTotalTests = len(df_test[(df_test[\"testsPassed\"] == 0) \n",
    "                        & (df_test[\"totalTests\"] > 0 )])\n",
    "print(f'Number of samples that have zero total tests and therefore also zero passed tests: {count_zeroTotalTests} ({round(count_zeroTotalTests/count_samples,2)*100}%)')\n",
    "\n",
    "print(f'We can see that there are {count_zeroPassedTests - count_zeroPassedTestZeroTotalTests} failed test runs due to actually failed single test and not only because there werent any tests run.\\n')\n",
    "\n",
    "print('The two outliers on the left of the scatterplot are:')\n",
    "outliers = df_test[(df_test[\"totalTests\"] > 4000) \n",
    "                        & (df_test[\"testsPassed\"] <3000)]\n",
    "print(outliers)\n",
    "\n",
    "df_test[df_test[\"testsPassed\"]==0].head()\n",
    "\n",
    "print('\\n\\nLets quickly also look whether there are negative total tests:')\n",
    "count_negativeTotalTest = len(df_test[df_test[\"totalTests\"] < 0])\n",
    "print(count_negativeTotalTest)\n",
    "print(f'Yes there is! There is one entry with a negative number of total tests run:\\n')\n",
    "print(df_test[df_test[\"totalTests\"] < 0].head())\n",
    "print('\\nThis entry is very strange, since it doesnt have a timestamp allocated.')\n"
   ]
  },
  {
   "cell_type": "markdown",
   "metadata": {},
   "source": [
    "We revealed another interesting remark: Why are there test events with zero totalTests? It could be that the dataset defines a test event not only if a test was actually run completely, but also when it only was started. For example: If a developer starts a test but aborts it before it completed, then there is a test event with still zero total tests, since it couldnt finish. \n",
    "\n",
    "They only constitute 2% of the df_test samples, but still we were asking ourselves whether we should remove them. As we see later on in the processing, we will need to calculate the ratio passed tests / total tests, which tells us whether or not a test run was successful (i.e. the probability of success). From this ratio, we then derive whether the test run was successful = 1 (ratio = 100%) or failed = 0(ratio <100%). If total test is 0, we cannot perform this calculation and thus have to insert either 0 or 1 for this \"test result boolean\".\n",
    "\n",
    "- Inserting a 0 = failed test run for those events dont seem logical, since we only consider the probability of test passing after a successful test. If for example, 0 edits have been executed after a successful test run, the next test run includes 0 total tests and we would insert 0, it would mean that without any edits of the developer, the test run suddenly failed.\n",
    "- Inserting a 1 = successful test run could tamper our regressions. If for example all those samples with 0 total tests have a lot of number of edits between two test runs, models could interpret that these many edits led to the test success - however in reality, no tests have been executed.\n",
    "\n",
    "We decided to remove those 74 sample points plus the one with no timestamp and -1 total tests from the data set, since we want to prevent jeopardising our models."
   ]
  },
  {
   "cell_type": "markdown",
   "metadata": {},
   "source": [
    "### CAREFUL: WE NEED TO DECIDE WHETHER OR NOT TO REMOVE THOSE"
   ]
  },
  {
   "cell_type": "code",
   "execution_count": 148,
   "metadata": {},
   "outputs": [
    {
     "name": "stdout",
     "output_type": "stream",
     "text": [
      "The lengh of the df_test is now: 3751\n"
     ]
    }
   ],
   "source": [
    "# removes all samples that have 0 total tests\n",
    "# attention: overwrites df_test !!\n",
    "# df_test = df_test[df_test['totalTests'] > 0]\n",
    "length_df_test = len(df_test)\n",
    "print(f'The lengh of the df_test is now: {length_df_test}')"
   ]
  },
  {
   "cell_type": "code",
   "execution_count": 149,
   "metadata": {},
   "outputs": [
    {
     "name": "stdout",
     "output_type": "stream",
     "text": [
      "1340\n",
      "2565\n"
     ]
    }
   ],
   "source": [
    "successfultest = df_test[df_test[\"totalTests\"] == df_test[\"testsPassed\"]]\n",
    "print(len(successfultest))\n",
    "print(len(df_test[df_test[\"testsPassed\"]>0]))\n"
   ]
  },
  {
   "cell_type": "markdown",
   "metadata": {},
   "source": [
    "Now that we had know the characteristics of the test events, we should start processing the data. There will follow some more correlation analysis once we've processed the data."
   ]
  },
  {
   "cell_type": "markdown",
   "metadata": {
    "colab_type": "text",
    "id": "VjW1iltvjaGv"
   },
   "source": [
    "## Processing the data in order to predict Build success"
   ]
  },
  {
   "cell_type": "markdown",
   "metadata": {
    "colab_type": "text",
    "id": "HzV37hHSjaGv"
   },
   "source": [
    "The first reflection to do is about which session should be consider in our analysis. We are interested in what happens between two consecutives events, but should we consider any subsequent build events?\n",
    "We decided to only consider what happens from a successful build to the next build. The reason for this choice is that we want to start from a 'stable' state and analyze how the probability of obtaining another stable state (i.e. Successful Build) is affected by how much changes we made. If we didn't start from a 'stable' state, our result might be biased by other changes in the past which made the state 'unstable' (not passed Build).\n",
    "\n",
    "Now we can start processing our Data as follow:\n",
    "\n",
    "* For each sessionID:\n",
    "    1. get timestamp of the last successfull build\n",
    "    2. get timestamp of next build after 1)\n",
    "        * if there is a 2) > 1) then:\n",
    "    3. get the time passed between 1) and 2)\n",
    "    4. count number of edits between the timestamp 1) and 2)\n",
    "        * else we dont take 1) into account\n",
    "* Create a new DataFrame with following variables:\n",
    "    - sessionID\n",
    "    - timestamp of the successful Build event\n",
    "    - timestamp of the next Build event (next build after the successful Build event)\n",
    "    - time passed between the successful Build and the next Build event (in seconds)\n",
    "    - edits between the successful Build and the next Build event\n",
    "    - result of the next (after a successful Build) build event (boolean)\n"
   ]
  },
  {
   "cell_type": "code",
   "execution_count": 30,
   "metadata": {
    "colab": {},
    "colab_type": "code",
    "id": "bq82qQpSjaGw"
   },
   "outputs": [],
   "source": [
    "def get_all_build(sessionID):\n",
    "    all_build = df_build[df_build[\"sessionID\"] == sessionID]\n",
    "    return all_build.sort_values([\"timestamp\"]).values"
   ]
  },
  {
   "cell_type": "code",
   "execution_count": 31,
   "metadata": {
    "colab": {},
    "colab_type": "code",
    "id": "Gp9d7o4BjaGy"
   },
   "outputs": [],
   "source": [
    "def get_successful_build(sessionID):\n",
    "    all_successful_build = df_build[(df_build[\"sessionID\"] == sessionID) & (df_build[\"buildSuccessful\"] == True)] \n",
    "    return all_successful_build.sort_values([\"timestamp\"]).values"
   ]
  },
  {
   "cell_type": "code",
   "execution_count": 32,
   "metadata": {
    "colab": {},
    "colab_type": "code",
    "id": "GSCuuhHijaG2"
   },
   "outputs": [],
   "source": [
    "def get_nr_edits_between_build(sessionID,timeLastSuccessfullBuild, timeNextBuild):\n",
    "    totalEdit = df_edit[df_edit[\"sessionID\"] == sessionID]\n",
    "    totalEdit = totalEdit.sort_values([\"timestamp\"])\n",
    "    editBetweenSuccessBuildAndBuild = totalEdit[(totalEdit[\"timestamp\"] <= timeNextBuild) & (totalEdit[\"timestamp\"] >= timeLastSuccessfullBuild)]\n",
    "    return editBetweenSuccessBuildAndBuild[\"timestamp\"].values.size"
   ]
  },
  {
   "cell_type": "code",
   "execution_count": 33,
   "metadata": {
    "colab": {},
    "colab_type": "code",
    "id": "dOgkJBMljaG6"
   },
   "outputs": [],
   "source": [
    "def edits_from_pass_to_next_build(sessionID):\n",
    "    result = []\n",
    "\n",
    "    # get all successful build of session \n",
    "    allSuccessfulBuild = get_successful_build(sessionID)\n",
    "    allBuild = get_all_build(sessionID)\n",
    "    numOfSuccessfulBuild = np.size(allSuccessfulBuild,0)\n",
    "    numOfBuild = np.size(allBuild,0)\n",
    "    # iterate over each passed build\n",
    "    for s in range(numOfSuccessfulBuild):\n",
    "        # if build follows, count edits\n",
    "        if allBuild[-1][2]>allSuccessfulBuild[s][2]:\n",
    "            for b in range(numOfBuild):\n",
    "                if allBuild[b][2]>allSuccessfulBuild[s][2]:\n",
    "                    break\n",
    "                    \n",
    "            timeLastSuccessfulBuild=allSuccessfulBuild[s][2]\n",
    "            timeNextBuild=allBuild[b][2]\n",
    "            resultNextBuild=allBuild[b][4]\n",
    "            nrOfEdit=get_nr_edits_between_build(sessionID,timeLastSuccessfulBuild, timeNextBuild)\n",
    "            sessionID = allBuild[b][1]\n",
    "            time_passed = pd.Timedelta(datetime.strptime(timeNextBuild, '%Y-%m-%d %H:%M:%S')-datetime.strptime(timeLastSuccessfulBuild, '%Y-%m-%d %H:%M:%S')).seconds\n",
    "            if nrOfEdit==0:\n",
    "                pass\n",
    "            else:\n",
    "                result.append([sessionID, timeLastSuccessfulBuild, timeNextBuild, time_passed, nrOfEdit, resultNextBuild])\n",
    "            \n",
    "    return result"
   ]
  },
  {
   "cell_type": "code",
   "execution_count": 34,
   "metadata": {
    "colab": {},
    "colab_type": "code",
    "id": "3YS2VGQ5jaG8",
    "outputId": "56209141-a614-462f-b9d6-3fce83cfad57"
   },
   "outputs": [
    {
     "name": "stdout",
     "output_type": "stream",
     "text": [
      "time before loop: 2020-06-01 19:07:41.596002 \n",
      "\n",
      "time after loop: 2020-06-01 19:13:19.572685 \n",
      "\n"
     ]
    }
   ],
   "source": [
    "#Iterate over all sessions and create DataFrame\n",
    "final_result=[]\n",
    "allSessionID=df_build.sessionID.unique()\n",
    "print(f'time before loop: {datetime.now(tz=None)} \\n')\n",
    "# get edits_from_pass_to_next_build for all sessionID\n",
    "for sessionID in allSessionID:\n",
    "    Observations = edits_from_pass_to_next_build(sessionID)\n",
    "    NrOfObservations = len(Observations)\n",
    "    # take only sessionID with at least 1 successful build and at least 1 build after that  \n",
    "    if NrOfObservations > 0:\n",
    "        for Obs in Observations:\n",
    "            final_result.append(Obs)\n",
    "print(f'time after loop: {datetime.now(tz=None)} \\n')"
   ]
  },
  {
   "cell_type": "code",
   "execution_count": 36,
   "metadata": {
    "colab": {},
    "colab_type": "code",
    "id": "HWSHzVVwjaG_",
    "outputId": "e0945431-e89e-4e42-cbfd-438ab862d81e"
   },
   "outputs": [
    {
     "data": {
      "text/html": [
       "<div>\n",
       "<style scoped>\n",
       "    .dataframe tbody tr th:only-of-type {\n",
       "        vertical-align: middle;\n",
       "    }\n",
       "\n",
       "    .dataframe tbody tr th {\n",
       "        vertical-align: top;\n",
       "    }\n",
       "\n",
       "    .dataframe thead th {\n",
       "        text-align: right;\n",
       "    }\n",
       "</style>\n",
       "<table border=\"1\" class=\"dataframe\">\n",
       "  <thead>\n",
       "    <tr style=\"text-align: right;\">\n",
       "      <th></th>\n",
       "      <th>sessionID</th>\n",
       "      <th>timestampSuccessBuild</th>\n",
       "      <th>timestampNextBuild</th>\n",
       "      <th>time_passed</th>\n",
       "      <th>#editsUntilNextBuild</th>\n",
       "      <th>nextBuildResult</th>\n",
       "    </tr>\n",
       "  </thead>\n",
       "  <tbody>\n",
       "    <tr>\n",
       "      <th>9557</th>\n",
       "      <td>fe8caa7d-fbb6-494c-aedb-ecbf22ff8a91</td>\n",
       "      <td>2016-07-25 18:17:02</td>\n",
       "      <td>2016-07-25 18:20:21</td>\n",
       "      <td>199</td>\n",
       "      <td>18</td>\n",
       "      <td>True</td>\n",
       "    </tr>\n",
       "    <tr>\n",
       "      <th>9558</th>\n",
       "      <td>fe8caa7d-fbb6-494c-aedb-ecbf22ff8a91</td>\n",
       "      <td>2016-07-25 18:20:21</td>\n",
       "      <td>2016-07-25 18:22:36</td>\n",
       "      <td>135</td>\n",
       "      <td>12</td>\n",
       "      <td>True</td>\n",
       "    </tr>\n",
       "    <tr>\n",
       "      <th>9559</th>\n",
       "      <td>fef6f3d6-3a5f-4f7c-8ddf-b52346a831c5</td>\n",
       "      <td>2016-04-02 22:00:06</td>\n",
       "      <td>2016-04-02 22:00:28</td>\n",
       "      <td>22</td>\n",
       "      <td>5</td>\n",
       "      <td>True</td>\n",
       "    </tr>\n",
       "    <tr>\n",
       "      <th>9560</th>\n",
       "      <td>fef6f3d6-3a5f-4f7c-8ddf-b52346a831c5</td>\n",
       "      <td>2016-04-02 22:00:28</td>\n",
       "      <td>2016-04-02 22:00:47</td>\n",
       "      <td>19</td>\n",
       "      <td>2</td>\n",
       "      <td>True</td>\n",
       "    </tr>\n",
       "    <tr>\n",
       "      <th>9561</th>\n",
       "      <td>fef6f3d6-3a5f-4f7c-8ddf-b52346a831c5</td>\n",
       "      <td>2016-04-02 22:00:47</td>\n",
       "      <td>2016-04-02 22:01:13</td>\n",
       "      <td>26</td>\n",
       "      <td>5</td>\n",
       "      <td>False</td>\n",
       "    </tr>\n",
       "  </tbody>\n",
       "</table>\n",
       "</div>"
      ],
      "text/plain": [
       "                                 sessionID timestampSuccessBuild  \\\n",
       "9557  fe8caa7d-fbb6-494c-aedb-ecbf22ff8a91   2016-07-25 18:17:02   \n",
       "9558  fe8caa7d-fbb6-494c-aedb-ecbf22ff8a91   2016-07-25 18:20:21   \n",
       "9559  fef6f3d6-3a5f-4f7c-8ddf-b52346a831c5   2016-04-02 22:00:06   \n",
       "9560  fef6f3d6-3a5f-4f7c-8ddf-b52346a831c5   2016-04-02 22:00:28   \n",
       "9561  fef6f3d6-3a5f-4f7c-8ddf-b52346a831c5   2016-04-02 22:00:47   \n",
       "\n",
       "       timestampNextBuild  time_passed  #editsUntilNextBuild  nextBuildResult  \n",
       "9557  2016-07-25 18:20:21          199                    18             True  \n",
       "9558  2016-07-25 18:22:36          135                    12             True  \n",
       "9559  2016-04-02 22:00:28           22                     5             True  \n",
       "9560  2016-04-02 22:00:47           19                     2             True  \n",
       "9561  2016-04-02 22:01:13           26                     5            False  "
      ]
     },
     "execution_count": 36,
     "metadata": {},
     "output_type": "execute_result"
    }
   ],
   "source": [
    "#create DataFrame\n",
    "column_labels = ['sessionID','timestampSuccessBuild','timestampNextBuild','time_passed', '#editsUntilNextBuild', 'nextBuildResult']\n",
    "new_df_build = pd.DataFrame(final_result, columns=column_labels)\n",
    "#show the new DataFrame\n",
    "new_df_build.tail()"
   ]
  },
  {
   "cell_type": "code",
   "execution_count": 37,
   "metadata": {},
   "outputs": [
    {
     "data": {
      "text/plain": [
       "sessionID                False\n",
       "timestampSuccessBuild    False\n",
       "timestampNextBuild       False\n",
       "time_passed              False\n",
       "#editsUntilNextBuild     False\n",
       "nextBuildResult          False\n",
       "dtype: bool"
      ]
     },
     "execution_count": 37,
     "metadata": {},
     "output_type": "execute_result"
    }
   ],
   "source": [
    "new_df_build.isnull().any()"
   ]
  },
  {
   "cell_type": "markdown",
   "metadata": {
    "colab_type": "text",
    "id": "7c_hrK3ujaHC"
   },
   "source": [
    "##### Further data exploration\n",
    "Now that we have our final dataset we can explore our data better. First, we look at the distribution of how many builds actually succeed and how often builds happen."
   ]
  },
  {
   "cell_type": "code",
   "execution_count": 38,
   "metadata": {
    "colab": {},
    "colab_type": "code",
    "id": "MSUmyxBojaHD",
    "outputId": "92c1a3b0-b430-411d-aeef-8e4546b175e8"
   },
   "outputs": [
    {
     "data": {
      "image/png": "[encoded data removed]",
      "text/plain": [
       "<Figure size 432x288 with 1 Axes>"
      ]
     },
     "metadata": {
      "needs_background": "light"
     },
     "output_type": "display_data"
    },
    {
     "name": "stdout",
     "output_type": "stream",
     "text": [
      "Only 5.3% of the build-events fail\n"
     ]
    }
   ],
   "source": [
    "sns.countplot(x=\"nextBuildResult\",data=new_df_build)\n",
    "plt.show()\n",
    "count_failedBuild = len(new_df_build[new_df_build[\"nextBuildResult\"]==False])\n",
    "count_passedBuild = len(new_df_build[new_df_build[\"nextBuildResult\"]==True])\n",
    "pct_failedBuild = round(count_failedBuild/(count_failedBuild+count_passedBuild)*100,1)\n",
    "print(f'Only {pct_failedBuild}% of the build-events fail')"
   ]
  },
  {
   "cell_type": "code",
   "execution_count": 39,
   "metadata": {
    "colab": {},
    "colab_type": "code",
    "id": "68Jgs-6IjaHF",
    "outputId": "14d33b2d-e275-4e70-cac5-e8058c02459b"
   },
   "outputs": [
    {
     "data": {
      "text/html": [
       "<div>\n",
       "<style scoped>\n",
       "    .dataframe tbody tr th:only-of-type {\n",
       "        vertical-align: middle;\n",
       "    }\n",
       "\n",
       "    .dataframe tbody tr th {\n",
       "        vertical-align: top;\n",
       "    }\n",
       "\n",
       "    .dataframe thead tr th {\n",
       "        text-align: left;\n",
       "    }\n",
       "\n",
       "    .dataframe thead tr:last-of-type th {\n",
       "        text-align: right;\n",
       "    }\n",
       "</style>\n",
       "<table border=\"1\" class=\"dataframe\">\n",
       "  <thead>\n",
       "    <tr>\n",
       "      <th></th>\n",
       "      <th colspan=\"5\" halign=\"left\">#editsUntilNextBuild</th>\n",
       "      <th colspan=\"5\" halign=\"left\">time_passed</th>\n",
       "    </tr>\n",
       "    <tr>\n",
       "      <th></th>\n",
       "      <th>count</th>\n",
       "      <th>mean</th>\n",
       "      <th>median</th>\n",
       "      <th>max</th>\n",
       "      <th>min</th>\n",
       "      <th>count</th>\n",
       "      <th>mean</th>\n",
       "      <th>median</th>\n",
       "      <th>max</th>\n",
       "      <th>min</th>\n",
       "    </tr>\n",
       "    <tr>\n",
       "      <th>nextBuildResult</th>\n",
       "      <th></th>\n",
       "      <th></th>\n",
       "      <th></th>\n",
       "      <th></th>\n",
       "      <th></th>\n",
       "      <th></th>\n",
       "      <th></th>\n",
       "      <th></th>\n",
       "      <th></th>\n",
       "      <th></th>\n",
       "    </tr>\n",
       "  </thead>\n",
       "  <tbody>\n",
       "    <tr>\n",
       "      <th>False</th>\n",
       "      <td>507</td>\n",
       "      <td>19.879684</td>\n",
       "      <td>8</td>\n",
       "      <td>249</td>\n",
       "      <td>1</td>\n",
       "      <td>507</td>\n",
       "      <td>248.238659</td>\n",
       "      <td>117</td>\n",
       "      <td>2082</td>\n",
       "      <td>1</td>\n",
       "    </tr>\n",
       "    <tr>\n",
       "      <th>True</th>\n",
       "      <td>9055</td>\n",
       "      <td>12.329652</td>\n",
       "      <td>6</td>\n",
       "      <td>286</td>\n",
       "      <td>1</td>\n",
       "      <td>9055</td>\n",
       "      <td>160.658421</td>\n",
       "      <td>81</td>\n",
       "      <td>2879</td>\n",
       "      <td>1</td>\n",
       "    </tr>\n",
       "  </tbody>\n",
       "</table>\n",
       "</div>"
      ],
      "text/plain": [
       "                #editsUntilNextBuild                            time_passed  \\\n",
       "                               count       mean median  max min       count   \n",
       "nextBuildResult                                                               \n",
       "False                            507  19.879684      8  249   1         507   \n",
       "True                            9055  12.329652      6  286   1        9055   \n",
       "\n",
       "                                              \n",
       "                       mean median   max min  \n",
       "nextBuildResult                               \n",
       "False            248.238659    117  2082   1  \n",
       "True             160.658421     81  2879   1  "
      ]
     },
     "execution_count": 39,
     "metadata": {},
     "output_type": "execute_result"
    }
   ],
   "source": [
    "new_df_build.groupby(\"nextBuildResult\").agg({\"#editsUntilNextBuild\":[\"count\",\"mean\",\"median\",\"max\",\"min\"],\"time_passed\":[\"count\",\"mean\",\"median\",\"max\",\"min\"]})"
   ]
  },
  {
   "cell_type": "markdown",
   "metadata": {
    "colab_type": "text",
    "id": "UNUSyBNljaHH"
   },
   "source": [
    "First remarks:\n",
    "* Our classes (successful vs. unsuccessful Build events) are strongly imbalanced.\n",
    "* The average number of edits and the average time passed for unsuccessful Build are more then twice as much as for successful Build. This seems to support our hypothesis.\n",
    "* However our variable \"number of edits\" and \"time passed\" between builds events are strongly positive skewed.\n",
    "* We did not expect builds to happen that often. We have a mean of less than 2 minutes between builds, which might also explain why many builds succeed.\n",
    "\n",
    "Let's try to visualize the timings"
   ]
  },
  {
   "cell_type": "code",
   "execution_count": 40,
   "metadata": {
    "colab": {},
    "colab_type": "code",
    "id": "cur9RHfyjaHI",
    "outputId": "86b27c64-af12-45b4-e91f-6cac45c6439d"
   },
   "outputs": [
    {
     "data": {
      "text/plain": [
       "<matplotlib.axes._subplots.AxesSubplot at 0x20e002b72c8>"
      ]
     },
     "execution_count": 40,
     "metadata": {},
     "output_type": "execute_result"
    },
    {
     "data": {
      "image/png": "[encoded data removed]",
      "text/plain": [
       "<Figure size 432x288 with 1 Axes>"
      ]
     },
     "metadata": {
      "needs_background": "light"
     },
     "output_type": "display_data"
    }
   ],
   "source": [
    "sns.boxplot(x=new_df_build[\"nextBuildResult\"], y=new_df_build[\"#editsUntilNextBuild\"])"
   ]
  },
  {
   "cell_type": "code",
   "execution_count": 3,
   "metadata": {
    "colab": {},
    "colab_type": "code",
    "id": "3HIuLLQTjaHK",
    "outputId": "78475fc4-6dc6-4159-9fcc-15ceb09d1a07"
   },
   "outputs": [
    {
     "ename": "NameError",
     "evalue": "name 'new_df_build' is not defined",
     "output_type": "error",
     "traceback": [
      "\u001b[1;31m---------------------------------------------------------------------------\u001b[0m",
      "\u001b[1;31mNameError\u001b[0m                                 Traceback (most recent call last)",
      "\u001b[1;32m<ipython-input-3-cf06066e23ee>\u001b[0m in \u001b[0;36m<module>\u001b[1;34m\u001b[0m\n\u001b[1;32m----> 1\u001b[1;33m \u001b[0msns\u001b[0m\u001b[1;33m.\u001b[0m\u001b[0mboxplot\u001b[0m\u001b[1;33m(\u001b[0m\u001b[0mx\u001b[0m\u001b[1;33m=\u001b[0m\u001b[0mnew_df_build\u001b[0m\u001b[1;33m[\u001b[0m\u001b[1;34m\"nextBuildResult\"\u001b[0m\u001b[1;33m]\u001b[0m\u001b[1;33m,\u001b[0m \u001b[0my\u001b[0m\u001b[1;33m=\u001b[0m\u001b[0mnew_df_build\u001b[0m\u001b[1;33m[\u001b[0m\u001b[1;34m\"time_passed\"\u001b[0m\u001b[1;33m]\u001b[0m\u001b[1;33m)\u001b[0m\u001b[1;33m\u001b[0m\u001b[1;33m\u001b[0m\u001b[0m\n\u001b[0m",
      "\u001b[1;31mNameError\u001b[0m: name 'new_df_build' is not defined"
     ]
    }
   ],
   "source": [
    "sns.boxplot(x=new_df_build[\"nextBuildResult\"], y=new_df_build[\"time_passed\"])"
   ]
  },
  {
   "cell_type": "markdown",
   "metadata": {
    "colab_type": "text",
    "id": "ZBDycc9PjaHN"
   },
   "source": [
    "This Bloxplot representation show us that many datapoint are recognize as possible outliers. Let's try to consider only observation with at most 100 edits and less than 1200 seconds between Build event to remove some of the noise."
   ]
  },
  {
   "cell_type": "code",
   "execution_count": 42,
   "metadata": {
    "colab": {},
    "colab_type": "code",
    "id": "aXYi6X9QjaHO",
    "outputId": "c0ab9076-d04c-42e0-e8d2-1d52dc3124be"
   },
   "outputs": [
    {
     "name": "stdout",
     "output_type": "stream",
     "text": [
      "96.1% of the unsuccessful build events have less than 101 edits and less then 20 min between the two Build events\n",
      "98.8% of the successful build events have less than 101 edits and less then 20 min between the two Build events\n"
     ]
    },
    {
     "data": {
      "image/png": "[encoded data removed]",
      "text/plain": [
       "<Figure size 432x288 with 1 Axes>"
      ]
     },
     "metadata": {
      "needs_background": "light"
     },
     "output_type": "display_data"
    },
    {
     "name": "stdout",
     "output_type": "stream",
     "text": [
      "Only 5.2% of the build-events fail if we consider this restricted dataset.\n"
     ]
    }
   ],
   "source": [
    "new_df_build1=new_df_build.loc[(new_df_build[\"#editsUntilNextBuild\"]<100) & (new_df_build[\"time_passed\"]<1200)]\n",
    "print(f'{round(len(new_df_build1[new_df_build1[\"nextBuildResult\"]==False])/len(new_df_build[new_df_build[\"nextBuildResult\"]==False])*100,1)}% of the unsuccessful build events have less than 101 edits and less then 20 min between the two Build events')\n",
    "print(f'{round(len(new_df_build1[new_df_build1[\"nextBuildResult\"]==True])/len(new_df_build[new_df_build[\"nextBuildResult\"]==True])*100,1)}% of the successful build events have less than 101 edits and less then 20 min between the two Build events')\n",
    "\n",
    "sns.countplot(x=\"nextBuildResult\",data=new_df_build1)\n",
    "plt.show()\n",
    "count_failedBuild = len(new_df_build1[new_df_build1[\"nextBuildResult\"]==False])\n",
    "count_passedBuild = len(new_df_build1[new_df_build1[\"nextBuildResult\"]==True])\n",
    "pct_failedBuild = round(count_failedBuild/(count_failedBuild+count_passedBuild)*100,1)\n",
    "print(f'Only {pct_failedBuild}% of the build-events fail if we consider this restricted dataset.')"
   ]
  },
  {
   "cell_type": "markdown",
   "metadata": {},
   "source": [
    "Given that we already considered possible problems within sessionID and we already splitted many sessionID using our session_timeout indicator, we don't see any reasonable reasons to further restrict our dataset. Therefore we decided to continue our analysis with the whole dataset.  "
   ]
  },
  {
   "cell_type": "markdown",
   "metadata": {},
   "source": [
    "## Process the data in order to predict the probability of a successful test "
   ]
  },
  {
   "cell_type": "markdown",
   "metadata": {},
   "source": [
    "For the analysis of the relationship between the A) number of edits done or B) the time passed between two tests and the success of a test, we again want to have this \"stable\" state: We only consider the number of edits done / time passed after a successful test - sessions that have zero passed tests won't be analyzed.\n",
    "\n",
    "Now, the question arose how to define a \"successful\" test. There are two possibilities:\n",
    "- a test run is successful if all the tests were successful, i.e. passedTests over totalTests equals to 1\n",
    "- a test run is successful if at least 1 test was successful, i.e. passesTests over totalTests lies between 0 and 1\n",
    "\n",
    "We decided on classifying a test run only successful when 100% of the tests passed. With the second definition, the spectrum of a successful test would be too big (a test run with 5% passed tests would be considered just as successful as a test run with 100%). This decision of calling a test successful with 100% passing tests also goes along well with the definition of a successful build (there are no partial successful builds).\n",
    "\n",
    "In order to predict the probability of a successful test run, we need the two data sets \"df_edit\" and \"df_test\". The latter has a column \"testsPassed\" which gives us the information whether to consider a particular session or not: It has to be equal to the total numbers of tests run such that it reached this 100% passed tests.\n",
    "\n",
    "\n",
    "To process our data, we defined several auxiliary functions which generally speaking do the following:\n",
    "\n",
    "* For each sessionID:\n",
    "    - get all entries that have passed tests equal total tests\n",
    "* For each sessionID with a passed test run:\n",
    "    - count the number of edits done until the next test run\n",
    "    - here, we don't differentiate passed or failed tests, since that's exactly what we're interested in. \n",
    "* Create a new DataFrame with the following variables:\n",
    "    - sessionID\n",
    "    - timeTestPass: timestamp when a test passed\n",
    "    - timeNextTest: timestamp of the next test run of this sessionID\n",
    "    - editsUntilNextTest: number of edits done from timePass until timeNext\n",
    "    - ratio_p_t: result of the next test run. Ratio = passedTestNext/totalTestsNext, i.e. the percentage of passed tests\n",
    "    - totalTestsNext: total tests run in the next test (which was at timeNext)\n",
    "    - testPassedNext: number of tests passed in the next test (which was at timeNext)\n",
    "    - nextTestResult: boolean which is true if 100% of the tests passed = test was successful, otherwise false\n"
   ]
  },
  {
   "cell_type": "markdown",
   "metadata": {
    "colab_type": "text",
    "id": "g9sG6Z1KjaHR"
   },
   "source": [
    "### Processing of edit and test data set\n",
    "First, count the number of edits since last successful tests run"
   ]
  },
  {
   "cell_type": "code",
   "execution_count": 128,
   "metadata": {
    "colab": {},
    "colab_type": "code",
    "id": "UQxfHuhnjaHS"
   },
   "outputs": [],
   "source": [
    "# counts the numbers of edits between a test and the next test\n",
    "# for our purpose, be aware to only call it with the first test being successful, i.e. 100%\n",
    "def get_nr_edits_between_tests(sessionID, timeFirstTest , timeNextTest):\n",
    "    result = df_edit[(df_edit[\"timestamp\"] < timeNextTest)\n",
    "                                 & (df_edit[\"timestamp\"] > timeFirstTest) \n",
    "                                 & (df_edit[\"sessionID\"] == sessionID)]\n",
    "    result = np.asarray(result)\n",
    "    return len(result)"
   ]
  },
  {
   "cell_type": "markdown",
   "metadata": {},
   "source": [
    "Prepare a method to create a DataFrame with 9 columns"
   ]
  },
  {
   "cell_type": "code",
   "execution_count": 129,
   "metadata": {
    "colab": {},
    "colab_type": "code",
    "id": "YVBcA7oZjaHX"
   },
   "outputs": [],
   "source": [
    "def create_df(resultArray):\n",
    "    # Create DataFrame\n",
    "    column_labels = ['sessionID','timeTestPass','timeNextTest','timePassed','editsUntilNextTest', \n",
    "                     'ratio_p_t','totalTestsNext', 'testPassedNext' ,'nextTestResult']\n",
    "    df = pd.DataFrame(resultArray, columns=column_labels)\n",
    "    return df;"
   ]
  },
  {
   "cell_type": "markdown",
   "metadata": {
    "colab_type": "text",
    "id": "-G5SwDPljaHZ"
   },
   "source": [
    "#### Now iterate over all sessions and create a DataFrame"
   ]
  },
  {
   "cell_type": "code",
   "execution_count": 157,
   "metadata": {
    "colab": {},
    "colab_type": "code",
    "id": "CtaeNr6BjaHa"
   },
   "outputs": [],
   "source": [
    "# Creates a DF and returns a list that contains among other things\n",
    "# the nr of edits from a passing test until the next test event and whether this next test has been successful\n",
    "def get_edits_tests_list():\n",
    "    successfulTestRuns=0\n",
    "    unsuccessfulTestRuns=0\n",
    "    successfulTestRunsWithNextTest=0\n",
    "    sessionWithPassedTestsButNoNextTest=0\n",
    "    result=[]\n",
    "    print(len(df_test))\n",
    "    for index, row in df_test.iterrows():\n",
    "        # only for test runs with 100% passed-test score  \n",
    "        #if(row[\"testsPassed\"] == row[\"totalTests\"]):\n",
    "        # at least one test has to have passed\n",
    "        if(row[\"testsPassed\"] > 0):\n",
    "            successfulTestRuns+=1\n",
    "            #has next test\n",
    "            if((index+1 < len(df_test)) and (df_test.iloc[index+1].sessionID == row[\"sessionID\"])):\n",
    "                successfulTestRunsWithNextTest+=1\n",
    "                item=[]\n",
    "                timestampNext=df_test.iloc[index+1].timestamp\n",
    "                time_passed = pd.Timedelta(datetime.strptime(timestampNext, '%Y-%m-%d %H:%M:%S')\n",
    "                                           -datetime.strptime(row[\"timestamp\"], '%Y-%m-%d %H:%M:%S')).seconds\n",
    "                totalTestsNext=df_test.iloc[index+1].totalTests\n",
    "                passedTestNext=df_test.iloc[index+1].testsPassed\n",
    "                nrOfEdits=get_nr_edits_between_tests(row[\"sessionID\"], row[\"timestamp\"], timestampNext)\n",
    "                if(passedTestNext == totalTestsNext):\n",
    "                    resultTestNextBoolean = 1\n",
    "                else:\n",
    "                    resultTestNextBoolean = 0\n",
    "                if(totalTestsNext != 0):\n",
    "                    ratioPT = (passedTestNext/totalTestsNext)\n",
    "                else:\n",
    "                    # if no tests have been executed, we define this as successful test run\n",
    "                    ratioPT = 1\n",
    "                item.append(row[\"sessionID\"])\n",
    "                item.append(row[\"timestamp\"])\n",
    "                item.append(timestampNext)\n",
    "                item.append(time_passed)\n",
    "                item.append(nrOfEdits)\n",
    "                item.append(float(ratioPT))\n",
    "                item.append(int(totalTestsNext))\n",
    "                item.append(int(passedTestNext))\n",
    "                item.append(int(resultTestNextBoolean))\n",
    "                result.append(item)\n",
    "            else:\n",
    "                sessionWithPassedTestsButNoNextTest+=1\n",
    "        else:\n",
    "            unsuccessfulTestRuns+=1\n",
    "    print(f'SessionIDs with successful test runs: {successfulTestRuns}')\n",
    "    print(f'SessionIDs with successful test runs and next a test run: {successfulTestRunsWithNextTest}')\n",
    "    print(f'SessionIDs with passed test but no next test: {sessionWithPassedTestsButNoNextTest}')\n",
    "    print(f'SessionIDs with unsuccessful test runs: {unsuccessfulTestRuns}')\n",
    "    \n",
    "    return result"
   ]
  },
  {
   "cell_type": "code",
   "execution_count": 158,
   "metadata": {
    "colab": {},
    "colab_type": "code",
    "id": "UzjGW3sKjaHd",
    "outputId": "689607a6-c98c-4208-c2b6-1148b72dc519"
   },
   "outputs": [
    {
     "name": "stdout",
     "output_type": "stream",
     "text": [
      "3826\n",
      "SessionIDs with successful test runs: 2565\n",
      "SessionIDs with successful test runs and next a test run: 2016\n",
      "SessionIDs with passed test but no next test: 549\n",
      "SessionIDs with unsuccessful test runs: 1261\n"
     ]
    }
   ],
   "source": [
    "edits_tests= get_edits_tests_list()"
   ]
  },
  {
   "cell_type": "code",
   "execution_count": 161,
   "metadata": {
    "colab": {},
    "colab_type": "code",
    "id": "OT8yU2P0jaHe",
    "outputId": "d29e865c-eb7b-4bd0-84e9-c73ce03ff154"
   },
   "outputs": [
    {
     "data": {
      "text/html": [
       "<div>\n",
       "<style scoped>\n",
       "    .dataframe tbody tr th:only-of-type {\n",
       "        vertical-align: middle;\n",
       "    }\n",
       "\n",
       "    .dataframe tbody tr th {\n",
       "        vertical-align: top;\n",
       "    }\n",
       "\n",
       "    .dataframe thead th {\n",
       "        text-align: right;\n",
       "    }\n",
       "</style>\n",
       "<table border=\"1\" class=\"dataframe\">\n",
       "  <thead>\n",
       "    <tr style=\"text-align: right;\">\n",
       "      <th></th>\n",
       "      <th>sessionID</th>\n",
       "      <th>timeTestPass</th>\n",
       "      <th>timeNextTest</th>\n",
       "      <th>timePassed</th>\n",
       "      <th>editsUntilNextTest</th>\n",
       "      <th>ratio_p_t</th>\n",
       "      <th>totalTestsNext</th>\n",
       "      <th>testPassedNext</th>\n",
       "      <th>nextTestResult</th>\n",
       "    </tr>\n",
       "  </thead>\n",
       "  <tbody>\n",
       "    <tr>\n",
       "      <th>0</th>\n",
       "      <td>158</td>\n",
       "      <td>2016-07-13 18:49:28</td>\n",
       "      <td>2016-07-13 18:51:53</td>\n",
       "      <td>145</td>\n",
       "      <td>15</td>\n",
       "      <td>1.0</td>\n",
       "      <td>21</td>\n",
       "      <td>21</td>\n",
       "      <td>1</td>\n",
       "    </tr>\n",
       "    <tr>\n",
       "      <th>1</th>\n",
       "      <td>158</td>\n",
       "      <td>2016-07-13 18:51:53</td>\n",
       "      <td>2016-07-13 18:53:04</td>\n",
       "      <td>71</td>\n",
       "      <td>3</td>\n",
       "      <td>1.0</td>\n",
       "      <td>21</td>\n",
       "      <td>21</td>\n",
       "      <td>1</td>\n",
       "    </tr>\n",
       "    <tr>\n",
       "      <th>2</th>\n",
       "      <td>158</td>\n",
       "      <td>2016-07-13 18:53:04</td>\n",
       "      <td>2016-07-13 18:53:20</td>\n",
       "      <td>16</td>\n",
       "      <td>1</td>\n",
       "      <td>1.0</td>\n",
       "      <td>21</td>\n",
       "      <td>21</td>\n",
       "      <td>1</td>\n",
       "    </tr>\n",
       "    <tr>\n",
       "      <th>3</th>\n",
       "      <td>158</td>\n",
       "      <td>2016-07-13 18:53:20</td>\n",
       "      <td>2016-07-13 18:53:27</td>\n",
       "      <td>7</td>\n",
       "      <td>0</td>\n",
       "      <td>1.0</td>\n",
       "      <td>21</td>\n",
       "      <td>21</td>\n",
       "      <td>1</td>\n",
       "    </tr>\n",
       "    <tr>\n",
       "      <th>4</th>\n",
       "      <td>158</td>\n",
       "      <td>2016-07-13 18:53:27</td>\n",
       "      <td>2016-07-13 18:53:55</td>\n",
       "      <td>28</td>\n",
       "      <td>1</td>\n",
       "      <td>1.0</td>\n",
       "      <td>21</td>\n",
       "      <td>21</td>\n",
       "      <td>1</td>\n",
       "    </tr>\n",
       "    <tr>\n",
       "      <th>5</th>\n",
       "      <td>158</td>\n",
       "      <td>2016-07-13 18:53:55</td>\n",
       "      <td>2016-07-13 18:54:54</td>\n",
       "      <td>59</td>\n",
       "      <td>6</td>\n",
       "      <td>1.0</td>\n",
       "      <td>21</td>\n",
       "      <td>21</td>\n",
       "      <td>1</td>\n",
       "    </tr>\n",
       "    <tr>\n",
       "      <th>6</th>\n",
       "      <td>158</td>\n",
       "      <td>2016-07-13 18:54:54</td>\n",
       "      <td>2016-07-13 18:55:50</td>\n",
       "      <td>56</td>\n",
       "      <td>3</td>\n",
       "      <td>1.0</td>\n",
       "      <td>21</td>\n",
       "      <td>21</td>\n",
       "      <td>1</td>\n",
       "    </tr>\n",
       "    <tr>\n",
       "      <th>7</th>\n",
       "      <td>158</td>\n",
       "      <td>2016-07-13 18:55:50</td>\n",
       "      <td>2016-07-13 18:57:15</td>\n",
       "      <td>85</td>\n",
       "      <td>1</td>\n",
       "      <td>1.0</td>\n",
       "      <td>21</td>\n",
       "      <td>21</td>\n",
       "      <td>1</td>\n",
       "    </tr>\n",
       "    <tr>\n",
       "      <th>8</th>\n",
       "      <td>158</td>\n",
       "      <td>2016-07-13 18:57:15</td>\n",
       "      <td>2016-07-13 19:02:13</td>\n",
       "      <td>298</td>\n",
       "      <td>1</td>\n",
       "      <td>1.0</td>\n",
       "      <td>21</td>\n",
       "      <td>21</td>\n",
       "      <td>1</td>\n",
       "    </tr>\n",
       "    <tr>\n",
       "      <th>9</th>\n",
       "      <td>158</td>\n",
       "      <td>2016-07-13 19:02:13</td>\n",
       "      <td>2016-07-13 19:03:28</td>\n",
       "      <td>75</td>\n",
       "      <td>5</td>\n",
       "      <td>1.0</td>\n",
       "      <td>21</td>\n",
       "      <td>21</td>\n",
       "      <td>1</td>\n",
       "    </tr>\n",
       "  </tbody>\n",
       "</table>\n",
       "</div>"
      ],
      "text/plain": [
       "  sessionID         timeTestPass         timeNextTest  timePassed  \\\n",
       "0       158  2016-07-13 18:49:28  2016-07-13 18:51:53         145   \n",
       "1       158  2016-07-13 18:51:53  2016-07-13 18:53:04          71   \n",
       "2       158  2016-07-13 18:53:04  2016-07-13 18:53:20          16   \n",
       "3       158  2016-07-13 18:53:20  2016-07-13 18:53:27           7   \n",
       "4       158  2016-07-13 18:53:27  2016-07-13 18:53:55          28   \n",
       "5       158  2016-07-13 18:53:55  2016-07-13 18:54:54          59   \n",
       "6       158  2016-07-13 18:54:54  2016-07-13 18:55:50          56   \n",
       "7       158  2016-07-13 18:55:50  2016-07-13 18:57:15          85   \n",
       "8       158  2016-07-13 18:57:15  2016-07-13 19:02:13         298   \n",
       "9       158  2016-07-13 19:02:13  2016-07-13 19:03:28          75   \n",
       "\n",
       "   editsUntilNextTest  ratio_p_t  totalTestsNext  testPassedNext  \\\n",
       "0                  15        1.0              21              21   \n",
       "1                   3        1.0              21              21   \n",
       "2                   1        1.0              21              21   \n",
       "3                   0        1.0              21              21   \n",
       "4                   1        1.0              21              21   \n",
       "5                   6        1.0              21              21   \n",
       "6                   3        1.0              21              21   \n",
       "7                   1        1.0              21              21   \n",
       "8                   1        1.0              21              21   \n",
       "9                   5        1.0              21              21   \n",
       "\n",
       "   nextTestResult  \n",
       "0               1  \n",
       "1               1  \n",
       "2               1  \n",
       "3               1  \n",
       "4               1  \n",
       "5               1  \n",
       "6               1  \n",
       "7               1  \n",
       "8               1  \n",
       "9               1  "
      ]
     },
     "execution_count": 161,
     "metadata": {},
     "output_type": "execute_result"
    }
   ],
   "source": [
    "df_edits_tests = create_df(edits_tests)\n",
    "df_edits_tests.head(10)"
   ]
  },
  {
   "cell_type": "markdown",
   "metadata": {},
   "source": [
    "### Now that we have our processed data set, we can analyze the data further"
   ]
  },
  {
   "cell_type": "markdown",
   "metadata": {},
   "source": [
    "#### Explore the processed data \"edits_tests\""
   ]
  },
  {
   "cell_type": "markdown",
   "metadata": {},
   "source": [
    "Let's have a look a the \"nextTestResult\" value, which says whether or not a test run after a successful test was successful too = 100% passed-test score. Please note that we defined a test run which didnt include any tests (totalTests = 0) as successful (=1)."
   ]
  },
  {
   "cell_type": "code",
   "execution_count": 162,
   "metadata": {},
   "outputs": [
    {
     "data": {
      "image/png": "[encoded data removed]",
      "text/plain": [
       "<Figure size 432x288 with 1 Axes>"
      ]
     },
     "metadata": {
      "needs_background": "light"
     },
     "output_type": "display_data"
    },
    {
     "name": "stdout",
     "output_type": "stream",
     "text": [
      "58.2% of the tests events after a successful test run fail. 41.8% were successful.\n"
     ]
    }
   ],
   "source": [
    "sns.countplot(x=\"nextTestResult\",data=df_edits_tests)\n",
    "plt.show()\n",
    "count_failedTests = len(df_edits_tests[df_edits_tests[\"nextTestResult\"]==False])\n",
    "count_passedTests = len(df_edits_tests[df_edits_tests[\"nextTestResult\"]==True])\n",
    "pct_failedTests = round(count_failedTests/(count_failedTests+count_passedTests)*100,1)\n",
    "print(f'{pct_failedTests}% of the tests events after a successful test run fail. {100-pct_failedTests}% were successful.')"
   ]
  },
  {
   "cell_type": "markdown",
   "metadata": {},
   "source": [
    "This distribution can also be explored by a histogram:"
   ]
  },
  {
   "cell_type": "code",
   "execution_count": 163,
   "metadata": {},
   "outputs": [
    {
     "data": {
      "text/plain": [
       "<matplotlib.axes._subplots.AxesSubplot at 0x27eb96238c8>"
      ]
     },
     "execution_count": 163,
     "metadata": {},
     "output_type": "execute_result"
    },
    {
     "data": {
      "image/png": "[encoded data removed]",
      "text/plain": [
       "<Figure size 432x288 with 1 Axes>"
      ]
     },
     "metadata": {
      "needs_background": "light"
     },
     "output_type": "display_data"
    }
   ],
   "source": [
    "sns.distplot(df_edits_tests.ratio_p_t,\n",
    "             axlabel='Ratio of passed tests')"
   ]
  },
  {
   "cell_type": "markdown",
   "metadata": {},
   "source": [
    "The histogram doesnt show a normal distribution. The data is rather left skewed, i.e. most of the samples are clustered on the right side. However, the long tail on the left gets \"interrupted\". \n",
    "\n",
    "Let's therefore take a closer look at the extreme on the left, where the ratio is 0.\n",
    "\n",
    "\n",
    "We know from the processing done before (in the get_edits_tests_list) that we regard a test run with zero tests as successful. Therefore, a ratio of 0 can only occur when 0 tests have passed within a test run."
   ]
  },
  {
   "cell_type": "code",
   "execution_count": 164,
   "metadata": {},
   "outputs": [
    {
     "name": "stdout",
     "output_type": "stream",
     "text": [
      "Number of test runs with 0 tests: 11\n",
      "11 compared to the total 2016 of sample points we have, is not that much (1.0%).\n"
     ]
    }
   ],
   "source": [
    "count_0tests = len(df_edits_tests[df_edits_tests[\"totalTestsNext\"]==0])\n",
    "print(f'Number of test runs with 0 tests: {count_0tests}')\n",
    "print(f'{count_0tests} compared to the total {len(df_edits_tests)} of sample points we have, is not that much ({round(count_0tests/len(df_edits_tests),2)*100}%).')"
   ]
  },
  {
   "cell_type": "markdown",
   "metadata": {},
   "source": [
    "Let's look at the distribution of the result successful/unsuccessful when only 1 single test is run. Because in this case, the ratio either can be 0 or 1 - our two extremes."
   ]
  },
  {
   "cell_type": "code",
   "execution_count": 165,
   "metadata": {},
   "outputs": [
    {
     "name": "stdout",
     "output_type": "stream",
     "text": [
      "In total, 1174 test run failed.\n",
      "\n",
      "In total, there are 630 test runs which contain 1 single test (31.0%).\n",
      "\n",
      "Out of these 630 runs, 299 tests (50.0%) failed.\n",
      "\n",
      "This means that 30.0% of the failed tests come from test runs which contain only 1 single test.\n"
     ]
    }
   ],
   "source": [
    "count_totalFailedTests = len(df_edits_tests[df_edits_tests[\"nextTestResult\"]==0])\n",
    "print(f'In total, {count_totalFailedTests} test run failed.\\n')\n",
    "\n",
    "count_totalTestsNextOnly1 = len(df_edits_tests[df_edits_tests[\"totalTestsNext\"] == 1])\n",
    "count_failedOnly1 = len(df_edits_tests[(df_edits_tests[\"totalTestsNext\"] == 1) \n",
    "                        & (df_edits_tests[\"nextTestResult\"] == 0 )])\n",
    "count_failedMoreThan1 = len(df_edits_tests[(df_edits_tests[\"totalTestsNext\"] > 1 ) \n",
    "                        & (df_edits_tests[\"nextTestResult\"] == 0 )])\n",
    "total_test_runs = len(df_edits_tests)\n",
    "\n",
    "print(f'In total, there are {count_totalTestsNextOnly1} test runs which contain 1 single test ({round(count_totalTestsNextOnly1/total_test_runs,2)*100}%).\\n')\n",
    "print(f'Out of these {count_totalTestsNextOnly1} runs, {count_failedOnly1} tests ({round(count_failedOnly1/count_totalTestsNextOnly1,1)*100}%) failed.\\n')\n",
    "print(f'This means that {round(count_failedOnly1/count_totalFailedTests, 1)*100}% of the failed tests come from test runs which contain only 1 single test.') \n"
   ]
  },
  {
   "cell_type": "markdown",
   "metadata": {},
   "source": [
    "\n",
    "The fact that one third of the test runs include only one test partially explains the two higher bins on the left and right side of the histogram: If there is only one test run, the ratio of passed tests can only be 1 or 0. \n",
    "\n",
    "This histogram furthermore indicates that mostly related tests were run. Otherwise, we would see way more samples that lie inbetween 0 and 1."
   ]
  },
  {
   "cell_type": "code",
   "execution_count": 166,
   "metadata": {},
   "outputs": [
    {
     "data": {
      "text/plain": [
       "<matplotlib.axes._subplots.AxesSubplot at 0x27eb6612908>"
      ]
     },
     "execution_count": 166,
     "metadata": {},
     "output_type": "execute_result"
    },
    {
     "data": {
      "image/png": "[encoded data removed]",
      "text/plain": [
       "<Figure size 432x288 with 1 Axes>"
      ]
     },
     "metadata": {
      "needs_background": "light"
     },
     "output_type": "display_data"
    }
   ],
   "source": [
    "sns.distplot(df_edits_tests.timePassed,\n",
    "             axlabel='Time passed after a successful test run until the next test')"
   ]
  },
  {
   "cell_type": "markdown",
   "metadata": {},
   "source": [
    "The histogram of the time passed between two tests is right skewed. For most of the samples, the time passed is between 0 and 500 seconds. Later on, we see more concrete values."
   ]
  },
  {
   "cell_type": "code",
   "execution_count": 167,
   "metadata": {},
   "outputs": [
    {
     "data": {
      "text/plain": [
       "<matplotlib.axes._subplots.AxesSubplot at 0x27eb6964c08>"
      ]
     },
     "execution_count": 167,
     "metadata": {},
     "output_type": "execute_result"
    },
    {
     "data": {
      "image/png": "[encoded data removed]",
      "text/plain": [
       "<Figure size 432x288 with 1 Axes>"
      ]
     },
     "metadata": {
      "needs_background": "light"
     },
     "output_type": "display_data"
    }
   ],
   "source": [
    "sns.distplot(df_edits_tests.editsUntilNextTest,\n",
    "             axlabel='Number of edits after a successful test run until next test')"
   ]
  },
  {
   "cell_type": "markdown",
   "metadata": {},
   "source": [
    "Just as the time passed, the number of edits between two tests is righ skewed too.\n",
    "\n",
    "Let's look at the distribution of the number of edit events and time passed with regard to the percentage of pasesd tests."
   ]
  },
  {
   "cell_type": "code",
   "execution_count": 168,
   "metadata": {},
   "outputs": [
    {
     "data": {
      "text/plain": [
       "Text(0, 0.5, 'number of edits')"
      ]
     },
     "execution_count": 168,
     "metadata": {},
     "output_type": "execute_result"
    },
    {
     "data": {
      "image/png": "[encoded data removed]",
      "text/plain": [
       "<Figure size 432x288 with 1 Axes>"
      ]
     },
     "metadata": {
      "needs_background": "light"
     },
     "output_type": "display_data"
    }
   ],
   "source": [
    "edits_tests_array = np.array(edits_tests, dtype=\"O\")\n",
    "\n",
    "x = edits_tests_array[:,4] # nr of edits\n",
    "y = edits_tests_array[:,5] # ratio\n",
    "\n",
    "plt.scatter(y,x)\n",
    "plt.xlabel('percentage of passed tests') \n",
    "plt.ylabel('number of edits') \n"
   ]
  },
  {
   "cell_type": "code",
   "execution_count": 169,
   "metadata": {},
   "outputs": [
    {
     "data": {
      "text/plain": [
       "Text(0, 0.5, 'time passed between two tests')"
      ]
     },
     "execution_count": 169,
     "metadata": {},
     "output_type": "execute_result"
    },
    {
     "data": {
      "image/png": "[encoded data removed]",
      "text/plain": [
       "<Figure size 432x288 with 1 Axes>"
      ]
     },
     "metadata": {
      "needs_background": "light"
     },
     "output_type": "display_data"
    }
   ],
   "source": [
    "x = edits_tests_array[:,3] # timepassed\n",
    "y = edits_tests_array[:,5] # ratio\n",
    "\n",
    "plt.scatter(y,x)\n",
    "plt.xlabel('percentage of passed tests') \n",
    "plt.ylabel('time passed between two tests') \n"
   ]
  },
  {
   "cell_type": "markdown",
   "metadata": {},
   "source": [
    "We see that the both scatterplots look very similar. The data points seem to be more or less evenly distributed over the x-axis (but still with more samples on the right, i.e. with higher pass-total-ratio). This observation leads us to a first assumption that neither the number of edits nor the time passed between the test runs might have a great influence on the probability of test success. But first, let's analyse further...\n",
    "\n",
    "How does the relation between number of edits and time passed look like?\n"
   ]
  },
  {
   "cell_type": "code",
   "execution_count": 170,
   "metadata": {},
   "outputs": [
    {
     "data": {
      "text/plain": [
       "<matplotlib.axes._subplots.AxesSubplot at 0x27eb736f7c8>"
      ]
     },
     "execution_count": 170,
     "metadata": {},
     "output_type": "execute_result"
    },
    {
     "data": {
      "image/png": "[encoded data removed]",
      "text/plain": [
       "<Figure size 432x288 with 1 Axes>"
      ]
     },
     "metadata": {
      "needs_background": "light"
     },
     "output_type": "display_data"
    }
   ],
   "source": [
    "sns.scatterplot(x=\"editsUntilNextTest\", y =\"timePassed\", data=df_edits_tests)"
   ]
  },
  {
   "cell_type": "markdown",
   "metadata": {},
   "source": [
    "We can identify a positive correlation between the number of edits and the time passed between a successful test and the next test run. Which is reasonable: The more edits a developer performs, the more time passes until a new test run is started. We can therefore expect that both time passed and edits between two test runs will have a similar influence on whether or not the next test run succeeds.\n",
    "\n",
    "Furthermore, we can identify some heteroscedasticity: The variability of timePassed is not constant across the number of edits (less variability with low number of edits and large variability with large number of edits)."
   ]
  },
  {
   "cell_type": "markdown",
   "metadata": {},
   "source": [
    "##### Means of ratio, edits and time passed"
   ]
  },
  {
   "cell_type": "code",
   "execution_count": 171,
   "metadata": {},
   "outputs": [
    {
     "name": "stdout",
     "output_type": "stream",
     "text": [
      "The mean ratio of passed tests over total tests is 71.4%. This means that in general, over two third of the tests passed within a single test run.\n",
      "\n",
      "On average, 10.7 edits were executed before a new test and after a successful test run.\n",
      "\n",
      "The mean time passed between two tests is 142.5 seconds, so approximately 2 minutes.\n",
      "\n"
     ]
    }
   ],
   "source": [
    "ratio_p_t_mean = df_edits_tests[\"ratio_p_t\"].mean()\n",
    "pct_ratio_p_t_mean = round(ratio_p_t_mean*100,1)\n",
    "print(f'The mean ratio of passed tests over total tests is {pct_ratio_p_t_mean}%. This means that in general, over two third of the tests passed within a single test run.\\n')\n",
    "\n",
    "edits_mean = round(df_edits_tests[\"editsUntilNextTest\"].mean(),1)\n",
    "print(f'On average, {edits_mean} edits were executed before a new test and after a successful test run.\\n')\n",
    "\n",
    "\n",
    "time_passed_mean = round(df_edits_tests[\"timePassed\"].mean(),1)\n",
    "print(f'The mean time passed between two tests is {time_passed_mean} seconds, so approximately {round(time_passed_mean/60)} minutes.\\n')\n"
   ]
  },
  {
   "cell_type": "markdown",
   "metadata": {},
   "source": [
    "Lets look closer at the variables we are mostly interested in \"editsUntilNextTest\" and \"timePassed\":"
   ]
  },
  {
   "cell_type": "code",
   "execution_count": 172,
   "metadata": {},
   "outputs": [
    {
     "data": {
      "text/html": [
       "<div>\n",
       "<style scoped>\n",
       "    .dataframe tbody tr th:only-of-type {\n",
       "        vertical-align: middle;\n",
       "    }\n",
       "\n",
       "    .dataframe tbody tr th {\n",
       "        vertical-align: top;\n",
       "    }\n",
       "\n",
       "    .dataframe thead tr th {\n",
       "        text-align: left;\n",
       "    }\n",
       "\n",
       "    .dataframe thead tr:last-of-type th {\n",
       "        text-align: right;\n",
       "    }\n",
       "</style>\n",
       "<table border=\"1\" class=\"dataframe\">\n",
       "  <thead>\n",
       "    <tr>\n",
       "      <th></th>\n",
       "      <th colspan=\"5\" halign=\"left\">editsUntilNextTest</th>\n",
       "      <th colspan=\"5\" halign=\"left\">timePassed</th>\n",
       "    </tr>\n",
       "    <tr>\n",
       "      <th></th>\n",
       "      <th>count</th>\n",
       "      <th>mean</th>\n",
       "      <th>median</th>\n",
       "      <th>max</th>\n",
       "      <th>min</th>\n",
       "      <th>count</th>\n",
       "      <th>mean</th>\n",
       "      <th>median</th>\n",
       "      <th>max</th>\n",
       "      <th>min</th>\n",
       "    </tr>\n",
       "    <tr>\n",
       "      <th>nextTestResult</th>\n",
       "      <th></th>\n",
       "      <th></th>\n",
       "      <th></th>\n",
       "      <th></th>\n",
       "      <th></th>\n",
       "      <th></th>\n",
       "      <th></th>\n",
       "      <th></th>\n",
       "      <th></th>\n",
       "      <th></th>\n",
       "    </tr>\n",
       "  </thead>\n",
       "  <tbody>\n",
       "    <tr>\n",
       "      <th>0</th>\n",
       "      <td>1174</td>\n",
       "      <td>11.501704</td>\n",
       "      <td>3</td>\n",
       "      <td>289</td>\n",
       "      <td>0</td>\n",
       "      <td>1174</td>\n",
       "      <td>158.413969</td>\n",
       "      <td>81</td>\n",
       "      <td>2569</td>\n",
       "      <td>2</td>\n",
       "    </tr>\n",
       "    <tr>\n",
       "      <th>1</th>\n",
       "      <td>842</td>\n",
       "      <td>9.644893</td>\n",
       "      <td>2</td>\n",
       "      <td>293</td>\n",
       "      <td>0</td>\n",
       "      <td>842</td>\n",
       "      <td>120.342043</td>\n",
       "      <td>58</td>\n",
       "      <td>2197</td>\n",
       "      <td>3</td>\n",
       "    </tr>\n",
       "  </tbody>\n",
       "</table>\n",
       "</div>"
      ],
      "text/plain": [
       "               editsUntilNextTest                            timePassed  \\\n",
       "                            count       mean median  max min      count   \n",
       "nextTestResult                                                            \n",
       "0                            1174  11.501704      3  289   0       1174   \n",
       "1                             842   9.644893      2  293   0        842   \n",
       "\n",
       "                                             \n",
       "                      mean median   max min  \n",
       "nextTestResult                               \n",
       "0               158.413969     81  2569   2  \n",
       "1               120.342043     58  2197   3  "
      ]
     },
     "execution_count": 172,
     "metadata": {},
     "output_type": "execute_result"
    }
   ],
   "source": [
    "df_edits_tests.groupby(\"nextTestResult\").agg({\"editsUntilNextTest\":[\"count\",\"mean\",\"median\",\"max\",\"min\"],\"timePassed\":[\"count\",\"mean\",\"median\",\"max\",\"min\"]})"
   ]
  },
  {
   "cell_type": "markdown",
   "metadata": {},
   "source": [
    "Before interpreting this, let's look at the distribution of the number of edits by creating a boxplot:"
   ]
  },
  {
   "cell_type": "code",
   "execution_count": 173,
   "metadata": {},
   "outputs": [
    {
     "data": {
      "text/plain": [
       "<matplotlib.axes._subplots.AxesSubplot at 0x27eb73eebc8>"
      ]
     },
     "execution_count": 173,
     "metadata": {},
     "output_type": "execute_result"
    },
    {
     "data": {
      "image/png": "[encoded data removed]",
      "text/plain": [
       "<Figure size 432x288 with 1 Axes>"
      ]
     },
     "metadata": {
      "needs_background": "light"
     },
     "output_type": "display_data"
    }
   ],
   "source": [
    "sns.boxplot(x=df_edits_tests[\"nextTestResult\"], y=df_edits_tests[\"editsUntilNextTest\"])"
   ]
  },
  {
   "cell_type": "code",
   "execution_count": 174,
   "metadata": {},
   "outputs": [
    {
     "data": {
      "text/plain": [
       "<matplotlib.axes._subplots.AxesSubplot at 0x27eb7463d48>"
      ]
     },
     "execution_count": 174,
     "metadata": {},
     "output_type": "execute_result"
    },
    {
     "data": {
      "image/png": "[encoded data removed]",
      "text/plain": [
       "<Figure size 432x288 with 1 Axes>"
      ]
     },
     "metadata": {
      "needs_background": "light"
     },
     "output_type": "display_data"
    }
   ],
   "source": [
    "sns.boxplot(x=df_edits_tests[\"nextTestResult\"], y=df_edits_tests[\"timePassed\"])"
   ]
  },
  {
   "cell_type": "markdown",
   "metadata": {},
   "source": [
    "First remarks:\n",
    "* Our classes (successful vs. unsuccessful Test events) are strongly unbalanced. The successful test class has way more samples - almost 5 times more.\n",
    "* However, the two classes have roughly similar median values.\n",
    "* Therefore, a comparison of the two boxplots \"fail\" and \"pass\" doesnt reveal a lot of information. They both look very similar.\n",
    "* However, the range/outliers differ quiet between successful and unsuccessful tests, the successful (orange) tests having more outliers.\n",
    "* On average and rounded, the unsuccessful test runs have 3 more edits than the successful test runs.\n",
    "* On average and rounded, 28 more seconds pass between a successful and an unsuccessful test run.\n",
    "* Interesting are the median values for the number of edits. Here we see that in 50% of sessions, 2, 1 or 0 edits were made (after a successful test) until the next test (since median 2), whether this next test was successful or not.\n",
    "* The median of two for successful test runs indicates a highly frequent testing routine of many developers within the data collection.\n",
    " * Interesting side note: Other examinations of the data found that there are a few developers (around 15%) that heavily work with Test Driven Development. Lots of tests could stem from this.\n",
    "* We have to keep in mind that our variables \"number of edits\" and \"time passed\" between test events are strongly positive skewed, as seen in the scatterplot above.\n"
   ]
  },
  {
   "cell_type": "markdown",
   "metadata": {},
   "source": [
    "Despite the many obvious outliers (many data points after the upper whisker), we dont want to restrict the dataset anymore. We've already restricted sessions to a certain time by splitting up sessions that were too long.  \n",
    "Hence, we take the processed data as it is, keeping in mind that we have a lot of outliers, and start with building some models!"
   ]
  },
  {
   "cell_type": "markdown",
   "metadata": {
    "colab_type": "text",
    "id": "7tp2mHU1jaHm"
   },
   "source": [
    "# Modelling and Algorithm Building"
   ]
  },
  {
   "cell_type": "markdown",
   "metadata": {
    "colab_type": "text",
    "id": "YL3BxjB5jaHm"
   },
   "source": [
    "Our goal of this data analysis is to analyze our hypothesis that more time or more edits between build/test events result in a lower probability of build/test succeeding. After having processed and explored the data are we now able to test our two hypothesis:\n",
    "1. Build\n",
    "    * the longer a developer waits to build his code, the higher the probability that the build will fail\n",
    "    * the more edit events a developer executes, the lower the probability that the build will succeed\n",
    "2. Test   \n",
    "    * the longer a developer waits to run some tests, the higher the probability for test failures\n",
    "    * the more edit events a developer executes, the lower the probability for test success"
   ]
  },
  {
   "cell_type": "markdown",
   "metadata": {
    "colab_type": "text",
    "id": "qVO0BmOdjaHm"
   },
   "source": [
    "### Build Events"
   ]
  },
  {
   "cell_type": "markdown",
   "metadata": {
    "colab_type": "text",
    "id": "MGv22dHhjaHo"
   },
   "source": [
    "To model the probability of a certain event such as pass/fail the logistic regression is one of the most used model and a good benchmark for further analysis. "
   ]
  },
  {
   "cell_type": "code",
   "execution_count": 97,
   "metadata": {
    "colab": {},
    "colab_type": "code",
    "id": "fSukn7t5jaHp",
    "outputId": "3e19fc61-509b-4155-80aa-a88caa4b9ec8"
   },
   "outputs": [
    {
     "name": "stdout",
     "output_type": "stream",
     "text": [
      "Optimization terminated successfully.\n",
      "         Current function value: 0.204575\n",
      "         Iterations 7\n",
      "                           Results: Logit\n",
      "====================================================================\n",
      "Model:               Logit             Pseudo R-squared:  0.013     \n",
      "Dependent Variable:  nextBuildResult   AIC:               3918.2899 \n",
      "Date:                2020-06-01 19:55  BIC:               3939.7865 \n",
      "No. Observations:    9562              Log-Likelihood:    -1956.1   \n",
      "Df Model:            2                 LL-Null:           -1982.4   \n",
      "Df Residuals:        9559              LLR p-value:       3.9802e-12\n",
      "Converged:           1.0000            Scale:             1.0000    \n",
      "No. Iterations:      7.0000                                         \n",
      "--------------------------------------------------------------------\n",
      "                      Coef.  Std.Err.    z    P>|z|   [0.025  0.975]\n",
      "--------------------------------------------------------------------\n",
      "const                 3.0837   0.0548 56.2993 0.0000  2.9763  3.1910\n",
      "#editsUntilNextBuild -0.0077   0.0028 -2.7880 0.0053 -0.0132 -0.0023\n",
      "time_passed          -0.0004   0.0002 -1.7879 0.0738 -0.0009  0.0000\n",
      "====================================================================\n",
      "\n",
      " The correlation between the two independent variables is 0.81\n"
     ]
    }
   ],
   "source": [
    "Y = new_df_build[\"nextBuildResult\"]\n",
    "X = new_df_build[[\"#editsUntilNextBuild\",'time_passed']]\n",
    "X1 = sm.add_constant(X)\n",
    "logit_model = sm1.Logit(Y, X1)\n",
    "result_logit_model = logit_model.fit()\n",
    "print(result_logit_model.summary2())\n",
    "print(f' The correlation between the two independent variables is {round(new_df_build[\"#editsUntilNextBuild\"].corr(new_df_build[\"time_passed\"]),2)}')"
   ]
  },
  {
   "cell_type": "markdown",
   "metadata": {
    "colab_type": "text",
    "id": "xzoW0oHUjaHr"
   },
   "source": [
    "All the coefficients are statistical significant (at 90% confidence level) and both the number of edits and the time passed have a negative effect on the probability of a successful built.  This means that, given the number of edits, the longer a developer waits to build his code, the higher the probability that the build will fail and at the same, given a certain time between two edits events, the more edit events a developer executes, the lower the probability that the build will succeed.\n",
    "\n",
    "\n",
    "However we can observe that, as expected, the number of edits and the time spent between build events are strongly positively correlated. This Multicollinearity problem can cause unstable estimates in our model and therefore we decided to separately estimate the effect of our independent variable on the probability of a successful build event."
   ]
  },
  {
   "cell_type": "code",
   "execution_count": 98,
   "metadata": {},
   "outputs": [
    {
     "name": "stdout",
     "output_type": "stream",
     "text": [
      "Optimization terminated successfully.\n",
      "         Current function value: 0.204732\n",
      "         Iterations 7\n",
      "                           Results: Logit\n",
      "====================================================================\n",
      "Model:               Logit             Pseudo R-squared:  0.012     \n",
      "Dependent Variable:  nextBuildResult   AIC:               3919.3014 \n",
      "Date:                2020-06-01 19:55  BIC:               3933.6325 \n",
      "No. Observations:    9562              Log-Likelihood:    -1957.7   \n",
      "Df Model:            1                 LL-Null:           -1982.4   \n",
      "Df Residuals:        9560              LLR p-value:       1.9960e-12\n",
      "Converged:           1.0000            Scale:             1.0000    \n",
      "No. Iterations:      7.0000                                         \n",
      "--------------------------------------------------------------------\n",
      "                      Coef.  Std.Err.    z    P>|z|   [0.025  0.975]\n",
      "--------------------------------------------------------------------\n",
      "const                 3.0627   0.0532 57.5246 0.0000  2.9584  3.1671\n",
      "#editsUntilNextBuild -0.0118   0.0015 -7.9154 0.0000 -0.0147 -0.0089\n",
      "====================================================================\n",
      "\n"
     ]
    }
   ],
   "source": [
    "X_edit = new_df_build[[\"#editsUntilNextBuild\"]]\n",
    "X1_edit = sm.add_constant(X_edit)\n",
    "logit_model_edit = sm1.Logit(Y, X1_edit)\n",
    "result_logit_model_edit = logit_model_edit.fit()\n",
    "print(result_logit_model_edit.summary2())"
   ]
  },
  {
   "cell_type": "code",
   "execution_count": 99,
   "metadata": {},
   "outputs": [
    {
     "name": "stdout",
     "output_type": "stream",
     "text": [
      "Optimization terminated successfully.\n",
      "         Current function value: 0.204974\n",
      "         Iterations 7\n",
      "                         Results: Logit\n",
      "=================================================================\n",
      "Model:              Logit            Pseudo R-squared: 0.011     \n",
      "Dependent Variable: nextBuildResult  AIC:              3923.9242 \n",
      "Date:               2020-06-01 19:55 BIC:              3938.2553 \n",
      "No. Observations:   9562             Log-Likelihood:   -1960.0   \n",
      "Df Model:           1                LL-Null:          -1982.4   \n",
      "Df Residuals:       9560             LLR p-value:      2.1109e-11\n",
      "Converged:          1.0000           Scale:            1.0000    \n",
      "No. Iterations:     7.0000                                       \n",
      "------------------------------------------------------------------\n",
      "               Coef.   Std.Err.     z     P>|z|    [0.025   0.975]\n",
      "------------------------------------------------------------------\n",
      "const          3.0682    0.0544  56.3493  0.0000   2.9614   3.1749\n",
      "time_passed   -0.0009    0.0001  -7.4783  0.0000  -0.0012  -0.0007\n",
      "=================================================================\n",
      "\n"
     ]
    }
   ],
   "source": [
    "X_time = new_df_build[[\"time_passed\"]]\n",
    "X1_time = sm.add_constant(X_time)\n",
    "logit_model_time = sm1.Logit(Y, X1_time)\n",
    "result_logit_model_time = logit_model_time.fit()\n",
    "print(result_logit_model_time.summary2())"
   ]
  },
  {
   "cell_type": "markdown",
   "metadata": {},
   "source": [
    "As we can see from this two separate models, now the coefficients are statistical significant even at a 99% confidence level and both the number of edits and the time passed have stronger negative impact on the probability of a successful built. Let's have a brief look at how to interpret this coefficients.."
   ]
  },
  {
   "cell_type": "code",
   "execution_count": 100,
   "metadata": {},
   "outputs": [
    {
     "name": "stdout",
     "output_type": "stream",
     "text": [
      "Given a median number of edits, the probability of a successful build is 95.2%\n",
      "10 edits over the median number of edits, reduce the probability of a successful build by 1.2 percentage points\n",
      "Given the median time passed between two build events, the probability of a successful build is 95.2%\n",
      "5 minutes over the median time passed between two build events, reduce the probability of a successful build by 1.4 percentage points\n"
     ]
    }
   ],
   "source": [
    "import math\n",
    "# effect of an increase in the #of edits by 10 units above the median\n",
    "prSuccBuildwithmedNrEdit=1/(1+math.exp(-(3.0627-0.0118*new_df_build[\"#editsUntilNextBuild\"].median())))*100\n",
    "prSuccBuildwithmedTime=1/(1+math.exp(-(3.0682-0.0009*new_df_build[\"time_passed\"].median())))*100\n",
    "print(f'Given a median number of edits, the probability of a successful build is {round(prSuccBuildwithmedNrEdit,1)}%')\n",
    "print(f'10 edits over the median number of edits, reduce the probability of a successful build by {round(prSuccBuildwithmedNrEdit-1/(1+math.exp(-(3.0627-0.0118*(new_df_build[\"#editsUntilNextBuild\"].median()+20))))*100,1)} percentage points')\n",
    "# marginal effect of an increase in the #time_passed by 2 minuts above the median\n",
    "print(f'Given the median time passed between two build events, the probability of a successful build is {round(prSuccBuildwithmedTime,1)}%')\n",
    "print(f'5 minutes over the median time passed between two build events, reduce the probability of a successful build by {round(prSuccBuildwithmedTime-1/(1+math.exp(-(3.0682-0.0009*(new_df_build[\"time_passed\"].median()+300))))*100,1)} percentage points')"
   ]
  },
  {
   "cell_type": "markdown",
   "metadata": {},
   "source": [
    "Although they move in the expected (negative) direction, our two independent variables (# of edits and time passed) have a fairly marginal effect on the probability of getting a successful built event. In addition, our two models are not able to explain much of the variability in the dependent variable (very low pseudo R-Squared)."
   ]
  },
  {
   "cell_type": "code",
   "execution_count": 101,
   "metadata": {
    "colab": {},
    "colab_type": "code",
    "id": "dD39pSM2jaHr",
    "outputId": "d51ee842-4abd-465b-89e4-5fe6c249396e"
   },
   "outputs": [
    {
     "name": "stdout",
     "output_type": "stream",
     "text": [
      "Accurancy of logistic regression classifier on test set is :0.95\n"
     ]
    }
   ],
   "source": [
    "X_train_edit, X_test_edit, Y_train, Y_test = model_selection.train_test_split(X1_edit, Y, test_size=0.1,random_state=0)\n",
    "logit_model_edit=linear_model.LogisticRegression()\n",
    "logit_model_edit.fit(X_train_edit, Y_train)\n",
    "\n",
    "print('Accurancy of logistic regression classifier on test set is :{:.2f}'.format(logit_model_edit.score(X_test_edit,Y_test)))"
   ]
  },
  {
   "cell_type": "code",
   "execution_count": 102,
   "metadata": {},
   "outputs": [
    {
     "name": "stdout",
     "output_type": "stream",
     "text": [
      "Accurancy of logistic regression classifier on test set is :0.95\n"
     ]
    }
   ],
   "source": [
    "X_train_time, X_test_time, Y_train, Y_test = model_selection.train_test_split(X1_time, Y, test_size=0.1,random_state=0)\n",
    "logit_model_time=linear_model.LogisticRegression()\n",
    "logit_model_time.fit(X_train_time, Y_train)\n",
    "\n",
    "print('Accurancy of logistic regression classifier on test set is :{:.2f}'.format(logit_model_time.score(X_test_time,Y_test)))"
   ]
  },
  {
   "cell_type": "markdown",
   "metadata": {
    "colab_type": "text",
    "id": "qF7BqUEJjaHt"
   },
   "source": [
    "Despite the not encouraging results of our logistic regressions, we get (from both models) an accurancy of 95%. However, as we saw in the data exploration part, our dataset is strong imbalanced and this may be the main reason for this high accurancy. One approach to adressing this problem of class imbalance is to randomly resample the dataset. Following this approach, we decided to oversample the class of unsuccessful build. "
   ]
  },
  {
   "cell_type": "code",
   "execution_count": 103,
   "metadata": {
    "colab": {},
    "colab_type": "code",
    "id": "Jtwuk5bmjaHt",
    "outputId": "5ac2588c-68b0-4e10-a995-820d9335913d"
   },
   "outputs": [
    {
     "name": "stdout",
     "output_type": "stream",
     "text": [
      "Length of oversampled data is 16294\n",
      "Number of failed Build in oversampled data is 8147\n",
      "Number of successful Build is 8147\n",
      "Proportion of failed Build in oversampled data is 0.5\n",
      "Proportion of successful Build in oversampled data is 0.5\n"
     ]
    },
    {
     "ename": "MissingDataError",
     "evalue": "exog contains inf or nans",
     "output_type": "error",
     "traceback": [
      "\u001b[1;31m---------------------------------------------------------------------------\u001b[0m",
      "\u001b[1;31mMissingDataError\u001b[0m                          Traceback (most recent call last)",
      "\u001b[1;32m<ipython-input-103-a3c104634af2>\u001b[0m in \u001b[0;36m<module>\u001b[1;34m\u001b[0m\n\u001b[0;32m     11\u001b[0m \u001b[0mprint\u001b[0m\u001b[1;33m(\u001b[0m\u001b[1;34m\"Proportion of successful Build in oversampled data is\"\u001b[0m\u001b[1;33m,\u001b[0m\u001b[0mlen\u001b[0m\u001b[1;33m(\u001b[0m\u001b[0mos_data_Y\u001b[0m\u001b[1;33m[\u001b[0m\u001b[0mos_data_Y\u001b[0m\u001b[1;33m[\u001b[0m\u001b[1;34m'nextBuildResult'\u001b[0m\u001b[1;33m]\u001b[0m\u001b[1;33m==\u001b[0m\u001b[1;32mTrue\u001b[0m\u001b[1;33m]\u001b[0m\u001b[1;33m)\u001b[0m\u001b[1;33m/\u001b[0m\u001b[0mlen\u001b[0m\u001b[1;33m(\u001b[0m\u001b[0mos_data_X_edit\u001b[0m\u001b[1;33m)\u001b[0m\u001b[1;33m)\u001b[0m\u001b[1;33m\u001b[0m\u001b[1;33m\u001b[0m\u001b[0m\n\u001b[0;32m     12\u001b[0m \u001b[1;33m\u001b[0m\u001b[0m\n\u001b[1;32m---> 13\u001b[1;33m \u001b[0mlogit_model_edit\u001b[0m\u001b[1;33m=\u001b[0m\u001b[0msm1\u001b[0m\u001b[1;33m.\u001b[0m\u001b[0mLogit\u001b[0m\u001b[1;33m(\u001b[0m\u001b[0mos_data_Y\u001b[0m\u001b[1;33m,\u001b[0m\u001b[0mos_data_X_edit\u001b[0m\u001b[1;33m)\u001b[0m\u001b[1;33m\u001b[0m\u001b[1;33m\u001b[0m\u001b[0m\n\u001b[0m\u001b[0;32m     14\u001b[0m \u001b[0mresult_logit_edit\u001b[0m\u001b[1;33m=\u001b[0m\u001b[0mlogit_model_edit\u001b[0m\u001b[1;33m.\u001b[0m\u001b[0mfit\u001b[0m\u001b[1;33m(\u001b[0m\u001b[1;33m)\u001b[0m\u001b[1;33m\u001b[0m\u001b[1;33m\u001b[0m\u001b[0m\n\u001b[0;32m     15\u001b[0m \u001b[0mprint\u001b[0m\u001b[1;33m(\u001b[0m\u001b[0mresult_logit_edit\u001b[0m\u001b[1;33m.\u001b[0m\u001b[0msummary2\u001b[0m\u001b[1;33m(\u001b[0m\u001b[1;33m)\u001b[0m\u001b[1;33m)\u001b[0m\u001b[1;33m\u001b[0m\u001b[1;33m\u001b[0m\u001b[0m\n",
      "\u001b[1;32m~\\Anaconda3\\lib\\site-packages\\statsmodels\\discrete\\discrete_model.py\u001b[0m in \u001b[0;36m__init__\u001b[1;34m(self, endog, exog, **kwargs)\u001b[0m\n\u001b[0;32m    432\u001b[0m \u001b[1;33m\u001b[0m\u001b[0m\n\u001b[0;32m    433\u001b[0m     \u001b[1;32mdef\u001b[0m \u001b[0m__init__\u001b[0m\u001b[1;33m(\u001b[0m\u001b[0mself\u001b[0m\u001b[1;33m,\u001b[0m \u001b[0mendog\u001b[0m\u001b[1;33m,\u001b[0m \u001b[0mexog\u001b[0m\u001b[1;33m,\u001b[0m \u001b[1;33m**\u001b[0m\u001b[0mkwargs\u001b[0m\u001b[1;33m)\u001b[0m\u001b[1;33m:\u001b[0m\u001b[1;33m\u001b[0m\u001b[1;33m\u001b[0m\u001b[0m\n\u001b[1;32m--> 434\u001b[1;33m         \u001b[0msuper\u001b[0m\u001b[1;33m(\u001b[0m\u001b[0mBinaryModel\u001b[0m\u001b[1;33m,\u001b[0m \u001b[0mself\u001b[0m\u001b[1;33m)\u001b[0m\u001b[1;33m.\u001b[0m\u001b[0m__init__\u001b[0m\u001b[1;33m(\u001b[0m\u001b[0mendog\u001b[0m\u001b[1;33m,\u001b[0m \u001b[0mexog\u001b[0m\u001b[1;33m,\u001b[0m \u001b[1;33m**\u001b[0m\u001b[0mkwargs\u001b[0m\u001b[1;33m)\u001b[0m\u001b[1;33m\u001b[0m\u001b[1;33m\u001b[0m\u001b[0m\n\u001b[0m\u001b[0;32m    435\u001b[0m         if (not issubclass(self.__class__, MultinomialModel) and\n\u001b[0;32m    436\u001b[0m                 not np.all((self.endog >= 0) & (self.endog <= 1))):\n",
      "\u001b[1;32m~\\Anaconda3\\lib\\site-packages\\statsmodels\\discrete\\discrete_model.py\u001b[0m in \u001b[0;36m__init__\u001b[1;34m(self, endog, exog, **kwargs)\u001b[0m\n\u001b[0;32m    163\u001b[0m     \"\"\"\n\u001b[0;32m    164\u001b[0m     \u001b[1;32mdef\u001b[0m \u001b[0m__init__\u001b[0m\u001b[1;33m(\u001b[0m\u001b[0mself\u001b[0m\u001b[1;33m,\u001b[0m \u001b[0mendog\u001b[0m\u001b[1;33m,\u001b[0m \u001b[0mexog\u001b[0m\u001b[1;33m,\u001b[0m \u001b[1;33m**\u001b[0m\u001b[0mkwargs\u001b[0m\u001b[1;33m)\u001b[0m\u001b[1;33m:\u001b[0m\u001b[1;33m\u001b[0m\u001b[1;33m\u001b[0m\u001b[0m\n\u001b[1;32m--> 165\u001b[1;33m         \u001b[0msuper\u001b[0m\u001b[1;33m(\u001b[0m\u001b[0mDiscreteModel\u001b[0m\u001b[1;33m,\u001b[0m \u001b[0mself\u001b[0m\u001b[1;33m)\u001b[0m\u001b[1;33m.\u001b[0m\u001b[0m__init__\u001b[0m\u001b[1;33m(\u001b[0m\u001b[0mendog\u001b[0m\u001b[1;33m,\u001b[0m \u001b[0mexog\u001b[0m\u001b[1;33m,\u001b[0m \u001b[1;33m**\u001b[0m\u001b[0mkwargs\u001b[0m\u001b[1;33m)\u001b[0m\u001b[1;33m\u001b[0m\u001b[1;33m\u001b[0m\u001b[0m\n\u001b[0m\u001b[0;32m    166\u001b[0m         \u001b[0mself\u001b[0m\u001b[1;33m.\u001b[0m\u001b[0mraise_on_perfect_prediction\u001b[0m \u001b[1;33m=\u001b[0m \u001b[1;32mTrue\u001b[0m\u001b[1;33m\u001b[0m\u001b[1;33m\u001b[0m\u001b[0m\n\u001b[0;32m    167\u001b[0m \u001b[1;33m\u001b[0m\u001b[0m\n",
      "\u001b[1;32m~\\Anaconda3\\lib\\site-packages\\statsmodels\\base\\model.py\u001b[0m in \u001b[0;36m__init__\u001b[1;34m(self, endog, exog, **kwargs)\u001b[0m\n\u001b[0;32m    234\u001b[0m \u001b[1;33m\u001b[0m\u001b[0m\n\u001b[0;32m    235\u001b[0m     \u001b[1;32mdef\u001b[0m \u001b[0m__init__\u001b[0m\u001b[1;33m(\u001b[0m\u001b[0mself\u001b[0m\u001b[1;33m,\u001b[0m \u001b[0mendog\u001b[0m\u001b[1;33m,\u001b[0m \u001b[0mexog\u001b[0m\u001b[1;33m=\u001b[0m\u001b[1;32mNone\u001b[0m\u001b[1;33m,\u001b[0m \u001b[1;33m**\u001b[0m\u001b[0mkwargs\u001b[0m\u001b[1;33m)\u001b[0m\u001b[1;33m:\u001b[0m\u001b[1;33m\u001b[0m\u001b[1;33m\u001b[0m\u001b[0m\n\u001b[1;32m--> 236\u001b[1;33m         \u001b[0msuper\u001b[0m\u001b[1;33m(\u001b[0m\u001b[0mLikelihoodModel\u001b[0m\u001b[1;33m,\u001b[0m \u001b[0mself\u001b[0m\u001b[1;33m)\u001b[0m\u001b[1;33m.\u001b[0m\u001b[0m__init__\u001b[0m\u001b[1;33m(\u001b[0m\u001b[0mendog\u001b[0m\u001b[1;33m,\u001b[0m \u001b[0mexog\u001b[0m\u001b[1;33m,\u001b[0m \u001b[1;33m**\u001b[0m\u001b[0mkwargs\u001b[0m\u001b[1;33m)\u001b[0m\u001b[1;33m\u001b[0m\u001b[1;33m\u001b[0m\u001b[0m\n\u001b[0m\u001b[0;32m    237\u001b[0m         \u001b[0mself\u001b[0m\u001b[1;33m.\u001b[0m\u001b[0minitialize\u001b[0m\u001b[1;33m(\u001b[0m\u001b[1;33m)\u001b[0m\u001b[1;33m\u001b[0m\u001b[1;33m\u001b[0m\u001b[0m\n\u001b[0;32m    238\u001b[0m \u001b[1;33m\u001b[0m\u001b[0m\n",
      "\u001b[1;32m~\\Anaconda3\\lib\\site-packages\\statsmodels\\base\\model.py\u001b[0m in \u001b[0;36m__init__\u001b[1;34m(self, endog, exog, **kwargs)\u001b[0m\n\u001b[0;32m     75\u001b[0m         \u001b[0mhasconst\u001b[0m \u001b[1;33m=\u001b[0m \u001b[0mkwargs\u001b[0m\u001b[1;33m.\u001b[0m\u001b[0mpop\u001b[0m\u001b[1;33m(\u001b[0m\u001b[1;34m'hasconst'\u001b[0m\u001b[1;33m,\u001b[0m \u001b[1;32mNone\u001b[0m\u001b[1;33m)\u001b[0m\u001b[1;33m\u001b[0m\u001b[1;33m\u001b[0m\u001b[0m\n\u001b[0;32m     76\u001b[0m         self.data = self._handle_data(endog, exog, missing, hasconst,\n\u001b[1;32m---> 77\u001b[1;33m                                       **kwargs)\n\u001b[0m\u001b[0;32m     78\u001b[0m         \u001b[0mself\u001b[0m\u001b[1;33m.\u001b[0m\u001b[0mk_constant\u001b[0m \u001b[1;33m=\u001b[0m \u001b[0mself\u001b[0m\u001b[1;33m.\u001b[0m\u001b[0mdata\u001b[0m\u001b[1;33m.\u001b[0m\u001b[0mk_constant\u001b[0m\u001b[1;33m\u001b[0m\u001b[1;33m\u001b[0m\u001b[0m\n\u001b[0;32m     79\u001b[0m         \u001b[0mself\u001b[0m\u001b[1;33m.\u001b[0m\u001b[0mexog\u001b[0m \u001b[1;33m=\u001b[0m \u001b[0mself\u001b[0m\u001b[1;33m.\u001b[0m\u001b[0mdata\u001b[0m\u001b[1;33m.\u001b[0m\u001b[0mexog\u001b[0m\u001b[1;33m\u001b[0m\u001b[1;33m\u001b[0m\u001b[0m\n",
      "\u001b[1;32m~\\Anaconda3\\lib\\site-packages\\statsmodels\\base\\model.py\u001b[0m in \u001b[0;36m_handle_data\u001b[1;34m(self, endog, exog, missing, hasconst, **kwargs)\u001b[0m\n\u001b[0;32m     98\u001b[0m \u001b[1;33m\u001b[0m\u001b[0m\n\u001b[0;32m     99\u001b[0m     \u001b[1;32mdef\u001b[0m \u001b[0m_handle_data\u001b[0m\u001b[1;33m(\u001b[0m\u001b[0mself\u001b[0m\u001b[1;33m,\u001b[0m \u001b[0mendog\u001b[0m\u001b[1;33m,\u001b[0m \u001b[0mexog\u001b[0m\u001b[1;33m,\u001b[0m \u001b[0mmissing\u001b[0m\u001b[1;33m,\u001b[0m \u001b[0mhasconst\u001b[0m\u001b[1;33m,\u001b[0m \u001b[1;33m**\u001b[0m\u001b[0mkwargs\u001b[0m\u001b[1;33m)\u001b[0m\u001b[1;33m:\u001b[0m\u001b[1;33m\u001b[0m\u001b[1;33m\u001b[0m\u001b[0m\n\u001b[1;32m--> 100\u001b[1;33m         \u001b[0mdata\u001b[0m \u001b[1;33m=\u001b[0m \u001b[0mhandle_data\u001b[0m\u001b[1;33m(\u001b[0m\u001b[0mendog\u001b[0m\u001b[1;33m,\u001b[0m \u001b[0mexog\u001b[0m\u001b[1;33m,\u001b[0m \u001b[0mmissing\u001b[0m\u001b[1;33m,\u001b[0m \u001b[0mhasconst\u001b[0m\u001b[1;33m,\u001b[0m \u001b[1;33m**\u001b[0m\u001b[0mkwargs\u001b[0m\u001b[1;33m)\u001b[0m\u001b[1;33m\u001b[0m\u001b[1;33m\u001b[0m\u001b[0m\n\u001b[0m\u001b[0;32m    101\u001b[0m         \u001b[1;31m# kwargs arrays could have changed, easier to just attach here\u001b[0m\u001b[1;33m\u001b[0m\u001b[1;33m\u001b[0m\u001b[1;33m\u001b[0m\u001b[0m\n\u001b[0;32m    102\u001b[0m         \u001b[1;32mfor\u001b[0m \u001b[0mkey\u001b[0m \u001b[1;32min\u001b[0m \u001b[0mkwargs\u001b[0m\u001b[1;33m:\u001b[0m\u001b[1;33m\u001b[0m\u001b[1;33m\u001b[0m\u001b[0m\n",
      "\u001b[1;32m~\\Anaconda3\\lib\\site-packages\\statsmodels\\base\\data.py\u001b[0m in \u001b[0;36mhandle_data\u001b[1;34m(endog, exog, missing, hasconst, **kwargs)\u001b[0m\n\u001b[0;32m    670\u001b[0m     \u001b[0mklass\u001b[0m \u001b[1;33m=\u001b[0m \u001b[0mhandle_data_class_factory\u001b[0m\u001b[1;33m(\u001b[0m\u001b[0mendog\u001b[0m\u001b[1;33m,\u001b[0m \u001b[0mexog\u001b[0m\u001b[1;33m)\u001b[0m\u001b[1;33m\u001b[0m\u001b[1;33m\u001b[0m\u001b[0m\n\u001b[0;32m    671\u001b[0m     return klass(endog, exog=exog, missing=missing, hasconst=hasconst,\n\u001b[1;32m--> 672\u001b[1;33m                  **kwargs)\n\u001b[0m",
      "\u001b[1;32m~\\Anaconda3\\lib\\site-packages\\statsmodels\\base\\data.py\u001b[0m in \u001b[0;36m__init__\u001b[1;34m(self, endog, exog, missing, hasconst, **kwargs)\u001b[0m\n\u001b[0;32m     85\u001b[0m         \u001b[0mself\u001b[0m\u001b[1;33m.\u001b[0m\u001b[0mconst_idx\u001b[0m \u001b[1;33m=\u001b[0m \u001b[1;32mNone\u001b[0m\u001b[1;33m\u001b[0m\u001b[1;33m\u001b[0m\u001b[0m\n\u001b[0;32m     86\u001b[0m         \u001b[0mself\u001b[0m\u001b[1;33m.\u001b[0m\u001b[0mk_constant\u001b[0m \u001b[1;33m=\u001b[0m \u001b[1;36m0\u001b[0m\u001b[1;33m\u001b[0m\u001b[1;33m\u001b[0m\u001b[0m\n\u001b[1;32m---> 87\u001b[1;33m         \u001b[0mself\u001b[0m\u001b[1;33m.\u001b[0m\u001b[0m_handle_constant\u001b[0m\u001b[1;33m(\u001b[0m\u001b[0mhasconst\u001b[0m\u001b[1;33m)\u001b[0m\u001b[1;33m\u001b[0m\u001b[1;33m\u001b[0m\u001b[0m\n\u001b[0m\u001b[0;32m     88\u001b[0m         \u001b[0mself\u001b[0m\u001b[1;33m.\u001b[0m\u001b[0m_check_integrity\u001b[0m\u001b[1;33m(\u001b[0m\u001b[1;33m)\u001b[0m\u001b[1;33m\u001b[0m\u001b[1;33m\u001b[0m\u001b[0m\n\u001b[0;32m     89\u001b[0m         \u001b[0mself\u001b[0m\u001b[1;33m.\u001b[0m\u001b[0m_cache\u001b[0m \u001b[1;33m=\u001b[0m \u001b[1;33m{\u001b[0m\u001b[1;33m}\u001b[0m\u001b[1;33m\u001b[0m\u001b[1;33m\u001b[0m\u001b[0m\n",
      "\u001b[1;32m~\\Anaconda3\\lib\\site-packages\\statsmodels\\base\\data.py\u001b[0m in \u001b[0;36m_handle_constant\u001b[1;34m(self, hasconst)\u001b[0m\n\u001b[0;32m    131\u001b[0m             \u001b[0mexog_max\u001b[0m \u001b[1;33m=\u001b[0m \u001b[0mnp\u001b[0m\u001b[1;33m.\u001b[0m\u001b[0mmax\u001b[0m\u001b[1;33m(\u001b[0m\u001b[0mself\u001b[0m\u001b[1;33m.\u001b[0m\u001b[0mexog\u001b[0m\u001b[1;33m,\u001b[0m \u001b[0maxis\u001b[0m\u001b[1;33m=\u001b[0m\u001b[1;36m0\u001b[0m\u001b[1;33m)\u001b[0m\u001b[1;33m\u001b[0m\u001b[1;33m\u001b[0m\u001b[0m\n\u001b[0;32m    132\u001b[0m             \u001b[1;32mif\u001b[0m \u001b[1;32mnot\u001b[0m \u001b[0mnp\u001b[0m\u001b[1;33m.\u001b[0m\u001b[0misfinite\u001b[0m\u001b[1;33m(\u001b[0m\u001b[0mexog_max\u001b[0m\u001b[1;33m)\u001b[0m\u001b[1;33m.\u001b[0m\u001b[0mall\u001b[0m\u001b[1;33m(\u001b[0m\u001b[1;33m)\u001b[0m\u001b[1;33m:\u001b[0m\u001b[1;33m\u001b[0m\u001b[1;33m\u001b[0m\u001b[0m\n\u001b[1;32m--> 133\u001b[1;33m                 \u001b[1;32mraise\u001b[0m \u001b[0mMissingDataError\u001b[0m\u001b[1;33m(\u001b[0m\u001b[1;34m'exog contains inf or nans'\u001b[0m\u001b[1;33m)\u001b[0m\u001b[1;33m\u001b[0m\u001b[1;33m\u001b[0m\u001b[0m\n\u001b[0m\u001b[0;32m    134\u001b[0m             \u001b[0mexog_min\u001b[0m \u001b[1;33m=\u001b[0m \u001b[0mnp\u001b[0m\u001b[1;33m.\u001b[0m\u001b[0mmin\u001b[0m\u001b[1;33m(\u001b[0m\u001b[0mself\u001b[0m\u001b[1;33m.\u001b[0m\u001b[0mexog\u001b[0m\u001b[1;33m,\u001b[0m \u001b[0maxis\u001b[0m\u001b[1;33m=\u001b[0m\u001b[1;36m0\u001b[0m\u001b[1;33m)\u001b[0m\u001b[1;33m\u001b[0m\u001b[1;33m\u001b[0m\u001b[0m\n\u001b[0;32m    135\u001b[0m             \u001b[0mconst_idx\u001b[0m \u001b[1;33m=\u001b[0m \u001b[0mnp\u001b[0m\u001b[1;33m.\u001b[0m\u001b[0mwhere\u001b[0m\u001b[1;33m(\u001b[0m\u001b[0mexog_max\u001b[0m \u001b[1;33m==\u001b[0m \u001b[0mexog_min\u001b[0m\u001b[1;33m)\u001b[0m\u001b[1;33m[\u001b[0m\u001b[1;36m0\u001b[0m\u001b[1;33m]\u001b[0m\u001b[1;33m.\u001b[0m\u001b[0msqueeze\u001b[0m\u001b[1;33m(\u001b[0m\u001b[1;33m)\u001b[0m\u001b[1;33m\u001b[0m\u001b[1;33m\u001b[0m\u001b[0m\n",
      "\u001b[1;31mMissingDataError\u001b[0m: exog contains inf or nans"
     ]
    }
   ],
   "source": [
    "os = SMOTE(random_state=0)\n",
    "\n",
    "os_data_X_edit, os_data_Y = os.fit_sample(X_train_edit,Y_train)\n",
    "os_data_X_edit = pd.DataFrame(data=os_data_X_edit, columns=['constant','#editsUntilNextBuild'])\n",
    "os_data_Y = pd.DataFrame(data=os_data_Y, columns=['nextBuildResult'])\n",
    "\n",
    "print(\"Length of oversampled data is\", len(os_data_X_edit))\n",
    "print(\"Number of failed Build in oversampled data is\", len(os_data_Y[os_data_Y['nextBuildResult']==False]))\n",
    "print(\"Number of successful Build is\", len(os_data_Y[os_data_Y['nextBuildResult']==True]))\n",
    "print(\"Proportion of failed Build in oversampled data is\",len(os_data_Y[os_data_Y['nextBuildResult']==False])/len(os_data_X_edit))\n",
    "print(\"Proportion of successful Build in oversampled data is\",len(os_data_Y[os_data_Y['nextBuildResult']==True])/len(os_data_X_edit))\n",
    "\n",
    "logit_model_edit=sm1.Logit(os_data_Y,os_data_X_edit)\n",
    "result_logit_edit=logit_model_edit.fit()\n",
    "print(result_logit_edit.summary2())"
   ]
  },
  {
   "cell_type": "code",
   "execution_count": null,
   "metadata": {},
   "outputs": [],
   "source": [
    "os = SMOTE(random_state=0)\n",
    "\n",
    "os_data_X_time, os_data_Y = os.fit_sample(X_train_time,Y_train)\n",
    "os_data_X_time = pd.DataFrame(data=os_data_X_time, columns=['constant','time_passed'])\n",
    "os_data_Y = pd.DataFrame(data=os_data_Y, columns=['nextBuildResult'])\n",
    "\n",
    "print(\"Length of oversampled data is\", len(os_data_X_time))\n",
    "print(\"Number of failed Build in oversampled data is\", len(os_data_Y[os_data_Y['nextBuildResult']==False]))\n",
    "print(\"Number of successful Build is\", len(os_data_Y[os_data_Y['nextBuildResult']==True]))\n",
    "print(\"Proportion of failed Build in oversampled data is\",len(os_data_Y[os_data_Y['nextBuildResult']==False])/len(os_data_X_time))\n",
    "print(\"Proportion of successful Build in oversampled data is\",len(os_data_Y[os_data_Y['nextBuildResult']==True])/len(os_data_X_time))\n",
    "\n",
    "logit_model_time=sm1.Logit(os_data_Y,os_data_X_time)\n",
    "result_logit_time=logit_model_time.fit()\n",
    "print(result_logit_time.summary2())"
   ]
  },
  {
   "cell_type": "code",
   "execution_count": null,
   "metadata": {},
   "outputs": [],
   "source": [
    "# effect of an increase in the #of edits by 10 units above the median\n",
    "prSuccBuildwithmedNrEdit=1/(1+math.exp(-(0.02235-0.0145*os_data_X_edit[\"#editsUntilNextBuild\"].median())))*100\n",
    "prSuccBuildwithmedTime=1/(1+math.exp(-(0.2258-0.0011*os_data_X_time[\"time_passed\"].median())))*100\n",
    "print(f'Given a median number of edits, the probability of a successful build is {round(prSuccBuildwithmedNrEdit,1)}%')\n",
    "print(f'10 edits over the median number of edits, reduce the probability of a successful build by {round(prSuccBuildwithmedNrEdit-1/(1+math.exp(-(0.02235-0.0145*(os_data_X_edit[\"#editsUntilNextBuild\"].median()+20))))*100,1)} percentage points')\n",
    "# marginal effect of an increase in the #time_passed by 2 minuts above the median\n",
    "print(f'Given the median time passed between two build events, the probability of a successful build is {round(prSuccBuildwithmedTime,1)}%')\n",
    "print(f'5 minutes over the median time passed between two build events, reduce the probability of a successful build by {round(prSuccBuildwithmedTime-1/(1+math.exp(-(0.2258-0.0011*(os_data_X_time[\"time_passed\"].median()+300))))*100,1)} percentage points')"
   ]
  },
  {
   "cell_type": "markdown",
   "metadata": {},
   "source": [
    "As we can see, with a balanced dataset, the #of edits and the time passed betwenn two build events have a much stronger impact on the probability of a successful build event. Even if the coefficients of our independent variable are almost the same, the coefficient for the intercept has been shrunk. This happened because (previously) the intercept value took into account the unbalanced structure of the dataset in which 95% of the observations were successful build (remember that now only 50% of the observation are successful build events).   "
   ]
  },
  {
   "cell_type": "code",
   "execution_count": null,
   "metadata": {
    "colab": {},
    "colab_type": "code",
    "id": "8-CU7WWujaHw",
    "outputId": "c8455aaa-25de-4ee0-d379-2ab90e231e6e"
   },
   "outputs": [],
   "source": [
    "logit_model_edit=linear_model.LogisticRegression()\n",
    "logit_model_edit.fit(os_data_X_edit, os_data_Y.values)\n",
    "\n",
    "print('Accurancy of logistic regression classifier on test set:{:.2f}'.format(logit_model_edit.score(X_test_edit,Y_test)))"
   ]
  },
  {
   "cell_type": "code",
   "execution_count": null,
   "metadata": {},
   "outputs": [],
   "source": [
    "logit_model_time=linear_model.LogisticRegression()\n",
    "logit_model_time.fit(os_data_X_time, os_data_Y.values)\n",
    "\n",
    "print('Accurancy of logistic regression classifier on test set:{:.2f}'.format(logit_model_time.score(X_test_time,Y_test)))"
   ]
  },
  {
   "cell_type": "code",
   "execution_count": null,
   "metadata": {
    "colab": {},
    "colab_type": "code",
    "id": "Ue7MkznKjaHy",
    "outputId": "f2a4dea2-b65f-45c0-e6c0-0ec8c2d0443c"
   },
   "outputs": [],
   "source": [
    "Y_pred_edit = logit_model_edit.predict(X_test_edit)\n",
    "confusion_matrix = metrics.confusion_matrix(Y_test,Y_pred)\n",
    "print(confusion_matrix)\n",
    "print(metrics.classification_report(Y_test,Y_pred))"
   ]
  },
  {
   "cell_type": "code",
   "execution_count": null,
   "metadata": {},
   "outputs": [],
   "source": [
    "Y_pred_edit = logit_model_edit.predict(X_test_edit)\n",
    "confusion_matrix_edit = metrics.confusion_matrix(Y_test,Y_pred)\n",
    "Y_pred_time = logit_model_time.predict(X_test_time)\n",
    "confusion_matrix_time = metrics.confusion_matrix(Y_test,Y_pred_time)\n",
    "print('Confusion matrix for the number of edits','\\n', confusion_matrix_edit)\n",
    "print('Metric classification for the number of edits','\\n', metrics.classification_report(Y_test,Y_pred_edit))\n",
    "print('Confusion matrix for the time passed','\\n', confusion_matrix_time)\n",
    "print('Metric classification for the time passed','\\n', metrics.classification_report(Y_test,Y_pred_time))\n"
   ]
  },
  {
   "cell_type": "markdown",
   "metadata": {},
   "source": [
    "As expected, with a balanced dataset, the accuracy of our model has dropped by almost 20 percentage point remaining however at a fair level of 70%."
   ]
  },
  {
   "cell_type": "markdown",
   "metadata": {
    "colab_type": "text",
    "id": "NoT4tGRHjaH0"
   },
   "source": [
    "### Test Events"
   ]
  },
  {
   "cell_type": "markdown",
   "metadata": {
    "colab": {},
    "colab_type": "code",
    "id": "VdutkCPcjaH1"
   },
   "source": [
    "Now, we want to test those two hypotheses / answer those two questions:\n",
    "\n",
    "2) linking time since last tests run to probability of tests passing \n",
    "\n",
    "\n",
    "4) linking number of edit events since last passing tests to probability of unit tests passing\n"
   ]
  },
  {
   "cell_type": "markdown",
   "metadata": {},
   "source": [
    "To model the probability of unit test passing depending on how many edits have been done or how much time has passed between two test runs, we can try a linear regression. Nr of edits or timePassed would be the independent variable X and the ratio Pass/Total, i.e. the probabiltiy of passed tests, the dependent variable Y. \n",
    "\n",
    "For this linear regression, we need a 2d array with the numbers of edits and the ratio as well as the time between two test runs and the ratio. Both arrays can be done by selecting the right columns from our previously processed data."
   ]
  },
  {
   "cell_type": "code",
   "execution_count": 11,
   "metadata": {},
   "outputs": [
    {
     "name": "stdout",
     "output_type": "stream",
     "text": [
      "Mean squared error: 0.120\n",
      "r2 score: -0.011\n"
     ]
    },
    {
     "data": {
      "image/png": "[encoded data removed]",
      "text/plain": [
       "<Figure size 432x288 with 1 Axes>"
      ]
     },
     "metadata": {
      "needs_background": "light"
     },
     "output_type": "display_data"
    }
   ],
   "source": [
    "edits_tests_array = np.array(edits_tests, dtype=\"O\")\n",
    "\n",
    "x = edits_tests_array[:,3] # time passed between two test runs\n",
    "y = edits_tests_array[:,5] # ratio\n",
    "\n",
    "x_train, x_test, y_train, y_test = train_test_split(x, y, test_size=0.25)\n",
    "model = LinearRegression(fit_intercept=True)\n",
    "model.fit(x[:, np.newaxis], y)\n",
    "\n",
    "xfit = np.linspace(0, 10, 1000)\n",
    "yfit = model.predict(xfit[:, np.newaxis])\n",
    "\n",
    "plt.scatter(y,x)\n",
    "plt.ylabel('time passed between two test runs') \n",
    "plt.xlabel('percentage of passed tests') \n",
    "plt.plot(yfit, xfit);\n",
    "y_pred = model.predict(x_test[:, np.newaxis])\n",
    "\n",
    "mse = mean_squared_error(y_test, y_pred)\n",
    "print(\"Mean squared error: %.3f\" % mse)\n",
    "print('r2 score: %.3f' % r2_score(y_test, y_pred))"
   ]
  },
  {
   "cell_type": "markdown",
   "metadata": {},
   "source": [
    "INTERPRETATION"
   ]
  },
  {
   "cell_type": "code",
   "execution_count": 16,
   "metadata": {},
   "outputs": [
    {
     "name": "stdout",
     "output_type": "stream",
     "text": [
      "Mean squared error: 0.118\n",
      "r2 score: -0.010\n"
     ]
    },
    {
     "data": {
      "image/png": "[encoded data removed]",
      "text/plain": [
       "<Figure size 432x288 with 1 Axes>"
      ]
     },
     "metadata": {
      "needs_background": "light"
     },
     "output_type": "display_data"
    }
   ],
   "source": [
    "x = edits_tests_array[:,4] # nr of edits\n",
    "y = edits_tests_array[:,5] # ratio\n",
    "\n",
    "x_train, x_test, y_train, y_test = train_test_split(x, y, test_size=0.25)\n",
    "model = LinearRegression(fit_intercept=True)\n",
    "model.fit(x[:, np.newaxis], y)\n",
    "\n",
    "xfit = np.linspace(0, 10, 1000)\n",
    "yfit = model.predict(xfit[:, np.newaxis])\n",
    "\n",
    "plt.scatter(x,y)\n",
    "plt.ylabel('percentage of passed tests') \n",
    "plt.xlabel('number of edits') \n",
    "plt.plot(xfit, yfit);\n",
    "y_pred = model.predict(x_test[:, np.newaxis])\n",
    "\n",
    "print(\"Mean squared error: %.3f\" % mean_squared_error(y_test, y_pred))\n",
    "print('r2 score: %.3f' % r2_score(y_test, y_pred))"
   ]
  },
  {
   "cell_type": "markdown",
   "metadata": {},
   "source": [
    "TODO: write interpretation"
   ]
  },
  {
   "cell_type": "markdown",
   "metadata": {},
   "source": [
    "#### Elizabeth so you want those ML "
   ]
  },
  {
   "cell_type": "code",
   "execution_count": null,
   "metadata": {},
   "outputs": [],
   "source": [
    "# Machine Learning Alogrithm\n",
    "def MLRegressor(x,y):\n",
    "    classifiers = [(\"KNN\", KNeighborsRegressor(3)),\n",
    "                   (\"DecisionTree\", DecisionTreeRegressor(max_depth=5)),\n",
    "                   (\"SVM_RBF\", SVR(kernel='rbf', C=1, gamma=0.1, epsilon=.1))]\n",
    "    for name,model in classifiers:\n",
    "        Acc = []\n",
    "        MSE = []\n",
    "        RMSE = []\n",
    "        kf = KFold(n_splits = 5, shuffle = True)\n",
    "        for train_index, test_index in kf.split(x):\n",
    "            x_train, x_test = x.iloc[train_index], x.iloc[test_index]\n",
    "            y_train, y_test = y[train_index], y[test_index]\n",
    "            fit = model.fit(x_train, y_train)\n",
    "            Acc.append(r2_score(y_test, model.predict(x_test)))\n",
    "            MSE.append(mean_squared_error(y_test, model.predict(x_test)))\n",
    "            RMSE.append(np.sqrt(mean_squared_error(y_test, model.predict(x_test))))\n",
    "            \n",
    "        print(\"The model performance for \",name)\n",
    "        print(\"-------------------------------------------\")\n",
    "        print(\"R-Squared Score for \", name, \"is\", np.mean(Acc))\n",
    "        print(\"MSE Value for \", name, \"is\", np.mean(MSE))\n",
    "        print(\"RMSE Value for \", name, \"is\", np.mean(RMSE))\n",
    "        print(\"\\n\")"
   ]
  },
  {
   "cell_type": "code",
   "execution_count": null,
   "metadata": {},
   "outputs": [],
   "source": [
    "edits_tests_array = np.array(edits_tests, dtype=\"O\")\n",
    "\n",
    "x = edits_tests_array[:,3] # time passed between two test runs\n",
    "y = edits_tests_array[:,5] # ratio\n",
    "\n",
    "MLRegressor(x,y)"
   ]
  },
  {
   "cell_type": "code",
   "execution_count": null,
   "metadata": {},
   "outputs": [],
   "source": [
    "def MLClassifier(x,y):\n",
    "    classifiers = [(\"KNN\", KNeighborsClassifier(5)),\n",
    "                   (\"DecisionTree\", DecisionTreeClassifier(max_depth=5)),\n",
    "                   (\"Logistic\", LogisticRegression()),\n",
    "                   (\"Linear\", SGDClassifier())]\n",
    "    for name,model in classifiers:\n",
    "        Acc = []\n",
    "        kf = KFold(n_splits = 5, shuffle = True)\n",
    "        for train_index, test_index in kf.split(x):\n",
    "            x_train, x_test = x.iloc[train_index], x.iloc[test_index]\n",
    "            y_train, y_test = y[train_index], y[test_index]\n",
    "            fit = model.fit(x_train, y_train)\n",
    "            Acc.append(accuracy_score(y_test, model.predict(x_test), normalize = True))\n",
    "\n",
    "        print(\"Accuracy Score for \", name, \"is\", np.mean(Acc))\n",
    "        print(\"-------------------------------------------\")"
   ]
  },
  {
   "cell_type": "code",
   "execution_count": null,
   "metadata": {},
   "outputs": [],
   "source": [
    "edits_tests_array = np.array(edits_tests, dtype=\"O\")\n",
    "\n",
    "x = edits_tests_array[:,4] # booleanNextResult, test pass or fail\n",
    "y = edits_tests_array[:,5] # ratio\n",
    "MLClassifier(x,y)"
   ]
  },
  {
   "cell_type": "markdown",
   "metadata": {},
   "source": [
    "We create a logistic regression to model the probability of successful tests."
   ]
  },
  {
   "cell_type": "code",
   "execution_count": 178,
   "metadata": {},
   "outputs": [
    {
     "name": "stdout",
     "output_type": "stream",
     "text": [
      "Optimization terminated successfully.\n",
      "         Current function value: 0.672539\n",
      "         Iterations 5\n",
      "                          Results: Logit\n",
      "==================================================================\n",
      "Model:               Logit            Pseudo R-squared: 0.010     \n",
      "Dependent Variable:  nextTestResult   AIC:              2717.6782 \n",
      "Date:                2020-06-02 14:18 BIC:              2734.5048 \n",
      "No. Observations:    2016             Log-Likelihood:   -1355.8   \n",
      "Df Model:            2                LL-Null:          -1369.9   \n",
      "Df Residuals:        2013             LLR p-value:      7.6500e-07\n",
      "Converged:           1.0000           Scale:            1.0000    \n",
      "No. Iterations:      5.0000                                       \n",
      "------------------------------------------------------------------\n",
      "                    Coef.  Std.Err.    z    P>|z|   [0.025  0.975]\n",
      "------------------------------------------------------------------\n",
      "const              -0.1643   0.0571 -2.8778 0.0040 -0.2763 -0.0524\n",
      "editsUntilNextTest  0.0145   0.0043  3.3975 0.0007  0.0061  0.0229\n",
      "timePassed         -0.0023   0.0005 -4.6757 0.0000 -0.0033 -0.0014\n",
      "==================================================================\n",
      "\n",
      " The correlation between the two independent variables is 0.87\n"
     ]
    }
   ],
   "source": [
    "Y = df_edits_tests[\"nextTestResult\"]\n",
    "X = df_edits_tests[[\"editsUntilNextTest\",'timePassed']]\n",
    "X1 = sm.add_constant(X)\n",
    "logit_model = sm1.Logit(Y, X1)\n",
    "result_logit_model = logit_model.fit()\n",
    "print(result_logit_model.summary2())\n",
    "print(f' The correlation between the two independent variables is {round(df_edits_tests[\"editsUntilNextTest\"].corr(df_edits_tests[\"timePassed\"]),2)}')"
   ]
  },
  {
   "cell_type": "markdown",
   "metadata": {},
   "source": [
    "TODO jara: check and change interpet\n",
    "\n",
    "The coefficients are statistical significant (at 99% confidence level). While the time passed has a negative effect on the probability of a successful test, the number of edits has a positive one.  \n",
    "\n",
    "This means that, given the number of edits, the longer a developer waits to test his code, the higher the probability that the test will fail. Given a certain time between two edits events, however, the more edit events a developer executes, the higher the probability that the test will succeed.\n",
    "\n",
    "\n",
    "Just like the in the Build-Events-Analysis above, the number of edits and the time spent between test events are strongly positively correlated. Hence below two separate models."
   ]
  },
  {
   "cell_type": "code",
   "execution_count": 179,
   "metadata": {},
   "outputs": [
    {
     "name": "stdout",
     "output_type": "stream",
     "text": [
      "Optimization terminated successfully.\n",
      "         Current function value: 0.678756\n",
      "         Iterations 4\n",
      "                          Results: Logit\n",
      "==================================================================\n",
      "Model:                Logit            Pseudo R-squared: 0.001    \n",
      "Dependent Variable:   nextTestResult   AIC:              2740.7438\n",
      "Date:                 2020-06-02 14:19 BIC:              2751.9615\n",
      "No. Observations:     2016             Log-Likelihood:   -1368.4  \n",
      "Df Model:             1                LL-Null:          -1369.9  \n",
      "Df Residuals:         2014             LLR p-value:      0.078235 \n",
      "Converged:            1.0000           Scale:            1.0000   \n",
      "No. Iterations:       4.0000                                      \n",
      "------------------------------------------------------------------\n",
      "                    Coef.  Std.Err.    z    P>|z|   [0.025  0.975]\n",
      "------------------------------------------------------------------\n",
      "const              -0.2957   0.0498 -5.9401 0.0000 -0.3933 -0.1982\n",
      "editsUntilNextTest -0.0035   0.0020 -1.7104 0.0872 -0.0075  0.0005\n",
      "==================================================================\n",
      "\n"
     ]
    }
   ],
   "source": [
    "X_edit = df_edits_tests[[\"editsUntilNextTest\"]]\n",
    "X1_edit = sm.add_constant(X_edit)\n",
    "logit_model_edit = sm1.Logit(Y, X1_edit)\n",
    "result_logit_model_edit = logit_model_edit.fit()\n",
    "print(result_logit_model_edit.summary2())"
   ]
  },
  {
   "cell_type": "code",
   "execution_count": 177,
   "metadata": {},
   "outputs": [
    {
     "name": "stdout",
     "output_type": "stream",
     "text": [
      "Optimization terminated successfully.\n",
      "         Current function value: 0.675554\n",
      "         Iterations 5\n",
      "                         Results: Logit\n",
      "=================================================================\n",
      "Model:              Logit            Pseudo R-squared: 0.006     \n",
      "Dependent Variable: nextTestResult   AIC:              2727.8325 \n",
      "Date:               2020-06-02 14:18 BIC:              2739.0502 \n",
      "No. Observations:   2016             Log-Likelihood:   -1361.9   \n",
      "Df Model:           1                LL-Null:          -1369.9   \n",
      "Df Residuals:       2014             LLR p-value:      6.2925e-05\n",
      "Converged:          1.0000           Scale:            1.0000    \n",
      "No. Iterations:     5.0000                                       \n",
      "------------------------------------------------------------------\n",
      "               Coef.   Std.Err.     z     P>|z|    [0.025   0.975]\n",
      "------------------------------------------------------------------\n",
      "const         -0.2078    0.0554  -3.7535  0.0002  -0.3163  -0.0993\n",
      "timePassed    -0.0009    0.0002  -3.7297  0.0002  -0.0014  -0.0004\n",
      "=================================================================\n",
      "\n"
     ]
    }
   ],
   "source": [
    "X_time = df_edits_tests[[\"timePassed\"]]\n",
    "X1_time = sm.add_constant(X_time)\n",
    "logit_model_time = sm1.Logit(Y, X1_time)\n",
    "result_logit_model_time = logit_model_time.fit()\n",
    "print(result_logit_model_time.summary2())"
   ]
  },
  {
   "cell_type": "markdown",
   "metadata": {},
   "source": [
    "TODO jara: change interpret\n",
    "\n",
    "As we can see from this two separate models, the coefficient for timePassed is now statistical significant even at a 99% confidence level. However, the coefficient for number of edits is not.\n",
    "\n",
    "Interestingly, the effect of edits has changed into the negative! So both the more edits and the more time passes between two tests, the higher the probability that the test fails.\n",
    "\n",
    "However, we have to be careful in interpreting these models, since both pseudo R-squared errors are super low. Which is an indicator that neither of the two variables accurately predicts the success of the next test run.\n",
    "\n"
   ]
  },
  {
   "cell_type": "markdown",
   "metadata": {},
   "source": [
    "# TODO: Final conclusion"
   ]
  },
  {
   "cell_type": "code",
   "execution_count": null,
   "metadata": {},
   "outputs": [],
   "source": []
  }
 ],
 "metadata": {
  "colab": {
   "collapsed_sections": [
    "-G5SwDPljaHZ"
   ],
   "name": "Report.ipynb",
   "provenance": []
  },
  "kernelspec": {
   "display_name": "Python 3",
   "language": "python",
   "name": "python3"
  },
  "language_info": {
   "codemirror_mode": {
    "name": "ipython",
    "version": 3
   },
   "file_extension": ".py",
   "mimetype": "text/x-python",
   "name": "python",
   "nbconvert_exporter": "python",
   "pygments_lexer": "ipython3",
   "version": "3.7.4"
  }
 },
 "nbformat": 4,
 "nbformat_minor": 1
}
