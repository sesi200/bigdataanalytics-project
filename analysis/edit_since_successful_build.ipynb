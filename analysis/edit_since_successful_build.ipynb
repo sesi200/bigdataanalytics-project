{
 "cells": [
  {
   "cell_type": "markdown",
   "metadata": {},
   "source": [
    "# Data Analysis Part Andrea"
   ]
  },
  {
   "cell_type": "markdown",
   "metadata": {},
   "source": [
    "Linking number of edit events since last successful build to probability of build succeeding"
   ]
  },
  {
   "cell_type": "code",
   "execution_count": 1,
   "metadata": {},
   "outputs": [],
   "source": [
    "import pandas as pd\n",
    "import numpy as np"
   ]
  },
  {
   "cell_type": "markdown",
   "metadata": {},
   "source": [
    "# Import cleaned Data\n"
   ]
  },
  {
   "cell_type": "code",
   "execution_count": 23,
   "metadata": {},
   "outputs": [],
   "source": [
    "#if cleaned csv available\n",
    "editEvents = pd.read_csv(\"data/editEvents.csv\")\n",
    "buildEvents = pd.read_csv(\"data/buildEvents.csv\")\n",
    "# else run script ()\n",
    "def parse_timestamp(time):\n",
    "    if type(time) is str:\n",
    "        time = time.split('.')[0]\n",
    "        return pd.Timestamp(time)\n",
    "buildEvents['timestamp']=buildEvents['timestamp'].apply(parse_timestamp)\n",
    "editEvents['timestamp']=editEvents['timestamp'].apply(parse_timestamp)"
   ]
  },
  {
   "cell_type": "markdown",
   "metadata": {},
   "source": [
    "### Edit Events"
   ]
  },
  {
   "cell_type": "code",
   "execution_count": 24,
   "metadata": {},
   "outputs": [
    {
     "name": "stdout",
     "output_type": "stream",
     "text": [
      "No of edit events: 497459\n"
     ]
    },
    {
     "data": {
      "text/html": [
       "<div>\n",
       "<style scoped>\n",
       "    .dataframe tbody tr th:only-of-type {\n",
       "        vertical-align: middle;\n",
       "    }\n",
       "\n",
       "    .dataframe tbody tr th {\n",
       "        vertical-align: top;\n",
       "    }\n",
       "\n",
       "    .dataframe thead th {\n",
       "        text-align: right;\n",
       "    }\n",
       "</style>\n",
       "<table border=\"1\" class=\"dataframe\">\n",
       "  <thead>\n",
       "    <tr style=\"text-align: right;\">\n",
       "      <th></th>\n",
       "      <th>sessionID</th>\n",
       "      <th>timestamp</th>\n",
       "    </tr>\n",
       "  </thead>\n",
       "  <tbody>\n",
       "    <tr>\n",
       "      <th>0</th>\n",
       "      <td>034dd66a-7d1b-43eb-a245-82f5d1cdf6ca</td>\n",
       "      <td>2016-07-08 16:23:50</td>\n",
       "    </tr>\n",
       "    <tr>\n",
       "      <th>1</th>\n",
       "      <td>034dd66a-7d1b-43eb-a245-82f5d1cdf6ca</td>\n",
       "      <td>2016-07-08 16:24:22</td>\n",
       "    </tr>\n",
       "    <tr>\n",
       "      <th>2</th>\n",
       "      <td>034dd66a-7d1b-43eb-a245-82f5d1cdf6ca</td>\n",
       "      <td>2016-07-08 16:24:24</td>\n",
       "    </tr>\n",
       "    <tr>\n",
       "      <th>3</th>\n",
       "      <td>8d22b7b4-58c5-4101-b754-d3fa842ba62d</td>\n",
       "      <td>2016-07-08 17:48:12</td>\n",
       "    </tr>\n",
       "    <tr>\n",
       "      <th>4</th>\n",
       "      <td>8d22b7b4-58c5-4101-b754-d3fa842ba62d</td>\n",
       "      <td>2016-07-08 17:52:09</td>\n",
       "    </tr>\n",
       "  </tbody>\n",
       "</table>\n",
       "</div>"
      ],
      "text/plain": [
       "                              sessionID           timestamp\n",
       "0  034dd66a-7d1b-43eb-a245-82f5d1cdf6ca 2016-07-08 16:23:50\n",
       "1  034dd66a-7d1b-43eb-a245-82f5d1cdf6ca 2016-07-08 16:24:22\n",
       "2  034dd66a-7d1b-43eb-a245-82f5d1cdf6ca 2016-07-08 16:24:24\n",
       "3  8d22b7b4-58c5-4101-b754-d3fa842ba62d 2016-07-08 17:48:12\n",
       "4  8d22b7b4-58c5-4101-b754-d3fa842ba62d 2016-07-08 17:52:09"
      ]
     },
     "execution_count": 24,
     "metadata": {},
     "output_type": "execute_result"
    }
   ],
   "source": [
    "print(f'No of edit events: {len(editEvents)}')\n",
    "editEvents.head()"
   ]
  },
  {
   "cell_type": "code",
   "execution_count": 25,
   "metadata": {},
   "outputs": [
    {
     "data": {
      "text/html": [
       "<div>\n",
       "<style scoped>\n",
       "    .dataframe tbody tr th:only-of-type {\n",
       "        vertical-align: middle;\n",
       "    }\n",
       "\n",
       "    .dataframe tbody tr th {\n",
       "        vertical-align: top;\n",
       "    }\n",
       "\n",
       "    .dataframe thead th {\n",
       "        text-align: right;\n",
       "    }\n",
       "</style>\n",
       "<table border=\"1\" class=\"dataframe\">\n",
       "  <thead>\n",
       "    <tr style=\"text-align: right;\">\n",
       "      <th></th>\n",
       "      <th>sessionID</th>\n",
       "      <th>timestamp</th>\n",
       "    </tr>\n",
       "  </thead>\n",
       "  <tbody>\n",
       "    <tr>\n",
       "      <th>count</th>\n",
       "      <td>497459</td>\n",
       "      <td>497459</td>\n",
       "    </tr>\n",
       "    <tr>\n",
       "      <th>unique</th>\n",
       "      <td>2874</td>\n",
       "      <td>488049</td>\n",
       "    </tr>\n",
       "    <tr>\n",
       "      <th>top</th>\n",
       "      <td>8d0ea603-57cd-4b1f-b3cf-ce39ec9203c7</td>\n",
       "      <td>2016-09-04 23:28:12</td>\n",
       "    </tr>\n",
       "    <tr>\n",
       "      <th>freq</th>\n",
       "      <td>17006</td>\n",
       "      <td>4</td>\n",
       "    </tr>\n",
       "    <tr>\n",
       "      <th>first</th>\n",
       "      <td>NaN</td>\n",
       "      <td>2016-03-20 12:32:52</td>\n",
       "    </tr>\n",
       "    <tr>\n",
       "      <th>last</th>\n",
       "      <td>NaN</td>\n",
       "      <td>2017-02-23 22:03:41</td>\n",
       "    </tr>\n",
       "  </tbody>\n",
       "</table>\n",
       "</div>"
      ],
      "text/plain": [
       "                                   sessionID            timestamp\n",
       "count                                 497459               497459\n",
       "unique                                  2874               488049\n",
       "top     8d0ea603-57cd-4b1f-b3cf-ce39ec9203c7  2016-09-04 23:28:12\n",
       "freq                                   17006                    4\n",
       "first                                    NaN  2016-03-20 12:32:52\n",
       "last                                     NaN  2017-02-23 22:03:41"
      ]
     },
     "execution_count": 25,
     "metadata": {},
     "output_type": "execute_result"
    }
   ],
   "source": [
    "editEvents.describe()"
   ]
  },
  {
   "cell_type": "markdown",
   "metadata": {},
   "source": [
    "### Build Events"
   ]
  },
  {
   "cell_type": "code",
   "execution_count": 26,
   "metadata": {},
   "outputs": [
    {
     "name": "stdout",
     "output_type": "stream",
     "text": [
      "No of build events: 14957\n"
     ]
    },
    {
     "data": {
      "text/html": [
       "<div>\n",
       "<style scoped>\n",
       "    .dataframe tbody tr th:only-of-type {\n",
       "        vertical-align: middle;\n",
       "    }\n",
       "\n",
       "    .dataframe tbody tr th {\n",
       "        vertical-align: top;\n",
       "    }\n",
       "\n",
       "    .dataframe thead th {\n",
       "        text-align: right;\n",
       "    }\n",
       "</style>\n",
       "<table border=\"1\" class=\"dataframe\">\n",
       "  <thead>\n",
       "    <tr style=\"text-align: right;\">\n",
       "      <th></th>\n",
       "      <th>sessionID</th>\n",
       "      <th>timestamp</th>\n",
       "      <th>buildSuccessful</th>\n",
       "    </tr>\n",
       "  </thead>\n",
       "  <tbody>\n",
       "    <tr>\n",
       "      <th>0</th>\n",
       "      <td>8d22b7b4-58c5-4101-b754-d3fa842ba62d</td>\n",
       "      <td>2016-07-08 18:02:25</td>\n",
       "      <td>True</td>\n",
       "    </tr>\n",
       "    <tr>\n",
       "      <th>1</th>\n",
       "      <td>8d22b7b4-58c5-4101-b754-d3fa842ba62d</td>\n",
       "      <td>2016-07-08 18:02:47</td>\n",
       "      <td>True</td>\n",
       "    </tr>\n",
       "    <tr>\n",
       "      <th>2</th>\n",
       "      <td>ac705dcb-0848-4448-847d-70f0f8f0315a</td>\n",
       "      <td>2016-07-08 18:17:57</td>\n",
       "      <td>True</td>\n",
       "    </tr>\n",
       "    <tr>\n",
       "      <th>3</th>\n",
       "      <td>f23af4c6-66b5-4d9f-b6e0-83de319b70c5</td>\n",
       "      <td>2016-07-08 20:06:38</td>\n",
       "      <td>True</td>\n",
       "    </tr>\n",
       "    <tr>\n",
       "      <th>4</th>\n",
       "      <td>f23af4c6-66b5-4d9f-b6e0-83de319b70c5</td>\n",
       "      <td>2016-07-08 20:08:21</td>\n",
       "      <td>True</td>\n",
       "    </tr>\n",
       "  </tbody>\n",
       "</table>\n",
       "</div>"
      ],
      "text/plain": [
       "                              sessionID           timestamp buildSuccessful\n",
       "0  8d22b7b4-58c5-4101-b754-d3fa842ba62d 2016-07-08 18:02:25            True\n",
       "1  8d22b7b4-58c5-4101-b754-d3fa842ba62d 2016-07-08 18:02:47            True\n",
       "2  ac705dcb-0848-4448-847d-70f0f8f0315a 2016-07-08 18:17:57            True\n",
       "3  f23af4c6-66b5-4d9f-b6e0-83de319b70c5 2016-07-08 20:06:38            True\n",
       "4  f23af4c6-66b5-4d9f-b6e0-83de319b70c5 2016-07-08 20:08:21            True"
      ]
     },
     "execution_count": 26,
     "metadata": {},
     "output_type": "execute_result"
    }
   ],
   "source": [
    "print(f'No of build events: {len(buildEvents)}')\n",
    "buildEvents.head()"
   ]
  },
  {
   "cell_type": "code",
   "execution_count": 27,
   "metadata": {
    "scrolled": false
   },
   "outputs": [
    {
     "data": {
      "text/html": [
       "<div>\n",
       "<style scoped>\n",
       "    .dataframe tbody tr th:only-of-type {\n",
       "        vertical-align: middle;\n",
       "    }\n",
       "\n",
       "    .dataframe tbody tr th {\n",
       "        vertical-align: top;\n",
       "    }\n",
       "\n",
       "    .dataframe thead th {\n",
       "        text-align: right;\n",
       "    }\n",
       "</style>\n",
       "<table border=\"1\" class=\"dataframe\">\n",
       "  <thead>\n",
       "    <tr style=\"text-align: right;\">\n",
       "      <th></th>\n",
       "      <th>sessionID</th>\n",
       "      <th>timestamp</th>\n",
       "      <th>buildSuccessful</th>\n",
       "    </tr>\n",
       "  </thead>\n",
       "  <tbody>\n",
       "    <tr>\n",
       "      <th>count</th>\n",
       "      <td>14957</td>\n",
       "      <td>14956</td>\n",
       "      <td>14956</td>\n",
       "    </tr>\n",
       "    <tr>\n",
       "      <th>unique</th>\n",
       "      <td>1529</td>\n",
       "      <td>14877</td>\n",
       "      <td>2</td>\n",
       "    </tr>\n",
       "    <tr>\n",
       "      <th>top</th>\n",
       "      <td>26f3dadd-c2e3-414b-8c92-78df1dc356c8</td>\n",
       "      <td>2016-04-21 17:41:37</td>\n",
       "      <td>True</td>\n",
       "    </tr>\n",
       "    <tr>\n",
       "      <th>freq</th>\n",
       "      <td>154</td>\n",
       "      <td>2</td>\n",
       "      <td>12889</td>\n",
       "    </tr>\n",
       "    <tr>\n",
       "      <th>first</th>\n",
       "      <td>NaN</td>\n",
       "      <td>2016-03-20 12:33:59</td>\n",
       "      <td>NaN</td>\n",
       "    </tr>\n",
       "    <tr>\n",
       "      <th>last</th>\n",
       "      <td>NaN</td>\n",
       "      <td>2017-02-23 22:03:36</td>\n",
       "      <td>NaN</td>\n",
       "    </tr>\n",
       "  </tbody>\n",
       "</table>\n",
       "</div>"
      ],
      "text/plain": [
       "                                   sessionID            timestamp  \\\n",
       "count                                  14957                14956   \n",
       "unique                                  1529                14877   \n",
       "top     26f3dadd-c2e3-414b-8c92-78df1dc356c8  2016-04-21 17:41:37   \n",
       "freq                                     154                    2   \n",
       "first                                    NaN  2016-03-20 12:33:59   \n",
       "last                                     NaN  2017-02-23 22:03:36   \n",
       "\n",
       "       buildSuccessful  \n",
       "count            14956  \n",
       "unique               2  \n",
       "top               True  \n",
       "freq             12889  \n",
       "first              NaN  \n",
       "last               NaN  "
      ]
     },
     "execution_count": 27,
     "metadata": {},
     "output_type": "execute_result"
    }
   ],
   "source": [
    "buildEvents.describe()"
   ]
  },
  {
   "cell_type": "markdown",
   "metadata": {},
   "source": [
    "# Process Data"
   ]
  },
  {
   "cell_type": "markdown",
   "metadata": {},
   "source": [
    "1. Step: For each sessionID:\n",
    "    - get timestamp of the last successfull build\n",
    "    - get timestamp of next build after \n",
    "2. Step: For each session ID:\n",
    "    - Count number of edit between the two timestamp in Step 1\n",
    "    - if no buildEvent after last successfull build occurs, dont count\n",
    "3. Step: Create new DataFrame with following variables:\n",
    "    - sessionID,timestampSuccessBuild, timestampNextBuild, #editsUntilNextBuild and nextBuildResult"
   ]
  },
  {
   "cell_type": "code",
   "execution_count": 84,
   "metadata": {},
   "outputs": [],
   "source": [
    "def get_all_build(sessionID):\n",
    "    all_build = buildEvents[buildEvents[\"sessionID\"] == sessionID]\n",
    "    return all_build.sort_values([\"timestamp\"]).values\n"
   ]
  },
  {
   "cell_type": "code",
   "execution_count": 85,
   "metadata": {},
   "outputs": [],
   "source": [
    "def get_successful_build(sessionID):\n",
    "    all_successful_build = buildEvents[(buildEvents[\"sessionID\"] == sessionID) & (buildEvents[\"buildSuccessful\"] == True)] \n",
    "    return all_successful_build.sort_values([\"timestamp\"]).values\n"
   ]
  },
  {
   "cell_type": "code",
   "execution_count": 86,
   "metadata": {},
   "outputs": [],
   "source": [
    "def get_nr_edits_between_build(sessionID,timeLastSuccessfullBuild, timeNextBuild):\n",
    "    totalEdit = editEvents[editEvents[\"sessionID\"] == sessionID]\n",
    "    totalEdit = totalEdit.sort_values([\"timestamp\"])\n",
    "    testBetweenSuccessBuildAndBuild = totalEdit[(totalEdit[\"timestamp\"] <= timeNextBuild) & (totalEdit[\"timestamp\"] >= timeLastSuccessfullBuild)]\n",
    "    return testBetweenSuccessBuildAndBuild[\"timestamp\"].values.size\n"
   ]
  },
  {
   "cell_type": "code",
   "execution_count": 107,
   "metadata": {},
   "outputs": [],
   "source": [
    "def edits_from_pass_to_next_build(sessionID):\n",
    "    result = []\n",
    "\n",
    "    # get all successful build of session \n",
    "    allSuccessfulBuild = get_successful_build(sessionID)\n",
    "    allBuild = get_all_build(sessionID)\n",
    "    numOfSuccessfulBuild = np.size(allSuccessfulBuild,0)\n",
    "    numOfBuild = np.size(allBuild,0)\n",
    "    # iterate over each passed build\n",
    "    for s in range(numOfSuccessfulBuild):\n",
    "        # if build follows, count edits\n",
    "        if allBuild[-1][1]>allSuccessfulBuild[s][1]:\n",
    "            for b in range(numOfBuild):\n",
    "                if allBuild[b][1]>allSuccessfulBuild[s][1]:\n",
    "                    break\n",
    "            timeLastSuccessfulBuild=allSuccessfulBuild[s][1]\n",
    "            timeNextBuild=allBuild[b][1]\n",
    "            resultNextBuild=allBuild[b][2]\n",
    "            nrOfEdit=get_nr_edits_between_build(sessionID,timeLastSuccessfulBuild, timeNextBuild)\n",
    "            sessionID = allBuild[b][0]\n",
    "            \n",
    "            result.append([sessionID, timeLastSuccessfulBuild, timeNextBuild, nrOfEdit, resultNextBuild])\n",
    "            \n",
    "    return result"
   ]
  },
  {
   "cell_type": "code",
   "execution_count": 108,
   "metadata": {},
   "outputs": [
    {
     "data": {
      "text/plain": [
       "['9729b737-8fb0-461e-8694-390548199f57',\n",
       " Timestamp('2016-07-08 20:26:11'),\n",
       " Timestamp('2016-07-08 20:26:13'),\n",
       " 1,\n",
       " True]"
      ]
     },
     "execution_count": 108,
     "metadata": {},
     "output_type": "execute_result"
    }
   ],
   "source": [
    "edits_from_pass_to_next_build(buildEvents.iloc[6,0])[11]"
   ]
  },
  {
   "cell_type": "markdown",
   "metadata": {},
   "source": [
    "### Iterate over all sessions and create DataFrame"
   ]
  },
  {
   "cell_type": "code",
   "execution_count": 115,
   "metadata": {},
   "outputs": [],
   "source": [
    "final_result=[]\n",
    "allSessionID=buildEvents.sessionID.unique()\n",
    "for sessionID in allSessionID[1:100]:\n",
    "    if len(edits_from_pass_to_next_build(sessionID))>0:\n",
    "        NrOfObservation=len(edits_from_pass_to_next_build(sessionID))\n",
    "        for NOO in range(NrOfObservation):\n",
    "            final_result.append(edits_from_pass_to_next_build(sessionID)[NOO])\n",
    "#create DataFrame\n",
    "column_labels = ['sessionID','timestampSuccessBuild','timestampNextBuild', '#editsUntilNextBuild', 'nextBuildResult']\n",
    "df = pd.DataFrame(final_result, columns=column_labels)\n",
    "        "
   ]
  },
  {
   "cell_type": "code",
   "execution_count": 116,
   "metadata": {},
   "outputs": [
    {
     "data": {
      "text/html": [
       "<div>\n",
       "<style scoped>\n",
       "    .dataframe tbody tr th:only-of-type {\n",
       "        vertical-align: middle;\n",
       "    }\n",
       "\n",
       "    .dataframe tbody tr th {\n",
       "        vertical-align: top;\n",
       "    }\n",
       "\n",
       "    .dataframe thead th {\n",
       "        text-align: right;\n",
       "    }\n",
       "</style>\n",
       "<table border=\"1\" class=\"dataframe\">\n",
       "  <thead>\n",
       "    <tr style=\"text-align: right;\">\n",
       "      <th></th>\n",
       "      <th>sessionID</th>\n",
       "      <th>timestampSuccessBuild</th>\n",
       "      <th>timestampNextBuild</th>\n",
       "      <th>#editsUntilNextBuild</th>\n",
       "      <th>nextBuildResult</th>\n",
       "    </tr>\n",
       "  </thead>\n",
       "  <tbody>\n",
       "    <tr>\n",
       "      <th>0</th>\n",
       "      <td>f23af4c6-66b5-4d9f-b6e0-83de319b70c5</td>\n",
       "      <td>2016-07-08 20:06:38</td>\n",
       "      <td>2016-07-08 20:08:21</td>\n",
       "      <td>4</td>\n",
       "      <td>True</td>\n",
       "    </tr>\n",
       "    <tr>\n",
       "      <th>1</th>\n",
       "      <td>f23af4c6-66b5-4d9f-b6e0-83de319b70c5</td>\n",
       "      <td>2016-07-08 20:08:21</td>\n",
       "      <td>2016-07-08 20:12:21</td>\n",
       "      <td>3</td>\n",
       "      <td>True</td>\n",
       "    </tr>\n",
       "    <tr>\n",
       "      <th>2</th>\n",
       "      <td>9729b737-8fb0-461e-8694-390548199f57</td>\n",
       "      <td>2016-07-08 20:17:56</td>\n",
       "      <td>2016-07-08 20:18:46</td>\n",
       "      <td>6</td>\n",
       "      <td>True</td>\n",
       "    </tr>\n",
       "    <tr>\n",
       "      <th>3</th>\n",
       "      <td>9729b737-8fb0-461e-8694-390548199f57</td>\n",
       "      <td>2016-07-08 20:18:46</td>\n",
       "      <td>2016-07-08 20:19:49</td>\n",
       "      <td>2</td>\n",
       "      <td>True</td>\n",
       "    </tr>\n",
       "    <tr>\n",
       "      <th>4</th>\n",
       "      <td>9729b737-8fb0-461e-8694-390548199f57</td>\n",
       "      <td>2016-07-08 20:19:49</td>\n",
       "      <td>2016-07-08 20:20:23</td>\n",
       "      <td>3</td>\n",
       "      <td>True</td>\n",
       "    </tr>\n",
       "    <tr>\n",
       "      <th>...</th>\n",
       "      <td>...</td>\n",
       "      <td>...</td>\n",
       "      <td>...</td>\n",
       "      <td>...</td>\n",
       "      <td>...</td>\n",
       "    </tr>\n",
       "    <tr>\n",
       "      <th>329</th>\n",
       "      <td>99cfee45-afb6-4390-b3ba-80a478a181fd</td>\n",
       "      <td>2016-12-16 12:57:19</td>\n",
       "      <td>2016-12-16 12:57:31</td>\n",
       "      <td>6</td>\n",
       "      <td>True</td>\n",
       "    </tr>\n",
       "    <tr>\n",
       "      <th>330</th>\n",
       "      <td>99cfee45-afb6-4390-b3ba-80a478a181fd</td>\n",
       "      <td>2016-12-16 12:57:31</td>\n",
       "      <td>2016-12-16 13:27:05</td>\n",
       "      <td>156</td>\n",
       "      <td>True</td>\n",
       "    </tr>\n",
       "    <tr>\n",
       "      <th>331</th>\n",
       "      <td>6666e317-246e-430d-adcb-6af5ff8b57b9</td>\n",
       "      <td>2016-12-16 15:51:35</td>\n",
       "      <td>2016-12-16 15:51:52</td>\n",
       "      <td>7</td>\n",
       "      <td>False</td>\n",
       "    </tr>\n",
       "    <tr>\n",
       "      <th>332</th>\n",
       "      <td>d9fec444-23ca-43cf-94c8-d91e2669888a</td>\n",
       "      <td>2016-12-17 09:38:29</td>\n",
       "      <td>2016-12-17 09:39:28</td>\n",
       "      <td>8</td>\n",
       "      <td>True</td>\n",
       "    </tr>\n",
       "    <tr>\n",
       "      <th>333</th>\n",
       "      <td>8f4125cc-0717-4f02-b98f-52920a954128</td>\n",
       "      <td>2016-12-19 07:44:24</td>\n",
       "      <td>2016-12-19 07:44:39</td>\n",
       "      <td>7</td>\n",
       "      <td>True</td>\n",
       "    </tr>\n",
       "  </tbody>\n",
       "</table>\n",
       "<p>334 rows × 5 columns</p>\n",
       "</div>"
      ],
      "text/plain": [
       "                                sessionID timestampSuccessBuild  \\\n",
       "0    f23af4c6-66b5-4d9f-b6e0-83de319b70c5   2016-07-08 20:06:38   \n",
       "1    f23af4c6-66b5-4d9f-b6e0-83de319b70c5   2016-07-08 20:08:21   \n",
       "2    9729b737-8fb0-461e-8694-390548199f57   2016-07-08 20:17:56   \n",
       "3    9729b737-8fb0-461e-8694-390548199f57   2016-07-08 20:18:46   \n",
       "4    9729b737-8fb0-461e-8694-390548199f57   2016-07-08 20:19:49   \n",
       "..                                    ...                   ...   \n",
       "329  99cfee45-afb6-4390-b3ba-80a478a181fd   2016-12-16 12:57:19   \n",
       "330  99cfee45-afb6-4390-b3ba-80a478a181fd   2016-12-16 12:57:31   \n",
       "331  6666e317-246e-430d-adcb-6af5ff8b57b9   2016-12-16 15:51:35   \n",
       "332  d9fec444-23ca-43cf-94c8-d91e2669888a   2016-12-17 09:38:29   \n",
       "333  8f4125cc-0717-4f02-b98f-52920a954128   2016-12-19 07:44:24   \n",
       "\n",
       "     timestampNextBuild  #editsUntilNextBuild  nextBuildResult  \n",
       "0   2016-07-08 20:08:21                     4             True  \n",
       "1   2016-07-08 20:12:21                     3             True  \n",
       "2   2016-07-08 20:18:46                     6             True  \n",
       "3   2016-07-08 20:19:49                     2             True  \n",
       "4   2016-07-08 20:20:23                     3             True  \n",
       "..                  ...                   ...              ...  \n",
       "329 2016-12-16 12:57:31                     6             True  \n",
       "330 2016-12-16 13:27:05                   156             True  \n",
       "331 2016-12-16 15:51:52                     7            False  \n",
       "332 2016-12-17 09:39:28                     8             True  \n",
       "333 2016-12-19 07:44:39                     7             True  \n",
       "\n",
       "[334 rows x 5 columns]"
      ]
     },
     "execution_count": 116,
     "metadata": {},
     "output_type": "execute_result"
    }
   ],
   "source": [
    "df"
   ]
  },
  {
   "cell_type": "markdown",
   "metadata": {},
   "source": [
    "## Build a Model"
   ]
  },
  {
   "cell_type": "code",
   "execution_count": null,
   "metadata": {},
   "outputs": [],
   "source": [
    "#TODO: probability of successful build given number of edits after last successful build"
   ]
  }
 ],
 "metadata": {
  "kernelspec": {
   "display_name": "Python 3",
   "language": "python",
   "name": "python3"
  }
 },
 "nbformat": 4,
 "nbformat_minor": 2
}
