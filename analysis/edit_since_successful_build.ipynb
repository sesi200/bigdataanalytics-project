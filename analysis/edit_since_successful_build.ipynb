{
 "cells": [
  {
   "cell_type": "markdown",
   "metadata": {},
   "source": [
    "# Data Analysis Part Andrea"
   ]
  },
  {
   "cell_type": "markdown",
   "metadata": {},
   "source": [
    "Linking number of edit events since last successful build to probability of build succeeding"
   ]
  },
  {
   "cell_type": "code",
   "execution_count": 1,
   "metadata": {},
   "outputs": [],
   "source": [
    "import pandas as pd\n",
    "import numpy as np"
   ]
  },
  {
   "cell_type": "markdown",
   "metadata": {},
   "source": [
    "# Import Data\n"
   ]
  },
  {
   "cell_type": "code",
   "execution_count": 21,
   "metadata": {},
   "outputs": [],
   "source": [
    "editEvents = pd.read_csv(\"data/editEvents.csv\")\n",
    "buildEvents = pd.read_csv(\"data/buildEvents.csv\")"
   ]
  },
  {
   "cell_type": "markdown",
   "metadata": {},
   "source": [
    "### Edit Events"
   ]
  },
  {
   "cell_type": "code",
   "execution_count": 22,
   "metadata": {},
   "outputs": [
    {
     "name": "stdout",
     "output_type": "stream",
     "text": [
      "No of edit events: 497459\n"
     ]
    },
    {
     "data": {
      "text/html": [
       "<div>\n",
       "<style scoped>\n",
       "    .dataframe tbody tr th:only-of-type {\n",
       "        vertical-align: middle;\n",
       "    }\n",
       "\n",
       "    .dataframe tbody tr th {\n",
       "        vertical-align: top;\n",
       "    }\n",
       "\n",
       "    .dataframe thead th {\n",
       "        text-align: right;\n",
       "    }\n",
       "</style>\n",
       "<table border=\"1\" class=\"dataframe\">\n",
       "  <thead>\n",
       "    <tr style=\"text-align: right;\">\n",
       "      <th></th>\n",
       "      <th>sessionID</th>\n",
       "      <th>timestamp</th>\n",
       "    </tr>\n",
       "  </thead>\n",
       "  <tbody>\n",
       "    <tr>\n",
       "      <th>0</th>\n",
       "      <td>034dd66a-7d1b-43eb-a245-82f5d1cdf6ca</td>\n",
       "      <td>2016-07-08T16:23:50.439936700+02:00</td>\n",
       "    </tr>\n",
       "    <tr>\n",
       "      <th>1</th>\n",
       "      <td>034dd66a-7d1b-43eb-a245-82f5d1cdf6ca</td>\n",
       "      <td>2016-07-08T16:24:22.582624100+02:00</td>\n",
       "    </tr>\n",
       "    <tr>\n",
       "      <th>2</th>\n",
       "      <td>034dd66a-7d1b-43eb-a245-82f5d1cdf6ca</td>\n",
       "      <td>2016-07-08T16:24:24.591515+02:00</td>\n",
       "    </tr>\n",
       "    <tr>\n",
       "      <th>3</th>\n",
       "      <td>8d22b7b4-58c5-4101-b754-d3fa842ba62d</td>\n",
       "      <td>2016-07-08T17:48:12.651904400+02:00</td>\n",
       "    </tr>\n",
       "    <tr>\n",
       "      <th>4</th>\n",
       "      <td>8d22b7b4-58c5-4101-b754-d3fa842ba62d</td>\n",
       "      <td>2016-07-08T17:52:09.494520100+02:00</td>\n",
       "    </tr>\n",
       "  </tbody>\n",
       "</table>\n",
       "</div>"
      ],
      "text/plain": [
       "                              sessionID                            timestamp\n",
       "0  034dd66a-7d1b-43eb-a245-82f5d1cdf6ca  2016-07-08T16:23:50.439936700+02:00\n",
       "1  034dd66a-7d1b-43eb-a245-82f5d1cdf6ca  2016-07-08T16:24:22.582624100+02:00\n",
       "2  034dd66a-7d1b-43eb-a245-82f5d1cdf6ca     2016-07-08T16:24:24.591515+02:00\n",
       "3  8d22b7b4-58c5-4101-b754-d3fa842ba62d  2016-07-08T17:48:12.651904400+02:00\n",
       "4  8d22b7b4-58c5-4101-b754-d3fa842ba62d  2016-07-08T17:52:09.494520100+02:00"
      ]
     },
     "execution_count": 22,
     "metadata": {},
     "output_type": "execute_result"
    }
   ],
   "source": [
    "print(f'No of edit events: {len(editEvents)}')\n",
    "editEvents.head()"
   ]
  },
  {
   "cell_type": "code",
   "execution_count": 18,
   "metadata": {},
   "outputs": [
    {
     "data": {
      "text/html": [
       "<div>\n",
       "<style scoped>\n",
       "    .dataframe tbody tr th:only-of-type {\n",
       "        vertical-align: middle;\n",
       "    }\n",
       "\n",
       "    .dataframe tbody tr th {\n",
       "        vertical-align: top;\n",
       "    }\n",
       "\n",
       "    .dataframe thead th {\n",
       "        text-align: right;\n",
       "    }\n",
       "</style>\n",
       "<table border=\"1\" class=\"dataframe\">\n",
       "  <thead>\n",
       "    <tr style=\"text-align: right;\">\n",
       "      <th></th>\n",
       "      <th>sessionID</th>\n",
       "      <th>timestamp</th>\n",
       "    </tr>\n",
       "  </thead>\n",
       "  <tbody>\n",
       "    <tr>\n",
       "      <th>count</th>\n",
       "      <td>497459</td>\n",
       "      <td>497459</td>\n",
       "    </tr>\n",
       "    <tr>\n",
       "      <th>unique</th>\n",
       "      <td>2874</td>\n",
       "      <td>496546</td>\n",
       "    </tr>\n",
       "    <tr>\n",
       "      <th>top</th>\n",
       "      <td>8d0ea603-57cd-4b1f-b3cf-ce39ec9203c7</td>\n",
       "      <td>2016-07-08T10:02:00.260073600+02:00</td>\n",
       "    </tr>\n",
       "    <tr>\n",
       "      <th>freq</th>\n",
       "      <td>17006</td>\n",
       "      <td>2</td>\n",
       "    </tr>\n",
       "  </tbody>\n",
       "</table>\n",
       "</div>"
      ],
      "text/plain": [
       "                                   sessionID  \\\n",
       "count                                 497459   \n",
       "unique                                  2874   \n",
       "top     8d0ea603-57cd-4b1f-b3cf-ce39ec9203c7   \n",
       "freq                                   17006   \n",
       "\n",
       "                                  timestamp  \n",
       "count                                497459  \n",
       "unique                               496546  \n",
       "top     2016-07-08T10:02:00.260073600+02:00  \n",
       "freq                                      2  "
      ]
     },
     "execution_count": 18,
     "metadata": {},
     "output_type": "execute_result"
    }
   ],
   "source": [
    "editEvents.describe()"
   ]
  },
  {
   "cell_type": "markdown",
   "metadata": {},
   "source": [
    "### Build Events"
   ]
  },
  {
   "cell_type": "code",
   "execution_count": 15,
   "metadata": {},
   "outputs": [
    {
     "name": "stdout",
     "output_type": "stream",
     "text": [
      "No of test events: 14957\n"
     ]
    },
    {
     "data": {
      "text/html": [
       "<div>\n",
       "<style scoped>\n",
       "    .dataframe tbody tr th:only-of-type {\n",
       "        vertical-align: middle;\n",
       "    }\n",
       "\n",
       "    .dataframe tbody tr th {\n",
       "        vertical-align: top;\n",
       "    }\n",
       "\n",
       "    .dataframe thead th {\n",
       "        text-align: right;\n",
       "    }\n",
       "</style>\n",
       "<table border=\"1\" class=\"dataframe\">\n",
       "  <thead>\n",
       "    <tr style=\"text-align: right;\">\n",
       "      <th></th>\n",
       "      <th>sessionID</th>\n",
       "      <th>timestamp</th>\n",
       "      <th>buildSuccessful</th>\n",
       "    </tr>\n",
       "  </thead>\n",
       "  <tbody>\n",
       "    <tr>\n",
       "      <th>0</th>\n",
       "      <td>8d22b7b4-58c5-4101-b754-d3fa842ba62d</td>\n",
       "      <td>2016-07-08T18:02:25.521489400+02:00</td>\n",
       "      <td>True</td>\n",
       "    </tr>\n",
       "    <tr>\n",
       "      <th>1</th>\n",
       "      <td>8d22b7b4-58c5-4101-b754-d3fa842ba62d</td>\n",
       "      <td>2016-07-08T18:02:47.427946300+02:00</td>\n",
       "      <td>True</td>\n",
       "    </tr>\n",
       "    <tr>\n",
       "      <th>2</th>\n",
       "      <td>ac705dcb-0848-4448-847d-70f0f8f0315a</td>\n",
       "      <td>2016-07-08T18:17:57.693892300+02:00</td>\n",
       "      <td>True</td>\n",
       "    </tr>\n",
       "    <tr>\n",
       "      <th>3</th>\n",
       "      <td>f23af4c6-66b5-4d9f-b6e0-83de319b70c5</td>\n",
       "      <td>2016-07-08T20:06:38.448145+02:00</td>\n",
       "      <td>True</td>\n",
       "    </tr>\n",
       "    <tr>\n",
       "      <th>4</th>\n",
       "      <td>f23af4c6-66b5-4d9f-b6e0-83de319b70c5</td>\n",
       "      <td>2016-07-08T20:08:21.168403+02:00</td>\n",
       "      <td>True</td>\n",
       "    </tr>\n",
       "  </tbody>\n",
       "</table>\n",
       "</div>"
      ],
      "text/plain": [
       "                              sessionID                            timestamp  \\\n",
       "0  8d22b7b4-58c5-4101-b754-d3fa842ba62d  2016-07-08T18:02:25.521489400+02:00   \n",
       "1  8d22b7b4-58c5-4101-b754-d3fa842ba62d  2016-07-08T18:02:47.427946300+02:00   \n",
       "2  ac705dcb-0848-4448-847d-70f0f8f0315a  2016-07-08T18:17:57.693892300+02:00   \n",
       "3  f23af4c6-66b5-4d9f-b6e0-83de319b70c5     2016-07-08T20:06:38.448145+02:00   \n",
       "4  f23af4c6-66b5-4d9f-b6e0-83de319b70c5     2016-07-08T20:08:21.168403+02:00   \n",
       "\n",
       "  buildSuccessful  \n",
       "0            True  \n",
       "1            True  \n",
       "2            True  \n",
       "3            True  \n",
       "4            True  "
      ]
     },
     "execution_count": 15,
     "metadata": {},
     "output_type": "execute_result"
    }
   ],
   "source": [
    "print(f'No of build events: {len(buildEvents)}')\n",
    "buildEvents.head()"
   ]
  },
  {
   "cell_type": "code",
   "execution_count": 19,
   "metadata": {
    "scrolled": false
   },
   "outputs": [
    {
     "data": {
      "text/html": [
       "<div>\n",
       "<style scoped>\n",
       "    .dataframe tbody tr th:only-of-type {\n",
       "        vertical-align: middle;\n",
       "    }\n",
       "\n",
       "    .dataframe tbody tr th {\n",
       "        vertical-align: top;\n",
       "    }\n",
       "\n",
       "    .dataframe thead th {\n",
       "        text-align: right;\n",
       "    }\n",
       "</style>\n",
       "<table border=\"1\" class=\"dataframe\">\n",
       "  <thead>\n",
       "    <tr style=\"text-align: right;\">\n",
       "      <th></th>\n",
       "      <th>sessionID</th>\n",
       "      <th>timestamp</th>\n",
       "      <th>buildSuccessful</th>\n",
       "    </tr>\n",
       "  </thead>\n",
       "  <tbody>\n",
       "    <tr>\n",
       "      <th>count</th>\n",
       "      <td>14957</td>\n",
       "      <td>14956</td>\n",
       "      <td>14956</td>\n",
       "    </tr>\n",
       "    <tr>\n",
       "      <th>unique</th>\n",
       "      <td>1529</td>\n",
       "      <td>14933</td>\n",
       "      <td>2</td>\n",
       "    </tr>\n",
       "    <tr>\n",
       "      <th>top</th>\n",
       "      <td>26f3dadd-c2e3-414b-8c92-78df1dc356c8</td>\n",
       "      <td>2016-12-16T10:22:34.221873400+01:00</td>\n",
       "      <td>True</td>\n",
       "    </tr>\n",
       "    <tr>\n",
       "      <th>freq</th>\n",
       "      <td>154</td>\n",
       "      <td>2</td>\n",
       "      <td>12889</td>\n",
       "    </tr>\n",
       "  </tbody>\n",
       "</table>\n",
       "</div>"
      ],
      "text/plain": [
       "                                   sessionID  \\\n",
       "count                                  14957   \n",
       "unique                                  1529   \n",
       "top     26f3dadd-c2e3-414b-8c92-78df1dc356c8   \n",
       "freq                                     154   \n",
       "\n",
       "                                  timestamp buildSuccessful  \n",
       "count                                 14956           14956  \n",
       "unique                                14933               2  \n",
       "top     2016-12-16T10:22:34.221873400+01:00            True  \n",
       "freq                                      2           12889  "
      ]
     },
     "execution_count": 19,
     "metadata": {},
     "output_type": "execute_result"
    }
   ],
   "source": [
    "buildEvents.describe()"
   ]
  },
  {
   "cell_type": "markdown",
   "metadata": {},
   "source": [
    "# Process Data"
   ]
  },
  {
   "cell_type": "markdown",
   "metadata": {},
   "source": [
    "1. Step: For each sessionID, get timestamp with successful build\n",
    "2. Step: For each passed build, check whether another build follows\n",
    "    - if yes: count nr of edits until this next build, and record test result of next test\n",
    "    - if no: dont count edits"
   ]
  },
  {
   "cell_type": "code",
   "execution_count": 8,
   "metadata": {},
   "outputs": [],
   "source": [
    "def get_all_build(sessionID):\n",
    "    all_build = buildEvents[buildEvents[\"sessionID\"] == sessionID]\n",
    "    return all_build.sort([\"timestamp\"]).values\n"
   ]
  },
  {
   "cell_type": "code",
   "execution_count": null,
   "metadata": {},
   "outputs": [],
   "source": [
    "def get_successful_build(sessionID):\n",
    "    all_successful_build = buildEvents[(buildEvents[\"sessionID\"] == sessionID) & (buildEvents[\"buildSuccessful\"] == True)] \n",
    "    all_successful_build.sort([\"timestamp\"])\n",
    "    return all_successful_build[\"timestamp\"].values\n"
   ]
  },
  {
   "cell_type": "code",
   "execution_count": 9,
   "metadata": {},
   "outputs": [],
   "source": [
    "def get_nr_edits_between_build(sessionID,timeLastSuccessfullBuild, timeNextBuild):\n",
    "    totalEdit = editEvents[editEvents[\"sessionID\"] == sessionID][\"timestamp\"].sort([\"timestamp\"])\n",
    "    testBetweenSuccessBuillAndBuild = totalEdit[(totalEdit[\"timestamp\"] < timeNextBuild) & (totalEdit[\"timestamp\"] > timeLastSuccessfullBuild)]\n",
    "    return testBetweenSuccessBuillAndBuild.values.size\n"
   ]
  },
  {
   "cell_type": "code",
   "execution_count": 34,
   "metadata": {},
   "outputs": [],
   "source": [
    "def edits_from_pass_to_next_test(sessionID):\n",
    "    result = []\n",
    "\n",
    "    # get all successful build of session \n",
    "    allSuccessfulBuild = get_successful_build(sessionID)\n",
    "    allBuild = get_all_build(sessionID)\n",
    "    numOfSuccessfulBuild = allSuccessfulBuild.size\n",
    "    numOfBuild = np.size(allBuild,0)\n",
    "    # iterate over each passed build\n",
    "    for s in range(numOfSuccessfulBuild):\n",
    "        # if build follows, count edits\n",
    "        if allBuild[-1][1]>allSuccessfullBuild[s]:\n",
    "            for b in range(numOfBuild):\n",
    "                if allBuild[b][1]>allSuccessfulBuild[s]:\n",
    "                    break\n",
    "            timeLastSuccessfullBuild=allSuccessfulBuild[s]\n",
    "            timeNextBuild=allBuild[b][1]\n",
    "            resultNextBuild=allBuild[b][2]\n",
    "            nrOfEdit=get_nr_edits_between_build(sessionID,timeLastSuccessfullBuild, timeNextBuild)\n",
    "            sessionID = allBuild[b][0]\n",
    "            \n",
    "            result.append([sessionID, timeLastSuccessfullBuild, timeNextBuild, nrOfEdit, resultNextBuild])\n",
    "            \n",
    "    return result"
   ]
  },
  {
   "cell_type": "markdown",
   "metadata": {},
   "source": [
    "### Iterate over all sessions and create DataFrame"
   ]
  },
  {
   "cell_type": "code",
   "execution_count": null,
   "metadata": {},
   "outputs": [],
   "source": [
    "final_result=[]\n",
    "allSessionID=buildEvents.sessionID.unique()\n",
    "for sessionID in allSessionID:\n",
    "    final_reult.append(edits_from_pass_to_next_test(sessionID))\n",
    "#create DataFrame\n",
    "column_labels = ['sessionID','timestampSuccessBuild','timestampNextBuild', '#editsUntilNextBuild', 'nextBuildResult']\n",
    "df = pd.DataFrame(resultArray, columns=column_labels)\n",
    "        "
   ]
  },
  {
   "cell_type": "markdown",
   "metadata": {},
   "source": [
    "## Build a Model"
   ]
  },
  {
   "cell_type": "code",
   "execution_count": null,
   "metadata": {},
   "outputs": [],
   "source": [
    "#TODO: probability of successful build given number of edits after last successful build"
   ]
  }
 ],
 "metadata": {
  "kernelspec": {
   "display_name": "Python 3",
   "language": "python",
   "name": "python3"
  },
  "language_info": {
   "codemirror_mode": {
    "name": "ipython",
    "version": 3
   },
   "file_extension": ".py",
   "mimetype": "text/x-python",
   "name": "python",
   "nbconvert_exporter": "python",
   "pygments_lexer": "ipython3",
   "version": "3.7.7"
  }
 },
 "nbformat": 4,
 "nbformat_minor": 2
}
