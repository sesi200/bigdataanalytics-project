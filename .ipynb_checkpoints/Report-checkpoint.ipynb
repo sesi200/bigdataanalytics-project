{
 "cells": [
  {
   "cell_type": "markdown",
   "metadata": {
    "colab_type": "text",
    "id": "fKl4orisjaGI"
   },
   "source": [
    "# Big Data Analysis Project - Group Project FS2020\n",
    "## University of Zurich\n",
    "## 5th of June 2020"
   ]
  },
  {
   "cell_type": "markdown",
   "metadata": {
    "colab_type": "text",
    "id": "kHz-LZrBjaGI"
   },
   "source": [
    "Jara Fuhrer, 15-702-889\n",
    "\n",
    "Claudio Brasser, 14-921-746\n",
    "\n",
    "Severin Siffert, 14-720-536\n",
    "\n",
    "Andrea Giambonini, 10-726-842\n",
    "\n",
    "Olajoke Oladipo, 17-722-414\n"
   ]
  },
  {
   "cell_type": "markdown",
   "metadata": {
    "colab_type": "text",
    "id": "btEeP3NNjaGK"
   },
   "source": [
    "## \"The goal of the project is to apply the data science pipeline\""
   ]
  },
  {
   "cell_type": "markdown",
   "metadata": {
    "colab_type": "text",
    "id": "ESyqrapNjaGL"
   },
   "source": [
    "![title](doingDS.png)"
   ]
  },
  {
   "cell_type": "markdown",
   "metadata": {
    "colab_type": "text",
    "id": "w-2nwCQKjaGM"
   },
   "source": [
    "# Data Collection / Acquisition"
   ]
  },
  {
   "cell_type": "markdown",
   "metadata": {
    "colab_type": "text",
    "id": "DLAR2w2zjaGN"
   },
   "source": [
    "Our dataset comes from http://www.kave.cc/, where 15'000 hours of interaction data from the Visual Studio plugin ReSharper (a popular tool to program in C#) was collected in almost 11 million events from voluntaries.\n",
    "To see what kind of data is collected, you can look at the data schema here: http://www.kave.cc/feedbag/event-generation.\n",
    "\n",
    "Within this project, we focus on three events:\n",
    "- build event: actions like build, build all, or clean\n",
    "- edit event: changes made by the developer, like renaming\n",
    "- test run event: which tests where run when and with what result\n"
   ]
  },
  {
   "cell_type": "markdown",
   "metadata": {
    "colab_type": "text",
    "id": "b8Sg0WLQjaGO"
   },
   "source": [
    "#### Who constructed data set, when, why?\n",
    "The KaVE Project originally was a German research program. Over the past 10 years, it evolved into a platform for research around recommendation systems for software engineering. Generally, they're interested in questions like how users influence software engineering or how certain tools can support users to perform their tasks better.\n",
    "Examples are intelligent code completion, interaction trackers or evaluation tools.\n",
    "\n",
    "The KaVE are collecting and providing these data sets such that we can better understand what software engineers do / what they interact with / how theyre using an IDE / where their problems lie and so on. With this data, we can try to see relations between the working behaviour of developers and his efficienty / performance / productivity / habits etc.\n",
    "\n",
    "Further below, the three data sets which we extracted from the gigantic pile of possibilities, are explained.\n",
    "\n",
    "#### What do we want to learn from this data?\n",
    "From personal experience, we know how important it is to frequently build your code and run some tests. Only then you're able to link what you've done (i.e. what you've coded, the edit events) to the outcome (i.e. (hopefully) working code, build and test run events). \n",
    "\n",
    "* Often repeated advice: compile early, compile often\n",
    "* Intuition: longer time and more edits between tests/builds = more chance to screw something up\n",
    "* Is there a way to show that empirically?\n",
    "\n",
    "Our goal of this data analysis therefore is to analyze the link between the probability of Unit tests or project builds succeeding in connection with how much time has passed and how many edits were made since the last build/test run.\n",
    "\n",
    "\n",
    "#### Hypotheses\n",
    "\n",
    "We want to test the advice 'compile early, compile often' and the closely related 'test a lot' empirically. In order to do this we found three relevant events in the data: edit (code modified), build and test events.\n",
    "\n",
    "Our hypotheses are:\n",
    "\n",
    "1. Build\n",
    "    * The longer a developer waits to build his code, the higher the probability that the build will fail\n",
    "    * The more edit events a developer executes, the lower the probability that the build will succeed\n",
    "2. Test   \n",
    "    * The longer a developer waits to run some tests, the higher the probability for test failures\n",
    "    * The more edit events a developer executes, the lower the probability for test success\n"
   ]
  },
  {
   "cell_type": "markdown",
   "metadata": {
    "colab_type": "text",
    "id": "NB3OLqDmjaGR"
   },
   "source": [
    "# Data Preprocessing / Cleaning"
   ]
  },
  {
   "cell_type": "markdown",
   "metadata": {
    "colab_type": "text",
    "id": "DLJKSB2djaGS"
   },
   "source": [
    "The data was originally available in individual json events, with great support for parsing with Java or C#. \n",
    "Using the accompanying Java examples we converted the JSON-formatted data into .csv files in order to have an easy import into Pandas Dataframes available.\n",
    "This resulted in a dataset consisting out of 3 different files, one for each type of event.\n",
    "\n",
    "The more simple part of the preprocessing stage included discarding wrong, incomplete, and unneeded data, parsing timestamps into a Python-compatible format, and storing the data into new, cleaned csv files. \n",
    "\n",
    "## Session Splitting\n",
    "\n",
    "The main challenge in the preprocessing stage turned out to be session splitting. In our dataset, each record describes an <i>event</i> in the IDE, triggered by a programmer. Now each event also contains a *sessionID* attribute. This attribute will be the same for each event triggered without the progammer closing his IDE or even shutting down his computer. So naturally, a session could range from a few minutes duration (e.g. if the programmer restarts his computer right away) to really long timespans. We could tell that some programmers close their IDE only for forced Windows updates. \n",
    "Because we want to track actual development time, we decided to call it a new session if no code was modified for five minutes. We did this by introducing a variable called `SESSION_TIMEOUT_SECONDS = 300`, which denotes how long a session can be kept alive without any events triggered by the programmer. We also introduced a variable `MAX_SESSION_DURATION = 60`, which denotes the maximum number of minutes a single session can have before being split. \n",
    "\n",
    "For this splitting of sessions to work, all 3 data files have to be considered and upon finding a session that needs to be split, all records from the same session with a timestamp greater than the splitting point will have to be split as well. Thus, to make the preprocessing more simple, we aggregated the data from all 3 datasets into a single data structure and ordered them by their session ID. By switching the data structure to numpy arrays from Pandas Dataframes we were able to cut the preprocessing time from multiple hours into a maximum of several minutes. We attribute this performance increase mostly to the rather slow read and iteration speed on dataframes, when compared to numpy arrays. \n",
    "\n",
    "\n",
    "Example:\n",
    "\n",
    "\n",
    "---\n",
    "\n",
    "\n",
    "SESSION_TIMEOUT_SECONDS = 60\n",
    "\n",
    "record A: sessionID = 1, timestamp = 05.05.2020 - 16:00:00 - edit\n",
    "\n",
    "record B:  sessionID = 1, timestamp = 05.05.2020 - 16:00:30 - edit\n",
    "\n",
    "record C:  sessionID = 1, timestamp = 05.05.2020 - 18:00:00 - build\n",
    "\n",
    "record D:  sessionID = 1, timestamp = 05.05.2020 - 18:00:45 - test\n",
    "\n",
    "\n",
    "---\n",
    "\n",
    "\n",
    "In this example, the first two edit events clearly belong to the same session, as the follow 30 seconds after one another. Record C has a timestamp much later in the day though. When our algorithm arrives at record C, it will assign a newly generated (unique) sessionID to the record because `recordC.timestamp - recordB.timestamp > SESSION_TIMEOUT_SECONDS`. Additionally, record D will still have the timestamp of the original sessionID assigned to it, which is now wrong since we split the session up beforehands. This means that we will have to find all events *after* the splitting point and assign the new ID to them as well. From this point on we continue on from record D with the same procedure. Thus it might very well be the case that a session is split into multiple sub-sessions and some records might be changed several times. \n",
    "\n",
    "After this procedure is finished the data is again split into 3 dataframes, which are stored in one .csv file respectively. \n",
    " \n",
    "This Notebook only imports the data after this cleanup has happened. The preprocessing code was omitted in this report, as it is rather long and does not contribute that much to the analysis part. The code is attached to the submission in the file `preprocessing.py`."
   ]
  },
  {
   "cell_type": "code",
   "execution_count": 67,
   "metadata": {
    "colab": {},
    "colab_type": "code",
    "id": "SIlbRWBEjaGU"
   },
   "outputs": [],
   "source": [
    "import pandas as pd\n",
    "import numpy as np\n",
    "import math\n",
    "from datetime import datetime\n",
    "import matplotlib.pyplot as plt\n",
    "from matplotlib.ticker import (MultipleLocator, FormatStrFormatter,\n",
    "                               AutoMinorLocator)\n",
    "import seaborn as sns\n",
    "from itertools import islice\n",
    "from sklearn import datasets, linear_model, model_selection, metrics\n",
    "from sklearn.linear_model.stochastic_gradient import SGDClassifier\n",
    "from sklearn.neighbors import KNeighborsClassifier\n",
    "from sklearn.neighbors import KNeighborsRegressor\n",
    "from sklearn.tree import DecisionTreeClassifier\n",
    "from sklearn.tree import DecisionTreeRegressor\n",
    "from sklearn.svm import SVR\n",
    "from sklearn.linear_model import (LogisticRegression, LinearRegression)\n",
    "from sklearn.model_selection import KFold\n",
    "from sklearn.metrics import accuracy_score, mean_squared_error, r2_score\n",
    "from sklearn.model_selection import train_test_split\n",
    "\n",
    "import statsmodels.tools.tools as sm\n",
    "import statsmodels.api as sm1\n",
    "import seaborn as sns\n",
    "import imblearn\n",
    "from imblearn.over_sampling import SMOTE\n",
    "import warnings \n",
    "warnings.filterwarnings(\"ignore\")"
   ]
  },
  {
   "cell_type": "code",
   "execution_count": 3,
   "metadata": {
    "colab": {},
    "colab_type": "code",
    "id": "qIK7HLv7jaGX"
   },
   "outputs": [],
   "source": [
    "df_edit = pd.read_csv(r'..\\data\\df_edit.csv', low_memory=False)\n",
    "df_test = pd.read_csv(r'..\\data\\df_test.csv', low_memory=False)\n",
    "df_build = pd.read_csv(r'..\\data\\df_build.csv', low_memory=False)\n",
    "\n",
    "# if there are problems loading the data, try out those lines\n",
    "# df_edit = pd.read_csv(r'../BigdataProject/df_edit_fixed.csv', low_memory=False)\n",
    "# df_test = pd.read_csv(r'../BigdataProject/df_test_fixed.csv', low_memory=False)\n",
    "# df_build = pd.read_csv(r'../BigdataProject/df_build_fixed.csv', low_memory=False)"
   ]
  },
  {
   "cell_type": "markdown",
   "metadata": {
    "colab_type": "text",
    "id": "sf30-OnijaGb"
   },
   "source": [
    "# Data Exploration"
   ]
  },
  {
   "cell_type": "markdown",
   "metadata": {
    "colab_type": "text",
    "id": "xRPyw-aZjaGc"
   },
   "source": [
    "Each row in our dataset is a sessionID-timestamp pair for the respective event category (build, test or edit). For Build events we know in addition if the event succeded or not (boolean) and for test events we know how many unit test were run at a specific time and how many of those succeded.\n",
    "\n",
    "Let's take a closer look at the data:"
   ]
  },
  {
   "cell_type": "markdown",
   "metadata": {
    "colab_type": "text",
    "id": "A0VEA6yAjaGd"
   },
   "source": [
    "### Edit Events\n",
    "\n",
    "Edit events are triggered whenever code gets modified in some way. This covers typing on the keyboard, using refactoring tools and executing commands that change the code. For example if I copy/paste a line, that triggers an edit event, just like when I auto generate a bunch of getters and setters."
   ]
  },
  {
   "cell_type": "code",
   "execution_count": 4,
   "metadata": {
    "colab": {},
    "colab_type": "code",
    "id": "hAhaPqVkjaGd",
    "outputId": "4708f8ae-6b49-4538-ec13-176ac3577cdb"
   },
   "outputs": [
    {
     "name": "stdout",
     "output_type": "stream",
     "text": [
      " This dataset contains 497459 edits events\n"
     ]
    },
    {
     "data": {
      "text/html": [
       "<div>\n",
       "<style scoped>\n",
       "    .dataframe tbody tr th:only-of-type {\n",
       "        vertical-align: middle;\n",
       "    }\n",
       "\n",
       "    .dataframe tbody tr th {\n",
       "        vertical-align: top;\n",
       "    }\n",
       "\n",
       "    .dataframe thead th {\n",
       "        text-align: right;\n",
       "    }\n",
       "</style>\n",
       "<table border=\"1\" class=\"dataframe\">\n",
       "  <thead>\n",
       "    <tr style=\"text-align: right;\">\n",
       "      <th></th>\n",
       "      <th>sessionID</th>\n",
       "      <th>timestamp</th>\n",
       "      <th>type</th>\n",
       "    </tr>\n",
       "  </thead>\n",
       "  <tbody>\n",
       "    <tr>\n",
       "      <th>497454</th>\n",
       "      <td>ffc444d0-8382-4e52-9f04-3c42601ec739</td>\n",
       "      <td>2016-06-14 14:31:53</td>\n",
       "      <td>edit</td>\n",
       "    </tr>\n",
       "    <tr>\n",
       "      <th>497455</th>\n",
       "      <td>ffcbdaa4-e264-45a3-bddb-6f2f0afeac2f</td>\n",
       "      <td>2016-04-20 14:47:53</td>\n",
       "      <td>edit</td>\n",
       "    </tr>\n",
       "    <tr>\n",
       "      <th>497456</th>\n",
       "      <td>ffcbdaa4-e264-45a3-bddb-6f2f0afeac2f</td>\n",
       "      <td>2016-04-20 14:48:02</td>\n",
       "      <td>edit</td>\n",
       "    </tr>\n",
       "    <tr>\n",
       "      <th>497457</th>\n",
       "      <td>ffcbdaa4-e264-45a3-bddb-6f2f0afeac2f</td>\n",
       "      <td>2016-04-20 14:48:12</td>\n",
       "      <td>edit</td>\n",
       "    </tr>\n",
       "    <tr>\n",
       "      <th>497458</th>\n",
       "      <td>ffcbdaa4-e264-45a3-bddb-6f2f0afeac2f</td>\n",
       "      <td>2016-04-20 14:48:20</td>\n",
       "      <td>edit</td>\n",
       "    </tr>\n",
       "  </tbody>\n",
       "</table>\n",
       "</div>"
      ],
      "text/plain": [
       "                                   sessionID            timestamp  type\n",
       "497454  ffc444d0-8382-4e52-9f04-3c42601ec739  2016-06-14 14:31:53  edit\n",
       "497455  ffcbdaa4-e264-45a3-bddb-6f2f0afeac2f  2016-04-20 14:47:53  edit\n",
       "497456  ffcbdaa4-e264-45a3-bddb-6f2f0afeac2f  2016-04-20 14:48:02  edit\n",
       "497457  ffcbdaa4-e264-45a3-bddb-6f2f0afeac2f  2016-04-20 14:48:12  edit\n",
       "497458  ffcbdaa4-e264-45a3-bddb-6f2f0afeac2f  2016-04-20 14:48:20  edit"
      ]
     },
     "execution_count": 4,
     "metadata": {},
     "output_type": "execute_result"
    }
   ],
   "source": [
    "print(f' This dataset contains {len(df_edit)} edits events')\n",
    "df_edit.iloc[:,1:].tail()"
   ]
  },
  {
   "cell_type": "markdown",
   "metadata": {
    "colab_type": "text",
    "id": "0ryqJlA9jaGi"
   },
   "source": [
    "### Test Events\n",
    "\n",
    "Test events are written whenever the button to run unit tests is clicked. The events record the timing, how many tests were executed, and how many actually succeeded. Test events that have 0 tests run can happen when no tests are selected to run or when test execution is cancelled before the first one completes."
   ]
  },
  {
   "cell_type": "code",
   "execution_count": 5,
   "metadata": {
    "colab": {},
    "colab_type": "code",
    "id": "sv-mzkmujaGn",
    "outputId": "c5f30825-36f5-4a6f-e0e7-3c206f9deaa6"
   },
   "outputs": [
    {
     "name": "stdout",
     "output_type": "stream",
     "text": [
      " This dataset contains 3826 test events. \n",
      " SessionID-timestamp run, in average, 88.8 tests and in average over all sessionID-timestamp pair, 86.3% are \"passed\" tests.\n"
     ]
    },
    {
     "data": {
      "text/html": [
       "<div>\n",
       "<style scoped>\n",
       "    .dataframe tbody tr th:only-of-type {\n",
       "        vertical-align: middle;\n",
       "    }\n",
       "\n",
       "    .dataframe tbody tr th {\n",
       "        vertical-align: top;\n",
       "    }\n",
       "\n",
       "    .dataframe thead th {\n",
       "        text-align: right;\n",
       "    }\n",
       "</style>\n",
       "<table border=\"1\" class=\"dataframe\">\n",
       "  <thead>\n",
       "    <tr style=\"text-align: right;\">\n",
       "      <th></th>\n",
       "      <th>sessionID</th>\n",
       "      <th>timestamp</th>\n",
       "      <th>type</th>\n",
       "      <th>totalTests</th>\n",
       "      <th>testsPassed</th>\n",
       "    </tr>\n",
       "  </thead>\n",
       "  <tbody>\n",
       "    <tr>\n",
       "      <th>3821</th>\n",
       "      <td>fa4a1e32-d8a9-4fce-a57e-0aec4d6a25bc</td>\n",
       "      <td>2016-09-22 13:45:37</td>\n",
       "      <td>test</td>\n",
       "      <td>478.0</td>\n",
       "      <td>0.0</td>\n",
       "    </tr>\n",
       "    <tr>\n",
       "      <th>3822</th>\n",
       "      <td>fa4a1e32-d8a9-4fce-a57e-0aec4d6a25bc</td>\n",
       "      <td>2016-09-22 13:46:16</td>\n",
       "      <td>test</td>\n",
       "      <td>478.0</td>\n",
       "      <td>475.0</td>\n",
       "    </tr>\n",
       "    <tr>\n",
       "      <th>3823</th>\n",
       "      <td>fadb490b-cc30-4690-8ecd-ae5c818fb1e1</td>\n",
       "      <td>2016-08-31 11:57:20</td>\n",
       "      <td>test</td>\n",
       "      <td>92.0</td>\n",
       "      <td>92.0</td>\n",
       "    </tr>\n",
       "    <tr>\n",
       "      <th>3824</th>\n",
       "      <td>fbcdffc5-b444-4262-bbb6-52c091caea79</td>\n",
       "      <td>2016-07-17 12:18:13</td>\n",
       "      <td>test</td>\n",
       "      <td>0.0</td>\n",
       "      <td>0.0</td>\n",
       "    </tr>\n",
       "    <tr>\n",
       "      <th>3825</th>\n",
       "      <td>ff816b40-f797-4065-a6ef-94abb564e92c</td>\n",
       "      <td>2016-12-20 10:48:00</td>\n",
       "      <td>test</td>\n",
       "      <td>0.0</td>\n",
       "      <td>0.0</td>\n",
       "    </tr>\n",
       "  </tbody>\n",
       "</table>\n",
       "</div>"
      ],
      "text/plain": [
       "                                 sessionID            timestamp  type  \\\n",
       "3821  fa4a1e32-d8a9-4fce-a57e-0aec4d6a25bc  2016-09-22 13:45:37  test   \n",
       "3822  fa4a1e32-d8a9-4fce-a57e-0aec4d6a25bc  2016-09-22 13:46:16  test   \n",
       "3823  fadb490b-cc30-4690-8ecd-ae5c818fb1e1  2016-08-31 11:57:20  test   \n",
       "3824  fbcdffc5-b444-4262-bbb6-52c091caea79  2016-07-17 12:18:13  test   \n",
       "3825  ff816b40-f797-4065-a6ef-94abb564e92c  2016-12-20 10:48:00  test   \n",
       "\n",
       "      totalTests  testsPassed  \n",
       "3821       478.0          0.0  \n",
       "3822       478.0        475.0  \n",
       "3823        92.0         92.0  \n",
       "3824         0.0          0.0  \n",
       "3825         0.0          0.0  "
      ]
     },
     "execution_count": 5,
     "metadata": {},
     "output_type": "execute_result"
    }
   ],
   "source": [
    "print(f' This dataset contains {len(df_test)} test events.','\\n',f'SessionID-timestamp run, in average, {round(df_test.iloc[:,4].mean(),1)} tests and in average over all sessionID-timestamp pair, {round((df_test.iloc[:,5].mean()/df_test.iloc[:,4].mean())*100,1)}% are \"passed\" tests.')\n",
    "df_test.iloc[:,1:].tail()"
   ]
  },
  {
   "cell_type": "markdown",
   "metadata": {
    "colab_type": "text",
    "id": "VZ6f-PGBjaGq"
   },
   "source": [
    "### Build Events\n",
    "\n",
    "Build events are triggered whenever some part of the code is compiled. This is usually before running tests, before running the program, and before starting a debugging session."
   ]
  },
  {
   "cell_type": "code",
   "execution_count": 6,
   "metadata": {
    "colab": {},
    "colab_type": "code",
    "id": "CXRP0_DDjaGq",
    "outputId": "ca82d302-602a-47f2-818a-57ba11bdb5b2"
   },
   "outputs": [
    {
     "name": "stdout",
     "output_type": "stream",
     "text": [
      " This dataset contain 14957 build events. \n",
      " In average, 86.2% are succeddful build.\n"
     ]
    },
    {
     "data": {
      "text/html": [
       "<div>\n",
       "<style scoped>\n",
       "    .dataframe tbody tr th:only-of-type {\n",
       "        vertical-align: middle;\n",
       "    }\n",
       "\n",
       "    .dataframe tbody tr th {\n",
       "        vertical-align: top;\n",
       "    }\n",
       "\n",
       "    .dataframe thead th {\n",
       "        text-align: right;\n",
       "    }\n",
       "</style>\n",
       "<table border=\"1\" class=\"dataframe\">\n",
       "  <thead>\n",
       "    <tr style=\"text-align: right;\">\n",
       "      <th></th>\n",
       "      <th>sessionID</th>\n",
       "      <th>timestamp</th>\n",
       "      <th>type</th>\n",
       "      <th>buildSuccessful</th>\n",
       "    </tr>\n",
       "  </thead>\n",
       "  <tbody>\n",
       "    <tr>\n",
       "      <th>14952</th>\n",
       "      <td>fef6f3d6-3a5f-4f7c-8ddf-b52346a831c5</td>\n",
       "      <td>2016-04-02 22:01:13</td>\n",
       "      <td>build</td>\n",
       "      <td>False</td>\n",
       "    </tr>\n",
       "    <tr>\n",
       "      <th>14953</th>\n",
       "      <td>fef6f3d6-3a5f-4f7c-8ddf-b52346a831c5</td>\n",
       "      <td>2016-04-02 22:01:32</td>\n",
       "      <td>build</td>\n",
       "      <td>True</td>\n",
       "    </tr>\n",
       "    <tr>\n",
       "      <th>14954</th>\n",
       "      <td>ff7bee9b-075d-4139-b782-65d1587da5c9</td>\n",
       "      <td>2016-10-18 09:43:34</td>\n",
       "      <td>build</td>\n",
       "      <td>True</td>\n",
       "    </tr>\n",
       "    <tr>\n",
       "      <th>14955</th>\n",
       "      <td>ff9890a9-60d7-41f5-a655-95527ee6f4b7</td>\n",
       "      <td>2016-11-21 14:07:51</td>\n",
       "      <td>build</td>\n",
       "      <td>False</td>\n",
       "    </tr>\n",
       "    <tr>\n",
       "      <th>14956</th>\n",
       "      <td>ffb030c9-c0ff-42bd-9e04-6c4b44f5ab79</td>\n",
       "      <td>2016-05-10 16:14:55</td>\n",
       "      <td>build</td>\n",
       "      <td>True</td>\n",
       "    </tr>\n",
       "  </tbody>\n",
       "</table>\n",
       "</div>"
      ],
      "text/plain": [
       "                                  sessionID            timestamp   type  \\\n",
       "14952  fef6f3d6-3a5f-4f7c-8ddf-b52346a831c5  2016-04-02 22:01:13  build   \n",
       "14953  fef6f3d6-3a5f-4f7c-8ddf-b52346a831c5  2016-04-02 22:01:32  build   \n",
       "14954  ff7bee9b-075d-4139-b782-65d1587da5c9  2016-10-18 09:43:34  build   \n",
       "14955  ff9890a9-60d7-41f5-a655-95527ee6f4b7  2016-11-21 14:07:51  build   \n",
       "14956  ffb030c9-c0ff-42bd-9e04-6c4b44f5ab79  2016-05-10 16:14:55  build   \n",
       "\n",
       "      buildSuccessful  \n",
       "14952           False  \n",
       "14953            True  \n",
       "14954            True  \n",
       "14955           False  \n",
       "14956            True  "
      ]
     },
     "execution_count": 6,
     "metadata": {},
     "output_type": "execute_result"
    }
   ],
   "source": [
    "print(f' This dataset contain {len(df_build)} build events.','\\n',f'In average, {round(len(df_build.loc[df_build[\"buildSuccessful\"]==True])/len(df_build)*100,1)}% are succeddful build.')\n",
    "df_build.iloc[:,1:].tail()"
   ]
  },
  {
   "cell_type": "markdown",
   "metadata": {
    "colab_type": "text",
    "id": "n-i6dLvMjaGu"
   },
   "source": [
    "Unfortunately, we are not yet ready to build our model. In order to test our hypotheses we need to reprocess the data to find:\n",
    "1. The time passed between two build/test events\n",
    "2. The number of edits between build/test events"
   ]
  },
  {
   "cell_type": "markdown",
   "metadata": {
    "colab_type": "text",
    "id": "dOSJ3NuyMV4_"
   },
   "source": [
    "### Before we start processing the data, let's have a closer look at the test dataframe"
   ]
  },
  {
   "cell_type": "markdown",
   "metadata": {
    "colab_type": "text",
    "id": "0fXj5Gk6MV5A"
   },
   "source": [
    "Let's take a look at the relations between totalTests and testsPassed."
   ]
  },
  {
   "cell_type": "code",
   "execution_count": 7,
   "metadata": {
    "colab": {},
    "colab_type": "code",
    "id": "8e41H66uMV5B",
    "outputId": "a33ddde1-d789-4c4a-b3fc-dc8751518e7d"
   },
   "outputs": [
    {
     "name": "stdout",
     "output_type": "stream",
     "text": [
      " The correlation between the two independent variables is 0.97\n"
     ]
    },
    {
     "data": {
      "image/png": "[encoded data removed]",
      "text/plain": [
       "<Figure size 432x288 with 1 Axes>"
      ]
     },
     "metadata": {
      "needs_background": "light"
     },
     "output_type": "display_data"
    }
   ],
   "source": [
    "sns.scatterplot(x=\"testsPassed\",y = \"totalTests\",data=df_test)\n",
    "print(f' The correlation between the two independent variables is {round(df_test[\"testsPassed\"].corr(df_test[\"totalTests\"]),2)}')"
   ]
  },
  {
   "cell_type": "markdown",
   "metadata": {
    "colab_type": "text",
    "id": "otmbKxnzMV5F"
   },
   "source": [
    "The relationship between total tests and passed tests is positive linear. From only looking at the plot, one can say that it is a rather strong correlation. As calculated, there is indeed a high correlation of 97%. This indicates that most of the data has a (close to) 100% passed-test score.\n",
    "\n",
    "In terms of outliers, there are only a few on the left side in the middle (around 4000 totalTests).\n",
    "\n",
    "This graph makes sense to us: Generally speaking, the number of passed tests should in the worst case stay the same, in the better case increase as the number of total tests goes up. \n",
    "\n",
    "A decreasing ratio of passedTests to totalTests (i.e. more and more tests fail) would indicate that the more tests you run, the more errors you detect in your code.\n",
    "\n",
    "Of course there is also the invariant of `Tests run >= Tests passed`."
   ]
  },
  {
   "cell_type": "code",
   "execution_count": 9,
   "metadata": {
    "colab": {},
    "colab_type": "code",
    "id": "NjHW28iVMV5I",
    "outputId": "9d812ae5-8db6-47d5-ac3f-bdf85a442602"
   },
   "outputs": [
    {
     "name": "stdout",
     "output_type": "stream",
     "text": [
      "Total number of samples in df_test: 3826\n",
      "Number of samples that have zero passed tests: 1260\n",
      "Number of samples that have zero total tests and therefore also zero passed tests: 74 (2.0%)\n",
      "We can see that there are 1186 failed test runs due to actually failed single test and not only because there werent any tests run.\n",
      "\n",
      "The two outliers on the left of the scatterplot are:\n",
      "      Unnamed: 0 sessionID            timestamp  type  totalTests  testsPassed\n",
      "1890        2200      4382  2016-09-26 13:44:24  test      4284.0         13.0\n",
      "1892        2202      4383  2016-09-26 14:00:00  test      4284.0          0.0\n",
      "\n",
      "\n",
      "Lets quickly also look whether there are negative total tests - which wouldnt make sense and could tamper our analysis later on:\n",
      "1\n",
      "Yes there is! There is one entry with a negative number of total tests run:\n",
      "\n",
      "      Unnamed: 0         sessionID timestamp  type  totalTests  testsPassed\n",
      "3819        3806  f5decb96-f8e5-4f       NaN  test        -1.0         -1.0\n",
      "\n",
      "This entry is very strange, since it doesnt have a timestamp allocated.\n"
     ]
    }
   ],
   "source": [
    "count_samples = len(df_test)\n",
    "count_zeroPassedTests= len(df_test[df_test[\"testsPassed\"]==0])\n",
    "print(f'Total number of samples in df_test: {count_samples}')\n",
    "print(f'Number of samples that have zero passed tests: {count_zeroPassedTests}')\n",
    "\n",
    "count_zeroTotalTests = len(df_test[df_test[\"totalTests\"] == 0])\n",
    "count_zeroPassedTestNotZeroTotalTests = len(df_test[(df_test[\"testsPassed\"] == 0) \n",
    "                        & (df_test[\"totalTests\"] > 0 )])\n",
    "print(f'Number of samples that have zero total tests and therefore also zero passed tests: {count_zeroTotalTests} ({round(count_zeroTotalTests/count_samples,2)*100}%)')\n",
    "\n",
    "print(f'We can see that there are {count_zeroPassedTestNotZeroTotalTests} failed test runs due to actually failed single test and not only because there werent any tests run.\\n')\n",
    "\n",
    "print('The two outliers on the left of the scatterplot are:')\n",
    "outliers = df_test[(df_test[\"totalTests\"] > 4000) \n",
    "                        & (df_test[\"testsPassed\"] <3000)]\n",
    "print(outliers)\n",
    "\n",
    "df_test[df_test[\"testsPassed\"]==0].head()\n",
    "\n",
    "print('\\n\\nLets quickly also look whether there are negative total tests - which wouldnt make sense and could tamper our analysis later on:')\n",
    "count_negativeTotalTest = len(df_test[df_test[\"totalTests\"] < 0])\n",
    "print(count_negativeTotalTest)\n",
    "print(f'Yes there is! There is one entry with a negative number of total tests run:\\n')\n",
    "print(df_test[df_test[\"totalTests\"] < 0].head())\n",
    "print('\\nThis entry is very strange, since it doesnt have a timestamp allocated.')\n"
   ]
  },
  {
   "cell_type": "markdown",
   "metadata": {
    "colab_type": "text",
    "id": "4wh0Yu6PMV5L"
   },
   "source": [
    "We revealed another interesting remark: Why are there test events with zero totalTests? It could be that the dataset defines a test event not only if a test was actually run completely, but also when it only was started. For example: If a developer starts a test but aborts it before it completed, then there is a test event with still zero total tests, since it couldnt finish. \n",
    "\n",
    "They only constitute 2% of the df_test samples, but still we were asking ourselves whether we should remove them. As we see later on in the processing, we will need to calculate the ratio passed tests / total tests, which tells us whether or not a test run was successful (i.e. the probability of success). From this ratio, we then derive whether the test run was successful = 1 (ratio = 100%) or failed = 0(ratio <100%). If total test is 0, we cannot perform this calculation and thus have to insert either 0 or 1 for this \"test result boolean\".\n",
    "\n",
    "- Inserting a 0 = failed test run for those events dont seem logical, since we only consider the probability of test passing after a successful test. If for example, 0 edits have been executed after a successful test run, the next test run includes 0 total tests and we would insert 0, it would mean that without any edits of the developer, the test run suddenly failed.\n",
    "- Inserting a 1 = successful test run could tamper our regressions. If for example all those samples with 0 total tests have a lot of number of edits between two test runs, models could interpret that these many edits led to the test success - however in reality, no tests have been executed.\n",
    "\n",
    "We decided to remove those 74 sample points plus the one with no timestamp and -1 total tests from the data set, since we want to prevent jeopardising our models."
   ]
  },
  {
   "cell_type": "code",
   "execution_count": 10,
   "metadata": {
    "colab": {},
    "colab_type": "code",
    "id": "LfU2V892MV5N",
    "outputId": "5a30bd93-5edd-44ea-e14d-f1b78a9fdca3"
   },
   "outputs": [
    {
     "name": "stdout",
     "output_type": "stream",
     "text": [
      "The lengh of the df_test is now: 3751\n"
     ]
    }
   ],
   "source": [
    "# removes all samples that have 0 total tests\n",
    "# attention: overwrites df_test !!\n",
    "df_test = df_test[df_test['totalTests'] > 0]\n",
    "length_df_test = len(df_test)\n",
    "print(f'The lengh of the df_test is now: {length_df_test}')"
   ]
  },
  {
   "cell_type": "markdown",
   "metadata": {
    "colab_type": "text",
    "id": "ltM32k0zMV5U"
   },
   "source": [
    "Now that we had know the characteristics of the test events, we should start processing the data. There will follow some more correlation analysis once we've processed the data."
   ]
  },
  {
   "cell_type": "markdown",
   "metadata": {
    "colab_type": "text",
    "id": "VjW1iltvjaGv"
   },
   "source": [
    "## Processing the data in order to predict Build success"
   ]
  },
  {
   "cell_type": "markdown",
   "metadata": {
    "colab_type": "text",
    "id": "HzV37hHSjaGv"
   },
   "source": [
    "The first reflection to do is about which session should be consider in our analysis. We are interested in what happens between two consecutives events, but should we consider any subsequent build events?\n",
    "We decided to only consider what happens from a successful build to the next build. The reason for this choice is that we want to start from a 'stable' state and analyze how the probability of obtaining another stable state (i.e. Successful Build) is affected by how much changes we made. If we didn't start from a 'stable' state, our result might be biased by other changes in the past which made the state 'unstable' (not passed Build).\n",
    "\n",
    "Now we can start processing our Data as follow:\n",
    "\n",
    "* For each sessionID:\n",
    "    1. get timestamp of the last successfull build\n",
    "    2. get timestamp of next build after 1)\n",
    "        * if there is a 2) > 1) then:\n",
    "    3. get the time passed between 1) and 2)\n",
    "    4. count number of edits between the timestamp 1) and 2)\n",
    "        * else we dont take 1) into account\n",
    "* Create a new DataFrame with following variables:\n",
    "    - sessionID\n",
    "    - timestamp of the successful Build event\n",
    "    - timestamp of the next Build event (next build after the successful Build event)\n",
    "    - time passed between the successful Build and the next Build event (in seconds)\n",
    "    - edits between the successful Build and the next Build event\n",
    "    - result of the next (after a successful Build) build event (boolean)\n"
   ]
  },
  {
   "cell_type": "code",
   "execution_count": 11,
   "metadata": {
    "colab": {},
    "colab_type": "code",
    "id": "bq82qQpSjaGw"
   },
   "outputs": [],
   "source": [
    "def get_all_build(sessionID):\n",
    "    all_build = df_build[df_build[\"sessionID\"] == sessionID]\n",
    "    return all_build.sort_values([\"timestamp\"]).values"
   ]
  },
  {
   "cell_type": "code",
   "execution_count": 12,
   "metadata": {
    "colab": {},
    "colab_type": "code",
    "id": "Gp9d7o4BjaGy"
   },
   "outputs": [],
   "source": [
    "def get_successful_build(sessionID):\n",
    "    all_successful_build = df_build[(df_build[\"sessionID\"] == sessionID) & (df_build[\"buildSuccessful\"] == True)] \n",
    "    return all_successful_build.sort_values([\"timestamp\"]).values"
   ]
  },
  {
   "cell_type": "code",
   "execution_count": 13,
   "metadata": {
    "colab": {},
    "colab_type": "code",
    "id": "GSCuuhHijaG2"
   },
   "outputs": [],
   "source": [
    "def get_nr_edits_between_build(sessionID,timeLastSuccessfullBuild, timeNextBuild):\n",
    "    totalEdit = df_edit[df_edit[\"sessionID\"] == sessionID]\n",
    "    totalEdit = totalEdit.sort_values([\"timestamp\"])\n",
    "    editBetweenSuccessBuildAndBuild = totalEdit[(totalEdit[\"timestamp\"] <= timeNextBuild) & (totalEdit[\"timestamp\"] >= timeLastSuccessfullBuild)]\n",
    "    return editBetweenSuccessBuildAndBuild[\"timestamp\"].values.size"
   ]
  },
  {
   "cell_type": "code",
   "execution_count": 14,
   "metadata": {
    "colab": {},
    "colab_type": "code",
    "id": "dOgkJBMljaG6"
   },
   "outputs": [],
   "source": [
    "def edits_from_pass_to_next_build(sessionID):\n",
    "    result = []\n",
    "\n",
    "    # get all successful build of session \n",
    "    allSuccessfulBuild = get_successful_build(sessionID)\n",
    "    allBuild = get_all_build(sessionID)\n",
    "    numOfSuccessfulBuild = np.size(allSuccessfulBuild,0)\n",
    "    numOfBuild = np.size(allBuild,0)\n",
    "    # iterate over each passed build\n",
    "    for s in range(numOfSuccessfulBuild):\n",
    "        # if build follows, count edits\n",
    "        if allBuild[-1][2]>allSuccessfulBuild[s][2]:\n",
    "            for b in range(numOfBuild):\n",
    "                if allBuild[b][2]>allSuccessfulBuild[s][2]:\n",
    "                    break\n",
    "                    \n",
    "            timeLastSuccessfulBuild=allSuccessfulBuild[s][2]\n",
    "            timeNextBuild=allBuild[b][2]\n",
    "            resultNextBuild=allBuild[b][4]\n",
    "            nrOfEdit=get_nr_edits_between_build(sessionID,timeLastSuccessfulBuild, timeNextBuild)\n",
    "            sessionID = allBuild[b][1]\n",
    "            time_passed = pd.Timedelta(datetime.strptime(timeNextBuild, '%Y-%m-%d %H:%M:%S')-datetime.strptime(timeLastSuccessfulBuild, '%Y-%m-%d %H:%M:%S')).seconds\n",
    "            if nrOfEdit==0:\n",
    "                pass\n",
    "            else:\n",
    "                result.append([sessionID, timeLastSuccessfulBuild, timeNextBuild, time_passed, nrOfEdit, resultNextBuild])\n",
    "            \n",
    "    return result"
   ]
  },
  {
   "cell_type": "code",
   "execution_count": 15,
   "metadata": {
    "colab": {},
    "colab_type": "code",
    "id": "3YS2VGQ5jaG8",
    "outputId": "56209141-a614-462f-b9d6-3fce83cfad57"
   },
   "outputs": [
    {
     "name": "stdout",
     "output_type": "stream",
     "text": [
      "time before loop: 2020-06-04 16:26:12.921431 \n",
      "\n",
      "time after loop: 2020-06-04 16:32:03.194422 \n",
      "\n"
     ]
    }
   ],
   "source": [
    "#Iterate over all sessions and create DataFrame\n",
    "final_result=[]\n",
    "allSessionID=df_build.sessionID.unique()\n",
    "print(f'time before loop: {datetime.now(tz=None)} \\n')\n",
    "# get edits_from_pass_to_next_build for all sessionID\n",
    "for sessionID in allSessionID:\n",
    "    Observations = edits_from_pass_to_next_build(sessionID)\n",
    "    NrOfObservations = len(Observations)\n",
    "    # take only sessionID with at least 1 successful build and at least 1 build after that  \n",
    "    if NrOfObservations > 0:\n",
    "        for Obs in Observations:\n",
    "            final_result.append(Obs)\n",
    "print(f'time after loop: {datetime.now(tz=None)} \\n')"
   ]
  },
  {
   "cell_type": "code",
   "execution_count": 17,
   "metadata": {
    "colab": {},
    "colab_type": "code",
    "id": "HWSHzVVwjaG_",
    "outputId": "e0945431-e89e-4e42-cbfd-438ab862d81e"
   },
   "outputs": [
    {
     "data": {
      "text/html": [
       "<div>\n",
       "<style scoped>\n",
       "    .dataframe tbody tr th:only-of-type {\n",
       "        vertical-align: middle;\n",
       "    }\n",
       "\n",
       "    .dataframe tbody tr th {\n",
       "        vertical-align: top;\n",
       "    }\n",
       "\n",
       "    .dataframe thead th {\n",
       "        text-align: right;\n",
       "    }\n",
       "</style>\n",
       "<table border=\"1\" class=\"dataframe\">\n",
       "  <thead>\n",
       "    <tr style=\"text-align: right;\">\n",
       "      <th></th>\n",
       "      <th>sessionID</th>\n",
       "      <th>timestampSuccessBuild</th>\n",
       "      <th>timestampNextBuild</th>\n",
       "      <th>time_passed</th>\n",
       "      <th>#editsUntilNextBuild</th>\n",
       "      <th>nextBuildResult</th>\n",
       "    </tr>\n",
       "  </thead>\n",
       "  <tbody>\n",
       "    <tr>\n",
       "      <th>9557</th>\n",
       "      <td>fe8caa7d-fbb6-494c-aedb-ecbf22ff8a91</td>\n",
       "      <td>2016-07-25 18:17:02</td>\n",
       "      <td>2016-07-25 18:20:21</td>\n",
       "      <td>199</td>\n",
       "      <td>18</td>\n",
       "      <td>True</td>\n",
       "    </tr>\n",
       "    <tr>\n",
       "      <th>9558</th>\n",
       "      <td>fe8caa7d-fbb6-494c-aedb-ecbf22ff8a91</td>\n",
       "      <td>2016-07-25 18:20:21</td>\n",
       "      <td>2016-07-25 18:22:36</td>\n",
       "      <td>135</td>\n",
       "      <td>12</td>\n",
       "      <td>True</td>\n",
       "    </tr>\n",
       "    <tr>\n",
       "      <th>9559</th>\n",
       "      <td>fef6f3d6-3a5f-4f7c-8ddf-b52346a831c5</td>\n",
       "      <td>2016-04-02 22:00:06</td>\n",
       "      <td>2016-04-02 22:00:28</td>\n",
       "      <td>22</td>\n",
       "      <td>5</td>\n",
       "      <td>True</td>\n",
       "    </tr>\n",
       "    <tr>\n",
       "      <th>9560</th>\n",
       "      <td>fef6f3d6-3a5f-4f7c-8ddf-b52346a831c5</td>\n",
       "      <td>2016-04-02 22:00:28</td>\n",
       "      <td>2016-04-02 22:00:47</td>\n",
       "      <td>19</td>\n",
       "      <td>2</td>\n",
       "      <td>True</td>\n",
       "    </tr>\n",
       "    <tr>\n",
       "      <th>9561</th>\n",
       "      <td>fef6f3d6-3a5f-4f7c-8ddf-b52346a831c5</td>\n",
       "      <td>2016-04-02 22:00:47</td>\n",
       "      <td>2016-04-02 22:01:13</td>\n",
       "      <td>26</td>\n",
       "      <td>5</td>\n",
       "      <td>False</td>\n",
       "    </tr>\n",
       "  </tbody>\n",
       "</table>\n",
       "</div>"
      ],
      "text/plain": [
       "                                 sessionID timestampSuccessBuild  \\\n",
       "9557  fe8caa7d-fbb6-494c-aedb-ecbf22ff8a91   2016-07-25 18:17:02   \n",
       "9558  fe8caa7d-fbb6-494c-aedb-ecbf22ff8a91   2016-07-25 18:20:21   \n",
       "9559  fef6f3d6-3a5f-4f7c-8ddf-b52346a831c5   2016-04-02 22:00:06   \n",
       "9560  fef6f3d6-3a5f-4f7c-8ddf-b52346a831c5   2016-04-02 22:00:28   \n",
       "9561  fef6f3d6-3a5f-4f7c-8ddf-b52346a831c5   2016-04-02 22:00:47   \n",
       "\n",
       "       timestampNextBuild  time_passed  #editsUntilNextBuild  nextBuildResult  \n",
       "9557  2016-07-25 18:20:21          199                    18             True  \n",
       "9558  2016-07-25 18:22:36          135                    12             True  \n",
       "9559  2016-04-02 22:00:28           22                     5             True  \n",
       "9560  2016-04-02 22:00:47           19                     2             True  \n",
       "9561  2016-04-02 22:01:13           26                     5            False  "
      ]
     },
     "execution_count": 17,
     "metadata": {},
     "output_type": "execute_result"
    }
   ],
   "source": [
    "#create DataFrame\n",
    "column_labels = ['sessionID','timestampSuccessBuild','timestampNextBuild','time_passed', '#editsUntilNextBuild', 'nextBuildResult']\n",
    "new_df_build = pd.DataFrame(final_result, columns=column_labels)\n",
    "#show the new DataFrame\n",
    "new_df_build.tail()"
   ]
  },
  {
   "cell_type": "code",
   "execution_count": 18,
   "metadata": {
    "colab": {},
    "colab_type": "code",
    "id": "BKFS9_6mMV5m",
    "outputId": "4f9c1a72-01eb-4d45-c099-787804e011b5"
   },
   "outputs": [
    {
     "data": {
      "text/plain": [
       "sessionID                False\n",
       "timestampSuccessBuild    False\n",
       "timestampNextBuild       False\n",
       "time_passed              False\n",
       "#editsUntilNextBuild     False\n",
       "nextBuildResult          False\n",
       "dtype: bool"
      ]
     },
     "execution_count": 18,
     "metadata": {},
     "output_type": "execute_result"
    }
   ],
   "source": [
    "new_df_build.isnull().any()"
   ]
  },
  {
   "cell_type": "markdown",
   "metadata": {
    "colab_type": "text",
    "id": "7c_hrK3ujaHC"
   },
   "source": [
    "##### Further data exploration\n",
    "Now that we have our build dataset we can explore our data better. First, we look at the distribution of how many builds actually succeed and how often builds happen."
   ]
  },
  {
   "cell_type": "code",
   "execution_count": 19,
   "metadata": {
    "colab": {},
    "colab_type": "code",
    "id": "MSUmyxBojaHD",
    "outputId": "92c1a3b0-b430-411d-aeef-8e4546b175e8"
   },
   "outputs": [
    {
     "data": {
      "image/png": "[encoded data removed]",
      "text/plain": [
       "<Figure size 432x288 with 1 Axes>"
      ]
     },
     "metadata": {
      "needs_background": "light"
     },
     "output_type": "display_data"
    },
    {
     "name": "stdout",
     "output_type": "stream",
     "text": [
      "Only 5.3% of the build-events fail\n"
     ]
    }
   ],
   "source": [
    "sns.countplot(x=\"nextBuildResult\",data=new_df_build)\n",
    "plt.show()\n",
    "count_failedBuild = len(new_df_build[new_df_build[\"nextBuildResult\"]==False])\n",
    "count_passedBuild = len(new_df_build[new_df_build[\"nextBuildResult\"]==True])\n",
    "pct_failedBuild = round(count_failedBuild/(count_failedBuild+count_passedBuild)*100,1)\n",
    "print(f'Only {pct_failedBuild}% of the build-events fail')"
   ]
  },
  {
   "cell_type": "code",
   "execution_count": 20,
   "metadata": {
    "colab": {},
    "colab_type": "code",
    "id": "68Jgs-6IjaHF",
    "outputId": "14d33b2d-e275-4e70-cac5-e8058c02459b"
   },
   "outputs": [
    {
     "data": {
      "text/html": [
       "<div>\n",
       "<style scoped>\n",
       "    .dataframe tbody tr th:only-of-type {\n",
       "        vertical-align: middle;\n",
       "    }\n",
       "\n",
       "    .dataframe tbody tr th {\n",
       "        vertical-align: top;\n",
       "    }\n",
       "\n",
       "    .dataframe thead tr th {\n",
       "        text-align: left;\n",
       "    }\n",
       "\n",
       "    .dataframe thead tr:last-of-type th {\n",
       "        text-align: right;\n",
       "    }\n",
       "</style>\n",
       "<table border=\"1\" class=\"dataframe\">\n",
       "  <thead>\n",
       "    <tr>\n",
       "      <th></th>\n",
       "      <th colspan=\"5\" halign=\"left\">#editsUntilNextBuild</th>\n",
       "      <th colspan=\"5\" halign=\"left\">time_passed</th>\n",
       "    </tr>\n",
       "    <tr>\n",
       "      <th></th>\n",
       "      <th>count</th>\n",
       "      <th>mean</th>\n",
       "      <th>median</th>\n",
       "      <th>max</th>\n",
       "      <th>min</th>\n",
       "      <th>count</th>\n",
       "      <th>mean</th>\n",
       "      <th>median</th>\n",
       "      <th>max</th>\n",
       "      <th>min</th>\n",
       "    </tr>\n",
       "    <tr>\n",
       "      <th>nextBuildResult</th>\n",
       "      <th></th>\n",
       "      <th></th>\n",
       "      <th></th>\n",
       "      <th></th>\n",
       "      <th></th>\n",
       "      <th></th>\n",
       "      <th></th>\n",
       "      <th></th>\n",
       "      <th></th>\n",
       "      <th></th>\n",
       "    </tr>\n",
       "  </thead>\n",
       "  <tbody>\n",
       "    <tr>\n",
       "      <th>False</th>\n",
       "      <td>507</td>\n",
       "      <td>19.879684</td>\n",
       "      <td>8</td>\n",
       "      <td>249</td>\n",
       "      <td>1</td>\n",
       "      <td>507</td>\n",
       "      <td>248.238659</td>\n",
       "      <td>117</td>\n",
       "      <td>2082</td>\n",
       "      <td>1</td>\n",
       "    </tr>\n",
       "    <tr>\n",
       "      <th>True</th>\n",
       "      <td>9055</td>\n",
       "      <td>12.329652</td>\n",
       "      <td>6</td>\n",
       "      <td>286</td>\n",
       "      <td>1</td>\n",
       "      <td>9055</td>\n",
       "      <td>160.658421</td>\n",
       "      <td>81</td>\n",
       "      <td>2879</td>\n",
       "      <td>1</td>\n",
       "    </tr>\n",
       "  </tbody>\n",
       "</table>\n",
       "</div>"
      ],
      "text/plain": [
       "                #editsUntilNextBuild                            time_passed  \\\n",
       "                               count       mean median  max min       count   \n",
       "nextBuildResult                                                               \n",
       "False                            507  19.879684      8  249   1         507   \n",
       "True                            9055  12.329652      6  286   1        9055   \n",
       "\n",
       "                                              \n",
       "                       mean median   max min  \n",
       "nextBuildResult                               \n",
       "False            248.238659    117  2082   1  \n",
       "True             160.658421     81  2879   1  "
      ]
     },
     "execution_count": 20,
     "metadata": {},
     "output_type": "execute_result"
    }
   ],
   "source": [
    "new_df_build.groupby(\"nextBuildResult\").agg({\"#editsUntilNextBuild\":[\"count\",\"mean\",\"median\",\"max\",\"min\"],\"time_passed\":[\"count\",\"mean\",\"median\",\"max\",\"min\"]})"
   ]
  },
  {
   "cell_type": "markdown",
   "metadata": {
    "colab_type": "text",
    "id": "UNUSyBNljaHH"
   },
   "source": [
    "First remarks:\n",
    "* Our classes (successful vs. unsuccessful Build events) are strongly imbalanced.\n",
    "* The average number of edits and the average time passed for unsuccessful Build are more then twice as much as for successful Build. This seems to support our hypothesis.\n",
    "* However our variable \"number of edits\" and \"time passed\" between builds events seem to be strongly positive skewed.\n",
    "* We did not expect builds to happen that often. We have a median of less than 2 minutes between builds, which might also explain why many builds succeed.\n",
    "\n",
    "Let's try to visualize the timings"
   ]
  },
  {
   "cell_type": "code",
   "execution_count": 21,
   "metadata": {
    "colab": {},
    "colab_type": "code",
    "id": "cur9RHfyjaHI",
    "outputId": "86b27c64-af12-45b4-e91f-6cac45c6439d"
   },
   "outputs": [
    {
     "data": {
      "text/plain": [
       "<matplotlib.axes._subplots.AxesSubplot at 0x1ef2916fcc8>"
      ]
     },
     "execution_count": 21,
     "metadata": {},
     "output_type": "execute_result"
    },
    {
     "data": {
      "image/png": "[encoded data removed]",
      "text/plain": [
       "<Figure size 432x288 with 1 Axes>"
      ]
     },
     "metadata": {
      "needs_background": "light"
     },
     "output_type": "display_data"
    }
   ],
   "source": [
    "sns.boxplot(x=new_df_build[\"nextBuildResult\"], y=new_df_build[\"#editsUntilNextBuild\"])"
   ]
  },
  {
   "cell_type": "code",
   "execution_count": 22,
   "metadata": {
    "colab": {},
    "colab_type": "code",
    "id": "3HIuLLQTjaHK",
    "outputId": "78475fc4-6dc6-4159-9fcc-15ceb09d1a07"
   },
   "outputs": [
    {
     "data": {
      "text/plain": [
       "<matplotlib.axes._subplots.AxesSubplot at 0x1ef2a192588>"
      ]
     },
     "execution_count": 22,
     "metadata": {},
     "output_type": "execute_result"
    },
    {
     "data": {
      "image/png": "[encoded data removed]",
      "text/plain": [
       "<Figure size 432x288 with 1 Axes>"
      ]
     },
     "metadata": {
      "needs_background": "light"
     },
     "output_type": "display_data"
    }
   ],
   "source": [
    "sns.boxplot(x=new_df_build[\"nextBuildResult\"], y=new_df_build[\"time_passed\"])"
   ]
  },
  {
   "cell_type": "markdown",
   "metadata": {
    "colab_type": "text",
    "id": "ZBDycc9PjaHN"
   },
   "source": [
    "This Bloxplot representation show us that many datapoint are recognize as possible outliers. Let's try to consider only observation with at most 100 edits and less than 1200 seconds between Build event to remove some of the noise."
   ]
  },
  {
   "cell_type": "code",
   "execution_count": 23,
   "metadata": {
    "colab": {},
    "colab_type": "code",
    "id": "aXYi6X9QjaHO",
    "outputId": "c0ab9076-d04c-42e0-e8d2-1d52dc3124be"
   },
   "outputs": [
    {
     "name": "stdout",
     "output_type": "stream",
     "text": [
      "96.1% of the unsuccessful build events have less than 101 edits and less then 20 min between the two Build events\n",
      "98.8% of the successful build events have less than 101 edits and less then 20 min between the two Build events\n"
     ]
    },
    {
     "data": {
      "image/png": "[encoded data removed]",
      "text/plain": [
       "<Figure size 432x288 with 1 Axes>"
      ]
     },
     "metadata": {
      "needs_background": "light"
     },
     "output_type": "display_data"
    },
    {
     "name": "stdout",
     "output_type": "stream",
     "text": [
      "Only 5.2% of the build-events fail if we consider this restricted dataset.\n"
     ]
    }
   ],
   "source": [
    "new_df_build1=new_df_build.loc[(new_df_build[\"#editsUntilNextBuild\"]<100) & (new_df_build[\"time_passed\"]<1200)]\n",
    "print(f'{round(len(new_df_build1[new_df_build1[\"nextBuildResult\"]==False])/len(new_df_build[new_df_build[\"nextBuildResult\"]==False])*100,1)}% of the unsuccessful build events have less than 101 edits and less then 20 min between the two Build events')\n",
    "print(f'{round(len(new_df_build1[new_df_build1[\"nextBuildResult\"]==True])/len(new_df_build[new_df_build[\"nextBuildResult\"]==True])*100,1)}% of the successful build events have less than 101 edits and less then 20 min between the two Build events')\n",
    "\n",
    "sns.countplot(x=\"nextBuildResult\",data=new_df_build1)\n",
    "plt.show()\n",
    "count_failedBuild = len(new_df_build1[new_df_build1[\"nextBuildResult\"]==False])\n",
    "count_passedBuild = len(new_df_build1[new_df_build1[\"nextBuildResult\"]==True])\n",
    "pct_failedBuild = round(count_failedBuild/(count_failedBuild+count_passedBuild)*100,1)\n",
    "print(f'Only {pct_failedBuild}% of the build-events fail if we consider this restricted dataset.')"
   ]
  },
  {
   "cell_type": "markdown",
   "metadata": {
    "colab_type": "text",
    "id": "sbCwdbOOMV56"
   },
   "source": [
    "Given that we already considered possible problems within sessionID and we already splitted many sessionID using our session_timeout indicator, we don't see any reasonable reasons to further restrict our dataset. Therefore we decided to continue our analysis with the whole dataset.  "
   ]
  },
  {
   "cell_type": "markdown",
   "metadata": {
    "colab_type": "text",
    "id": "66Qdo801MV57"
   },
   "source": [
    "## Process the data in order to predict the probability of a successful test "
   ]
  },
  {
   "cell_type": "markdown",
   "metadata": {
    "colab_type": "text",
    "id": "BNwfHGR4MV58"
   },
   "source": [
    "For the analysis of the relationship between the A) number of edits done or B) the time passed between two tests and the success of a test, we again want to have this \"stable\" state: We only consider the number of edits done / time passed after a successful test.\n",
    "\n",
    "Now, the question arose how to define a \"successful\" test. There are two possibilities:\n",
    "- a test run is successful if all the tests were successful, i.e. passedTests over totalTests equals to 1\n",
    "- a test run is successful if at least 1 test was successful, i.e. passesTests over totalTests lies between 0 and 1\n",
    "\n",
    "We decided on classifying a test run only successful when 100% of the tests passed. With the second definition, the spectrum of a successful test would be too big (a test run with 5% passed tests would be considered just as successful as a test run with 100%). This decision of calling a test successful with 100% passing tests also goes along well with the definition of a successful build (there are no partial successful builds).\n",
    "\n",
    "In order to predict the probability of a successful test run, we need the two data sets \"df_edit\" and \"df_test\". The latter has a column \"testsPassed\" which gives us the information whether to consider a particular session or not: It has to be equal to the total numbers of tests run such that it reached this 100% passed tests.\n",
    "\n",
    "\n",
    "To process our data, we defined several auxiliary functions which generally speaking do the following:\n",
    "\n",
    "* For each sessionID:\n",
    "    - get all entries that have passed tests equal total tests\n",
    "* For each sessionID with a passed test run:\n",
    "    - count the number of edits done until the next test run\n",
    "    - here, we don't differentiate passed or failed tests, since that's exactly what we're interested in. \n",
    "* Create a new DataFrame with the following variables:\n",
    "    - sessionID\n",
    "    - timeTestPass: timestamp when a test passed\n",
    "    - timeNextTest: timestamp of the next test run of this sessionID\n",
    "    - editsUntilNextTest: number of edits done from timePass until timeNext\n",
    "    - ratio_p_t: result of the next test run. Ratio = passedTestNext/totalTestsNext, i.e. the percentage of passed tests\n",
    "    - totalTestsNext: total tests run in the next test (which was at timeNext)\n",
    "    - testPassedNext: number of tests passed in the next test (which was at timeNext)\n",
    "    - nextTestResult: boolean which is true if 100% of the tests passed = test was successful, otherwise false\n"
   ]
  },
  {
   "cell_type": "markdown",
   "metadata": {
    "colab_type": "text",
    "id": "g9sG6Z1KjaHR"
   },
   "source": [
    "### Processing of edit and test data set\n",
    "First, count the number of edits since last successful tests run"
   ]
  },
  {
   "cell_type": "code",
   "execution_count": 24,
   "metadata": {
    "colab": {},
    "colab_type": "code",
    "id": "UQxfHuhnjaHS"
   },
   "outputs": [],
   "source": [
    "# counts the numbers of edits between a test and the next test\n",
    "# for our purpose, be aware to only call it with the first test being successful, i.e. 100%\n",
    "def get_nr_edits_between_tests(sessionID, timeFirstTest , timeNextTest):\n",
    "    result = df_edit[(df_edit[\"timestamp\"] < timeNextTest)\n",
    "                                 & (df_edit[\"timestamp\"] > timeFirstTest) \n",
    "                                 & (df_edit[\"sessionID\"] == sessionID)]\n",
    "    result = np.asarray(result)\n",
    "    return len(result)"
   ]
  },
  {
   "cell_type": "markdown",
   "metadata": {
    "colab_type": "text",
    "id": "VtsxZUdoMV5_"
   },
   "source": [
    "Prepare a method to create a DataFrame with 9 columns"
   ]
  },
  {
   "cell_type": "code",
   "execution_count": 25,
   "metadata": {
    "colab": {},
    "colab_type": "code",
    "id": "YVBcA7oZjaHX"
   },
   "outputs": [],
   "source": [
    "def create_df(resultArray):\n",
    "    # Create DataFrame\n",
    "    column_labels = ['sessionID','timeTestPass','timeNextTest','timePassed','editsUntilNextTest', \n",
    "                     'ratio_p_t','totalTestsNext', 'testPassedNext' ,'nextTestResult']\n",
    "    df = pd.DataFrame(resultArray, columns=column_labels)\n",
    "    return df;"
   ]
  },
  {
   "cell_type": "markdown",
   "metadata": {
    "colab_type": "text",
    "id": "-G5SwDPljaHZ"
   },
   "source": [
    "#### Now iterate over all sessions and create a DataFrame"
   ]
  },
  {
   "cell_type": "code",
   "execution_count": 26,
   "metadata": {
    "colab": {},
    "colab_type": "code",
    "id": "CtaeNr6BjaHa"
   },
   "outputs": [],
   "source": [
    "# Creates a DF and returns a list that contains among other things\n",
    "# the nr of edits from a passing test until the next test event and whether this next test has been successful\n",
    "def get_edits_tests_list():\n",
    "    successfulTestRuns=0\n",
    "    unsuccessfulTestRuns=0\n",
    "    successfulTestRunsWithNextTest=0\n",
    "    sessionWithPassedTestsButNoNextTest=0\n",
    "    result=[]\n",
    "    # sort the data frame by sessionID and then by timestamp\n",
    "    df_test_sorted = df_test.sort_values(by=['sessionID'])\n",
    "    df_test_sorted = df_test.sort_values(by=['timestamp'])\n",
    "\n",
    "    print(f'Iterate over {len(df_test_sorted)} data entries')\n",
    "    i=0\n",
    "    for index, row in df_test_sorted.iterrows():\n",
    "        # only for test runs with 100% passed-test score  \n",
    "        if(row[\"testsPassed\"] == row[\"totalTests\"]):\n",
    "            successfulTestRuns+=1\n",
    "            #has next test\n",
    "            if((i+1 < len(df_test_sorted)) and (df_test_sorted.iloc[i+1].sessionID == row[\"sessionID\"])):\n",
    "                successfulTestRunsWithNextTest+=1\n",
    "                item=[]\n",
    "                timestampNext=df_test_sorted.iloc[i+1].timestamp\n",
    "                time_passed = pd.Timedelta(datetime.strptime(timestampNext, '%Y-%m-%d %H:%M:%S')\n",
    "                                           -datetime.strptime(row[\"timestamp\"], '%Y-%m-%d %H:%M:%S')).seconds\n",
    "                totalTestsNext=df_test_sorted.iloc[i+1].totalTests\n",
    "                passedTestNext=df_test_sorted.iloc[i+1].testsPassed\n",
    "                nrOfEdits=get_nr_edits_between_tests(row[\"sessionID\"], row[\"timestamp\"], timestampNext)\n",
    "                if(passedTestNext == totalTestsNext):\n",
    "                    resultTestNextBoolean = 1\n",
    "                else:\n",
    "                    resultTestNextBoolean = 0\n",
    "                if(totalTestsNext != 0):\n",
    "                    ratioPT = (passedTestNext/totalTestsNext)\n",
    "                else:\n",
    "                    # if no tests have been executed, we define this as successful test run\n",
    "                    ratioPT = 1\n",
    "                item.append(row[\"sessionID\"])\n",
    "                item.append(row[\"timestamp\"])\n",
    "                item.append(timestampNext)\n",
    "                item.append(time_passed)\n",
    "                item.append(nrOfEdits)\n",
    "                item.append(float(ratioPT))\n",
    "                item.append(int(totalTestsNext))\n",
    "                item.append(int(passedTestNext))\n",
    "                item.append(int(resultTestNextBoolean))\n",
    "                result.append(item)\n",
    "            else:\n",
    "                sessionWithPassedTestsButNoNextTest+=1\n",
    "        else:\n",
    "            unsuccessfulTestRuns+=1\n",
    "        i+=1\n",
    "    print(f'SessionIDs with successful test runs: {successfulTestRuns}')\n",
    "    print(f'SessionIDs with successful test runs and next a test run: {successfulTestRunsWithNextTest}')\n",
    "    print(f'SessionIDs with passed test but no next test: {sessionWithPassedTestsButNoNextTest}')\n",
    "    print(f'SessionIDs with unsuccessful test runs: {unsuccessfulTestRuns}')\n",
    "    \n",
    "    return result"
   ]
  },
  {
   "cell_type": "code",
   "execution_count": 27,
   "metadata": {
    "colab": {},
    "colab_type": "code",
    "id": "UzjGW3sKjaHd",
    "outputId": "689607a6-c98c-4208-c2b6-1148b72dc519"
   },
   "outputs": [
    {
     "name": "stdout",
     "output_type": "stream",
     "text": [
      "Iterate over 3751 data entries\n",
      "SessionIDs with successful test runs: 1340\n",
      "SessionIDs with successful test runs and next a test run: 994\n",
      "SessionIDs with passed test but no next test: 346\n",
      "SessionIDs with unsuccessful test runs: 2411\n"
     ]
    }
   ],
   "source": [
    "edits_tests = get_edits_tests_list()"
   ]
  },
  {
   "cell_type": "code",
   "execution_count": 30,
   "metadata": {
    "colab": {},
    "colab_type": "code",
    "id": "OT8yU2P0jaHe",
    "outputId": "d29e865c-eb7b-4bd0-84e9-c73ce03ff154"
   },
   "outputs": [
    {
     "data": {
      "text/html": [
       "<div>\n",
       "<style scoped>\n",
       "    .dataframe tbody tr th:only-of-type {\n",
       "        vertical-align: middle;\n",
       "    }\n",
       "\n",
       "    .dataframe tbody tr th {\n",
       "        vertical-align: top;\n",
       "    }\n",
       "\n",
       "    .dataframe thead th {\n",
       "        text-align: right;\n",
       "    }\n",
       "</style>\n",
       "<table border=\"1\" class=\"dataframe\">\n",
       "  <thead>\n",
       "    <tr style=\"text-align: right;\">\n",
       "      <th></th>\n",
       "      <th>sessionID</th>\n",
       "      <th>timeTestPass</th>\n",
       "      <th>timeNextTest</th>\n",
       "      <th>timePassed</th>\n",
       "      <th>editsUntilNextTest</th>\n",
       "      <th>ratio_p_t</th>\n",
       "      <th>totalTestsNext</th>\n",
       "      <th>testPassedNext</th>\n",
       "      <th>nextTestResult</th>\n",
       "    </tr>\n",
       "  </thead>\n",
       "  <tbody>\n",
       "    <tr>\n",
       "      <th>989</th>\n",
       "      <td>5ce3748f-c14c-4fdd-8cdc-cc81a2a7964d</td>\n",
       "      <td>2017-01-23 11:06:52</td>\n",
       "      <td>2017-01-23 11:07:03</td>\n",
       "      <td>11</td>\n",
       "      <td>1</td>\n",
       "      <td>1.00000</td>\n",
       "      <td>157</td>\n",
       "      <td>157</td>\n",
       "      <td>1</td>\n",
       "    </tr>\n",
       "    <tr>\n",
       "      <th>990</th>\n",
       "      <td>5ce3748f-c14c-4fdd-8cdc-cc81a2a7964d</td>\n",
       "      <td>2017-01-23 11:07:03</td>\n",
       "      <td>2017-01-23 11:07:28</td>\n",
       "      <td>25</td>\n",
       "      <td>1</td>\n",
       "      <td>0.99392</td>\n",
       "      <td>2796</td>\n",
       "      <td>2779</td>\n",
       "      <td>0</td>\n",
       "    </tr>\n",
       "    <tr>\n",
       "      <th>991</th>\n",
       "      <td>ac5adb1c-f8a0-4a50-990f-0319419d28ea</td>\n",
       "      <td>2017-01-26 13:29:52</td>\n",
       "      <td>2017-01-26 13:30:35</td>\n",
       "      <td>43</td>\n",
       "      <td>5</td>\n",
       "      <td>0.00000</td>\n",
       "      <td>1</td>\n",
       "      <td>0</td>\n",
       "      <td>0</td>\n",
       "    </tr>\n",
       "    <tr>\n",
       "      <th>992</th>\n",
       "      <td>10605</td>\n",
       "      <td>2017-02-08 07:32:43</td>\n",
       "      <td>2017-02-08 07:33:45</td>\n",
       "      <td>62</td>\n",
       "      <td>9</td>\n",
       "      <td>1.00000</td>\n",
       "      <td>21</td>\n",
       "      <td>21</td>\n",
       "      <td>1</td>\n",
       "    </tr>\n",
       "    <tr>\n",
       "      <th>993</th>\n",
       "      <td>7118</td>\n",
       "      <td>2017-02-09 11:05:36</td>\n",
       "      <td>2017-02-09 11:05:57</td>\n",
       "      <td>21</td>\n",
       "      <td>2</td>\n",
       "      <td>1.00000</td>\n",
       "      <td>174</td>\n",
       "      <td>174</td>\n",
       "      <td>1</td>\n",
       "    </tr>\n",
       "  </tbody>\n",
       "</table>\n",
       "</div>"
      ],
      "text/plain": [
       "                                sessionID         timeTestPass  \\\n",
       "989  5ce3748f-c14c-4fdd-8cdc-cc81a2a7964d  2017-01-23 11:06:52   \n",
       "990  5ce3748f-c14c-4fdd-8cdc-cc81a2a7964d  2017-01-23 11:07:03   \n",
       "991  ac5adb1c-f8a0-4a50-990f-0319419d28ea  2017-01-26 13:29:52   \n",
       "992                                 10605  2017-02-08 07:32:43   \n",
       "993                                  7118  2017-02-09 11:05:36   \n",
       "\n",
       "            timeNextTest  timePassed  editsUntilNextTest  ratio_p_t  \\\n",
       "989  2017-01-23 11:07:03          11                   1    1.00000   \n",
       "990  2017-01-23 11:07:28          25                   1    0.99392   \n",
       "991  2017-01-26 13:30:35          43                   5    0.00000   \n",
       "992  2017-02-08 07:33:45          62                   9    1.00000   \n",
       "993  2017-02-09 11:05:57          21                   2    1.00000   \n",
       "\n",
       "     totalTestsNext  testPassedNext  nextTestResult  \n",
       "989             157             157               1  \n",
       "990            2796            2779               0  \n",
       "991               1               0               0  \n",
       "992              21              21               1  \n",
       "993             174             174               1  "
      ]
     },
     "execution_count": 30,
     "metadata": {},
     "output_type": "execute_result"
    }
   ],
   "source": [
    "df_edits_tests = create_df(edits_tests)\n",
    "df_edits_tests.tail()"
   ]
  },
  {
   "cell_type": "markdown",
   "metadata": {
    "colab_type": "text",
    "id": "fsQiZvUqMV6H"
   },
   "source": [
    "### Now that we have our processed data set, we can analyze the data further"
   ]
  },
  {
   "cell_type": "markdown",
   "metadata": {
    "colab_type": "text",
    "id": "ihezpZT4MV6H"
   },
   "source": [
    "#### Explore the processed data \"edits_tests\""
   ]
  },
  {
   "cell_type": "markdown",
   "metadata": {
    "colab_type": "text",
    "id": "HWoed-IUMV6H"
   },
   "source": [
    "Let's have a look a the \"nextTestResult\" value, which says whether or not a test run after a successful test was successful too = 100% passed-test score. Please note that we defined a test run which didnt include any tests (totalTests = 0) as successful (=1)."
   ]
  },
  {
   "cell_type": "code",
   "execution_count": 31,
   "metadata": {
    "colab": {},
    "colab_type": "code",
    "id": "hsKaj24uMV6I",
    "outputId": "a75e1947-e9dc-4f5e-cc22-d154589a9579"
   },
   "outputs": [
    {
     "data": {
      "image/png": "[encoded data removed]",
      "text/plain": [
       "<Figure size 432x288 with 1 Axes>"
      ]
     },
     "metadata": {
      "needs_background": "light"
     },
     "output_type": "display_data"
    },
    {
     "name": "stdout",
     "output_type": "stream",
     "text": [
      "40.0% of the tests events after a successful test run fail. 60.0% were successful.\n"
     ]
    }
   ],
   "source": [
    "sns.countplot(x=\"nextTestResult\",data=df_edits_tests)\n",
    "plt.show()\n",
    "count_failedTests = len(df_edits_tests[df_edits_tests[\"nextTestResult\"]==False])\n",
    "count_passedTests = len(df_edits_tests[df_edits_tests[\"nextTestResult\"]==True])\n",
    "pct_failedTests = round(count_failedTests/(count_failedTests+count_passedTests)*100,1)\n",
    "print(f'{pct_failedTests}% of the tests events after a successful test run fail. {100-pct_failedTests}% were successful.')"
   ]
  },
  {
   "cell_type": "markdown",
   "metadata": {
    "colab_type": "text",
    "id": "gPPJeleyMV6L"
   },
   "source": [
    "This distribution can also be explored by a histogram:"
   ]
  },
  {
   "cell_type": "code",
   "execution_count": 32,
   "metadata": {
    "colab": {},
    "colab_type": "code",
    "id": "UJYNM_xJMV6M",
    "outputId": "ee637b11-f454-4d4c-f31b-18c7b31940f0"
   },
   "outputs": [
    {
     "data": {
      "text/plain": [
       "<matplotlib.axes._subplots.AxesSubplot at 0x1ef2a37bcc8>"
      ]
     },
     "execution_count": 32,
     "metadata": {},
     "output_type": "execute_result"
    },
    {
     "data": {
      "image/png": "[encoded data removed]",
      "text/plain": [
       "<Figure size 432x288 with 1 Axes>"
      ]
     },
     "metadata": {
      "needs_background": "light"
     },
     "output_type": "display_data"
    }
   ],
   "source": [
    "sns.distplot(df_edits_tests.ratio_p_t,\n",
    "             axlabel='Ratio of passed tests')"
   ]
  },
  {
   "cell_type": "markdown",
   "metadata": {
    "colab_type": "text",
    "id": "leCjt9oPMV6N"
   },
   "source": [
    "The histogram doesnt show a normal distribution. The data is rather left skewed, i.e. most of the samples are clustered on the right side. However, the long tail on the left gets \"interrupted\". \n",
    "\n",
    "Let's therefore take a closer look at the extreme on the left, where the ratio is 0.\n",
    "\n",
    "\n",
    "We've deleted all the test runs with zero total tests. Therefore, a ratio of 0 can only occur when 0 tests have passed within a test run."
   ]
  },
  {
   "cell_type": "code",
   "execution_count": 33,
   "metadata": {
    "colab": {},
    "colab_type": "code",
    "id": "qk9LNGIYMV6N",
    "outputId": "72d136ad-eaa6-468e-ab7b-e8681acd1c68"
   },
   "outputs": [
    {
     "name": "stdout",
     "output_type": "stream",
     "text": [
      "Number of test runs with 0 tests: 0 (As expected)\n",
      "There are 143 test runs with zero passed tests  (14.39%).\n",
      "\n"
     ]
    }
   ],
   "source": [
    "count_0tests = len(df_edits_tests[df_edits_tests[\"totalTestsNext\"]==0])\n",
    "print(f'Number of test runs with 0 tests: {count_0tests} (As expected)')\n",
    "count_0passedTests = len(df_edits_tests[df_edits_tests[\"testPassedNext\"]==0])\n",
    "print(f'There are {count_0passedTests} test runs with zero passed tests  ({round(count_0passedTests/len(df_edits_tests),4)*100}%).\\n')\n"
   ]
  },
  {
   "cell_type": "markdown",
   "metadata": {
    "colab_type": "text",
    "id": "1NFfu0H6MV6Q"
   },
   "source": [
    "Let's look at the distribution of the result successful/unsuccessful when only 1 single test is run. Because in this case, the ratio either can be 0 or 1 - our two extremes."
   ]
  },
  {
   "cell_type": "code",
   "execution_count": 34,
   "metadata": {
    "colab": {},
    "colab_type": "code",
    "id": "8g7wpWT1MV6Q",
    "outputId": "eb08636f-0ca5-4f25-ef0e-a5933246aa35"
   },
   "outputs": [
    {
     "name": "stdout",
     "output_type": "stream",
     "text": [
      "In total, 398 test run failed.\n",
      "\n",
      "In total, there are 402 test runs which contain 1 single test (40.0%).\n",
      "\n",
      "Out of these 402 runs, 116 tests (30.0%) failed.\n",
      "\n",
      "This means that 30.0% of the failed tests come from test runs which contain only 1 single test.\n"
     ]
    }
   ],
   "source": [
    "count_totalFailedTests = len(df_edits_tests[df_edits_tests[\"nextTestResult\"]==0])\n",
    "print(f'In total, {count_totalFailedTests} test run failed.\\n')\n",
    "\n",
    "count_totalTestsNextOnly1 = len(df_edits_tests[df_edits_tests[\"totalTestsNext\"] == 1])\n",
    "count_failedOnly1 = len(df_edits_tests[(df_edits_tests[\"totalTestsNext\"] == 1) \n",
    "                        & (df_edits_tests[\"nextTestResult\"] == 0 )])\n",
    "count_failedMoreThan1 = len(df_edits_tests[(df_edits_tests[\"totalTestsNext\"] > 1 ) \n",
    "                        & (df_edits_tests[\"nextTestResult\"] == 0 )])\n",
    "total_test_runs = len(df_edits_tests)\n",
    "\n",
    "print(f'In total, there are {count_totalTestsNextOnly1} test runs which contain 1 single test ({round(count_totalTestsNextOnly1/total_test_runs,2)*100}%).\\n')\n",
    "print(f'Out of these {count_totalTestsNextOnly1} runs, {count_failedOnly1} tests ({round(count_failedOnly1/count_totalTestsNextOnly1,1)*100}%) failed.\\n')\n",
    "print(f'This means that {round(count_failedOnly1/count_totalFailedTests, 1)*100}% of the failed tests come from test runs which contain only 1 single test.') \n"
   ]
  },
  {
   "cell_type": "markdown",
   "metadata": {
    "colab_type": "text",
    "id": "YHCQY-COMV6R"
   },
   "source": [
    "\n",
    "The fact that one third of the test runs include only one test partially explains the two higher bins on the left and right side of the histogram: If there is only one test run, the ratio of passed tests can only be 1 or 0. \n",
    "\n",
    "This histogram furthermore indicates that mostly related tests were run. Otherwise, we would see way more samples that lie inbetween 0 and 1."
   ]
  },
  {
   "cell_type": "code",
   "execution_count": 35,
   "metadata": {
    "colab": {},
    "colab_type": "code",
    "id": "5rrvmme6MV6S",
    "outputId": "e9b053a6-add6-4ba7-8185-95e0f32b9cd7"
   },
   "outputs": [
    {
     "data": {
      "text/plain": [
       "<matplotlib.axes._subplots.AxesSubplot at 0x1ef2b094ac8>"
      ]
     },
     "execution_count": 35,
     "metadata": {},
     "output_type": "execute_result"
    },
    {
     "data": {
      "image/png": "[encoded data removed]",
      "text/plain": [
       "<Figure size 432x288 with 1 Axes>"
      ]
     },
     "metadata": {
      "needs_background": "light"
     },
     "output_type": "display_data"
    }
   ],
   "source": [
    "sns.distplot(df_edits_tests.timePassed,\n",
    "             axlabel='Time passed after a successful test run until the next test')"
   ]
  },
  {
   "cell_type": "markdown",
   "metadata": {
    "colab_type": "text",
    "id": "qySaOLKtMV6U"
   },
   "source": [
    "The histogram of the time passed between two tests is right skewed. For most of the samples, the time passed is between 0 and 500 seconds. Later on, we see more concrete values."
   ]
  },
  {
   "cell_type": "code",
   "execution_count": 36,
   "metadata": {
    "colab": {},
    "colab_type": "code",
    "id": "wybUhDaPMV6U",
    "outputId": "028b9cb9-4fdf-4dab-b6f0-d169f6422b00"
   },
   "outputs": [
    {
     "data": {
      "text/plain": [
       "<matplotlib.axes._subplots.AxesSubplot at 0x1ef2b17f3c8>"
      ]
     },
     "execution_count": 36,
     "metadata": {},
     "output_type": "execute_result"
    },
    {
     "data": {
      "image/png": "[encoded data removed]",
      "text/plain": [
       "<Figure size 432x288 with 1 Axes>"
      ]
     },
     "metadata": {
      "needs_background": "light"
     },
     "output_type": "display_data"
    }
   ],
   "source": [
    "sns.distplot(df_edits_tests.editsUntilNextTest,\n",
    "             axlabel='Number of edits after a successful test run until next test')"
   ]
  },
  {
   "cell_type": "markdown",
   "metadata": {
    "colab_type": "text",
    "id": "F62NQHh1MV6W"
   },
   "source": [
    "Just as the time passed, the number of edits between two tests is righ skewed too.\n",
    "\n",
    "Let's look at the distribution of the number of edit events and time passed with regard to the percentage of pasesd tests."
   ]
  },
  {
   "cell_type": "code",
   "execution_count": 37,
   "metadata": {
    "colab": {},
    "colab_type": "code",
    "id": "lNSbSmDnMV6W",
    "outputId": "48b4a975-a8e0-4344-85ec-06a41c0fac83"
   },
   "outputs": [
    {
     "data": {
      "text/plain": [
       "Text(0, 0.5, 'number of edits')"
      ]
     },
     "execution_count": 37,
     "metadata": {},
     "output_type": "execute_result"
    },
    {
     "data": {
      "image/png": "[encoded data removed]",
      "text/plain": [
       "<Figure size 432x288 with 1 Axes>"
      ]
     },
     "metadata": {
      "needs_background": "light"
     },
     "output_type": "display_data"
    }
   ],
   "source": [
    "edits_tests_array = np.array(edits_tests, dtype=\"O\")\n",
    "\n",
    "x = edits_tests_array[:,4] # nr of edits\n",
    "y = edits_tests_array[:,5] # ratio\n",
    "\n",
    "plt.scatter(y,x)\n",
    "plt.xlabel('percentage of passed tests') \n",
    "plt.ylabel('number of edits') "
   ]
  },
  {
   "cell_type": "code",
   "execution_count": 38,
   "metadata": {
    "colab": {},
    "colab_type": "code",
    "id": "HaAtdCSaMV6Z",
    "outputId": "2872c56d-dc7b-4998-8690-fe7dc39f694d"
   },
   "outputs": [
    {
     "data": {
      "text/plain": [
       "Text(0, 0.5, 'time passed between two tests')"
      ]
     },
     "execution_count": 38,
     "metadata": {},
     "output_type": "execute_result"
    },
    {
     "data": {
      "image/png": "[encoded data removed]",
      "text/plain": [
       "<Figure size 432x288 with 1 Axes>"
      ]
     },
     "metadata": {
      "needs_background": "light"
     },
     "output_type": "display_data"
    }
   ],
   "source": [
    "x = edits_tests_array[:,3] # timepassed\n",
    "y = edits_tests_array[:,5] # ratio\n",
    "\n",
    "plt.scatter(y,x)\n",
    "plt.xlabel('percentage of passed tests') \n",
    "plt.ylabel('time passed between two tests') "
   ]
  },
  {
   "cell_type": "markdown",
   "metadata": {
    "colab_type": "text",
    "id": "fv2NjmhiMV6a"
   },
   "source": [
    "We see that the both scatterplots look very similar. The data points seem to be more or less evenly distributed over the x-axis (but still with more samples on the right, i.e. with higher pass-total-ratio). This observation leads us to a first assumption that neither the number of edits nor the time passed between the test runs might have a great influence on the probability of test success. But first, let's analyse further...\n",
    "\n",
    "How does the relation between number of edits and time passed look like?\n"
   ]
  },
  {
   "cell_type": "code",
   "execution_count": 39,
   "metadata": {
    "colab": {},
    "colab_type": "code",
    "id": "wTVH3w2jMV6b",
    "outputId": "70166b68-daf7-4569-ffa7-547c16a3d48a"
   },
   "outputs": [
    {
     "data": {
      "text/plain": [
       "<matplotlib.axes._subplots.AxesSubplot at 0x1ef2bc46888>"
      ]
     },
     "execution_count": 39,
     "metadata": {},
     "output_type": "execute_result"
    },
    {
     "data": {
      "image/png": "[encoded data removed]",
      "text/plain": [
       "<Figure size 432x288 with 1 Axes>"
      ]
     },
     "metadata": {
      "needs_background": "light"
     },
     "output_type": "display_data"
    }
   ],
   "source": [
    "sns.scatterplot(x=\"editsUntilNextTest\", y =\"timePassed\", data=df_edits_tests)"
   ]
  },
  {
   "cell_type": "markdown",
   "metadata": {
    "colab_type": "text",
    "id": "JqVdU_WrMV6d"
   },
   "source": [
    "We can identify a positive correlation between the number of edits and the time passed between a successful test and the next test run. Which is reasonable: The more edits a developer performs, the more time passes until a new test run is started. We can therefore expect that both time passed and edits between two test runs will have a similar influence on whether or not the next test run succeeds.\n",
    "\n",
    "Furthermore, we can identify some heteroscedasticity: The variability of timePassed is not constant across the number of edits (less variability with low number of edits and large variability with large number of edits)."
   ]
  },
  {
   "cell_type": "markdown",
   "metadata": {
    "colab_type": "text",
    "id": "Vl774IEhMV6d"
   },
   "source": [
    "##### Means of ratio, edits and time passed"
   ]
  },
  {
   "cell_type": "code",
   "execution_count": 40,
   "metadata": {
    "colab": {},
    "colab_type": "code",
    "id": "PoCES1QpMV6d",
    "outputId": "502d5c33-49a5-493d-94e6-db25b4766cef"
   },
   "outputs": [
    {
     "name": "stdout",
     "output_type": "stream",
     "text": [
      "The mean ratio of passed tests over total tests is 79.8%. This means that in general, over two third of the tests passed within a single test run.\n",
      "\n",
      "On average, 11.8 edits were executed before a new test and after a successful test run.\n",
      "\n",
      "The mean time passed between two tests is 144.3 seconds, so approximately 2 minutes.\n",
      "\n"
     ]
    }
   ],
   "source": [
    "ratio_p_t_mean = df_edits_tests[\"ratio_p_t\"].mean()\n",
    "pct_ratio_p_t_mean = round(ratio_p_t_mean*100,1)\n",
    "print(f'The mean ratio of passed tests over total tests is {pct_ratio_p_t_mean}%. This means that in general, over two third of the tests passed within a single test run.\\n')\n",
    "\n",
    "edits_mean = round(df_edits_tests[\"editsUntilNextTest\"].mean(),1)\n",
    "print(f'On average, {edits_mean} edits were executed before a new test and after a successful test run.\\n')\n",
    "\n",
    "\n",
    "time_passed_mean = round(df_edits_tests[\"timePassed\"].mean(),1)\n",
    "print(f'The mean time passed between two tests is {time_passed_mean} seconds, so approximately {round(time_passed_mean/60)} minutes.\\n')\n"
   ]
  },
  {
   "cell_type": "markdown",
   "metadata": {
    "colab_type": "text",
    "id": "OvqWotM_MV6g"
   },
   "source": [
    "Lets look closer at the variables we are mostly interested in \"editsUntilNextTest\" and \"timePassed\":"
   ]
  },
  {
   "cell_type": "code",
   "execution_count": 41,
   "metadata": {
    "colab": {},
    "colab_type": "code",
    "id": "riZlxvgmMV6g",
    "outputId": "4b2516fa-40e5-4111-b7ef-c68e1ece0ad1"
   },
   "outputs": [
    {
     "data": {
      "text/html": [
       "<div>\n",
       "<style scoped>\n",
       "    .dataframe tbody tr th:only-of-type {\n",
       "        vertical-align: middle;\n",
       "    }\n",
       "\n",
       "    .dataframe tbody tr th {\n",
       "        vertical-align: top;\n",
       "    }\n",
       "\n",
       "    .dataframe thead tr th {\n",
       "        text-align: left;\n",
       "    }\n",
       "\n",
       "    .dataframe thead tr:last-of-type th {\n",
       "        text-align: right;\n",
       "    }\n",
       "</style>\n",
       "<table border=\"1\" class=\"dataframe\">\n",
       "  <thead>\n",
       "    <tr>\n",
       "      <th></th>\n",
       "      <th colspan=\"5\" halign=\"left\">editsUntilNextTest</th>\n",
       "      <th colspan=\"5\" halign=\"left\">timePassed</th>\n",
       "    </tr>\n",
       "    <tr>\n",
       "      <th></th>\n",
       "      <th>count</th>\n",
       "      <th>mean</th>\n",
       "      <th>median</th>\n",
       "      <th>max</th>\n",
       "      <th>min</th>\n",
       "      <th>count</th>\n",
       "      <th>mean</th>\n",
       "      <th>median</th>\n",
       "      <th>max</th>\n",
       "      <th>min</th>\n",
       "    </tr>\n",
       "    <tr>\n",
       "      <th>nextTestResult</th>\n",
       "      <th></th>\n",
       "      <th></th>\n",
       "      <th></th>\n",
       "      <th></th>\n",
       "      <th></th>\n",
       "      <th></th>\n",
       "      <th></th>\n",
       "      <th></th>\n",
       "      <th></th>\n",
       "      <th></th>\n",
       "    </tr>\n",
       "  </thead>\n",
       "  <tbody>\n",
       "    <tr>\n",
       "      <th>0</th>\n",
       "      <td>398</td>\n",
       "      <td>14.316583</td>\n",
       "      <td>3</td>\n",
       "      <td>213</td>\n",
       "      <td>0</td>\n",
       "      <td>398</td>\n",
       "      <td>175.203518</td>\n",
       "      <td>79.5</td>\n",
       "      <td>2569</td>\n",
       "      <td>2</td>\n",
       "    </tr>\n",
       "    <tr>\n",
       "      <th>1</th>\n",
       "      <td>596</td>\n",
       "      <td>10.114094</td>\n",
       "      <td>2</td>\n",
       "      <td>293</td>\n",
       "      <td>0</td>\n",
       "      <td>596</td>\n",
       "      <td>123.607383</td>\n",
       "      <td>55.0</td>\n",
       "      <td>2197</td>\n",
       "      <td>3</td>\n",
       "    </tr>\n",
       "  </tbody>\n",
       "</table>\n",
       "</div>"
      ],
      "text/plain": [
       "               editsUntilNextTest                            timePassed  \\\n",
       "                            count       mean median  max min      count   \n",
       "nextTestResult                                                            \n",
       "0                             398  14.316583      3  213   0        398   \n",
       "1                             596  10.114094      2  293   0        596   \n",
       "\n",
       "                                             \n",
       "                      mean median   max min  \n",
       "nextTestResult                               \n",
       "0               175.203518   79.5  2569   2  \n",
       "1               123.607383   55.0  2197   3  "
      ]
     },
     "execution_count": 41,
     "metadata": {},
     "output_type": "execute_result"
    }
   ],
   "source": [
    "df_edits_tests.groupby(\"nextTestResult\").agg({\"editsUntilNextTest\":[\"count\",\"mean\",\"median\",\"max\",\"min\"],\"timePassed\":[\"count\",\"mean\",\"median\",\"max\",\"min\"]})"
   ]
  },
  {
   "cell_type": "markdown",
   "metadata": {
    "colab_type": "text",
    "id": "ZWX-1PgvMV6h"
   },
   "source": [
    "Before interpreting this, let's look at the distribution of the number of edits by creating a boxplot:"
   ]
  },
  {
   "cell_type": "code",
   "execution_count": 42,
   "metadata": {
    "colab": {},
    "colab_type": "code",
    "id": "O0mtu9_vMV6i",
    "outputId": "64e17b83-9353-4d48-aa17-0c4be8a447bf"
   },
   "outputs": [
    {
     "data": {
      "text/plain": [
       "<matplotlib.axes._subplots.AxesSubplot at 0x1ef25e7f308>"
      ]
     },
     "execution_count": 42,
     "metadata": {},
     "output_type": "execute_result"
    },
    {
     "data": {
      "image/png": "[encoded data removed]",
      "text/plain": [
       "<Figure size 432x288 with 1 Axes>"
      ]
     },
     "metadata": {
      "needs_background": "light"
     },
     "output_type": "display_data"
    }
   ],
   "source": [
    "sns.boxplot(x=df_edits_tests[\"nextTestResult\"], y=df_edits_tests[\"editsUntilNextTest\"])"
   ]
  },
  {
   "cell_type": "code",
   "execution_count": 43,
   "metadata": {
    "colab": {},
    "colab_type": "code",
    "id": "wqvgyh_pMV6j",
    "outputId": "655f44ac-f8bc-42f6-bfc9-29e32dec8d39"
   },
   "outputs": [
    {
     "data": {
      "text/plain": [
       "<matplotlib.axes._subplots.AxesSubplot at 0x1ef25e64ec8>"
      ]
     },
     "execution_count": 43,
     "metadata": {},
     "output_type": "execute_result"
    },
    {
     "data": {
      "image/png": "[encoded data removed]",
      "text/plain": [
       "<Figure size 432x288 with 1 Axes>"
      ]
     },
     "metadata": {
      "needs_background": "light"
     },
     "output_type": "display_data"
    }
   ],
   "source": [
    "sns.boxplot(x=df_edits_tests[\"nextTestResult\"], y=df_edits_tests[\"timePassed\"])"
   ]
  },
  {
   "cell_type": "markdown",
   "metadata": {
    "colab_type": "text",
    "id": "wjymv_MgMV6l"
   },
   "source": [
    "First remarks:\n",
    "* Our classes (successful vs. unsuccessful Test events) are strongly unbalanced. The successful test class has way more samples - almost 5 times more.\n",
    "* However, the two classes have roughly similar median values for the number of edits - not really for the time passed though\n",
    "* Therefore, a comparison of the two boxplots \"fail\" and \"pass\" doesnt reveal a lot of information. They both look very similar.\n",
    "* However, the range/outliers differ quiet between successful and unsuccessful tests, the successful (orange) tests having more outliers.\n",
    "* On average and rounded, the unsuccessful test runs have 4 more edits than the successful test runs.\n",
    "* On average and rounded, 51 more seconds pass between a successful and an unsuccessful test run.\n",
    "* Interesting are the median values for the number of edits. Here we see that in 50% of sessions, 3, 2, 1 or 0 edits were made (after a successful test) until the next test (since median 3), whether this next test was successful or not.\n",
    "* The median of two for successful test runs indicates a highly frequent testing routine of many developers within the data collection.\n",
    "* We have to keep in mind that our variables \"number of edits\" and \"time passed\" between test events are strongly positive skewed, as seen in the scatterplot above.\n"
   ]
  },
  {
   "cell_type": "markdown",
   "metadata": {
    "colab_type": "text",
    "id": "jh95BHhwMV6m"
   },
   "source": [
    "Despite the many obvious outliers (many data points after the upper whisker), we dont want to restrict the dataset anymore. We've already restricted sessions to a certain time by splitting up sessions that were too long.  \n",
    "Hence, we take the processed data as it is, keeping in mind that we have a lot of outliers, and start with building some models!"
   ]
  },
  {
   "cell_type": "markdown",
   "metadata": {
    "colab_type": "text",
    "id": "7tp2mHU1jaHm"
   },
   "source": [
    "# Modelling and Algorithm Building"
   ]
  },
  {
   "cell_type": "markdown",
   "metadata": {
    "colab_type": "text",
    "id": "YL3BxjB5jaHm"
   },
   "source": [
    "Our goal of this data analysis is to analyze our hypothesis that more time or more edits between build/test events result in a lower probability of build/test succeeding. After having processed and explored the data are we now able to test our two hypothesis:\n",
    "1. Build\n",
    "    * the longer a developer waits to build his code, the higher the probability that the build will fail\n",
    "    * the more edit events a developer executes, the lower the probability that the build will succeed\n",
    "2. Test   \n",
    "    * the longer a developer waits to run some tests, the higher the probability for test failures\n",
    "    * the more edit events a developer executes, the lower the probability for test success"
   ]
  },
  {
   "cell_type": "markdown",
   "metadata": {
    "colab_type": "text",
    "id": "qVO0BmOdjaHm"
   },
   "source": [
    "### Build Events"
   ]
  },
  {
   "cell_type": "markdown",
   "metadata": {
    "colab_type": "text",
    "id": "MGv22dHhjaHo"
   },
   "source": [
    "To model the probability of a certain event such as pass/fail the logistic regression is one of the most used model and a good benchmark for further analysis. "
   ]
  },
  {
   "cell_type": "code",
   "execution_count": 28,
   "metadata": {
    "colab": {},
    "colab_type": "code",
    "id": "fSukn7t5jaHp",
    "outputId": "3e19fc61-509b-4155-80aa-a88caa4b9ec8"
   },
   "outputs": [
    {
     "name": "stdout",
     "output_type": "stream",
     "text": [
      "Optimization terminated successfully.\n",
      "         Current function value: 0.204575\n",
      "         Iterations 7\n",
      "                           Results: Logit\n",
      "====================================================================\n",
      "Model:               Logit             Pseudo R-squared:  0.013     \n",
      "Dependent Variable:  nextBuildResult   AIC:               3918.2899 \n",
      "Date:                2020-06-04 16:35  BIC:               3939.7865 \n",
      "No. Observations:    9562              Log-Likelihood:    -1956.1   \n",
      "Df Model:            2                 LL-Null:           -1982.4   \n",
      "Df Residuals:        9559              LLR p-value:       3.9802e-12\n",
      "Converged:           1.0000            Scale:             1.0000    \n",
      "No. Iterations:      7.0000                                         \n",
      "--------------------------------------------------------------------\n",
      "                      Coef.  Std.Err.    z    P>|z|   [0.025  0.975]\n",
      "--------------------------------------------------------------------\n",
      "const                 3.0837   0.0548 56.2993 0.0000  2.9763  3.1910\n",
      "#editsUntilNextBuild -0.0077   0.0028 -2.7880 0.0053 -0.0132 -0.0023\n",
      "time_passed          -0.0004   0.0002 -1.7879 0.0738 -0.0009  0.0000\n",
      "====================================================================\n",
      "\n",
      " The correlation between the two independent variables is 0.81\n"
     ]
    }
   ],
   "source": [
    "Y = new_df_build[\"nextBuildResult\"]\n",
    "X = new_df_build[[\"#editsUntilNextBuild\",'time_passed']]\n",
    "X1 = sm.add_constant(X)\n",
    "logit_model = sm1.Logit(Y, X1)\n",
    "result_logit_model = logit_model.fit()\n",
    "print(result_logit_model.summary2())\n",
    "print(f' The correlation between the two independent variables is {round(new_df_build[\"#editsUntilNextBuild\"].corr(new_df_build[\"time_passed\"]),2)}')"
   ]
  },
  {
   "cell_type": "markdown",
   "metadata": {
    "colab_type": "text",
    "id": "xzoW0oHUjaHr"
   },
   "source": [
    "All the coefficients are statistical significant (at 90% confidence level) and both the number of edits and the time passed have a negative effect on the probability of a successful built.  This means that, given the number of edits, the longer a developer waits to build his code, the higher the probability that the build will fail and at the same, given a certain time between two edits events, the more edit events a developer executes, the lower the probability that the build will succeed.\n",
    "\n",
    "\n",
    "However we can observe that, as expected, the number of edits and the time spent between build events are strongly positively correlated. This Multicollinearity problem can cause unstable estimates in our model and therefore we decided to separately estimate the effect of our independent variable on the probability of a successful build event."
   ]
  },
  {
   "cell_type": "code",
   "execution_count": 44,
   "metadata": {
    "colab": {},
    "colab_type": "code",
    "id": "TvWxXeMOMV6q",
    "outputId": "eda4baea-423b-4e45-eb93-562fd0fdad6e"
   },
   "outputs": [
    {
     "name": "stdout",
     "output_type": "stream",
     "text": [
      "Optimization terminated successfully.\n",
      "         Current function value: 0.204732\n",
      "         Iterations 7\n",
      "                           Results: Logit\n",
      "====================================================================\n",
      "Model:               Logit             Pseudo R-squared:  0.012     \n",
      "Dependent Variable:  nextBuildResult   AIC:               3919.3014 \n",
      "Date:                2020-06-04 16:36  BIC:               3933.6325 \n",
      "No. Observations:    9562              Log-Likelihood:    -1957.7   \n",
      "Df Model:            1                 LL-Null:           -1982.4   \n",
      "Df Residuals:        9560              LLR p-value:       1.9960e-12\n",
      "Converged:           1.0000            Scale:             1.0000    \n",
      "No. Iterations:      7.0000                                         \n",
      "--------------------------------------------------------------------\n",
      "                      Coef.  Std.Err.    z    P>|z|   [0.025  0.975]\n",
      "--------------------------------------------------------------------\n",
      "const                 3.0627   0.0532 57.5246 0.0000  2.9584  3.1671\n",
      "#editsUntilNextBuild -0.0118   0.0015 -7.9154 0.0000 -0.0147 -0.0089\n",
      "====================================================================\n",
      "\n"
     ]
    }
   ],
   "source": [
    "X_edit = new_df_build[[\"#editsUntilNextBuild\"]]\n",
    "X1_edit = sm.add_constant(X_edit)\n",
    "logit_model_edit = sm1.Logit(Y, X1_edit)\n",
    "result_logit_model_edit = logit_model_edit.fit()\n",
    "print(result_logit_model_edit.summary2())"
   ]
  },
  {
   "cell_type": "code",
   "execution_count": 45,
   "metadata": {
    "colab": {},
    "colab_type": "code",
    "id": "U3GGu7lhMV6u",
    "outputId": "b7d421e9-8023-40cb-e41e-ff6f8118e67c"
   },
   "outputs": [
    {
     "name": "stdout",
     "output_type": "stream",
     "text": [
      "Optimization terminated successfully.\n",
      "         Current function value: 0.204974\n",
      "         Iterations 7\n",
      "                         Results: Logit\n",
      "=================================================================\n",
      "Model:              Logit            Pseudo R-squared: 0.011     \n",
      "Dependent Variable: nextBuildResult  AIC:              3923.9242 \n",
      "Date:               2020-06-04 16:36 BIC:              3938.2553 \n",
      "No. Observations:   9562             Log-Likelihood:   -1960.0   \n",
      "Df Model:           1                LL-Null:          -1982.4   \n",
      "Df Residuals:       9560             LLR p-value:      2.1109e-11\n",
      "Converged:          1.0000           Scale:            1.0000    \n",
      "No. Iterations:     7.0000                                       \n",
      "------------------------------------------------------------------\n",
      "               Coef.   Std.Err.     z     P>|z|    [0.025   0.975]\n",
      "------------------------------------------------------------------\n",
      "const          3.0682    0.0544  56.3493  0.0000   2.9614   3.1749\n",
      "time_passed   -0.0009    0.0001  -7.4783  0.0000  -0.0012  -0.0007\n",
      "=================================================================\n",
      "\n"
     ]
    }
   ],
   "source": [
    "X_time = new_df_build[[\"time_passed\"]]\n",
    "X1_time = sm.add_constant(X_time)\n",
    "logit_model_time = sm1.Logit(Y, X1_time)\n",
    "result_logit_model_time = logit_model_time.fit()\n",
    "print(result_logit_model_time.summary2())"
   ]
  },
  {
   "cell_type": "markdown",
   "metadata": {
    "colab_type": "text",
    "id": "BDKqjhQJMV6v"
   },
   "source": [
    "As we can see from this two separate models, now the coefficients are statistical significant even at a 99% confidence level and both the number of edits and the time passed have stronger negative impact on the probability of a successful built. Let's have a brief look at how to interpret this coefficients.."
   ]
  },
  {
   "cell_type": "code",
   "execution_count": 46,
   "metadata": {
    "colab": {},
    "colab_type": "code",
    "id": "ujAjmcfTMV6v",
    "outputId": "8f0631bf-92d5-4c6a-a054-5522b1244f9a"
   },
   "outputs": [
    {
     "name": "stdout",
     "output_type": "stream",
     "text": [
      "Given a median number of edits, the probability of a successful build is 95.2%\n",
      "10 edits over the median number of edits, reduce the probability of a successful build by 1.2 percentage points\n",
      "Given the median time passed between two build events, the probability of a successful build is 95.2%\n",
      "5 minutes over the median time passed between two build events, reduce the probability of a successful build by 1.4 percentage points\n"
     ]
    }
   ],
   "source": [
    "import math\n",
    "# effect of an increase in the #of edits by 10 units above the median\n",
    "prSuccBuildwithmedNrEdit=1/(1+math.exp(-(3.0627-0.0118*new_df_build[\"#editsUntilNextBuild\"].median())))*100\n",
    "prSuccBuildwithmedTime=1/(1+math.exp(-(3.0682-0.0009*new_df_build[\"time_passed\"].median())))*100\n",
    "print(f'Given a median number of edits, the probability of a successful build is {round(prSuccBuildwithmedNrEdit,1)}%')\n",
    "print(f'10 edits over the median number of edits, reduce the probability of a successful build by {round(prSuccBuildwithmedNrEdit-1/(1+math.exp(-(3.0627-0.0118*(new_df_build[\"#editsUntilNextBuild\"].median()+20))))*100,1)} percentage points')\n",
    "# marginal effect of an increase in the #time_passed by 5 minuts above the median\n",
    "print(f'Given the median time passed between two build events, the probability of a successful build is {round(prSuccBuildwithmedTime,1)}%')\n",
    "print(f'5 minutes over the median time passed between two build events, reduce the probability of a successful build by {round(prSuccBuildwithmedTime-1/(1+math.exp(-(3.0682-0.0009*(new_df_build[\"time_passed\"].median()+300))))*100,1)} percentage points')"
   ]
  },
  {
   "cell_type": "markdown",
   "metadata": {
    "colab_type": "text",
    "id": "co5mkCU-MV6x"
   },
   "source": [
    "Although they move in the expected (negative) direction, our two independent variables (# of edits and time passed) have a fairly marginal effect on the probability of getting a successful built event. In addition, our two models are not able to explain much of the variability in the dependent variable (very low pseudo R-Squared)."
   ]
  },
  {
   "cell_type": "code",
   "execution_count": 47,
   "metadata": {
    "colab": {},
    "colab_type": "code",
    "id": "dD39pSM2jaHr",
    "outputId": "d51ee842-4abd-465b-89e4-5fe6c249396e"
   },
   "outputs": [
    {
     "name": "stdout",
     "output_type": "stream",
     "text": [
      "Accurancy of logistic regression classifier on test set is :0.95\n"
     ]
    }
   ],
   "source": [
    "X_train_edit, X_test_edit, Y_train, Y_test = model_selection.train_test_split(X_edit, Y, test_size=0.1,random_state=0)\n",
    "logit_model_edit=linear_model.LogisticRegression()\n",
    "logit_model_edit.fit(X_train_edit, Y_train)\n",
    "\n",
    "print('Accurancy of logistic regression classifier on test set is :{:.2f}'.format(logit_model_edit.score(X_test_edit,Y_test)))"
   ]
  },
  {
   "cell_type": "code",
   "execution_count": 48,
   "metadata": {
    "colab": {},
    "colab_type": "code",
    "id": "_CEH6LhkMV6y",
    "outputId": "e5f0a168-577c-4338-942a-c01e9921cc85"
   },
   "outputs": [
    {
     "name": "stdout",
     "output_type": "stream",
     "text": [
      "Accurancy of logistic regression classifier on test set is :0.95\n"
     ]
    }
   ],
   "source": [
    "X_train_time, X_test_time, Y_train, Y_test = model_selection.train_test_split(X_time, Y, test_size=0.1,random_state=0)\n",
    "logit_model_time=linear_model.LogisticRegression()\n",
    "logit_model_time.fit(X_train_time, Y_train)\n",
    "\n",
    "print('Accurancy of logistic regression classifier on test set is :{:.2f}'.format(logit_model_time.score(X_test_time,Y_test)))"
   ]
  },
  {
   "cell_type": "markdown",
   "metadata": {
    "colab_type": "text",
    "id": "qF7BqUEJjaHt"
   },
   "source": [
    "Despite the not encouraging results of our logistic regressions, we get (from both models) an accurancy of 95%. However, as we saw in the data exploration part, our dataset is strong unbalanced and this may be the main reason for this high accurancy. One approach to adressing this problem of class imbalance is to randomly resample the dataset. Following this approach, we decided to oversample the class of unsuccessful build. "
   ]
  },
  {
   "cell_type": "code",
   "execution_count": 49,
   "metadata": {
    "colab": {},
    "colab_type": "code",
    "id": "Jtwuk5bmjaHt",
    "outputId": "5ac2588c-68b0-4e10-a995-820d9335913d"
   },
   "outputs": [
    {
     "name": "stdout",
     "output_type": "stream",
     "text": [
      "Length of oversampled data is 16294\n",
      "Number of failed Build in oversampled data is 8147\n",
      "Number of successful Build is 8147\n",
      "Proportion of failed Build in oversampled data is 0.5\n",
      "Proportion of successful Build in oversampled data is 0.5\n",
      "Optimization terminated successfully.\n",
      "         Current function value: 0.680253\n",
      "         Iterations 5\n",
      "                           Results: Logit\n",
      "=====================================================================\n",
      "Model:                Logit             Pseudo R-squared:  0.019     \n",
      "Dependent Variable:   nextBuildResult   AIC:               22172.0843\n",
      "Date:                 2020-06-04 16:36  BIC:               22187.4814\n",
      "No. Observations:     16294             Log-Likelihood:    -11084.   \n",
      "Df Model:             1                 LL-Null:           -11294.   \n",
      "Df Residuals:         16292             LLR p-value:       2.2119e-93\n",
      "Converged:            1.0000            Scale:             1.0000    \n",
      "No. Iterations:       5.0000                                         \n",
      "---------------------------------------------------------------------\n",
      "                      Coef.  Std.Err.    z     P>|z|   [0.025  0.975]\n",
      "---------------------------------------------------------------------\n",
      "const                 0.2217   0.0195  11.3681 0.0000  0.1835  0.2599\n",
      "#editsUntilNextBuild -0.0144   0.0008 -17.9599 0.0000 -0.0160 -0.0129\n",
      "=====================================================================\n",
      "\n"
     ]
    }
   ],
   "source": [
    "os = SMOTE(random_state=0)\n",
    "\n",
    "os_data_X_edit, os_data_Y = os.fit_sample(X_train_edit,Y_train)\n",
    "os_data_X_edit = pd.DataFrame(data=os_data_X_edit, columns=['#editsUntilNextBuild'])\n",
    "os_data_Y = pd.DataFrame(data=os_data_Y, columns=['nextBuildResult'])\n",
    "\n",
    "print(\"Length of oversampled data is\", len(os_data_X_edit))\n",
    "print(\"Number of failed Build in oversampled data is\", len(os_data_Y[os_data_Y['nextBuildResult']==False]))\n",
    "print(\"Number of successful Build is\", len(os_data_Y[os_data_Y['nextBuildResult']==True]))\n",
    "print(\"Proportion of failed Build in oversampled data is\",len(os_data_Y[os_data_Y['nextBuildResult']==False])/len(os_data_X_edit))\n",
    "print(\"Proportion of successful Build in oversampled data is\",len(os_data_Y[os_data_Y['nextBuildResult']==True])/len(os_data_X_edit))\n",
    "\n",
    "os_data_X1_edit = sm.add_constant(os_data_X_edit)\n",
    "logit_model_edit=sm1.Logit(os_data_Y,os_data_X1_edit)\n",
    "result_logit_edit=logit_model_edit.fit()\n",
    "print(result_logit_edit.summary2())"
   ]
  },
  {
   "cell_type": "code",
   "execution_count": 50,
   "metadata": {
    "colab": {},
    "colab_type": "code",
    "id": "vC6bfNQ1MV63",
    "outputId": "715d007f-afc8-41f2-95b0-49f94fff85f0"
   },
   "outputs": [
    {
     "name": "stdout",
     "output_type": "stream",
     "text": [
      "Length of oversampled data is 16294\n",
      "Number of failed Build in oversampled data is 8147\n",
      "Number of successful Build is 8147\n",
      "Proportion of failed Build in oversampled data is 0.5\n",
      "Proportion of successful Build in oversampled data is 0.5\n",
      "Optimization terminated successfully.\n",
      "         Current function value: 0.680737\n",
      "         Iterations 5\n",
      "                         Results: Logit\n",
      "=================================================================\n",
      "Model:              Logit            Pseudo R-squared: 0.018     \n",
      "Dependent Variable: nextBuildResult  AIC:              22187.8602\n",
      "Date:               2020-06-04 16:36 BIC:              22203.2573\n",
      "No. Observations:   16294            Log-Likelihood:   -11092.   \n",
      "Df Model:           1                LL-Null:          -11294.   \n",
      "Df Residuals:       16292            LLR p-value:      6.0083e-90\n",
      "Converged:          1.0000           Scale:            1.0000    \n",
      "No. Iterations:     5.0000                                       \n",
      "------------------------------------------------------------------\n",
      "              Coef.   Std.Err.     z      P>|z|    [0.025   0.975]\n",
      "------------------------------------------------------------------\n",
      "const         0.2248    0.0195   11.5273  0.0000   0.1866   0.2630\n",
      "time_passed  -0.0011    0.0001  -18.5954  0.0000  -0.0012  -0.0010\n",
      "=================================================================\n",
      "\n"
     ]
    }
   ],
   "source": [
    "os = SMOTE(random_state=0)\n",
    "\n",
    "os_data_X_time, os_data_Y = os.fit_sample(X_train_time,Y_train)\n",
    "os_data_X_time = pd.DataFrame(data=os_data_X_time, columns=['time_passed'])\n",
    "os_data_Y = pd.DataFrame(data=os_data_Y, columns=['nextBuildResult'])\n",
    "\n",
    "print(\"Length of oversampled data is\", len(os_data_X_time))\n",
    "print(\"Number of failed Build in oversampled data is\", len(os_data_Y[os_data_Y['nextBuildResult']==False]))\n",
    "print(\"Number of successful Build is\", len(os_data_Y[os_data_Y['nextBuildResult']==True]))\n",
    "print(\"Proportion of failed Build in oversampled data is\",len(os_data_Y[os_data_Y['nextBuildResult']==False])/len(os_data_X_time))\n",
    "print(\"Proportion of successful Build in oversampled data is\",len(os_data_Y[os_data_Y['nextBuildResult']==True])/len(os_data_X_time))\n",
    "\n",
    "os_data_X1_time = sm.add_constant(os_data_X_time)\n",
    "logit_model_time=sm1.Logit(os_data_Y,os_data_X1_time)\n",
    "result_logit_time=logit_model_time.fit()\n",
    "print(result_logit_time.summary2())"
   ]
  },
  {
   "cell_type": "code",
   "execution_count": 51,
   "metadata": {
    "colab": {},
    "colab_type": "code",
    "id": "PUCMx72RMV65",
    "outputId": "735bd11b-43bc-49f8-ff74-8e7713176f5a"
   },
   "outputs": [
    {
     "name": "stdout",
     "output_type": "stream",
     "text": [
      "Given a median number of edits, the probability of a successful build is 48.0%\n",
      "10 edits over the median number of edits, reduce the probability of a successful build by 7.1 percentage points\n",
      "Given the median time passed between two build events, the probability of a successful build is 52.9%\n",
      "5 minutes over the median time passed between two build events, reduce the probability of a successful build by 8.2 percentage points\n"
     ]
    }
   ],
   "source": [
    "# effect of an increase in the #of edits by 10 units above the median\n",
    "prSuccBuildwithmedNrEdit=1/(1+math.exp(-(0.02235-0.0145*os_data_X_edit[\"#editsUntilNextBuild\"].median())))*100\n",
    "prSuccBuildwithmedTime=1/(1+math.exp(-(0.2258-0.0011*os_data_X_time[\"time_passed\"].median())))*100\n",
    "print(f'Given a median number of edits, the probability of a successful build is {round(prSuccBuildwithmedNrEdit,1)}%')\n",
    "print(f'10 edits over the median number of edits, reduce the probability of a successful build by {round(prSuccBuildwithmedNrEdit-1/(1+math.exp(-(0.02235-0.0145*(os_data_X_edit[\"#editsUntilNextBuild\"].median()+20))))*100,1)} percentage points')\n",
    "# marginal effect of an increase in the #time_passed by 2 minuts above the median\n",
    "print(f'Given the median time passed between two build events, the probability of a successful build is {round(prSuccBuildwithmedTime,1)}%')\n",
    "print(f'5 minutes over the median time passed between two build events, reduce the probability of a successful build by {round(prSuccBuildwithmedTime-1/(1+math.exp(-(0.2258-0.0011*(os_data_X_time[\"time_passed\"].median()+300))))*100,1)} percentage points')"
   ]
  },
  {
   "cell_type": "markdown",
   "metadata": {
    "colab_type": "text",
    "id": "s9f8eJNBMV7C"
   },
   "source": [
    "As we can see, with a balanced dataset, the #of edits and the time passed betwenn two build events have a much stronger impact on the probability of a successful build event. Even if the coefficients of our independent variable are almost the same, the coefficient for the intercept has been shrunk. This happened because (previously) the intercept value took into account the unbalanced structure of the dataset in which 95% of the observations were successful build (remember that now only 50% of the observation are successful build events).   "
   ]
  },
  {
   "cell_type": "code",
   "execution_count": 68,
   "metadata": {
    "colab": {},
    "colab_type": "code",
    "id": "8-CU7WWujaHw",
    "outputId": "c8455aaa-25de-4ee0-d379-2ab90e231e6e"
   },
   "outputs": [
    {
     "name": "stdout",
     "output_type": "stream",
     "text": [
      "Accurancy of logistic regression classifier on test set:0.77\n"
     ]
    }
   ],
   "source": [
    "logit_model_edit=linear_model.LogisticRegression()\n",
    "logit_model_edit.fit(os_data_X_edit, os_data_Y.values)\n",
    "\n",
    "print('Accurancy of logistic regression classifier on test set:{:.2f}'.format(logit_model_edit.score(X_test_edit,Y_test)))"
   ]
  },
  {
   "cell_type": "code",
   "execution_count": 69,
   "metadata": {
    "colab": {},
    "colab_type": "code",
    "id": "mPh5HkgrMV7E",
    "outputId": "b6bcb759-228b-439d-e15d-df1598902b57"
   },
   "outputs": [
    {
     "name": "stdout",
     "output_type": "stream",
     "text": [
      "Accurancy of logistic regression classifier on test set:0.74\n"
     ]
    }
   ],
   "source": [
    "logit_model_time=linear_model.LogisticRegression()\n",
    "logit_model_time.fit(os_data_X_time, os_data_Y.values)\n",
    "\n",
    "print('Accurancy of logistic regression classifier on test set:{:.2f}'.format(logit_model_time.score(X_test_time,Y_test)))"
   ]
  },
  {
   "cell_type": "code",
   "execution_count": 54,
   "metadata": {
    "colab": {},
    "colab_type": "code",
    "id": "wKI2v8ZeMV7H",
    "outputId": "bd8709bd-6949-4da8-dc48-bf7056271e52"
   },
   "outputs": [
    {
     "name": "stdout",
     "output_type": "stream",
     "text": [
      "Confusion matrix for the number of edits \n",
      " [[ 17  32]\n",
      " [192 716]]\n",
      "Metric classification for the number of edits \n",
      "               precision    recall  f1-score   support\n",
      "\n",
      "       False       0.08      0.35      0.13        49\n",
      "        True       0.96      0.79      0.86       908\n",
      "\n",
      "    accuracy                           0.77       957\n",
      "   macro avg       0.52      0.57      0.50       957\n",
      "weighted avg       0.91      0.77      0.83       957\n",
      "\n",
      "Confusion matrix for the time passed \n",
      " [[ 16  33]\n",
      " [218 690]]\n",
      "Metric classification for the time passed \n",
      "               precision    recall  f1-score   support\n",
      "\n",
      "       False       0.07      0.33      0.11        49\n",
      "        True       0.95      0.76      0.85       908\n",
      "\n",
      "    accuracy                           0.74       957\n",
      "   macro avg       0.51      0.54      0.48       957\n",
      "weighted avg       0.91      0.74      0.81       957\n",
      "\n"
     ]
    }
   ],
   "source": [
    "Y_pred_edit = logit_model_edit.predict(X_test_edit)\n",
    "confusion_matrix_edit = metrics.confusion_matrix(Y_test,Y_pred_edit)\n",
    "Y_pred_time = logit_model_time.predict(X_test_time)\n",
    "confusion_matrix_time = metrics.confusion_matrix(Y_test,Y_pred_time)\n",
    "print('Confusion matrix for the number of edits','\\n', confusion_matrix_edit)\n",
    "print('Metric classification for the number of edits','\\n', metrics.classification_report(Y_test,Y_pred_edit))\n",
    "print('Confusion matrix for the time passed','\\n', confusion_matrix_time)\n",
    "print('Metric classification for the time passed','\\n', metrics.classification_report(Y_test,Y_pred_time))\n"
   ]
  },
  {
   "cell_type": "markdown",
   "metadata": {
    "colab_type": "text",
    "id": "b9dftYdAMV7I"
   },
   "source": [
    "As expected, with a balanced dataset, the accuracy of our model has dropped by almost 20 percentage point remaining however at a fair level of 75%."
   ]
  },
  {
   "cell_type": "markdown",
   "metadata": {
    "colab_type": "text",
    "id": "NoT4tGRHjaH0"
   },
   "source": [
    "### Test Events"
   ]
  },
  {
   "cell_type": "markdown",
   "metadata": {
    "colab": {},
    "colab_type": "code",
    "id": "VdutkCPcjaH1"
   },
   "source": [
    "Now, we want to test those two hypotheses / answer those two questions:\n",
    "\n",
    "1) linking time since last tests run to probability of tests passing \n",
    "\n",
    "\n",
    "2) linking number of edit events since last passing tests to probability of unit tests passing\n"
   ]
  },
  {
   "cell_type": "markdown",
   "metadata": {
    "colab_type": "text",
    "id": "IRyNT9K3MV7K"
   },
   "source": [
    "To model the probability of unit test passing depending on how many edits have been done or how much time has passed between two test runs, we can try a linear regression. Nr of edits or timePassed would be the independent variable X and the ratio Pass/Total, i.e. the probabiltiy of passed tests, the dependent variable Y. \n",
    "\n",
    "For this linear regression, we need a 2d array with the numbers of edits and the ratio as well as the time between two test runs and the ratio. Both arrays can be done by selecting the right columns from our previously processed data."
   ]
  },
  {
   "cell_type": "code",
   "execution_count": 55,
   "metadata": {
    "colab": {},
    "colab_type": "code",
    "id": "z8hJaP5SMV7K",
    "outputId": "06b02565-f7c8-4051-cfc3-f9262e31cc54"
   },
   "outputs": [
    {
     "name": "stdout",
     "output_type": "stream",
     "text": [
      "Root mean squared error: 0.338\n",
      "r2 score: -0.004\n"
     ]
    },
    {
     "data": {
      "image/png": "[encoded data removed]",
      "text/plain": [
       "<Figure size 432x288 with 1 Axes>"
      ]
     },
     "metadata": {
      "needs_background": "light"
     },
     "output_type": "display_data"
    }
   ],
   "source": [
    "edits_tests_array = np.array(edits_tests, dtype=\"O\")\n",
    "\n",
    "x = edits_tests_array[:,3] # time passed between two test runs\n",
    "y = edits_tests_array[:,5] # ratio\n",
    "\n",
    "x_train, x_test, y_train, y_test = train_test_split(x, y, test_size=0.25)\n",
    "model = LinearRegression(fit_intercept=True)\n",
    "model.fit(x[:, np.newaxis], y)\n",
    "\n",
    "xfit = np.linspace(0, 10, 1000)\n",
    "yfit = model.predict(xfit[:, np.newaxis])\n",
    "\n",
    "plt.scatter(y,x) # note! we switched axis to get a nicer plot\n",
    "plt.ylabel('time passed between two test runs') \n",
    "plt.xlabel('percentage of passed tests') \n",
    "plt.plot(yfit, xfit);\n",
    "y_pred = model.predict(x_test[:, np.newaxis])\n",
    "\n",
    "Rmse = np.sqrt(mean_squared_error(y_test, y_pred))\n",
    "print(\"Root mean squared error: %.3f\" % Rmse)\n",
    "print('r2 score: %.3f' % r2_score(y_test, y_pred))"
   ]
  },
  {
   "cell_type": "markdown",
   "metadata": {
    "colab_type": "text",
    "id": "ZOi1gMt3MV7L"
   },
   "source": [
    "The above output shows that the RMSE is about O.36 and R-Squared of 0.010 (it changes everytime a little bit since the 20% test data samples are taken randomly). The RMSE or the standard deviation of residuals means, at 36% the data are not so concentrated around regression model line. Also, with R-Squared of about 1% , we can not justify the goodness of the model as 99% of the data point are unexplainable. This may be due to very high variance and dispersion of the data, therefore, linear regression may not be a suitable  model for this prediction."
   ]
  },
  {
   "cell_type": "code",
   "execution_count": 57,
   "metadata": {
    "colab": {},
    "colab_type": "code",
    "id": "gknhTOCZMV7M",
    "outputId": "5007efff-57ad-4c32-e474-55690a633042"
   },
   "outputs": [
    {
     "name": "stdout",
     "output_type": "stream",
     "text": [
      "Root mean squared error: 0.363\n",
      "r2 score: -0.013\n"
     ]
    },
    {
     "data": {
      "image/png": "[encoded data removed]",
      "text/plain": [
       "<Figure size 432x288 with 1 Axes>"
      ]
     },
     "metadata": {
      "needs_background": "light"
     },
     "output_type": "display_data"
    }
   ],
   "source": [
    "x = edits_tests_array[:,4] # nr of edits\n",
    "y = edits_tests_array[:,5] # ratio\n",
    "\n",
    "x_train, x_test, y_train, y_test = train_test_split(x, y, test_size=0.25)\n",
    "model = LinearRegression(fit_intercept=True)\n",
    "model.fit(x[:, np.newaxis], y)\n",
    "\n",
    "xfit = np.linspace(0, 10, 1000)\n",
    "yfit = model.predict(xfit[:, np.newaxis])\n",
    "\n",
    "plt.scatter(y,x) # note! we switched axis to get a nicer plot\n",
    "plt.xlabel('percentage of passed tests') \n",
    "plt.ylabel('number of edits') \n",
    "plt.plot(yfit, xfit);\n",
    "y_pred = model.predict(x_test[:, np.newaxis])\n",
    "\n",
    "print(\"Root mean squared error: %.3f\" % np.sqrt(mean_squared_error(y_test, y_pred)))\n",
    "print('r2 score: %.3f' % r2_score(y_test, y_pred))"
   ]
  },
  {
   "cell_type": "markdown",
   "metadata": {
    "colab_type": "text",
    "id": "x8Q-7EGpMV7N"
   },
   "source": [
    "With simliar results from the above output, the results here shows the RMSE of about 0.34 and R-Squared of 0.019 which is almost 2% Rsquared. The same conclusion about linear regression not being a good fit for the analysis applies here as well. May be implementing a model for non-linear data would perform better."
   ]
  },
  {
   "cell_type": "markdown",
   "metadata": {
    "colab_type": "text",
    "id": "iPLGgrCSMV7N"
   },
   "source": [
    "####  Implementing ML alogrithms for non-linear data. \n",
    "Since, the parameters used for this analysis are both continuous variables, we employed Machine Learning regression models. The selected models are K-nearest Neighbor, Decision Tree, Support Vector Machine with Gaussian Kernel."
   ]
  },
  {
   "cell_type": "code",
   "execution_count": 58,
   "metadata": {
    "colab": {},
    "colab_type": "code",
    "id": "O6FE9AUKMV7O"
   },
   "outputs": [],
   "source": [
    "# Machine Learning Alogrithm\n",
    "def MLRegressor(x,y):\n",
    "    classifiers = [(\"KNN\", KNeighborsRegressor(5)),\n",
    "                   (\"DecisionTree\", DecisionTreeRegressor(max_depth=5)),\n",
    "                   (\"SVM Gaussian Kernel\", SVR(kernel='rbf', C=1, gamma=0.1, epsilon=.1))]\n",
    "    for name,model in classifiers:\n",
    "        R_sqrt = []\n",
    "        RMSE = []\n",
    "        kf = KFold(n_splits = 5, shuffle = True)\n",
    "        for train_index, test_index in kf.split(x):\n",
    "            x_train, x_test = x.iloc[train_index], x.iloc[test_index]\n",
    "            y_train, y_test = y[train_index], y[test_index]\n",
    "            fit = model.fit(x_train, y_train)\n",
    "            R_sqrt.append(r2_score(y_test, model.predict(x_test)))\n",
    "            RMSE.append(np.sqrt(mean_squared_error(y_test, model.predict(x_test))))\n",
    "            \n",
    "        print(\"The model performance for \",name)\n",
    "        print(\"-------------------------------------------\")\n",
    "        print(\"R-Squared Score : \", np.mean(R_sqrt))\n",
    "        print(\"RMSE Value : \", np.mean(RMSE))\n",
    "        print(\"\\n\")"
   ]
  },
  {
   "cell_type": "code",
   "execution_count": 59,
   "metadata": {
    "colab": {},
    "colab_type": "code",
    "id": "RUmxFOtAMV7R",
    "outputId": "f6e1407f-c621-4b3c-f6eb-2bfd01786ba0"
   },
   "outputs": [
    {
     "name": "stdout",
     "output_type": "stream",
     "text": [
      "The model performance for  KNN\n",
      "-------------------------------------------\n",
      "R-Squared Score :  -0.2051738880346488\n",
      "RMSE Value :  0.3956924893954879\n",
      "\n",
      "\n",
      "The model performance for  DecisionTree\n",
      "-------------------------------------------\n",
      "R-Squared Score :  -0.06809728244321973\n",
      "RMSE Value :  0.3730412833315087\n",
      "\n",
      "\n",
      "The model performance for  SVM Gaussian Kernel\n",
      "-------------------------------------------\n",
      "R-Squared Score :  -0.12408912310840066\n",
      "RMSE Value :  0.38226547147375506\n",
      "\n",
      "\n"
     ]
    }
   ],
   "source": [
    "# time pass between two test runs as function of ratio testspassed \n",
    "x = df_edits_tests[[\"timePassed\"]] # time passed between two test runs\n",
    "y = df_edits_tests[\"ratio_p_t\"] # ratio\n",
    "MLRegressor(x,y)"
   ]
  },
  {
   "cell_type": "code",
   "execution_count": 60,
   "metadata": {
    "colab": {},
    "colab_type": "code",
    "id": "ghfk1mklMV7S",
    "outputId": "2386870e-41b9-4d46-d6a7-3bfb94ccfbe8"
   },
   "outputs": [
    {
     "name": "stdout",
     "output_type": "stream",
     "text": [
      "The model performance for  KNN\n",
      "-------------------------------------------\n",
      "R-Squared Score :  -0.3642228207236201\n",
      "RMSE Value :  0.4203304891573148\n",
      "\n",
      "\n",
      "The model performance for  DecisionTree\n",
      "-------------------------------------------\n",
      "R-Squared Score :  -0.07892685408769055\n",
      "RMSE Value :  0.37374737239020617\n",
      "\n",
      "\n",
      "The model performance for  SVM Gaussian Kernel\n",
      "-------------------------------------------\n",
      "R-Squared Score :  -0.10065692458920332\n",
      "RMSE Value :  0.37862434210097284\n",
      "\n",
      "\n"
     ]
    }
   ],
   "source": [
    "# number of eidts as function of ratio testspassed \n",
    "x = df_edits_tests[[\"editsUntilNextTest\"]] # number of edits\n",
    "y = df_edits_tests[\"ratio_p_t\"] # ratio\n",
    "MLRegressor(x,y)"
   ]
  },
  {
   "cell_type": "markdown",
   "metadata": {
    "colab_type": "text",
    "id": "1zL6NTOgMV7U"
   },
   "source": [
    "Suprisingly, the output performance of these ML models performed worse than that of linear regression. With all models having higher RMSE and a negative R-Squared, which sugguests the regression models are totally away from the trend of the data. As said earlier, this may be because of the very high variance, irregularites and dispersion in the data.  Further, judging based on the results from these models, We can not efficiently predict  the \"ratio of testspassed\" based on \"time pass between two test runs\" and \"number of tests edits\". This also sugguests, there are various other reasons to a sucessful test events that the two variables used here can not explain/model."
   ]
  },
  {
   "cell_type": "markdown",
   "metadata": {
    "colab_type": "text",
    "id": "PO60JMblMV7U"
   },
   "source": [
    "We create a logistic regression to model the probability of successful tests."
   ]
  },
  {
   "cell_type": "code",
   "execution_count": 61,
   "metadata": {
    "colab": {},
    "colab_type": "code",
    "id": "VCEnSIr7MV7U",
    "outputId": "fb907260-9cc5-4a45-8c28-9d68e4b26d4c"
   },
   "outputs": [
    {
     "name": "stdout",
     "output_type": "stream",
     "text": [
      "Optimization terminated successfully.\n",
      "         Current function value: 0.667376\n",
      "         Iterations 4\n",
      "                          Results: Logit\n",
      "==================================================================\n",
      "Model:                Logit            Pseudo R-squared: 0.009    \n",
      "Dependent Variable:   nextTestResult   AIC:              1332.7443\n",
      "Date:                 2020-06-04 16:39 BIC:              1347.4495\n",
      "No. Observations:     994              Log-Likelihood:   -663.37  \n",
      "Df Model:             2                LL-Null:          -669.14  \n",
      "Df Residuals:         991              LLR p-value:      0.0031407\n",
      "Converged:            1.0000           Scale:            1.0000   \n",
      "No. Iterations:       4.0000                                      \n",
      "------------------------------------------------------------------\n",
      "                    Coef.  Std.Err.    z    P>|z|   [0.025  0.975]\n",
      "------------------------------------------------------------------\n",
      "const               0.5434   0.0778  6.9872 0.0000  0.3909  0.6958\n",
      "editsUntilNextTest  0.0047   0.0055  0.8587 0.3905 -0.0060  0.0154\n",
      "timePassed         -0.0013   0.0006 -2.2403 0.0251 -0.0025 -0.0002\n",
      "==================================================================\n",
      "\n",
      " The correlation between the two independent variables is 0.89\n"
     ]
    }
   ],
   "source": [
    "Y = df_edits_tests[\"nextTestResult\"]\n",
    "X = df_edits_tests[[\"editsUntilNextTest\",'timePassed']]\n",
    "X1 = sm.add_constant(X)\n",
    "logit_model = sm1.Logit(Y, X1)\n",
    "result_logit_model = logit_model.fit()\n",
    "print(result_logit_model.summary2())\n",
    "print(f' The correlation between the two independent variables is {round(df_edits_tests[\"editsUntilNextTest\"].corr(df_edits_tests[\"timePassed\"]),2)}')"
   ]
  },
  {
   "cell_type": "markdown",
   "metadata": {
    "colab_type": "text",
    "id": "lTptcNoCMV7W"
   },
   "source": [
    "Only the coefficient for time passed is statistical significant (at 90% significance level). However, just like for build-Events, our two independent variable are strongly positively correlated. This multicollinearity problem lead to very biased standard errors and p.values and for this reason we have to analyze two separate models."
   ]
  },
  {
   "cell_type": "code",
   "execution_count": 62,
   "metadata": {
    "colab": {},
    "colab_type": "code",
    "id": "fm4WLuQfMV7W",
    "outputId": "2443f9fc-f8c7-4a57-92cc-7581eb22ee1a"
   },
   "outputs": [
    {
     "name": "stdout",
     "output_type": "stream",
     "text": [
      "Optimization terminated successfully.\n",
      "         Current function value: 0.669981\n",
      "         Iterations 4\n",
      "                          Results: Logit\n",
      "==================================================================\n",
      "Model:                Logit            Pseudo R-squared: 0.005    \n",
      "Dependent Variable:   nextTestResult   AIC:              1335.9228\n",
      "Date:                 2020-06-04 16:39 BIC:              1345.7262\n",
      "No. Observations:     994              Log-Likelihood:   -665.96  \n",
      "Df Model:             1                LL-Null:          -669.14  \n",
      "Df Residuals:         992              LLR p-value:      0.011750 \n",
      "Converged:            1.0000           Scale:            1.0000   \n",
      "No. Iterations:       4.0000                                      \n",
      "------------------------------------------------------------------\n",
      "                    Coef.  Std.Err.    z    P>|z|   [0.025  0.975]\n",
      "------------------------------------------------------------------\n",
      "const               0.4804   0.0720  6.6722 0.0000  0.3393  0.6215\n",
      "editsUntilNextTest -0.0064   0.0026 -2.4395 0.0147 -0.0116 -0.0013\n",
      "==================================================================\n",
      "\n"
     ]
    }
   ],
   "source": [
    "X_edit = df_edits_tests[[\"editsUntilNextTest\"]]\n",
    "X1_edit = sm.add_constant(X_edit)\n",
    "logit_model_edit = sm1.Logit(Y, X1_edit)\n",
    "result_logit_model_edit = logit_model_edit.fit()\n",
    "print(result_logit_model_edit.summary2())"
   ]
  },
  {
   "cell_type": "code",
   "execution_count": 63,
   "metadata": {
    "colab": {},
    "colab_type": "code",
    "id": "QG6LQkTGMV7Y",
    "outputId": "ab0f4483-8caa-4a69-a41b-ef7ba85c17aa"
   },
   "outputs": [
    {
     "name": "stdout",
     "output_type": "stream",
     "text": [
      "Optimization terminated successfully.\n",
      "         Current function value: 0.667746\n",
      "         Iterations 4\n",
      "                         Results: Logit\n",
      "================================================================\n",
      "Model:              Logit            Pseudo R-squared: 0.008    \n",
      "Dependent Variable: nextTestResult   AIC:              1331.4791\n",
      "Date:               2020-06-04 16:39 BIC:              1341.2826\n",
      "No. Observations:   994              Log-Likelihood:   -663.74  \n",
      "Df Model:           1                LL-Null:          -669.14  \n",
      "Df Residuals:       992              LLR p-value:      0.0010195\n",
      "Converged:          1.0000           Scale:            1.0000   \n",
      "No. Iterations:     4.0000                                      \n",
      "-----------------------------------------------------------------\n",
      "              Coef.   Std.Err.     z     P>|z|    [0.025   0.975]\n",
      "-----------------------------------------------------------------\n",
      "const         0.5341    0.0768   6.9530  0.0000   0.3835   0.6846\n",
      "timePassed   -0.0009    0.0003  -3.1491  0.0016  -0.0015  -0.0003\n",
      "================================================================\n",
      "\n"
     ]
    }
   ],
   "source": [
    "X_time = df_edits_tests[[\"timePassed\"]]\n",
    "X1_time = sm.add_constant(X_time)\n",
    "logit_model_time = sm1.Logit(Y, X1_time)\n",
    "result_logit_model_time = logit_model_time.fit()\n",
    "print(result_logit_model_time.summary2())"
   ]
  },
  {
   "cell_type": "markdown",
   "metadata": {
    "colab_type": "text",
    "id": "6PoJUWJ1MV7Z"
   },
   "source": [
    "As we can see from this two separate models, the coefficient for timePassed and number of edits are now statistical significant at a 95% confidence level. Furhtermore, both time passed and the number of edits have a negative effect on the probability of a successful test. \n",
    "\n",
    "This means that, given the number of edits, the longer a developer waits to test his code, the higher the probability that the test will fail. And given a certain time between two edits events, the more edit events a developer executes, the higher the probability that the test will fail too.\n",
    "\n",
    "However, we have to be careful in interpreting these models, since both pseudo R-squared errors are super low. Which is an indicator that neither of the two variables accurately predicts the success of the next test run."
   ]
  },
  {
   "cell_type": "markdown",
   "metadata": {
    "colab_type": "text",
    "id": "fZRaem3nMV7a"
   },
   "source": [
    "# TODO: Final conclusion"
   ]
  },
  {
   "cell_type": "markdown",
   "metadata": {
    "colab": {},
    "colab_type": "code",
    "id": "UoEdfb6DMV7a"
   },
   "source": [
    "### Technical Conclusion\n",
    "\n",
    "The results for build and test events are rather similar and, although we tried several methods, the results achieved with our models have been quite disappointing. As supposed we could see that both the number of edits and the time passed between two build/test events have a negative impact on the probability of successful build/test events. However, we expected to find a much stronger empirical relevance confirming the often repeated advice: \"compile early, compile often\".   \n",
    "Nevertheless we believe that there are several arguments that explain the lack of robustness of our models:\n",
    " \n",
    "- Builds and tests event happen surprisingly often within sessions in the dataset.  50% of the analyzed sessions for build events have a next-build events within 2 minute and 8 edits, while test events happen even more frequently with a median of one minute and 3 edits. This means that a large part of our observations already comply with the advice \"compile early, compile often\" making our analysis much less effective.\n",
    "\n",
    "- Few developers are responsible for many sessions. During inspection of the data we saw that relatively few different session ids contributed a lot to the data we used. This might stem from developers that do test driven development, which different work on the same dataset found evidence of in about 15% of the sessions.\n",
    "\n",
    "- Other reason (like programming knowledge and experience) have a strong impact on the probability of getting successful test and build events. \n",
    "\n",
    "\n",
    "\n",
    "### What we've learnd in this project\n",
    "- Data Cleaning is delicate: Especially at the beginning, when we didnt know the data very well, it was difficult to detect potential errors in the cleaning. It wasn't very hard to decide what to clean. Also the \"how\" was more or less straight forward. But the \"has it been cleaned correctly?\" was hard to answer. After several iterations of cleaning & testing/evaluating it, we finally could be sure that we had a good data basis to process.\n",
    "\n",
    "\n",
    "- Data Processing is delicate too: Similarly to the data cleaning, it was essential to explore the data very well before processing it. We first had to define important terms such as the success of a test - when should we consider test run as successful, when unsuccessful? Also, we had to decide which cases we wanted to analyse i.e. analyse number of edits after each and every test run, or only after a successful?\n",
    "    - at this point, we should have defined those important definitions earlier in the projet. For quiet some time, we didn't talked specifically about the definition of a successful test run, which lead to many code adaptions once we finally took the decision.\n",
    "    \n",
    "\n",
    "- Exploring the processed data was fun: It was nice to play a bit around with the processed data, to see whether our hypotheses at the beginning could acutally be true or if our intuition was wrong... However, visualizing this in the end was tricky too! \n",
    "\n",
    "- Building models: This was again very tricky. We had to try out a lot of different models since we had no clue what could actually predict the probability of test / build success.\n"
   ]
  },
  {
   "cell_type": "code",
   "execution_count": null,
   "metadata": {},
   "outputs": [],
   "source": []
  }
 ],
 "metadata": {
  "colab": {
   "collapsed_sections": [
    "-G5SwDPljaHZ"
   ],
   "name": "Report.ipynb",
   "provenance": []
  },
  "kernelspec": {
   "display_name": "Python 3",
   "language": "python",
   "name": "python3"
  },
  "language_info": {
   "codemirror_mode": {
    "name": "ipython",
    "version": 3
   },
   "file_extension": ".py",
   "mimetype": "text/x-python",
   "name": "python",
   "nbconvert_exporter": "python",
   "pygments_lexer": "ipython3",
   "version": "3.8.2"
  }
 },
 "nbformat": 4,
 "nbformat_minor": 1
}
